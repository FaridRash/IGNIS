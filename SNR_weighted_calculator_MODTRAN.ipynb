{
  "nbformat": 4,
  "nbformat_minor": 0,
  "metadata": {
    "colab": {
      "provenance": [],
      "authorship_tag": "ABX9TyONCdlaX6Mwono+S3YWLVrL",
      "include_colab_link": true
    },
    "kernelspec": {
      "name": "python3",
      "display_name": "Python 3"
    },
    "language_info": {
      "name": "python"
    },
    "widgets": {
      "application/vnd.jupyter.widget-state+json": {
        "a1f83a018b2b48129328f06c682c5f91": {
          "model_module": "@jupyter-widgets/controls",
          "model_name": "VBoxModel",
          "model_module_version": "1.5.0",
          "state": {
            "_dom_classes": [
              "widget-interact"
            ],
            "_model_module": "@jupyter-widgets/controls",
            "_model_module_version": "1.5.0",
            "_model_name": "VBoxModel",
            "_view_count": null,
            "_view_module": "@jupyter-widgets/controls",
            "_view_module_version": "1.5.0",
            "_view_name": "VBoxView",
            "box_style": "",
            "children": [
              "IPY_MODEL_018118d67d834ae68ee69e8c10c56bab",
              "IPY_MODEL_799f8273e6a34ea1ad9851d8405fe7b8",
              "IPY_MODEL_8a63540c8cc5490e96e57e8738c93e06",
              "IPY_MODEL_1c024d045a66408688a69c711e215757",
              "IPY_MODEL_d1e576111c6446dd875b9020e7c1694c",
              "IPY_MODEL_4142d60e187545e88a1dbe206bc159e6"
            ],
            "layout": "IPY_MODEL_49859199d3744fbd9ff698c8a4417a93"
          }
        },
        "018118d67d834ae68ee69e8c10c56bab": {
          "model_module": "@jupyter-widgets/controls",
          "model_name": "FloatSliderModel",
          "model_module_version": "1.5.0",
          "state": {
            "_dom_classes": [],
            "_model_module": "@jupyter-widgets/controls",
            "_model_module_version": "1.5.0",
            "_model_name": "FloatSliderModel",
            "_view_count": null,
            "_view_module": "@jupyter-widgets/controls",
            "_view_module_version": "1.5.0",
            "_view_name": "FloatSliderView",
            "continuous_update": true,
            "description": "surrounding ground Temperature (K)",
            "description_tooltip": null,
            "disabled": false,
            "layout": "IPY_MODEL_c87b5757663e47858a6dea79bb9fc166",
            "max": 500,
            "min": 200,
            "orientation": "horizontal",
            "readout": true,
            "readout_format": ".2f",
            "step": 1,
            "style": "IPY_MODEL_88b5b7613b4644b9ac796ce443f24430",
            "value": 313.15
          }
        },
        "799f8273e6a34ea1ad9851d8405fe7b8": {
          "model_module": "@jupyter-widgets/controls",
          "model_name": "FloatSliderModel",
          "model_module_version": "1.5.0",
          "state": {
            "_dom_classes": [],
            "_model_module": "@jupyter-widgets/controls",
            "_model_module_version": "1.5.0",
            "_model_name": "FloatSliderModel",
            "_view_count": null,
            "_view_module": "@jupyter-widgets/controls",
            "_view_module_version": "1.5.0",
            "_view_name": "FloatSliderView",
            "continuous_update": true,
            "description": "fumarole Temperature (K)",
            "description_tooltip": null,
            "disabled": false,
            "layout": "IPY_MODEL_1f0adcde05604d73b1bfa932d443af99",
            "max": 500,
            "min": 200,
            "orientation": "horizontal",
            "readout": true,
            "readout_format": ".2f",
            "step": 1,
            "style": "IPY_MODEL_b9d7a7980cc24ffa92da55c342de68cb",
            "value": 433.15
          }
        },
        "8a63540c8cc5490e96e57e8738c93e06": {
          "model_module": "@jupyter-widgets/controls",
          "model_name": "FloatSliderModel",
          "model_module_version": "1.5.0",
          "state": {
            "_dom_classes": [],
            "_model_module": "@jupyter-widgets/controls",
            "_model_module_version": "1.5.0",
            "_model_name": "FloatSliderModel",
            "_view_count": null,
            "_view_module": "@jupyter-widgets/controls",
            "_view_module_version": "1.5.0",
            "_view_name": "FloatSliderView",
            "continuous_update": true,
            "description": "Theta (°)",
            "description_tooltip": null,
            "disabled": false,
            "layout": "IPY_MODEL_1509651f422b47c4bbca44307c644d8d",
            "max": 90,
            "min": 0,
            "orientation": "horizontal",
            "readout": true,
            "readout_format": ".2f",
            "step": 1,
            "style": "IPY_MODEL_c37d44ff280541cb852efb4b3853ecb0",
            "value": 0
          }
        },
        "1c024d045a66408688a69c711e215757": {
          "model_module": "@jupyter-widgets/controls",
          "model_name": "FloatSliderModel",
          "model_module_version": "1.5.0",
          "state": {
            "_dom_classes": [],
            "_model_module": "@jupyter-widgets/controls",
            "_model_module_version": "1.5.0",
            "_model_name": "FloatSliderModel",
            "_view_count": null,
            "_view_module": "@jupyter-widgets/controls",
            "_view_module_version": "1.5.0",
            "_view_name": "FloatSliderView",
            "continuous_update": true,
            "description": "Distance (m)",
            "description_tooltip": null,
            "disabled": false,
            "layout": "IPY_MODEL_dff97e4f2bef4ee09d20af5e44d7be4d",
            "max": 460000,
            "min": 150000,
            "orientation": "horizontal",
            "readout": true,
            "readout_format": ".2f",
            "step": 1000,
            "style": "IPY_MODEL_391139340190479ca6e0b3a2dbcb26af",
            "value": 460000
          }
        },
        "d1e576111c6446dd875b9020e7c1694c": {
          "model_module": "@jupyter-widgets/controls",
          "model_name": "FloatSliderModel",
          "model_module_version": "1.5.0",
          "state": {
            "_dom_classes": [],
            "_model_module": "@jupyter-widgets/controls",
            "_model_module_version": "1.5.0",
            "_model_name": "FloatSliderModel",
            "_view_count": null,
            "_view_module": "@jupyter-widgets/controls",
            "_view_module_version": "1.5.0",
            "_view_name": "FloatSliderView",
            "continuous_update": true,
            "description": "τₐ (Atmosphere)",
            "description_tooltip": null,
            "disabled": false,
            "layout": "IPY_MODEL_286f2920b68648648aedd767c1aa02fb",
            "max": 1,
            "min": 0,
            "orientation": "horizontal",
            "readout": true,
            "readout_format": ".2f",
            "step": 0.01,
            "style": "IPY_MODEL_17e367a26664457ca2de4deb61157871",
            "value": 0.85
          }
        },
        "4142d60e187545e88a1dbe206bc159e6": {
          "model_module": "@jupyter-widgets/output",
          "model_name": "OutputModel",
          "model_module_version": "1.0.0",
          "state": {
            "_dom_classes": [],
            "_model_module": "@jupyter-widgets/output",
            "_model_module_version": "1.0.0",
            "_model_name": "OutputModel",
            "_view_count": null,
            "_view_module": "@jupyter-widgets/output",
            "_view_module_version": "1.0.0",
            "_view_name": "OutputView",
            "layout": "IPY_MODEL_19de72e32ea342edaa89c54ae7a31eeb",
            "msg_id": "",
            "outputs": [
              {
                "output_type": "display_data",
                "data": {
                  "text/plain": "<Figure size 1000x500 with 1 Axes>",
                  "image/png": "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\n"
                },
                "metadata": {}
              },
              {
                "output_type": "stream",
                "name": "stdout",
                "text": [
                  "Total SNR at Tg = 313.15 K, Tf = 433.15 K, θ = 0.0°, R = 460 km, τₐ = 0.85: 4739909.75\n"
                ]
              }
            ]
          }
        },
        "49859199d3744fbd9ff698c8a4417a93": {
          "model_module": "@jupyter-widgets/base",
          "model_name": "LayoutModel",
          "model_module_version": "1.2.0",
          "state": {
            "_model_module": "@jupyter-widgets/base",
            "_model_module_version": "1.2.0",
            "_model_name": "LayoutModel",
            "_view_count": null,
            "_view_module": "@jupyter-widgets/base",
            "_view_module_version": "1.2.0",
            "_view_name": "LayoutView",
            "align_content": null,
            "align_items": null,
            "align_self": null,
            "border": null,
            "bottom": null,
            "display": null,
            "flex": null,
            "flex_flow": null,
            "grid_area": null,
            "grid_auto_columns": null,
            "grid_auto_flow": null,
            "grid_auto_rows": null,
            "grid_column": null,
            "grid_gap": null,
            "grid_row": null,
            "grid_template_areas": null,
            "grid_template_columns": null,
            "grid_template_rows": null,
            "height": null,
            "justify_content": null,
            "justify_items": null,
            "left": null,
            "margin": null,
            "max_height": null,
            "max_width": null,
            "min_height": null,
            "min_width": null,
            "object_fit": null,
            "object_position": null,
            "order": null,
            "overflow": null,
            "overflow_x": null,
            "overflow_y": null,
            "padding": null,
            "right": null,
            "top": null,
            "visibility": null,
            "width": null
          }
        },
        "c87b5757663e47858a6dea79bb9fc166": {
          "model_module": "@jupyter-widgets/base",
          "model_name": "LayoutModel",
          "model_module_version": "1.2.0",
          "state": {
            "_model_module": "@jupyter-widgets/base",
            "_model_module_version": "1.2.0",
            "_model_name": "LayoutModel",
            "_view_count": null,
            "_view_module": "@jupyter-widgets/base",
            "_view_module_version": "1.2.0",
            "_view_name": "LayoutView",
            "align_content": null,
            "align_items": null,
            "align_self": null,
            "border": null,
            "bottom": null,
            "display": null,
            "flex": null,
            "flex_flow": null,
            "grid_area": null,
            "grid_auto_columns": null,
            "grid_auto_flow": null,
            "grid_auto_rows": null,
            "grid_column": null,
            "grid_gap": null,
            "grid_row": null,
            "grid_template_areas": null,
            "grid_template_columns": null,
            "grid_template_rows": null,
            "height": null,
            "justify_content": null,
            "justify_items": null,
            "left": null,
            "margin": null,
            "max_height": null,
            "max_width": null,
            "min_height": null,
            "min_width": null,
            "object_fit": null,
            "object_position": null,
            "order": null,
            "overflow": null,
            "overflow_x": null,
            "overflow_y": null,
            "padding": null,
            "right": null,
            "top": null,
            "visibility": null,
            "width": null
          }
        },
        "88b5b7613b4644b9ac796ce443f24430": {
          "model_module": "@jupyter-widgets/controls",
          "model_name": "SliderStyleModel",
          "model_module_version": "1.5.0",
          "state": {
            "_model_module": "@jupyter-widgets/controls",
            "_model_module_version": "1.5.0",
            "_model_name": "SliderStyleModel",
            "_view_count": null,
            "_view_module": "@jupyter-widgets/base",
            "_view_module_version": "1.2.0",
            "_view_name": "StyleView",
            "description_width": "",
            "handle_color": null
          }
        },
        "1f0adcde05604d73b1bfa932d443af99": {
          "model_module": "@jupyter-widgets/base",
          "model_name": "LayoutModel",
          "model_module_version": "1.2.0",
          "state": {
            "_model_module": "@jupyter-widgets/base",
            "_model_module_version": "1.2.0",
            "_model_name": "LayoutModel",
            "_view_count": null,
            "_view_module": "@jupyter-widgets/base",
            "_view_module_version": "1.2.0",
            "_view_name": "LayoutView",
            "align_content": null,
            "align_items": null,
            "align_self": null,
            "border": null,
            "bottom": null,
            "display": null,
            "flex": null,
            "flex_flow": null,
            "grid_area": null,
            "grid_auto_columns": null,
            "grid_auto_flow": null,
            "grid_auto_rows": null,
            "grid_column": null,
            "grid_gap": null,
            "grid_row": null,
            "grid_template_areas": null,
            "grid_template_columns": null,
            "grid_template_rows": null,
            "height": null,
            "justify_content": null,
            "justify_items": null,
            "left": null,
            "margin": null,
            "max_height": null,
            "max_width": null,
            "min_height": null,
            "min_width": null,
            "object_fit": null,
            "object_position": null,
            "order": null,
            "overflow": null,
            "overflow_x": null,
            "overflow_y": null,
            "padding": null,
            "right": null,
            "top": null,
            "visibility": null,
            "width": null
          }
        },
        "b9d7a7980cc24ffa92da55c342de68cb": {
          "model_module": "@jupyter-widgets/controls",
          "model_name": "SliderStyleModel",
          "model_module_version": "1.5.0",
          "state": {
            "_model_module": "@jupyter-widgets/controls",
            "_model_module_version": "1.5.0",
            "_model_name": "SliderStyleModel",
            "_view_count": null,
            "_view_module": "@jupyter-widgets/base",
            "_view_module_version": "1.2.0",
            "_view_name": "StyleView",
            "description_width": "",
            "handle_color": null
          }
        },
        "1509651f422b47c4bbca44307c644d8d": {
          "model_module": "@jupyter-widgets/base",
          "model_name": "LayoutModel",
          "model_module_version": "1.2.0",
          "state": {
            "_model_module": "@jupyter-widgets/base",
            "_model_module_version": "1.2.0",
            "_model_name": "LayoutModel",
            "_view_count": null,
            "_view_module": "@jupyter-widgets/base",
            "_view_module_version": "1.2.0",
            "_view_name": "LayoutView",
            "align_content": null,
            "align_items": null,
            "align_self": null,
            "border": null,
            "bottom": null,
            "display": null,
            "flex": null,
            "flex_flow": null,
            "grid_area": null,
            "grid_auto_columns": null,
            "grid_auto_flow": null,
            "grid_auto_rows": null,
            "grid_column": null,
            "grid_gap": null,
            "grid_row": null,
            "grid_template_areas": null,
            "grid_template_columns": null,
            "grid_template_rows": null,
            "height": null,
            "justify_content": null,
            "justify_items": null,
            "left": null,
            "margin": null,
            "max_height": null,
            "max_width": null,
            "min_height": null,
            "min_width": null,
            "object_fit": null,
            "object_position": null,
            "order": null,
            "overflow": null,
            "overflow_x": null,
            "overflow_y": null,
            "padding": null,
            "right": null,
            "top": null,
            "visibility": null,
            "width": null
          }
        },
        "c37d44ff280541cb852efb4b3853ecb0": {
          "model_module": "@jupyter-widgets/controls",
          "model_name": "SliderStyleModel",
          "model_module_version": "1.5.0",
          "state": {
            "_model_module": "@jupyter-widgets/controls",
            "_model_module_version": "1.5.0",
            "_model_name": "SliderStyleModel",
            "_view_count": null,
            "_view_module": "@jupyter-widgets/base",
            "_view_module_version": "1.2.0",
            "_view_name": "StyleView",
            "description_width": "",
            "handle_color": null
          }
        },
        "dff97e4f2bef4ee09d20af5e44d7be4d": {
          "model_module": "@jupyter-widgets/base",
          "model_name": "LayoutModel",
          "model_module_version": "1.2.0",
          "state": {
            "_model_module": "@jupyter-widgets/base",
            "_model_module_version": "1.2.0",
            "_model_name": "LayoutModel",
            "_view_count": null,
            "_view_module": "@jupyter-widgets/base",
            "_view_module_version": "1.2.0",
            "_view_name": "LayoutView",
            "align_content": null,
            "align_items": null,
            "align_self": null,
            "border": null,
            "bottom": null,
            "display": null,
            "flex": null,
            "flex_flow": null,
            "grid_area": null,
            "grid_auto_columns": null,
            "grid_auto_flow": null,
            "grid_auto_rows": null,
            "grid_column": null,
            "grid_gap": null,
            "grid_row": null,
            "grid_template_areas": null,
            "grid_template_columns": null,
            "grid_template_rows": null,
            "height": null,
            "justify_content": null,
            "justify_items": null,
            "left": null,
            "margin": null,
            "max_height": null,
            "max_width": null,
            "min_height": null,
            "min_width": null,
            "object_fit": null,
            "object_position": null,
            "order": null,
            "overflow": null,
            "overflow_x": null,
            "overflow_y": null,
            "padding": null,
            "right": null,
            "top": null,
            "visibility": null,
            "width": null
          }
        },
        "391139340190479ca6e0b3a2dbcb26af": {
          "model_module": "@jupyter-widgets/controls",
          "model_name": "SliderStyleModel",
          "model_module_version": "1.5.0",
          "state": {
            "_model_module": "@jupyter-widgets/controls",
            "_model_module_version": "1.5.0",
            "_model_name": "SliderStyleModel",
            "_view_count": null,
            "_view_module": "@jupyter-widgets/base",
            "_view_module_version": "1.2.0",
            "_view_name": "StyleView",
            "description_width": "",
            "handle_color": null
          }
        },
        "286f2920b68648648aedd767c1aa02fb": {
          "model_module": "@jupyter-widgets/base",
          "model_name": "LayoutModel",
          "model_module_version": "1.2.0",
          "state": {
            "_model_module": "@jupyter-widgets/base",
            "_model_module_version": "1.2.0",
            "_model_name": "LayoutModel",
            "_view_count": null,
            "_view_module": "@jupyter-widgets/base",
            "_view_module_version": "1.2.0",
            "_view_name": "LayoutView",
            "align_content": null,
            "align_items": null,
            "align_self": null,
            "border": null,
            "bottom": null,
            "display": null,
            "flex": null,
            "flex_flow": null,
            "grid_area": null,
            "grid_auto_columns": null,
            "grid_auto_flow": null,
            "grid_auto_rows": null,
            "grid_column": null,
            "grid_gap": null,
            "grid_row": null,
            "grid_template_areas": null,
            "grid_template_columns": null,
            "grid_template_rows": null,
            "height": null,
            "justify_content": null,
            "justify_items": null,
            "left": null,
            "margin": null,
            "max_height": null,
            "max_width": null,
            "min_height": null,
            "min_width": null,
            "object_fit": null,
            "object_position": null,
            "order": null,
            "overflow": null,
            "overflow_x": null,
            "overflow_y": null,
            "padding": null,
            "right": null,
            "top": null,
            "visibility": null,
            "width": null
          }
        },
        "17e367a26664457ca2de4deb61157871": {
          "model_module": "@jupyter-widgets/controls",
          "model_name": "SliderStyleModel",
          "model_module_version": "1.5.0",
          "state": {
            "_model_module": "@jupyter-widgets/controls",
            "_model_module_version": "1.5.0",
            "_model_name": "SliderStyleModel",
            "_view_count": null,
            "_view_module": "@jupyter-widgets/base",
            "_view_module_version": "1.2.0",
            "_view_name": "StyleView",
            "description_width": "",
            "handle_color": null
          }
        },
        "19de72e32ea342edaa89c54ae7a31eeb": {
          "model_module": "@jupyter-widgets/base",
          "model_name": "LayoutModel",
          "model_module_version": "1.2.0",
          "state": {
            "_model_module": "@jupyter-widgets/base",
            "_model_module_version": "1.2.0",
            "_model_name": "LayoutModel",
            "_view_count": null,
            "_view_module": "@jupyter-widgets/base",
            "_view_module_version": "1.2.0",
            "_view_name": "LayoutView",
            "align_content": null,
            "align_items": null,
            "align_self": null,
            "border": null,
            "bottom": null,
            "display": null,
            "flex": null,
            "flex_flow": null,
            "grid_area": null,
            "grid_auto_columns": null,
            "grid_auto_flow": null,
            "grid_auto_rows": null,
            "grid_column": null,
            "grid_gap": null,
            "grid_row": null,
            "grid_template_areas": null,
            "grid_template_columns": null,
            "grid_template_rows": null,
            "height": null,
            "justify_content": null,
            "justify_items": null,
            "left": null,
            "margin": null,
            "max_height": null,
            "max_width": null,
            "min_height": null,
            "min_width": null,
            "object_fit": null,
            "object_position": null,
            "order": null,
            "overflow": null,
            "overflow_x": null,
            "overflow_y": null,
            "padding": null,
            "right": null,
            "top": null,
            "visibility": null,
            "width": null
          }
        }
      }
    }
  },
  "cells": [
    {
      "cell_type": "markdown",
      "metadata": {
        "id": "view-in-github",
        "colab_type": "text"
      },
      "source": [
        "<a href=\"https://colab.research.google.com/github/FaridRash/IGNIS/blob/main/SNR_weighted_calculator_MODTRAN.ipynb\" target=\"_parent\"><img src=\"https://colab.research.google.com/assets/colab-badge.svg\" alt=\"Open In Colab\"/></a>"
      ]
    },
    {
      "cell_type": "code",
      "source": [
        "\"\"\"https://wp.optics.arizona.edu/alumni/wp-content/uploads/sites/113/2024/06/Jacob_Wilson_Master_s_Report_2024.pdf\n",
        "maybe when you do the calculation cite that the value is taken from this source\"\"\""
      ],
      "metadata": {
        "id": "knUCk8Ill8Mq",
        "colab": {
          "base_uri": "https://localhost:8080/",
          "height": 52
        },
        "outputId": "92693231-7105-4fc2-e007-07ef69aa98cf"
      },
      "execution_count": 91,
      "outputs": [
        {
          "output_type": "execute_result",
          "data": {
            "text/plain": [
              "'https://wp.optics.arizona.edu/alumni/wp-content/uploads/sites/113/2024/06/Jacob_Wilson_Master_s_Report_2024.pdf\\nmaybe when you do the calculation cite that the value is taken from\\xa0this\\xa0source'"
            ],
            "application/vnd.google.colaboratory.intrinsic+json": {
              "type": "string"
            }
          },
          "metadata": {},
          "execution_count": 91
        }
      ]
    },
    {
      "cell_type": "code",
      "source": [
        "\"\"\"For the campi flegrei target we are considering a 200 km^2 square area (approximately 14x14km).\n",
        "But the specific spots we want to investigate are the fumarole (whose vents can reach 10 metres and 165degree)\n",
        "Consider those would be much smaller than our gsd, so if you consider the signal from that area it would be a\n",
        "weighted sum of the signal from the fumarola (~10m, 150-160 °C) and from the sourrunding ground (GSD-10m, Ground Temperature)\n",
        "\n",
        "But this thing of the weighted sum can be implemented later,\n",
        "for now let’s see what happens with the whole campi flegrei as target,\n",
        "then let’s consider the hotspot, then let’s consider the weighted sum (if necessary)\"\"\""
      ],
      "metadata": {
        "colab": {
          "base_uri": "https://localhost:8080/",
          "height": 87
        },
        "id": "oGqA-AeqUU5L",
        "outputId": "d2f5ea45-10da-4746-8ff6-428c9b4f1b3e"
      },
      "execution_count": 92,
      "outputs": [
        {
          "output_type": "execute_result",
          "data": {
            "text/plain": [
              "'For the campi flegrei target we are considering a 200 km^2 square area (approximately 14x14km).\\nBut the specific spots we want to investigate are the fumarole (whose vents can reach 10 metres and 165degree)\\nConsider those would be much smaller than our gsd, so if you consider the signal from that area it would be a\\nweighted sum of the signal from the fumarola (~10m, 150-160 °C) and from the sourrunding ground (GSD-10m, Ground\\xa0Temperature)\\n\\nBut this thing of the weighted sum can be implemented later,\\nfor now let’s see what happens with the whole campi flegrei as target,\\nthen let’s consider the hotspot, then let’s consider the weighted sum\\xa0(if\\xa0necessary)'"
            ],
            "application/vnd.google.colaboratory.intrinsic+json": {
              "type": "string"
            }
          },
          "metadata": {},
          "execution_count": 92
        }
      ]
    },
    {
      "cell_type": "code",
      "source": [
        "import numpy as np\n",
        "import matplotlib.pyplot as plt\n",
        "from ipywidgets import interact, FloatSlider"
      ],
      "metadata": {
        "id": "0iwD4CObnvix"
      },
      "execution_count": 93,
      "outputs": []
    },
    {
      "cell_type": "code",
      "source": [
        "c1 = 3.7418e8\n",
        "c2 = 1.4388e4\n",
        "h = 6.626e-34\n",
        "c = 3e8"
      ],
      "metadata": {
        "id": "4Ysz21QvnxB5"
      },
      "execution_count": 94,
      "outputs": []
    },
    {
      "cell_type": "code",
      "source": [
        "def compute_gsd(H, f, p):\n",
        "  return H * p / f"
      ],
      "metadata": {
        "id": "IbfEfq-cpN5B"
      },
      "execution_count": 95,
      "outputs": []
    },
    {
      "cell_type": "code",
      "source": [
        "Tf = 433.15"
      ],
      "metadata": {
        "id": "4H3PsURXO0hI"
      },
      "execution_count": 96,
      "outputs": []
    },
    {
      "cell_type": "code",
      "source": [
        "def compute_wighted_snr(Tg,Tf, theta_deg, R, tau_a):\n",
        "    Af = 10\n",
        "    Agsd = compute_gsd(R, focal_length, pixel)\n",
        "    Ag = Agsd - Af\n",
        "\n",
        "    cos_theta = np.cos(np.deg2rad(theta_deg))\n",
        "    M_lambda_g = c1 / (lambda_range**5 * (np.exp(c2 / (lambda_range * Tg)) - 1))\n",
        "    E_lambda_g = epsilon * M_lambda_g\n",
        "    S_lambda_g = lambda_range * E_lambda_g * tau_a * tau_0 * eta * delta_lambda\n",
        "    S_sum_g = np.sum(S_lambda_g)\n",
        "    S_Ag = (D**2 * t * cos_theta * Ag) / (4 * R**2 * h * c) * S_sum_g\n",
        "\n",
        "    M_lambda_f = c1 / (lambda_range**5 * (np.exp(c2 / (lambda_range * Tf)) - 1))\n",
        "    E_lambda_f = epsilon * M_lambda_f\n",
        "    S_lambda_f = lambda_range * E_lambda_f * tau_a * tau_0 * eta * delta_lambda\n",
        "    S_sum_f = np.sum(S_lambda_f)\n",
        "    S_Af = (D**2 * t * cos_theta * Af) / (4 * R**2 * h * c) * S_sum_f\n",
        "\n",
        "\n",
        "    S_total = S_Ag + S_Af\n",
        "    S_lambda = S_lambda_g + S_lambda_f\n",
        "    N_total = np.sqrt(S_total)\n",
        "    SNR_total = S_total / N_total\n",
        "    SNR_lambda = S_lambda / N_total\n",
        "\n",
        "    plt.figure(figsize=(10, 5))\n",
        "    plt.plot(lambda_range, SNR_lambda, label='SNR Contribution per λ', color='blue')\n",
        "    plt.xlabel('Wavelength (μm)')\n",
        "    plt.ylabel('SNR Contribution')\n",
        "    plt.title(f'Spectral SNR Contribution\\nTg = {Tg}K, Tf = {Tf}K, θ = {theta_deg}°, R = {R/1000:.0f}km, τₐ = {tau_a}, Ag = {Ag:.2f}m, Af = {Af:.0f}m' )\n",
        "    plt.grid(True)\n",
        "    plt.legend()\n",
        "    plt.tight_layout()\n",
        "    plt.show()\n",
        "\n",
        "    print(f\"Total SNR at Tg = {Tg} K, Tf = {Tf} K, θ = {theta_deg}°, R = {R/1000:.0f} km, τₐ = {tau_a}: {SNR_total:.2f}\")"
      ],
      "metadata": {
        "id": "aOG04wGNn3ca"
      },
      "execution_count": 102,
      "outputs": []
    },
    {
      "cell_type": "code",
      "source": [
        "epsilon = 0.95\n",
        "tau_0 = 0.89\n",
        "eta = 0.7\n",
        "t = 0.01\n",
        "focal_length = 72.8 / 1000\n",
        "pixel = 12e-6\n",
        "F_number = 1.05\n",
        "D = (focal_length / F_number)\n",
        "\n",
        "lambda_range = np.arange(8, 12.1, 0.1)\n",
        "delta_lambda = 0.1"
      ],
      "metadata": {
        "id": "MUREo2Icnz7c"
      },
      "execution_count": 103,
      "outputs": []
    },
    {
      "cell_type": "code",
      "source": [
        "interact(\n",
        "    compute_wighted_snr,\n",
        "    Tg=FloatSlider(value=313.15, min=200, max=500, step=1, description='surrounding ground Temperature (K)'),\n",
        "    Tf=FloatSlider(value=433.15, min=200, max=500, step=1, description='fumarole Temperature (K)'),\n",
        "    theta_deg=FloatSlider(value=0, min=0, max=90, step=1, description='Theta (°)'),\n",
        "    R=FloatSlider(value=460000, min=150000, max=460000, step=1000, description='Distance (m)'),\n",
        "    tau_a=FloatSlider(value=0.85, min=0.0, max=1.0, step=0.01, description='τₐ (Atmosphere)')\n",
        ")"
      ],
      "metadata": {
        "colab": {
          "base_uri": "https://localhost:8080/",
          "height": 755,
          "referenced_widgets": [
            "a1f83a018b2b48129328f06c682c5f91",
            "018118d67d834ae68ee69e8c10c56bab",
            "799f8273e6a34ea1ad9851d8405fe7b8",
            "8a63540c8cc5490e96e57e8738c93e06",
            "1c024d045a66408688a69c711e215757",
            "d1e576111c6446dd875b9020e7c1694c",
            "4142d60e187545e88a1dbe206bc159e6",
            "49859199d3744fbd9ff698c8a4417a93",
            "c87b5757663e47858a6dea79bb9fc166",
            "88b5b7613b4644b9ac796ce443f24430",
            "1f0adcde05604d73b1bfa932d443af99",
            "b9d7a7980cc24ffa92da55c342de68cb",
            "1509651f422b47c4bbca44307c644d8d",
            "c37d44ff280541cb852efb4b3853ecb0",
            "dff97e4f2bef4ee09d20af5e44d7be4d",
            "391139340190479ca6e0b3a2dbcb26af",
            "286f2920b68648648aedd767c1aa02fb",
            "17e367a26664457ca2de4deb61157871",
            "19de72e32ea342edaa89c54ae7a31eeb"
          ]
        },
        "id": "ebAcdtMAn5Pu",
        "outputId": "9a68ec24-9c88-4dd2-beb0-ffbcd67d60cb"
      },
      "execution_count": 105,
      "outputs": [
        {
          "output_type": "display_data",
          "data": {
            "text/plain": [
              "interactive(children=(FloatSlider(value=313.15, description='surrounding ground Temperature (K)', max=500.0, m…"
            ],
            "application/vnd.jupyter.widget-view+json": {
              "version_major": 2,
              "version_minor": 0,
              "model_id": "a1f83a018b2b48129328f06c682c5f91"
            }
          },
          "metadata": {}
        },
        {
          "output_type": "execute_result",
          "data": {
            "text/plain": [
              "<function __main__.compute_wighted_snr(Tg, Tf, theta_deg, R, tau_a)>"
            ],
            "text/html": [
              "<div style=\"max-width:800px; border: 1px solid var(--colab-border-color);\"><style>\n",
              "      pre.function-repr-contents {\n",
              "        overflow-x: auto;\n",
              "        padding: 8px 12px;\n",
              "        max-height: 500px;\n",
              "      }\n",
              "\n",
              "      pre.function-repr-contents.function-repr-contents-collapsed {\n",
              "        cursor: pointer;\n",
              "        max-height: 100px;\n",
              "      }\n",
              "    </style>\n",
              "    <pre style=\"white-space: initial; background:\n",
              "         var(--colab-secondary-surface-color); padding: 8px 12px;\n",
              "         border-bottom: 1px solid var(--colab-border-color);\"><b>compute_wighted_snr</b><br/>def compute_wighted_snr(Tg, Tf, theta_deg, R, tau_a)</pre><pre class=\"function-repr-contents function-repr-contents-collapsed\" style=\"\"><a class=\"filepath\" style=\"display:none\" href=\"#\">/content/&lt;ipython-input-102-eeb0e5b6348e&gt;</a>&lt;no docstring&gt;</pre></div>"
            ]
          },
          "metadata": {},
          "execution_count": 105
        }
      ]
    },
    {
      "cell_type": "code",
      "source": [],
      "metadata": {
        "id": "w0Md_wD7PJkG"
      },
      "execution_count": 99,
      "outputs": []
    }
  ]
}