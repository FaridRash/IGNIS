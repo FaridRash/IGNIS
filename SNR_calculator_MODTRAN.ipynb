{
  "nbformat": 4,
  "nbformat_minor": 0,
  "metadata": {
    "colab": {
      "provenance": [],
      "authorship_tag": "ABX9TyMSo1F6Di+7OakYgtoHakBh",
      "include_colab_link": true
    },
    "kernelspec": {
      "name": "python3",
      "display_name": "Python 3"
    },
    "language_info": {
      "name": "python"
    },
    "widgets": {
      "application/vnd.jupyter.widget-state+json": {
        "62dc02bd38e24fd5a0dfcd9cf6e5ff4e": {
          "model_module": "@jupyter-widgets/controls",
          "model_name": "VBoxModel",
          "model_module_version": "1.5.0",
          "state": {
            "_dom_classes": [
              "widget-interact"
            ],
            "_model_module": "@jupyter-widgets/controls",
            "_model_module_version": "1.5.0",
            "_model_name": "VBoxModel",
            "_view_count": null,
            "_view_module": "@jupyter-widgets/controls",
            "_view_module_version": "1.5.0",
            "_view_name": "VBoxView",
            "box_style": "",
            "children": [
              "IPY_MODEL_4c7616d205b34dc38b34f43fe209d36b",
              "IPY_MODEL_8d5714a8eaaa44c396dc1ca1b686668b",
              "IPY_MODEL_278d584ef559473691694cad41e246b0",
              "IPY_MODEL_e448e099da394dbabdd2d5b42cbfda63",
              "IPY_MODEL_dff4e48af2f647a0ab8a9678602d26d1"
            ],
            "layout": "IPY_MODEL_57e10c53125644b0b81d83e404640b7d"
          }
        },
        "4c7616d205b34dc38b34f43fe209d36b": {
          "model_module": "@jupyter-widgets/controls",
          "model_name": "FloatSliderModel",
          "model_module_version": "1.5.0",
          "state": {
            "_dom_classes": [],
            "_model_module": "@jupyter-widgets/controls",
            "_model_module_version": "1.5.0",
            "_model_name": "FloatSliderModel",
            "_view_count": null,
            "_view_module": "@jupyter-widgets/controls",
            "_view_module_version": "1.5.0",
            "_view_name": "FloatSliderView",
            "continuous_update": true,
            "description": "Temperature (K)",
            "description_tooltip": null,
            "disabled": false,
            "layout": "IPY_MODEL_a310bd9ee5a04add94aebd5cd2632ce0",
            "max": 500,
            "min": 200,
            "orientation": "horizontal",
            "readout": true,
            "readout_format": ".2f",
            "step": 1,
            "style": "IPY_MODEL_e0601728cc8c419281a44fe5b5c0d194",
            "value": 438
          }
        },
        "8d5714a8eaaa44c396dc1ca1b686668b": {
          "model_module": "@jupyter-widgets/controls",
          "model_name": "FloatSliderModel",
          "model_module_version": "1.5.0",
          "state": {
            "_dom_classes": [],
            "_model_module": "@jupyter-widgets/controls",
            "_model_module_version": "1.5.0",
            "_model_name": "FloatSliderModel",
            "_view_count": null,
            "_view_module": "@jupyter-widgets/controls",
            "_view_module_version": "1.5.0",
            "_view_name": "FloatSliderView",
            "continuous_update": true,
            "description": "Theta (°)",
            "description_tooltip": null,
            "disabled": false,
            "layout": "IPY_MODEL_f92a42ee10c4406cb3c01d6d92ab674a",
            "max": 90,
            "min": 0,
            "orientation": "horizontal",
            "readout": true,
            "readout_format": ".2f",
            "step": 1,
            "style": "IPY_MODEL_bec605a4b0d44455ac2775eafbbc8d7b",
            "value": 0
          }
        },
        "278d584ef559473691694cad41e246b0": {
          "model_module": "@jupyter-widgets/controls",
          "model_name": "FloatSliderModel",
          "model_module_version": "1.5.0",
          "state": {
            "_dom_classes": [],
            "_model_module": "@jupyter-widgets/controls",
            "_model_module_version": "1.5.0",
            "_model_name": "FloatSliderModel",
            "_view_count": null,
            "_view_module": "@jupyter-widgets/controls",
            "_view_module_version": "1.5.0",
            "_view_name": "FloatSliderView",
            "continuous_update": true,
            "description": "Distance (m)",
            "description_tooltip": null,
            "disabled": false,
            "layout": "IPY_MODEL_917b54b4619942e78dc9bcb02822a511",
            "max": 460000,
            "min": 150000,
            "orientation": "horizontal",
            "readout": true,
            "readout_format": ".2f",
            "step": 1000,
            "style": "IPY_MODEL_09650163c66c4498ad4f02ec16771cee",
            "value": 460000
          }
        },
        "e448e099da394dbabdd2d5b42cbfda63": {
          "model_module": "@jupyter-widgets/controls",
          "model_name": "FloatSliderModel",
          "model_module_version": "1.5.0",
          "state": {
            "_dom_classes": [],
            "_model_module": "@jupyter-widgets/controls",
            "_model_module_version": "1.5.0",
            "_model_name": "FloatSliderModel",
            "_view_count": null,
            "_view_module": "@jupyter-widgets/controls",
            "_view_module_version": "1.5.0",
            "_view_name": "FloatSliderView",
            "continuous_update": true,
            "description": "τₐ (Atmosphere)",
            "description_tooltip": null,
            "disabled": false,
            "layout": "IPY_MODEL_8d0e220a24994098a7080ce655777657",
            "max": 1,
            "min": 0,
            "orientation": "horizontal",
            "readout": true,
            "readout_format": ".2f",
            "step": 0.01,
            "style": "IPY_MODEL_8fbce766ec09475eb5c7f05bc660d0b6",
            "value": 0.85
          }
        },
        "dff4e48af2f647a0ab8a9678602d26d1": {
          "model_module": "@jupyter-widgets/output",
          "model_name": "OutputModel",
          "model_module_version": "1.0.0",
          "state": {
            "_dom_classes": [],
            "_model_module": "@jupyter-widgets/output",
            "_model_module_version": "1.0.0",
            "_model_name": "OutputModel",
            "_view_count": null,
            "_view_module": "@jupyter-widgets/output",
            "_view_module_version": "1.0.0",
            "_view_name": "OutputView",
            "layout": "IPY_MODEL_48ec5921fcf940ddba93015f4c8b3a72",
            "msg_id": "",
            "outputs": [
              {
                "output_type": "display_data",
                "data": {
                  "text/plain": "<Figure size 1000x500 with 1 Axes>",
                  "image/png": "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\n"
                },
                "metadata": {}
              },
              {
                "output_type": "stream",
                "name": "stdout",
                "text": [
                  "Total SNR at T = 438.0 K, θ = 0.0°, R = 460 km, τₐ = 0.85: 4.11e+08\n"
                ]
              }
            ]
          }
        },
        "57e10c53125644b0b81d83e404640b7d": {
          "model_module": "@jupyter-widgets/base",
          "model_name": "LayoutModel",
          "model_module_version": "1.2.0",
          "state": {
            "_model_module": "@jupyter-widgets/base",
            "_model_module_version": "1.2.0",
            "_model_name": "LayoutModel",
            "_view_count": null,
            "_view_module": "@jupyter-widgets/base",
            "_view_module_version": "1.2.0",
            "_view_name": "LayoutView",
            "align_content": null,
            "align_items": null,
            "align_self": null,
            "border": null,
            "bottom": null,
            "display": null,
            "flex": null,
            "flex_flow": null,
            "grid_area": null,
            "grid_auto_columns": null,
            "grid_auto_flow": null,
            "grid_auto_rows": null,
            "grid_column": null,
            "grid_gap": null,
            "grid_row": null,
            "grid_template_areas": null,
            "grid_template_columns": null,
            "grid_template_rows": null,
            "height": null,
            "justify_content": null,
            "justify_items": null,
            "left": null,
            "margin": null,
            "max_height": null,
            "max_width": null,
            "min_height": null,
            "min_width": null,
            "object_fit": null,
            "object_position": null,
            "order": null,
            "overflow": null,
            "overflow_x": null,
            "overflow_y": null,
            "padding": null,
            "right": null,
            "top": null,
            "visibility": null,
            "width": null
          }
        },
        "a310bd9ee5a04add94aebd5cd2632ce0": {
          "model_module": "@jupyter-widgets/base",
          "model_name": "LayoutModel",
          "model_module_version": "1.2.0",
          "state": {
            "_model_module": "@jupyter-widgets/base",
            "_model_module_version": "1.2.0",
            "_model_name": "LayoutModel",
            "_view_count": null,
            "_view_module": "@jupyter-widgets/base",
            "_view_module_version": "1.2.0",
            "_view_name": "LayoutView",
            "align_content": null,
            "align_items": null,
            "align_self": null,
            "border": null,
            "bottom": null,
            "display": null,
            "flex": null,
            "flex_flow": null,
            "grid_area": null,
            "grid_auto_columns": null,
            "grid_auto_flow": null,
            "grid_auto_rows": null,
            "grid_column": null,
            "grid_gap": null,
            "grid_row": null,
            "grid_template_areas": null,
            "grid_template_columns": null,
            "grid_template_rows": null,
            "height": null,
            "justify_content": null,
            "justify_items": null,
            "left": null,
            "margin": null,
            "max_height": null,
            "max_width": null,
            "min_height": null,
            "min_width": null,
            "object_fit": null,
            "object_position": null,
            "order": null,
            "overflow": null,
            "overflow_x": null,
            "overflow_y": null,
            "padding": null,
            "right": null,
            "top": null,
            "visibility": null,
            "width": null
          }
        },
        "e0601728cc8c419281a44fe5b5c0d194": {
          "model_module": "@jupyter-widgets/controls",
          "model_name": "SliderStyleModel",
          "model_module_version": "1.5.0",
          "state": {
            "_model_module": "@jupyter-widgets/controls",
            "_model_module_version": "1.5.0",
            "_model_name": "SliderStyleModel",
            "_view_count": null,
            "_view_module": "@jupyter-widgets/base",
            "_view_module_version": "1.2.0",
            "_view_name": "StyleView",
            "description_width": "",
            "handle_color": null
          }
        },
        "f92a42ee10c4406cb3c01d6d92ab674a": {
          "model_module": "@jupyter-widgets/base",
          "model_name": "LayoutModel",
          "model_module_version": "1.2.0",
          "state": {
            "_model_module": "@jupyter-widgets/base",
            "_model_module_version": "1.2.0",
            "_model_name": "LayoutModel",
            "_view_count": null,
            "_view_module": "@jupyter-widgets/base",
            "_view_module_version": "1.2.0",
            "_view_name": "LayoutView",
            "align_content": null,
            "align_items": null,
            "align_self": null,
            "border": null,
            "bottom": null,
            "display": null,
            "flex": null,
            "flex_flow": null,
            "grid_area": null,
            "grid_auto_columns": null,
            "grid_auto_flow": null,
            "grid_auto_rows": null,
            "grid_column": null,
            "grid_gap": null,
            "grid_row": null,
            "grid_template_areas": null,
            "grid_template_columns": null,
            "grid_template_rows": null,
            "height": null,
            "justify_content": null,
            "justify_items": null,
            "left": null,
            "margin": null,
            "max_height": null,
            "max_width": null,
            "min_height": null,
            "min_width": null,
            "object_fit": null,
            "object_position": null,
            "order": null,
            "overflow": null,
            "overflow_x": null,
            "overflow_y": null,
            "padding": null,
            "right": null,
            "top": null,
            "visibility": null,
            "width": null
          }
        },
        "bec605a4b0d44455ac2775eafbbc8d7b": {
          "model_module": "@jupyter-widgets/controls",
          "model_name": "SliderStyleModel",
          "model_module_version": "1.5.0",
          "state": {
            "_model_module": "@jupyter-widgets/controls",
            "_model_module_version": "1.5.0",
            "_model_name": "SliderStyleModel",
            "_view_count": null,
            "_view_module": "@jupyter-widgets/base",
            "_view_module_version": "1.2.0",
            "_view_name": "StyleView",
            "description_width": "",
            "handle_color": null
          }
        },
        "917b54b4619942e78dc9bcb02822a511": {
          "model_module": "@jupyter-widgets/base",
          "model_name": "LayoutModel",
          "model_module_version": "1.2.0",
          "state": {
            "_model_module": "@jupyter-widgets/base",
            "_model_module_version": "1.2.0",
            "_model_name": "LayoutModel",
            "_view_count": null,
            "_view_module": "@jupyter-widgets/base",
            "_view_module_version": "1.2.0",
            "_view_name": "LayoutView",
            "align_content": null,
            "align_items": null,
            "align_self": null,
            "border": null,
            "bottom": null,
            "display": null,
            "flex": null,
            "flex_flow": null,
            "grid_area": null,
            "grid_auto_columns": null,
            "grid_auto_flow": null,
            "grid_auto_rows": null,
            "grid_column": null,
            "grid_gap": null,
            "grid_row": null,
            "grid_template_areas": null,
            "grid_template_columns": null,
            "grid_template_rows": null,
            "height": null,
            "justify_content": null,
            "justify_items": null,
            "left": null,
            "margin": null,
            "max_height": null,
            "max_width": null,
            "min_height": null,
            "min_width": null,
            "object_fit": null,
            "object_position": null,
            "order": null,
            "overflow": null,
            "overflow_x": null,
            "overflow_y": null,
            "padding": null,
            "right": null,
            "top": null,
            "visibility": null,
            "width": null
          }
        },
        "09650163c66c4498ad4f02ec16771cee": {
          "model_module": "@jupyter-widgets/controls",
          "model_name": "SliderStyleModel",
          "model_module_version": "1.5.0",
          "state": {
            "_model_module": "@jupyter-widgets/controls",
            "_model_module_version": "1.5.0",
            "_model_name": "SliderStyleModel",
            "_view_count": null,
            "_view_module": "@jupyter-widgets/base",
            "_view_module_version": "1.2.0",
            "_view_name": "StyleView",
            "description_width": "",
            "handle_color": null
          }
        },
        "8d0e220a24994098a7080ce655777657": {
          "model_module": "@jupyter-widgets/base",
          "model_name": "LayoutModel",
          "model_module_version": "1.2.0",
          "state": {
            "_model_module": "@jupyter-widgets/base",
            "_model_module_version": "1.2.0",
            "_model_name": "LayoutModel",
            "_view_count": null,
            "_view_module": "@jupyter-widgets/base",
            "_view_module_version": "1.2.0",
            "_view_name": "LayoutView",
            "align_content": null,
            "align_items": null,
            "align_self": null,
            "border": null,
            "bottom": null,
            "display": null,
            "flex": null,
            "flex_flow": null,
            "grid_area": null,
            "grid_auto_columns": null,
            "grid_auto_flow": null,
            "grid_auto_rows": null,
            "grid_column": null,
            "grid_gap": null,
            "grid_row": null,
            "grid_template_areas": null,
            "grid_template_columns": null,
            "grid_template_rows": null,
            "height": null,
            "justify_content": null,
            "justify_items": null,
            "left": null,
            "margin": null,
            "max_height": null,
            "max_width": null,
            "min_height": null,
            "min_width": null,
            "object_fit": null,
            "object_position": null,
            "order": null,
            "overflow": null,
            "overflow_x": null,
            "overflow_y": null,
            "padding": null,
            "right": null,
            "top": null,
            "visibility": null,
            "width": null
          }
        },
        "8fbce766ec09475eb5c7f05bc660d0b6": {
          "model_module": "@jupyter-widgets/controls",
          "model_name": "SliderStyleModel",
          "model_module_version": "1.5.0",
          "state": {
            "_model_module": "@jupyter-widgets/controls",
            "_model_module_version": "1.5.0",
            "_model_name": "SliderStyleModel",
            "_view_count": null,
            "_view_module": "@jupyter-widgets/base",
            "_view_module_version": "1.2.0",
            "_view_name": "StyleView",
            "description_width": "",
            "handle_color": null
          }
        },
        "48ec5921fcf940ddba93015f4c8b3a72": {
          "model_module": "@jupyter-widgets/base",
          "model_name": "LayoutModel",
          "model_module_version": "1.2.0",
          "state": {
            "_model_module": "@jupyter-widgets/base",
            "_model_module_version": "1.2.0",
            "_model_name": "LayoutModel",
            "_view_count": null,
            "_view_module": "@jupyter-widgets/base",
            "_view_module_version": "1.2.0",
            "_view_name": "LayoutView",
            "align_content": null,
            "align_items": null,
            "align_self": null,
            "border": null,
            "bottom": null,
            "display": null,
            "flex": null,
            "flex_flow": null,
            "grid_area": null,
            "grid_auto_columns": null,
            "grid_auto_flow": null,
            "grid_auto_rows": null,
            "grid_column": null,
            "grid_gap": null,
            "grid_row": null,
            "grid_template_areas": null,
            "grid_template_columns": null,
            "grid_template_rows": null,
            "height": null,
            "justify_content": null,
            "justify_items": null,
            "left": null,
            "margin": null,
            "max_height": null,
            "max_width": null,
            "min_height": null,
            "min_width": null,
            "object_fit": null,
            "object_position": null,
            "order": null,
            "overflow": null,
            "overflow_x": null,
            "overflow_y": null,
            "padding": null,
            "right": null,
            "top": null,
            "visibility": null,
            "width": null
          }
        }
      }
    }
  },
  "cells": [
    {
      "cell_type": "markdown",
      "metadata": {
        "id": "view-in-github",
        "colab_type": "text"
      },
      "source": [
        "<a href=\"https://colab.research.google.com/github/FaridRash/IGNIS/blob/main/SNR_calculator_MODTRAN.ipynb\" target=\"_parent\"><img src=\"https://colab.research.google.com/assets/colab-badge.svg\" alt=\"Open In Colab\"/></a>"
      ]
    },
    {
      "cell_type": "code",
      "source": [
        "\"\"\"\n",
        "https://wp.optics.arizona.edu/alumni/wp-content/uploads/sites/113/2024/06/Jacob_Wilson_Master_s_Report_2024.pdf\n",
        "maybe when you do the calculation cite that the value is taken from this source\n",
        "\"\"\""
      ],
      "metadata": {
        "id": "knUCk8Ill8Mq"
      },
      "execution_count": null,
      "outputs": []
    },
    {
      "cell_type": "code",
      "source": [
        "\"\"\"\n",
        "For the campi flegrei target we are considering a 200 km^2 square area (approximately 14x14km).\n",
        "But the specific spots we want to investigate are the fumarole (whose vents can reach 10 metres and 165degree)\n",
        "Consider those would be much smaller than our gsd, so if you consider the signal from that area it would be a\n",
        "weighted sum of the signal from the fumarola (~10m, 150-160 °C) and from the sourrunding ground (GSD-10m, Ground Temperature)\n",
        "\n",
        "But this thing of the weighted sum can be implemented later,\n",
        "for now let’s see what happens with the whole campi flegrei as target,\n",
        "then let’s consider the hotspot, then let’s consider the weighted sum (if necessary)\n",
        "\"\"\""
      ],
      "metadata": {
        "colab": {
          "base_uri": "https://localhost:8080/",
          "height": 70
        },
        "id": "oGqA-AeqUU5L",
        "outputId": "6c06a3a1-60ef-4160-c39c-5b4d4b4eeac2"
      },
      "execution_count": null,
      "outputs": [
        {
          "output_type": "execute_result",
          "data": {
            "text/plain": [
              "'For the campi flegrei target we are considering a 200 km^2 square area (approximately 14x14km). But the specific spots we want to investigate are the fumarole (whose vents can reach 10 metres and 165degree)\\nConsider those would be much smaller than our gsd, so if you consider the signal from that area it would be a weighted sum of the signal from the fumarola (~10m, 150-160 °C) and from the sourrunding ground (GSD-10m, Ground\\xa0Temperature)'"
            ],
            "application/vnd.google.colaboratory.intrinsic+json": {
              "type": "string"
            }
          },
          "metadata": {},
          "execution_count": 7
        }
      ]
    },
    {
      "cell_type": "code",
      "source": [
        "import numpy as np\n",
        "import matplotlib.pyplot as plt\n",
        "from ipywidgets import interact, FloatSlider"
      ],
      "metadata": {
        "id": "0iwD4CObnvix"
      },
      "execution_count": 1,
      "outputs": []
    },
    {
      "cell_type": "code",
      "source": [
        "c1 = 3.7418e8\n",
        "c2 = 1.4388e4\n",
        "h = 6.626e-34\n",
        "c = 3e8"
      ],
      "metadata": {
        "id": "4Ysz21QvnxB5"
      },
      "execution_count": 2,
      "outputs": []
    },
    {
      "cell_type": "code",
      "source": [
        "def compute_snr(T, theta_deg, R, tau_a):\n",
        "    cos_theta = np.cos(np.deg2rad(theta_deg))\n",
        "    M_lambda = c1 / (lambda_range**5 * (np.exp(c2 / (lambda_range * T)) - 1))\n",
        "    E_lambda = epsilon * M_lambda\n",
        "    S_lambda = lambda_range * E_lambda * tau_a * tau_0 * eta * delta_lambda\n",
        "    S_sum = np.sum(S_lambda)\n",
        "    S_total = (D**2 * t * cos_theta * A0) / (4 * R**2 * h * c) * S_sum\n",
        "    N_total = np.sqrt(S_total)\n",
        "    SNR_total = S_total / N_total\n",
        "    SNR_lambda = S_lambda / N_total\n",
        "\n",
        "    plt.figure(figsize=(10, 5))\n",
        "    plt.plot(lambda_range, SNR_lambda, label='SNR Contribution per λ', color='blue')\n",
        "    plt.xlabel('Wavelength (μm)')\n",
        "    plt.ylabel('SNR Contribution')\n",
        "    plt.title(f'Spectral SNR Contribution\\nT = {T}K, θ = {theta_deg}°, R = {R/1000:.0f}km, τₐ = {tau_a}, A0 = {A0}m' )\n",
        "    plt.grid(True)\n",
        "    plt.legend()\n",
        "    plt.tight_layout()\n",
        "    plt.show()\n",
        "\n",
        "    print(f\"Total SNR at T = {T} K, θ = {theta_deg}°, R = {R/1000:.0f} km, τₐ = {tau_a}: {SNR_total:.2e}\")"
      ],
      "metadata": {
        "id": "aOG04wGNn3ca"
      },
      "execution_count": 11,
      "outputs": []
    },
    {
      "cell_type": "code",
      "source": [
        "epsilon = 0.95\n",
        "tau_0 = 0.89\n",
        "eta = 0.7\n",
        "t = 0.01\n",
        "A0 = 200000\n",
        "focal_length = 72.8\n",
        "F_number = 1.05\n",
        "D = (focal_length / F_number) / 1000\n",
        "\n",
        "lambda_range = np.arange(8, 12.1, 0.1)\n",
        "delta_lambda = 0.1"
      ],
      "metadata": {
        "id": "MUREo2Icnz7c"
      },
      "execution_count": 14,
      "outputs": []
    },
    {
      "cell_type": "code",
      "source": [
        "interact(\n",
        "    compute_snr,\n",
        "    T=FloatSlider(value=438.0, min=200, max=500, step=1, description='Temperature (K)'),\n",
        "    theta_deg=FloatSlider(value=0, min=0, max=90, step=1, description='Theta (°)'),\n",
        "    R=FloatSlider(value=460000, min=150000, max=460000, step=1000, description='Distance (m)'),\n",
        "    tau_a=FloatSlider(value=0.85, min=0.0, max=1.0, step=0.01, description='τₐ (Atmosphere)')\n",
        ")"
      ],
      "metadata": {
        "colab": {
          "base_uri": "https://localhost:8080/",
          "height": 738,
          "referenced_widgets": [
            "62dc02bd38e24fd5a0dfcd9cf6e5ff4e",
            "4c7616d205b34dc38b34f43fe209d36b",
            "8d5714a8eaaa44c396dc1ca1b686668b",
            "278d584ef559473691694cad41e246b0",
            "e448e099da394dbabdd2d5b42cbfda63",
            "dff4e48af2f647a0ab8a9678602d26d1",
            "57e10c53125644b0b81d83e404640b7d",
            "a310bd9ee5a04add94aebd5cd2632ce0",
            "e0601728cc8c419281a44fe5b5c0d194",
            "f92a42ee10c4406cb3c01d6d92ab674a",
            "bec605a4b0d44455ac2775eafbbc8d7b",
            "917b54b4619942e78dc9bcb02822a511",
            "09650163c66c4498ad4f02ec16771cee",
            "8d0e220a24994098a7080ce655777657",
            "8fbce766ec09475eb5c7f05bc660d0b6",
            "48ec5921fcf940ddba93015f4c8b3a72"
          ]
        },
        "id": "ebAcdtMAn5Pu",
        "outputId": "8989362a-5d2f-4ee2-8644-b27b9f10aaa0"
      },
      "execution_count": 15,
      "outputs": [
        {
          "output_type": "display_data",
          "data": {
            "text/plain": [
              "interactive(children=(FloatSlider(value=438.0, description='Temperature (K)', max=500.0, min=200.0, step=1.0),…"
            ],
            "application/vnd.jupyter.widget-view+json": {
              "version_major": 2,
              "version_minor": 0,
              "model_id": "62dc02bd38e24fd5a0dfcd9cf6e5ff4e"
            }
          },
          "metadata": {}
        },
        {
          "output_type": "execute_result",
          "data": {
            "text/plain": [
              "<function __main__.compute_snr(T, theta_deg, R, tau_a)>"
            ],
            "text/html": [
              "<div style=\"max-width:800px; border: 1px solid var(--colab-border-color);\"><style>\n",
              "      pre.function-repr-contents {\n",
              "        overflow-x: auto;\n",
              "        padding: 8px 12px;\n",
              "        max-height: 500px;\n",
              "      }\n",
              "\n",
              "      pre.function-repr-contents.function-repr-contents-collapsed {\n",
              "        cursor: pointer;\n",
              "        max-height: 100px;\n",
              "      }\n",
              "    </style>\n",
              "    <pre style=\"white-space: initial; background:\n",
              "         var(--colab-secondary-surface-color); padding: 8px 12px;\n",
              "         border-bottom: 1px solid var(--colab-border-color);\"><b>compute_snr</b><br/>def compute_snr(T, theta_deg, R, tau_a)</pre><pre class=\"function-repr-contents function-repr-contents-collapsed\" style=\"\"><a class=\"filepath\" style=\"display:none\" href=\"#\">/content/&lt;ipython-input-11-409794dc5101&gt;</a>&lt;no docstring&gt;</pre></div>"
            ]
          },
          "metadata": {},
          "execution_count": 15
        }
      ]
    },
    {
      "cell_type": "code",
      "source": [],
      "metadata": {
        "id": "IbfEfq-cpN5B"
      },
      "execution_count": null,
      "outputs": []
    }
  ]
}