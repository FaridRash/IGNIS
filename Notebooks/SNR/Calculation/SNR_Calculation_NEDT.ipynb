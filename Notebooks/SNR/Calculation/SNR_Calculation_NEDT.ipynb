{
  "nbformat": 4,
  "nbformat_minor": 0,
  "metadata": {
    "colab": {
      "provenance": [],
      "name": "Pierluca_SNR_Idea.ipynb",
      "authorship_tag": "ABX9TyNrATfS7aAJVuw3xL8kLuPL",
      "include_colab_link": true
    },
    "kernelspec": {
      "name": "python3",
      "display_name": "Python 3"
    },
    "language_info": {
      "name": "python"
    }
  },
  "cells": [
    {
      "cell_type": "markdown",
      "metadata": {
        "id": "view-in-github",
        "colab_type": "text"
      },
      "source": [
        "<a href=\"https://colab.research.google.com/github/FaridRash/IGNIS/blob/main/Notebooks/SNR/Calculation/SNR_Calculation_NEDT.ipynb\" target=\"_parent\"><img src=\"https://colab.research.google.com/assets/colab-badge.svg\" alt=\"Open In Colab\"/></a>"
      ]
    },
    {
      "cell_type": "code",
      "source": [
        "\n",
        "\"\"\"\n",
        "Since we want to study the temperature difference over the fumarole and not to\n",
        "detect the fumarole, instead of calculating the SNR as a difference between the\n",
        "radiation of the fumarola - the radiation from the background in the same pixel\n",
        "and normalise that, we could consider the difference in intensity of radiation\n",
        "between the pixel containing the fumarola and the pixel near it. For this I mean,\n",
        "we consider the total radiation from the pixel of the fumarole (so the radiation\n",
        "of the fumarole + radiation of the background), than we consider the radiation\n",
        "of a pixel nearby that only has the background. We can divide the difference\n",
        "of these two and divide it by the signal we would receive by the NEDT detectable\n",
        "by the camera\n",
        "\"\"\""
      ],
      "metadata": {
        "colab": {
          "base_uri": "https://localhost:8080/",
          "height": 89
        },
        "id": "oGqA-AeqUU5L",
        "outputId": "40487467-b37f-4cd5-a1d7-81b960c9e0e0"
      },
      "execution_count": null,
      "outputs": [
        {
          "output_type": "execute_result",
          "data": {
            "text/plain": [
              "'\\nSince we want to study the temperature difference over the fumarole and not to\\ndetect the fumarole, instead of calculating the SNR as a difference between the\\nradiation of the fumarola - the radiation from the background in the same pixel\\nand normalise that, we could consider the difference in intensity of radiation\\nbetween the pixel containing the fumarola and the pixel near it. For this I mean,\\nwe consider the total radiation from the pixel of the fumarole (so the radiation\\nof the fumarole + radiation of the background), than we consider the radiation\\nof a pixel nearby that only has the background. We can divide the difference\\nof these two and divide it by the signal we would receive by the NEDT detectable\\nby\\xa0the\\xa0camera\\n'"
            ],
            "application/vnd.google.colaboratory.intrinsic+json": {
              "type": "string"
            }
          },
          "metadata": {},
          "execution_count": 754
        }
      ]
    },
    {
      "cell_type": "code",
      "source": [
        "import numpy as np\n",
        "import matplotlib.pyplot as plt\n",
        "from ipywidgets import interact, FloatSlider"
      ],
      "metadata": {
        "id": "0iwD4CObnvix"
      },
      "execution_count": null,
      "outputs": []
    },
    {
      "cell_type": "markdown",
      "source": [
        "#Constants"
      ],
      "metadata": {
        "id": "eQp9L6R_MqM4"
      }
    },
    {
      "cell_type": "code",
      "source": [
        "c1 = 3.7418e8\n",
        "c2 = 1.4388e4\n",
        "h = 6.626e-34\n",
        "c = 3e8"
      ],
      "metadata": {
        "id": "4Ysz21QvnxB5"
      },
      "execution_count": null,
      "outputs": []
    },
    {
      "cell_type": "code",
      "source": [
        "epsilon = 0.95\n",
        "tau_0 = 0.89\n",
        "eta = 0.7\n",
        "t = 0.01\n",
        "focal_length = 72.8\n",
        "F_number = 1.05\n",
        "D = (focal_length / F_number) / 1000\n",
        "NEDT = 0.0441 # NEDT = 44.1mK\n",
        "lambda_range = np.arange(8, 14.1, 0.1)\n",
        "delta_lambda = 0.1"
      ],
      "metadata": {
        "id": "mpAPNyhb0tvI"
      },
      "execution_count": null,
      "outputs": []
    },
    {
      "cell_type": "markdown",
      "source": [
        "#Variables"
      ],
      "metadata": {
        "id": "ytO2xQicMvCp"
      }
    },
    {
      "cell_type": "code",
      "source": [
        "Tb = 333.15\n",
        "R = 460000\n",
        "theta = 20\n",
        "tau_a = 0.5\n",
        "Tt = 433.15\n",
        "At = 100"
      ],
      "metadata": {
        "id": "WMI05q0F0wkO"
      },
      "execution_count": null,
      "outputs": []
    },
    {
      "cell_type": "markdown",
      "source": [
        "#Functions"
      ],
      "metadata": {
        "id": "yttcBdYBMkkJ"
      }
    },
    {
      "cell_type": "code",
      "source": [
        "def compute_sT(T):\n",
        "    M_lambda = c1 / (lambda_range**5 * (np.exp(c2 / (lambda_range * T)) - 1))\n",
        "    E_lambda = epsilon * M_lambda\n",
        "    S_lambda = lambda_range * E_lambda * tau_a * tau_0 * eta * delta_lambda\n",
        "    S_sum = np.sum(S_lambda)\n",
        "    print(f'T: {T}')\n",
        "    print(f'S_sum: {S_sum}')\n",
        "    return S_sum"
      ],
      "metadata": {
        "id": "Tb6LLUYrbDY9"
      },
      "execution_count": null,
      "outputs": []
    },
    {
      "cell_type": "code",
      "source": [
        "def compute_s(theta_deg, R, A0, S_sum):\n",
        "  print(f'theta_deg: {theta_deg}')\n",
        "  print(f'R: {R}')\n",
        "  print(f'A0: {A0}')\n",
        "  print(f'S_sum: {S_sum}')\n",
        "  cos_theta = np.cos(np.deg2rad(theta_deg))\n",
        "  S_total = (D**2 * t * cos_theta * A0) / (4 * R**2 * h * c) * S_sum\n",
        "  return S_total"
      ],
      "metadata": {
        "id": "MUREo2Icnz7c"
      },
      "execution_count": null,
      "outputs": []
    },
    {
      "cell_type": "code",
      "source": [
        "def GSD(h):\n",
        "  return (h * 0.000012 / 0.0728) ** 2"
      ],
      "metadata": {
        "id": "cjZ144KKZYyx"
      },
      "execution_count": null,
      "outputs": []
    },
    {
      "cell_type": "markdown",
      "source": [
        "#Sb"
      ],
      "metadata": {
        "id": "uWf1Euak4dqj"
      }
    },
    {
      "cell_type": "code",
      "source": [
        "Ab = GSD(R)\n",
        "s_Tb= compute_sT(Tb)\n",
        "print(f'S_Tb: {s_Tb:.2f}')"
      ],
      "metadata": {
        "colab": {
          "base_uri": "https://localhost:8080/"
        },
        "id": "CEdMKInL4iK2",
        "outputId": "3a6fd07f-1486-4ded-8d65-661d87b489f8"
      },
      "execution_count": null,
      "outputs": [
        {
          "output_type": "stream",
          "name": "stdout",
          "text": [
            "T: 333.15\n",
            "S_sum: 883.0481340325063\n",
            "S_Tb: 883.05\n"
          ]
        }
      ]
    },
    {
      "cell_type": "code",
      "source": [
        "s_b = compute_s(theta, R, Ab, s_Tb)\n",
        "print(f'Sb: {s_b:.2f}')"
      ],
      "metadata": {
        "colab": {
          "base_uri": "https://localhost:8080/"
        },
        "id": "UYDkfaGq3SHC",
        "outputId": "823ef21a-2e00-478b-9035-717bf3db3724"
      },
      "execution_count": null,
      "outputs": [
        {
          "output_type": "stream",
          "name": "stdout",
          "text": [
            "theta_deg: 20\n",
            "R: 460000\n",
            "A0: 5749.305639415529\n",
            "S_sum: 883.0481340325063\n",
            "Sb: 1363080202047365.25\n"
          ]
        }
      ]
    },
    {
      "cell_type": "markdown",
      "source": [
        "#SNEDT"
      ],
      "metadata": {
        "id": "Uu-gdbOe46wM"
      }
    },
    {
      "cell_type": "code",
      "source": [
        "print(f'Tb: {Tb}')\n",
        "Tnedt = Tb + NEDT\n",
        "s_Tnedt = compute_sT(Tnedt)\n",
        "s_N = s_Tnedt - s_Tb\n",
        "print(f's_NEDT: {s_N:.2f}')\n",
        "s_NEDT = compute_s(theta, R, Ab, s_N)\n",
        "print(f'S_NEDT: {s_NEDT:.2f}')\n"
      ],
      "metadata": {
        "colab": {
          "base_uri": "https://localhost:8080/"
        },
        "id": "XnXPmttX4-t-",
        "outputId": "66032e8c-76a6-4ff2-faac-12dd8c33f2eb"
      },
      "execution_count": null,
      "outputs": [
        {
          "output_type": "stream",
          "name": "stdout",
          "text": [
            "Tb: 333.15\n",
            "T: 333.1941\n",
            "S_sum: 883.5269996696619\n",
            "s_NEDT: 0.48\n",
            "theta_deg: 20\n",
            "R: 460000\n",
            "A0: 5749.305639415529\n",
            "S_sum: 0.4788656371556499\n",
            "S_NEDT: 739180849029.05\n"
          ]
        }
      ]
    },
    {
      "cell_type": "markdown",
      "source": [
        "#Smix"
      ],
      "metadata": {
        "id": "grR8nvRN5d6O"
      }
    },
    {
      "cell_type": "code",
      "source": [
        "s_Tt= compute_sT(Tt)\n",
        "print(f'St: {s_Tt:.2f}')"
      ],
      "metadata": {
        "colab": {
          "base_uri": "https://localhost:8080/"
        },
        "id": "6ZOvLhDd5t8f",
        "outputId": "2bfd6ba9-7893-41dc-be48-f932aa6ed629"
      },
      "execution_count": null,
      "outputs": [
        {
          "output_type": "stream",
          "name": "stdout",
          "text": [
            "T: 433.15\n",
            "S_sum: 2322.8442263205716\n",
            "St: 2322.84\n"
          ]
        }
      ]
    },
    {
      "cell_type": "code",
      "source": [
        "s_t = compute_s(theta, R, At, s_Tt)\n",
        "print(f'St: {s_t:.2f}')"
      ],
      "metadata": {
        "colab": {
          "base_uri": "https://localhost:8080/"
        },
        "id": "wKd7JTPnAt6O",
        "outputId": "b1e81b25-21a8-4789-fd08-d8cf3dd39296"
      },
      "execution_count": null,
      "outputs": [
        {
          "output_type": "stream",
          "name": "stdout",
          "text": [
            "theta_deg: 20\n",
            "R: 460000\n",
            "A0: 100\n",
            "S_sum: 2322.8442263205716\n",
            "St: 62365114246135.16\n"
          ]
        }
      ]
    },
    {
      "cell_type": "code",
      "source": [
        "s_mix = (s_b *(( Ab - At)/Ab)) + s_t\n",
        "print(f'Smix: {s_mix:.2f}')"
      ],
      "metadata": {
        "colab": {
          "base_uri": "https://localhost:8080/"
        },
        "id": "2H-evODD5iWh",
        "outputId": "26f812d4-6b4d-46ce-dddb-38c1d13f5051"
      },
      "execution_count": null,
      "outputs": [
        {
          "output_type": "stream",
          "name": "stdout",
          "text": [
            "Smix: 1401736710636802.00\n"
          ]
        }
      ]
    },
    {
      "cell_type": "code",
      "source": [
        "print(f's_b: {s_b}')\n",
        "print(f's_t: {s_t}')\n",
        "print(f's_mix: {s_mix}')\n",
        "print(f's_NEDT: {s_NEDT}')"
      ],
      "metadata": {
        "colab": {
          "base_uri": "https://localhost:8080/"
        },
        "id": "AqG39OU6JC6k",
        "outputId": "83675833-94a2-4d0c-9e8e-0b345321fb38"
      },
      "execution_count": null,
      "outputs": [
        {
          "output_type": "stream",
          "name": "stdout",
          "text": [
            "s_b: 1363080202047365.2\n",
            "s_t: 62365114246135.164\n",
            "s_mix: 1401736710636802.0\n",
            "s_NEDT: 739180849029.0469\n"
          ]
        }
      ]
    },
    {
      "cell_type": "markdown",
      "source": [
        "#SNR"
      ],
      "metadata": {
        "id": "duIhrnc26yC_"
      }
    },
    {
      "cell_type": "code",
      "source": [
        "SNR = (s_mix - s_b) / s_NEDT\n",
        "print(f'Sb: {SNR:.2f}')"
      ],
      "metadata": {
        "id": "ClUOJ7k960gp",
        "outputId": "0565270d-4a4d-4566-ec2d-7e00a986792a",
        "colab": {
          "base_uri": "https://localhost:8080/"
        }
      },
      "execution_count": null,
      "outputs": [
        {
          "output_type": "stream",
          "name": "stdout",
          "text": [
            "Sb: 52.30\n"
          ]
        }
      ]
    },
    {
      "cell_type": "code",
      "source": [],
      "metadata": {
        "id": "k9VX2S-845Q3"
      },
      "execution_count": null,
      "outputs": []
    }
  ]
}