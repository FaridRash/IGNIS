{
  "nbformat": 4,
  "nbformat_minor": 0,
  "metadata": {
    "colab": {
      "provenance": [],
      "name": "Pierluca_SNR_Idea.ipynb",
      "authorship_tag": "ABX9TyNi9CmwO8+sCU0cqYHd3+Mz",
      "include_colab_link": true
    },
    "kernelspec": {
      "name": "python3",
      "display_name": "Python 3"
    },
    "language_info": {
      "name": "python"
    }
  },
  "cells": [
    {
      "cell_type": "markdown",
      "metadata": {
        "id": "view-in-github",
        "colab_type": "text"
      },
      "source": [
        "<a href=\"https://colab.research.google.com/github/FaridRash/IGNIS/blob/main/Pierluca_SNR_Idea.ipynb\" target=\"_parent\"><img src=\"https://colab.research.google.com/assets/colab-badge.svg\" alt=\"Open In Colab\"/></a>"
      ]
    },
    {
      "cell_type": "code",
      "source": [
        "\n",
        "\"\"\"\n",
        "Since we want to study the temperature difference over the fumarole and not to\n",
        "detect the fumarole, instead of calculating the SNR as a difference between the\n",
        "radiation of the fumarola - the radiation from the background in the same pixel\n",
        "and normalise that, we could consider the difference in intensity of radiation\n",
        "between the pixel containing the fumarola and the pixel near it. For this I mean,\n",
        "we consider the total radiation from the pixel of the fumarole (so the radiation\n",
        "of the fumarole + radiation of the background), than we consider the radiation\n",
        "of a pixel nearby that only has the background. We can divide the difference\n",
        "of these two and divide it by the signal we would receive by the NEDT detectable\n",
        "by the camera\n",
        "\"\"\""
      ],
      "metadata": {
        "colab": {
          "base_uri": "https://localhost:8080/",
          "height": 89
        },
        "id": "oGqA-AeqUU5L",
        "outputId": "470f8c01-fcb6-46e6-8947-ed29b1b45e05"
      },
      "execution_count": 1,
      "outputs": [
        {
          "output_type": "execute_result",
          "data": {
            "text/plain": [
              "'\\nSince we want to study the temperature difference over the fumarole and not to\\ndetect the fumarole, instead of calculating the SNR as a difference between the\\nradiation of the fumarola - the radiation from the background in the same pixel\\nand normalise that, we could consider the difference in intensity of radiation\\nbetween the pixel containing the fumarola and the pixel near it. For this I mean,\\nwe consider the total radiation from the pixel of the fumarole (so the radiation\\nof the fumarole + radiation of the background), than we consider the radiation\\nof a pixel nearby that only has the background. We can divide the difference\\nof these two and divide it by the signal we would receive by the NEDT detectable\\nby\\xa0the\\xa0camera\\n'"
            ],
            "application/vnd.google.colaboratory.intrinsic+json": {
              "type": "string"
            }
          },
          "metadata": {},
          "execution_count": 1
        }
      ]
    },
    {
      "cell_type": "code",
      "source": [
        "import numpy as np\n",
        "import matplotlib.pyplot as plt\n",
        "from ipywidgets import interact, FloatSlider"
      ],
      "metadata": {
        "id": "0iwD4CObnvix"
      },
      "execution_count": 2,
      "outputs": []
    },
    {
      "cell_type": "code",
      "source": [
        "c1 = 3.7418e8\n",
        "c2 = 1.4388e4\n",
        "h = 6.626e-34\n",
        "c = 3e8"
      ],
      "metadata": {
        "id": "4Ysz21QvnxB5"
      },
      "execution_count": 3,
      "outputs": []
    },
    {
      "cell_type": "code",
      "source": [
        "def compute_s(T, theta_deg, R, tau_a, A0):\n",
        "    cos_theta = np.cos(np.deg2rad(theta_deg))\n",
        "    M_lambda = c1 / (lambda_range**5 * (np.exp(c2 / (lambda_range * T)) - 1))\n",
        "    E_lambda = epsilon * M_lambda\n",
        "    S_lambda = lambda_range * E_lambda * tau_a * tau_0 * eta * delta_lambda\n",
        "    S_sum = np.sum(S_lambda)\n",
        "    print(f'S_Sum: {S_sum}')\n",
        "    S_total = (D**2 * t * cos_theta * A0) / (4 * R**2 * h * c) * S_sum\n",
        "    print(f'D: {D}')\n",
        "    print(f't: {t}')\n",
        "    print(f'cos_theta: {cos_theta}')\n",
        "    print(f'A0: {A0}')\n",
        "    print(f'R: {R}')\n",
        "    print(f'h: {h}')\n",
        "    print(f'c: {c}')\n",
        "    print(f'(D**2 * t * cos_theta * A0): {(D**2 * t * cos_theta * A0):.5f}')\n",
        "    print(f'4 * R**2 * h * c: {4 * R**2 * h * c}')\n",
        "    print(f'S_sum: {S_sum}')\n",
        "    return S_total\n",
        "\n"
      ],
      "metadata": {
        "id": "Tb6LLUYrbDY9"
      },
      "execution_count": 68,
      "outputs": []
    },
    {
      "cell_type": "code",
      "source": [],
      "metadata": {
        "id": "qw-INrqHhXed"
      },
      "execution_count": 68,
      "outputs": []
    },
    {
      "cell_type": "code",
      "source": [
        "epsilon = 0.95\n",
        "tau_0 = 0.89\n",
        "eta = 0.7\n",
        "t = 0.01\n",
        "focal_length = 72.8\n",
        "F_number = 1.05\n",
        "D = (focal_length / F_number) / 1000\n",
        "\n",
        "lambda_range = np.arange(8, 12.1, 0.1)\n",
        "delta_lambda = 0.1\n",
        "\n",
        "NEDT = 44.1"
      ],
      "metadata": {
        "id": "MUREo2Icnz7c"
      },
      "execution_count": 69,
      "outputs": []
    },
    {
      "cell_type": "code",
      "source": [
        "def GSD(h):\n",
        "  return (h * 0.000012 / 0.0728) ** 2"
      ],
      "metadata": {
        "id": "cjZ144KKZYyx"
      },
      "execution_count": 70,
      "outputs": []
    },
    {
      "cell_type": "code",
      "source": [
        "At = 100"
      ],
      "metadata": {
        "id": "KJuC7GEr3pyq"
      },
      "execution_count": 71,
      "outputs": []
    },
    {
      "cell_type": "markdown",
      "source": [
        "#variables"
      ],
      "metadata": {
        "id": "0cI2QA5y4MoZ"
      }
    },
    {
      "cell_type": "code",
      "source": [
        "Tb = 293.15\n",
        "R = 150000\n",
        "theta = 0\n",
        "tau_a = 0.5"
      ],
      "metadata": {
        "id": "aQxkMz0137p6"
      },
      "execution_count": 72,
      "outputs": []
    },
    {
      "cell_type": "code",
      "source": [
        "(4 * R**2 * h * c)"
      ],
      "metadata": {
        "id": "jVPdkGhQhae6",
        "outputId": "90b7f885-6b25-4091-8a3c-7bd794b0fc0a",
        "colab": {
          "base_uri": "https://localhost:8080/"
        }
      },
      "execution_count": 73,
      "outputs": [
        {
          "output_type": "execute_result",
          "data": {
            "text/plain": [
              "1.78902e-14"
            ]
          },
          "metadata": {},
          "execution_count": 73
        }
      ]
    },
    {
      "cell_type": "code",
      "source": [],
      "metadata": {
        "id": "vcCYlKd04WN6"
      },
      "execution_count": 73,
      "outputs": []
    },
    {
      "cell_type": "markdown",
      "source": [
        "#S(Tb)"
      ],
      "metadata": {
        "id": "uWf1Euak4dqj"
      }
    },
    {
      "cell_type": "code",
      "source": [
        "Ab = GSD(R)\n",
        "s_b = compute_s(Tb, theta, R, tau_a, Ab)\n",
        "print(f'Sb: {s_b:.2f}, Ab: {Ab}')"
      ],
      "metadata": {
        "colab": {
          "base_uri": "https://localhost:8080/"
        },
        "id": "CEdMKInL4iK2",
        "outputId": "ffedf53c-b146-47c6-e80c-0b389eee3cf9"
      },
      "execution_count": 74,
      "outputs": [
        {
          "output_type": "stream",
          "name": "stdout",
          "text": [
            "S_Sum: 326.7424650603577\n",
            "D: 0.06933333333333333\n",
            "t: 0.01\n",
            "cos_theta: 1.0\n",
            "A0: 611.3392102403092\n",
            "R: 150000\n",
            "h: 6.626e-34\n",
            "c: 300000000.0\n",
            "(D**2 * t * cos_theta * A0): 0.02939\n",
            "4 * R**2 * h * c: 1.78902e-14\n",
            "S_sum: 326.7424650603577\n",
            "Sb: 536731145802222.50, Ab: 611.3392102403092\n"
          ]
        }
      ]
    },
    {
      "cell_type": "markdown",
      "source": [
        "#S(NEDT)"
      ],
      "metadata": {
        "id": "Uu-gdbOe46wM"
      }
    },
    {
      "cell_type": "code",
      "source": [
        "s_NEDT = (s_b * NEDT) - s_b\n",
        "print(f'Sb: {s_NEDT:.2f}')"
      ],
      "metadata": {
        "colab": {
          "base_uri": "https://localhost:8080/"
        },
        "id": "XnXPmttX4-t-",
        "outputId": "a345abbc-616f-4a15-e060-02f1875f4ee6"
      },
      "execution_count": 75,
      "outputs": [
        {
          "output_type": "stream",
          "name": "stdout",
          "text": [
            "Sb: 23133112384075788.00\n"
          ]
        }
      ]
    },
    {
      "cell_type": "markdown",
      "source": [
        "#S(Tmix)"
      ],
      "metadata": {
        "id": "grR8nvRN5d6O"
      }
    },
    {
      "cell_type": "code",
      "source": [
        "Tt = 433.15\n",
        "At = 100\n",
        "s_t = compute_s(Tt, theta, R, tau_a, At)\n",
        "print(f'St: {s_t:.2f}')"
      ],
      "metadata": {
        "colab": {
          "base_uri": "https://localhost:8080/"
        },
        "id": "6ZOvLhDd5t8f",
        "outputId": "5d181ed0-0eb3-4665-b4f4-b62da838a8c8"
      },
      "execution_count": 79,
      "outputs": [
        {
          "output_type": "stream",
          "name": "stdout",
          "text": [
            "S_Sum: 1672.5130561866306\n",
            "D: 0.06933333333333333\n",
            "t: 0.01\n",
            "cos_theta: 1.0\n",
            "A0: 100\n",
            "R: 150000\n",
            "h: 6.626e-34\n",
            "c: 300000000.0\n",
            "(D**2 * t * cos_theta * A0): 0.00481\n",
            "4 * R**2 * h * c: 1.78902e-14\n",
            "S_sum: 1672.5130561866306\n",
            "St: 449405601718994.44\n"
          ]
        }
      ]
    },
    {
      "cell_type": "code",
      "source": [
        "s_mix = ((At * s_t) - (Ab * s_b)) / (At + Ab)\n",
        "print(f'Smix: {s_mix:.2f}')"
      ],
      "metadata": {
        "colab": {
          "base_uri": "https://localhost:8080/"
        },
        "id": "2H-evODD5iWh",
        "outputId": "7189a298-7795-49e3-9442-4f1f7db283a1"
      },
      "execution_count": 80,
      "outputs": [
        {
          "output_type": "stream",
          "name": "stdout",
          "text": [
            "Smix: -398100133575569.94\n"
          ]
        }
      ]
    },
    {
      "cell_type": "markdown",
      "source": [
        "#SNR"
      ],
      "metadata": {
        "id": "duIhrnc26yC_"
      }
    },
    {
      "cell_type": "code",
      "source": [
        "SNR = (s_mix - s_b) / s_NEDT\n",
        "print(f'Sb: {SNR:.2f}')"
      ],
      "metadata": {
        "id": "ClUOJ7k960gp",
        "outputId": "6cd5f194-8a3b-4826-c095-bc3a78a60944",
        "colab": {
          "base_uri": "https://localhost:8080/"
        }
      },
      "execution_count": 78,
      "outputs": [
        {
          "output_type": "stream",
          "name": "stdout",
          "text": [
            "Sb: -0.04\n"
          ]
        }
      ]
    },
    {
      "cell_type": "code",
      "source": [],
      "metadata": {
        "id": "yYeAH4pT7oWz"
      },
      "execution_count": 13,
      "outputs": []
    }
  ]
}