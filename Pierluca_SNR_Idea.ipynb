{
  "nbformat": 4,
  "nbformat_minor": 0,
  "metadata": {
    "colab": {
      "provenance": [],
      "name": "Pierluca_SNR_Idea.ipynb",
      "authorship_tag": "ABX9TyNjIiDVXN1jlKtfgY8coqNZ",
      "include_colab_link": true
    },
    "kernelspec": {
      "name": "python3",
      "display_name": "Python 3"
    },
    "language_info": {
      "name": "python"
    }
  },
  "cells": [
    {
      "cell_type": "markdown",
      "metadata": {
        "id": "view-in-github",
        "colab_type": "text"
      },
      "source": [
        "<a href=\"https://colab.research.google.com/github/FaridRash/IGNIS/blob/main/Pierluca_SNR_Idea.ipynb\" target=\"_parent\"><img src=\"https://colab.research.google.com/assets/colab-badge.svg\" alt=\"Open In Colab\"/></a>"
      ]
    },
    {
      "cell_type": "code",
      "source": [
        "\n",
        "\"\"\"\n",
        "Since we want to study the temperature difference over the fumarole and not to\n",
        "detect the fumarole, instead of calculating the SNR as a difference between the\n",
        "radiation of the fumarola - the radiation from the background in the same pixel\n",
        "and normalise that, we could consider the difference in intensity of radiation\n",
        "between the pixel containing the fumarola and the pixel near it. For this I mean,\n",
        "we consider the total radiation from the pixel of the fumarole (so the radiation\n",
        "of the fumarole + radiation of the background), than we consider the radiation\n",
        "of a pixel nearby that only has the background. We can divide the difference\n",
        "of these two and divide it by the signal we would receive by the NEDT detectable\n",
        "by the camera\n",
        "\"\"\""
      ],
      "metadata": {
        "colab": {
          "base_uri": "https://localhost:8080/",
          "height": 104
        },
        "id": "oGqA-AeqUU5L",
        "outputId": "1e6f6053-4ecd-4f22-e116-d57a8fd2139d"
      },
      "execution_count": 1,
      "outputs": [
        {
          "output_type": "execute_result",
          "data": {
            "text/plain": [
              "'\\nSince we want to study the temperature difference over the fumarole and not to\\ndetect the fumarole, instead of calculating the SNR as a difference between the\\nradiation of the fumarola - the radiation from the background in the same pixel\\nand normalise that, we could consider the difference in intensity of radiation\\nbetween the pixel containing the fumarola and the pixel near it. For this I mean,\\nwe consider the total radiation from the pixel of the fumarole (so the radiation\\nof the fumarole + radiation of the background), than we consider the radiation\\nof a pixel nearby that only has the background. We can divide the difference\\nof these two and divide it by the signal we would receive by the NEDT detectable\\nby\\xa0the\\xa0camera\\n'"
            ],
            "application/vnd.google.colaboratory.intrinsic+json": {
              "type": "string"
            }
          },
          "metadata": {},
          "execution_count": 1
        }
      ]
    },
    {
      "cell_type": "code",
      "source": [
        "import numpy as np\n",
        "import matplotlib.pyplot as plt\n",
        "from ipywidgets import interact, FloatSlider"
      ],
      "metadata": {
        "id": "0iwD4CObnvix"
      },
      "execution_count": 2,
      "outputs": []
    },
    {
      "cell_type": "code",
      "source": [
        "c1 = 3.7418e8\n",
        "c2 = 1.4388e4\n",
        "h = 6.626e-34\n",
        "c = 3e8"
      ],
      "metadata": {
        "id": "4Ysz21QvnxB5"
      },
      "execution_count": 3,
      "outputs": []
    },
    {
      "cell_type": "code",
      "source": [
        "epsilon = 0.95\n",
        "tau_0 = 0.89\n",
        "eta = 0.7\n",
        "t = 0.01\n",
        "focal_length = 72.8\n",
        "F_number = 1.05\n",
        "D = (focal_length / F_number) / 1000\n",
        "\n",
        "lambda_range = np.arange(8, 12.1, 0.1)\n",
        "delta_lambda = 0.1\n",
        "\n",
        "NEDT = 0.0441"
      ],
      "metadata": {
        "id": "mpAPNyhb0tvI"
      },
      "execution_count": 4,
      "outputs": []
    },
    {
      "cell_type": "code",
      "source": [
        "Tb = 293.15\n",
        "R = 460000\n",
        "theta = 20\n",
        "tau_a = 0.5\n",
        "Tt = 433.15\n",
        "At = 100"
      ],
      "metadata": {
        "id": "WMI05q0F0wkO"
      },
      "execution_count": 39,
      "outputs": []
    },
    {
      "cell_type": "code",
      "source": [
        "def compute_sT(T):\n",
        "    M_lambda = c1 / (lambda_range**5 * (np.exp(c2 / (lambda_range * T)) - 1))\n",
        "    E_lambda = epsilon * M_lambda\n",
        "    S_lambda = lambda_range * E_lambda * tau_a * tau_0 * eta * delta_lambda\n",
        "    S_sum = np.sum(S_lambda)\n",
        "    print(f'T: {T}')\n",
        "    print(f'S_sum: {S_sum}')\n",
        "    return S_sum"
      ],
      "metadata": {
        "id": "Tb6LLUYrbDY9"
      },
      "execution_count": 40,
      "outputs": []
    },
    {
      "cell_type": "code",
      "source": [
        "def compute_s(theta_deg, R, A0, S_sum):\n",
        "  cos_theta = np.cos(np.deg2rad(theta_deg))\n",
        "  S_total = (D**2 * t * cos_theta * A0) / (4 * R**2 * h * c) * S_sum\n",
        "  return S_total"
      ],
      "metadata": {
        "id": "MUREo2Icnz7c"
      },
      "execution_count": 41,
      "outputs": []
    },
    {
      "cell_type": "code",
      "source": [
        "def GSD(h):\n",
        "  return (h * 0.000012 / 0.0728) ** 2"
      ],
      "metadata": {
        "id": "cjZ144KKZYyx"
      },
      "execution_count": 42,
      "outputs": []
    },
    {
      "cell_type": "markdown",
      "source": [
        "#S(Tb)"
      ],
      "metadata": {
        "id": "uWf1Euak4dqj"
      }
    },
    {
      "cell_type": "code",
      "source": [
        "Ab = GSD(R)\n",
        "s_Tb= compute_sT(Tb)\n",
        "print(f'Sb: {s_Tb:.2f}')"
      ],
      "metadata": {
        "colab": {
          "base_uri": "https://localhost:8080/"
        },
        "id": "CEdMKInL4iK2",
        "outputId": "94b50905-b485-40e3-f75f-dc62522ae949"
      },
      "execution_count": 43,
      "outputs": [
        {
          "output_type": "stream",
          "name": "stdout",
          "text": [
            "T: 293.15\n",
            "S_sum: 326.7424650603577\n",
            "Sb: 326.74\n"
          ]
        }
      ]
    },
    {
      "cell_type": "code",
      "source": [
        "s_b = compute_s(theta, R, Ab, s_Tb)\n",
        "print(f'Sb: {s_b:.2f}')"
      ],
      "metadata": {
        "colab": {
          "base_uri": "https://localhost:8080/"
        },
        "id": "UYDkfaGq3SHC",
        "outputId": "7cb0f672-b80d-4676-981e-1773392110e1"
      },
      "execution_count": 44,
      "outputs": [
        {
          "output_type": "stream",
          "name": "stdout",
          "text": [
            "Sb: 504362297056313.81\n"
          ]
        }
      ]
    },
    {
      "cell_type": "markdown",
      "source": [
        "#S(NEDT)"
      ],
      "metadata": {
        "id": "Uu-gdbOe46wM"
      }
    },
    {
      "cell_type": "code",
      "source": [
        "print(f'Tb: {Tb}')\n",
        "Tnedt = Tb + NEDT\n",
        "s_Tnedt = compute_sT(Tnedt)\n",
        "s_N = s_Tnedt - s_Tb\n",
        "print(f's_NEDT: {s_N:.2f}')\n",
        "s_NEDT = compute_s(theta, R, Ab, s_N)\n",
        "print(f'S_NEDT: {s_NEDT:.2f}')\n"
      ],
      "metadata": {
        "colab": {
          "base_uri": "https://localhost:8080/"
        },
        "id": "XnXPmttX4-t-",
        "outputId": "ac19e41d-3f08-4dbf-fe48-5ccc08911b96"
      },
      "execution_count": 45,
      "outputs": [
        {
          "output_type": "stream",
          "name": "stdout",
          "text": [
            "Tb: 293.15\n",
            "T: 293.1941\n",
            "S_sum: 326.9856524253969\n",
            "s_NEDT: 0.24\n",
            "S_NEDT: 375385972630.12\n"
          ]
        }
      ]
    },
    {
      "cell_type": "markdown",
      "source": [
        "#S(Tmix)"
      ],
      "metadata": {
        "id": "grR8nvRN5d6O"
      }
    },
    {
      "cell_type": "code",
      "source": [
        "s_Tt= compute_sT(Tt)\n",
        "print(f'St: {s_Tt:.2f}')"
      ],
      "metadata": {
        "colab": {
          "base_uri": "https://localhost:8080/"
        },
        "id": "6ZOvLhDd5t8f",
        "outputId": "53cf7a9d-3101-4786-dfb4-529f1ade93eb"
      },
      "execution_count": 46,
      "outputs": [
        {
          "output_type": "stream",
          "name": "stdout",
          "text": [
            "T: 433.15\n",
            "S_sum: 1672.5130561866306\n",
            "St: 1672.51\n"
          ]
        }
      ]
    },
    {
      "cell_type": "code",
      "source": [
        "s_t = compute_s(theta, R, At, s_Tt)\n",
        "print(f'St: {s_t:.2f}')"
      ],
      "metadata": {
        "colab": {
          "base_uri": "https://localhost:8080/"
        },
        "id": "wKd7JTPnAt6O",
        "outputId": "daa100a4-dcc5-47d6-cfda-751cdd0693e4"
      },
      "execution_count": 47,
      "outputs": [
        {
          "output_type": "stream",
          "name": "stdout",
          "text": [
            "St: 44904633141265.48\n"
          ]
        }
      ]
    },
    {
      "cell_type": "code",
      "source": [
        "s_mix = (s_b *(( Ab - At)/Ab)) + s_t\n",
        "print(f'Smix: {s_mix:.2f}')"
      ],
      "metadata": {
        "colab": {
          "base_uri": "https://localhost:8080/"
        },
        "id": "2H-evODD5iWh",
        "outputId": "d487ca37-6844-43fc-c71c-9188fd717e47"
      },
      "execution_count": 48,
      "outputs": [
        {
          "output_type": "stream",
          "name": "stdout",
          "text": [
            "Smix: 540494352625801.69\n"
          ]
        }
      ]
    },
    {
      "cell_type": "code",
      "source": [
        "print(f's_b: {s_b}')\n",
        "print(f's_t: {s_t}')\n",
        "print(f's_mix: {s_mix}')\n",
        "print(f's_NEDT: {s_NEDT}')\n",
        "print(f's_b + s_t: {(s_b + s_t):.2f}')"
      ],
      "metadata": {
        "colab": {
          "base_uri": "https://localhost:8080/"
        },
        "id": "AqG39OU6JC6k",
        "outputId": "530b74f6-e2c4-42c6-9b8d-f569034fb1b7"
      },
      "execution_count": 49,
      "outputs": [
        {
          "output_type": "stream",
          "name": "stdout",
          "text": [
            "s_b: 504362297056313.8\n",
            "s_t: 44904633141265.48\n",
            "s_mix: 540494352625801.7\n",
            "s_NEDT: 375385972630.121\n",
            "s_b + s_t: 549266930197579.31\n"
          ]
        }
      ]
    },
    {
      "cell_type": "markdown",
      "source": [
        "#SNR"
      ],
      "metadata": {
        "id": "duIhrnc26yC_"
      }
    },
    {
      "cell_type": "code",
      "source": [
        "SNR = (s_mix - s_b) / s_NEDT\n",
        "print(f'Sb: {SNR:.2f}')"
      ],
      "metadata": {
        "id": "ClUOJ7k960gp",
        "outputId": "a98d0d3f-8413-4c8b-e89d-1859582e1e07",
        "colab": {
          "base_uri": "https://localhost:8080/"
        }
      },
      "execution_count": 50,
      "outputs": [
        {
          "output_type": "stream",
          "name": "stdout",
          "text": [
            "Sb: 96.25\n"
          ]
        }
      ]
    },
    {
      "cell_type": "code",
      "source": [],
      "metadata": {
        "id": "TljhGu0tMPRm"
      },
      "execution_count": null,
      "outputs": []
    }
  ]
}