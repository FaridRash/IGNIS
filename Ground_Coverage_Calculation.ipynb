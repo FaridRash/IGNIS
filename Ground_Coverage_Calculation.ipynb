{
  "nbformat": 4,
  "nbformat_minor": 0,
  "metadata": {
    "colab": {
      "provenance": []
    },
    "kernelspec": {
      "name": "python3",
      "display_name": "Python 3"
    },
    "language_info": {
      "name": "python"
    }
  },
  "cells": [
    {
      "cell_type": "code",
      "source": [
        "import math\n",
        "import folium\n",
        "from folium import plugins"
      ],
      "metadata": {
        "id": "5SQ_Qfovue-u"
      },
      "execution_count": 1,
      "outputs": []
    },
    {
      "cell_type": "code",
      "source": [
        "class lens:\n",
        "    def __init__(self, label, focal_length, width, heigth, pixel_size):\n",
        "        self.label = label\n",
        "        self.focal_length = focal_length\n",
        "        self.width = width\n",
        "        self.heigth = heigth\n",
        "        self.pixel_size = pixel_size\n",
        "\n",
        "    def fov(self):\n",
        "        self.h_fov = 2 * math.degrees(math.atan(self.width * self.pixel_size / (2 * self.focal_length)))\n",
        "        self.v_fov = 2 * math.degrees(math.atan(self.heigth * self.pixel_size / (2 * self.focal_length)))\n",
        "\n",
        "    def __repr__(self):\n",
        "        return f\"lens({self.label}, Focal_length:{self.focal_length}, Width:{self.width}, Heigth:{self.heigth}, Pixel Size:{self.pixel_size}, H-FoV:{self.h_fov}, V-FoV:{self.v_fov})\"\n"
      ],
      "metadata": {
        "id": "eNOY_Rkppt19"
      },
      "execution_count": 17,
      "outputs": []
    },
    {
      "cell_type": "code",
      "source": [
        "lens_6_degrees = lens(\"6_degrees\", 72.8, 640, 512, 0.012)\n",
        "lens_8_degrees = lens(\"8_degrees\", 55, 640, 512, 0.012)\n",
        "lens_6_degrees.fov()\n",
        "lens_8_degrees.fov()"
      ],
      "metadata": {
        "id": "lCu_APCpqzx7"
      },
      "execution_count": 18,
      "outputs": []
    },
    {
      "cell_type": "code",
      "source": [
        "lens_6_degrees, lens_8_degrees"
      ],
      "metadata": {
        "colab": {
          "base_uri": "https://localhost:8080/"
        },
        "id": "1JYXOq_DraJW",
        "outputId": "0f51d1f6-adeb-4bc8-d5c8-82e33fd31137"
      },
      "execution_count": 19,
      "outputs": [
        {
          "output_type": "execute_result",
          "data": {
            "text/plain": [
              "(lens(6_degrees, Focal_length:72.8, Width:640, Heigth:512, Pixel Size:0.012, H-FoV:6.038793552433804, V-FoV:4.832644878467438),\n",
              " lens(8_degrees, Focal_length:55, Width:640, Heigth:512, Pixel Size:0.012, H-FoV:7.987612382993679, V-FoV:6.393815971102685))"
            ]
          },
          "metadata": {},
          "execution_count": 19
        }
      ]
    },
    {
      "cell_type": "code",
      "source": [
        "# Ground Coverage=2×(altitude×tan(FoV/2))\n",
        "altitude = 460\n",
        "h_ground_coverage_6_degrees = round((2 * altitude * math.tan(math.radians(lens_6_degrees.h_fov / 2))), 2)\n",
        "v_ground_coverage_6_degrees = round((2 * altitude * math.tan(math.radians(lens_6_degrees.v_fov / 2))), 2)\n",
        "h_ground_coverage_8_degrees = round((2 * altitude * math.tan(math.radians(lens_8_degrees.h_fov / 2))), 2)\n",
        "v_ground_coverage_8_degrees = round((2 * altitude * math.tan(math.radians(lens_8_degrees.v_fov / 2))), 2)"
      ],
      "metadata": {
        "id": "pfCF4dWM9v2d"
      },
      "execution_count": 20,
      "outputs": []
    },
    {
      "cell_type": "code",
      "source": [
        "h_ground_coverage_6_degrees, v_ground_coverage_6_degrees, h_ground_coverage_8_degrees, v_ground_coverage_8_degrees"
      ],
      "metadata": {
        "colab": {
          "base_uri": "https://localhost:8080/"
        },
        "id": "p2_5CjQ595nR",
        "outputId": "20f0aeb9-8e91-4783-ffae-8803e3ace938"
      },
      "execution_count": 21,
      "outputs": [
        {
          "output_type": "execute_result",
          "data": {
            "text/plain": [
              "(48.53, 38.82, 64.23, 51.39)"
            ]
          },
          "metadata": {},
          "execution_count": 21
        }
      ]
    },
    {
      "cell_type": "code",
      "source": [
        "# Define a function to calculate degrees per km for latitude and longitude\n",
        "def km_to_degrees(lat_km, lon_km):\n",
        "    # Approximation, 1 degree latitude ~ 111 km, 1 degree longitude ~ 111 km * cos(latitude)\n",
        "    lat_deg = lat_km / 111.32  # Latitude degrees per km\n",
        "    lon_deg = lon_km / (111.32 * math.cos(math.radians(0)))  # Longitude degrees per km at equator\n",
        "    return lat_deg, lon_deg"
      ],
      "metadata": {
        "id": "YlYC-r_vtMw0"
      },
      "execution_count": 22,
      "outputs": []
    },
    {
      "cell_type": "code",
      "source": [
        "# 40°49'35\"N, 14°08'20\"E (Campi Flegrei)\n",
        "latitude, longitude = 40.82639, 14.13889"
      ],
      "metadata": {
        "id": "mPZFgfoh4Z0n"
      },
      "execution_count": 23,
      "outputs": []
    },
    {
      "cell_type": "code",
      "source": [
        "# Create the map centered at the given coordinates\n",
        "m = folium.Map(location=[latitude, longitude], zoom_start=12)"
      ],
      "metadata": {
        "id": "Hm6kRnP54oV-"
      },
      "execution_count": 24,
      "outputs": []
    },
    {
      "cell_type": "code",
      "source": [
        "# Draw the coverage for the 6° FOV (72 mm)\n",
        "h_coverage_6 = h_ground_coverage_6_degrees\n",
        "v_coverage_6 = v_ground_coverage_6_degrees\n",
        "\n",
        "# Convert km to degrees\n",
        "lat_deg_6, lon_deg_6 = km_to_degrees(v_coverage_6, h_coverage_6)\n",
        "\n",
        "# Create a rectangle for 6° FOV\n",
        "folium.Rectangle(\n",
        "    bounds=[(latitude - lat_deg_6 / 2, longitude - lon_deg_6 / 2),\n",
        "            (latitude + lat_deg_6 / 2, longitude + lon_deg_6 / 2)],\n",
        "    color=\"blue\", weight=2, fill=True, fill_opacity=0.3\n",
        ").add_to(m)"
      ],
      "metadata": {
        "colab": {
          "base_uri": "https://localhost:8080/"
        },
        "id": "XlOyPnZ9_BAt",
        "outputId": "5bf1c1bd-a64b-4d51-d076-8ccd3bcdff14"
      },
      "execution_count": 25,
      "outputs": [
        {
          "output_type": "execute_result",
          "data": {
            "text/plain": [
              "<folium.vector_layers.Rectangle at 0x7be8acd06f50>"
            ]
          },
          "metadata": {},
          "execution_count": 25
        }
      ]
    },
    {
      "cell_type": "code",
      "source": [
        "lat_deg_6, lon_deg_6"
      ],
      "metadata": {
        "colab": {
          "base_uri": "https://localhost:8080/"
        },
        "id": "94fradp8MRfI",
        "outputId": "128191ca-9c65-49af-8d79-6bff8d8e6f7f"
      },
      "execution_count": 26,
      "outputs": [
        {
          "output_type": "execute_result",
          "data": {
            "text/plain": [
              "(0.3487243981315128, 0.43595041322314054)"
            ]
          },
          "metadata": {},
          "execution_count": 26
        }
      ]
    },
    {
      "cell_type": "code",
      "source": [
        "# Draw the coverage for the 8° FOV (55 mm)\n",
        "h_coverage_8 = h_ground_coverage_8_degrees\n",
        "v_coverage_8 = v_ground_coverage_8_degrees\n",
        "\n",
        "# Convert km to degrees\n",
        "lat_deg_8, lon_deg_8 = km_to_degrees(v_coverage_8, h_coverage_8)\n",
        "\n",
        "# Create a rectangle for 8° FOV\n",
        "folium.Rectangle(\n",
        "    bounds=[(latitude - lat_deg_8 / 2, longitude - lon_deg_8 / 2),\n",
        "            (latitude + lat_deg_8 / 2, longitude + lon_deg_8 / 2)],\n",
        "    color=\"red\", weight=2, fill=True, fill_opacity=0.3\n",
        ").add_to(m)"
      ],
      "metadata": {
        "colab": {
          "base_uri": "https://localhost:8080/"
        },
        "id": "LnjpSD1Q_Xne",
        "outputId": "9a124b32-8363-4540-a704-bfb9faa3c6ff"
      },
      "execution_count": 27,
      "outputs": [
        {
          "output_type": "execute_result",
          "data": {
            "text/plain": [
              "<folium.vector_layers.Rectangle at 0x7be8abe779d0>"
            ]
          },
          "metadata": {},
          "execution_count": 27
        }
      ]
    },
    {
      "cell_type": "code",
      "source": [
        "folium.Marker([latitude, longitude], popup=\"Satellite Location\").add_to(m)"
      ],
      "metadata": {
        "colab": {
          "base_uri": "https://localhost:8080/"
        },
        "id": "qSaQreOS_NDV",
        "outputId": "22982223-211f-4972-c390-30d84617ff6b"
      },
      "execution_count": 28,
      "outputs": [
        {
          "output_type": "execute_result",
          "data": {
            "text/plain": [
              "<folium.map.Marker at 0x7be8ac066a50>"
            ]
          },
          "metadata": {},
          "execution_count": 28
        }
      ]
    },
    {
      "cell_type": "code",
      "source": [
        "folium.LayerControl().add_to(m)"
      ],
      "metadata": {
        "colab": {
          "base_uri": "https://localhost:8080/"
        },
        "id": "6Rp-e_BA_fuQ",
        "outputId": "d1b6a8b3-ab38-4308-aed6-7bfa3843c654"
      },
      "execution_count": 29,
      "outputs": [
        {
          "output_type": "execute_result",
          "data": {
            "text/plain": [
              "<folium.map.LayerControl at 0x7be8ab3b56d0>"
            ]
          },
          "metadata": {},
          "execution_count": 29
        }
      ]
    },
    {
      "cell_type": "code",
      "source": [
        "m.save('satellite_coverage_map_centered_Mine.html')"
      ],
      "metadata": {
        "id": "7xcwyX0c_hV9"
      },
      "execution_count": 30,
      "outputs": []
    },
    {
      "cell_type": "code",
      "source": [],
      "metadata": {
        "id": "doRcocQX_jLQ"
      },
      "execution_count": 30,
      "outputs": []
    }
  ]
}