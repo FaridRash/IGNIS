{
  "nbformat": 4,
  "nbformat_minor": 0,
  "metadata": {
    "colab": {
      "provenance": []
    },
    "kernelspec": {
      "name": "python3",
      "display_name": "Python 3"
    },
    "language_info": {
      "name": "python"
    }
  },
  "cells": [
    {
      "cell_type": "code",
      "source": [
        "import math"
      ],
      "metadata": {
        "id": "5SQ_Qfovue-u"
      },
      "execution_count": 1,
      "outputs": []
    },
    {
      "cell_type": "code",
      "source": [
        "class lens:\n",
        "    def __init__(self, label, focal_length, width, heigth, pixel_size):\n",
        "        self.label = label\n",
        "        self.focal_length = focal_length\n",
        "        self.width = width\n",
        "        self.heigth = heigth\n",
        "        self.pixel_size = pixel_size\n",
        "\n",
        "    def fov(self):\n",
        "        self.h_fov = 2 * math.degrees(math.atan(self.heigth * self.pixel_size / (2 * self.focal_length)))\n",
        "        self.v_fov = 2 * math.degrees(math.atan(self.width * self.pixel_size / (2 * self.focal_length)))\n",
        "\n",
        "    def __repr__(self):\n",
        "        return f\"lens({self.label}, Focal_length:{self.focal_length}, Width:{self.width}, Heigth:{self.heigth}, Pixel Size:{self.pixel_size}, H-FoV:{self.h_fov}, V-FoV:{self.v_fov})\"\n"
      ],
      "metadata": {
        "id": "eNOY_Rkppt19"
      },
      "execution_count": 43,
      "outputs": []
    },
    {
      "cell_type": "code",
      "source": [
        "class rectangular_prism:\n",
        "    def __init__(self, lens, width, heigth, altitude):\n",
        "        self.lens = lens\n",
        "        self.width = width\n",
        "        self.heigth = heigth\n",
        "        self.altitude = altitude\n",
        "\n",
        "    def ground_coverage(self):\n",
        "      # Ground Coverage=2×(altitude×tan(FoV/2))\n",
        "        self.h_ground_coverage = 2 * self.altitude * math.tan(math.radians(self.lens.h_fov / 2))\n",
        "        self.v_ground_coverage = 2 * self.altitude * math.tan(math.radians(self.lens.v_fov / 2))"
      ],
      "metadata": {
        "id": "g8uDdOcXyhLB"
      },
      "execution_count": 44,
      "outputs": []
    },
    {
      "cell_type": "code",
      "source": [
        "lens_6_degrees = lens(\"6_degrees\", 72.8, 640, 512, 0.012)\n",
        "lens_8_degrees = lens(\"8_degrees\", 55, 640, 512, 0.012)\n",
        "lens_6_degrees.fov()\n",
        "lens_8_degrees.fov()"
      ],
      "metadata": {
        "id": "lCu_APCpqzx7"
      },
      "execution_count": 45,
      "outputs": []
    },
    {
      "cell_type": "code",
      "source": [
        "lens_6_degrees, lens_8_degrees"
      ],
      "metadata": {
        "colab": {
          "base_uri": "https://localhost:8080/"
        },
        "id": "1JYXOq_DraJW",
        "outputId": "2159ac3a-0711-4f87-bdd6-9628a73d980b"
      },
      "execution_count": 46,
      "outputs": [
        {
          "output_type": "execute_result",
          "data": {
            "text/plain": [
              "(lens(6_degrees, Focal_length:72.8, Width:640, Heigth:512, Pixel Size:0.012, H-FoV:4.832644878467438, V-FoV:6.038793552433804),\n",
              " lens(8_degrees, Focal_length:55, Width:640, Heigth:512, Pixel Size:0.012, H-FoV:6.393815971102685, V-FoV:7.987612382993679))"
            ]
          },
          "metadata": {},
          "execution_count": 46
        }
      ]
    },
    {
      "cell_type": "code",
      "source": [],
      "metadata": {
        "id": "YlYC-r_vtMw0"
      },
      "execution_count": null,
      "outputs": []
    }
  ]
}