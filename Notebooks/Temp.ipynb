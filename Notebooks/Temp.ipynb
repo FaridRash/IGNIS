{
  "nbformat": 4,
  "nbformat_minor": 0,
  "metadata": {
    "colab": {
      "provenance": []
    },
    "kernelspec": {
      "name": "python3",
      "display_name": "Python 3"
    },
    "language_info": {
      "name": "python"
    }
  },
  "cells": [
    {
      "cell_type": "code",
      "source": [
        "import pandas as pd"
      ],
      "metadata": {
        "id": "7Z0h0MmxCS2H"
      },
      "execution_count": 1,
      "outputs": []
    },
    {
      "cell_type": "code",
      "source": [
        "!pip install \"cdsapi>=0.7.4\""
      ],
      "metadata": {
        "colab": {
          "base_uri": "https://localhost:8080/"
        },
        "id": "R-QzQptwtbEW",
        "outputId": "d4856488-bf01-4bc5-f363-07504266d845"
      },
      "execution_count": 2,
      "outputs": [
        {
          "output_type": "stream",
          "name": "stdout",
          "text": [
            "Collecting cdsapi>=0.7.4\n",
            "  Downloading cdsapi-0.7.6-py2.py3-none-any.whl.metadata (3.0 kB)\n",
            "Collecting ecmwf-datastores-client (from cdsapi>=0.7.4)\n",
            "  Downloading ecmwf_datastores_client-0.1.0-py3-none-any.whl.metadata (21 kB)\n",
            "Requirement already satisfied: requests>=2.5.0 in /usr/local/lib/python3.11/dist-packages (from cdsapi>=0.7.4) (2.32.3)\n",
            "Requirement already satisfied: tqdm in /usr/local/lib/python3.11/dist-packages (from cdsapi>=0.7.4) (4.67.1)\n",
            "Requirement already satisfied: charset-normalizer<4,>=2 in /usr/local/lib/python3.11/dist-packages (from requests>=2.5.0->cdsapi>=0.7.4) (3.4.2)\n",
            "Requirement already satisfied: idna<4,>=2.5 in /usr/local/lib/python3.11/dist-packages (from requests>=2.5.0->cdsapi>=0.7.4) (3.10)\n",
            "Requirement already satisfied: urllib3<3,>=1.21.1 in /usr/local/lib/python3.11/dist-packages (from requests>=2.5.0->cdsapi>=0.7.4) (2.4.0)\n",
            "Requirement already satisfied: certifi>=2017.4.17 in /usr/local/lib/python3.11/dist-packages (from requests>=2.5.0->cdsapi>=0.7.4) (2025.4.26)\n",
            "Requirement already satisfied: attrs in /usr/local/lib/python3.11/dist-packages (from ecmwf-datastores-client->cdsapi>=0.7.4) (25.3.0)\n",
            "Collecting multiurl>=0.3.2 (from ecmwf-datastores-client->cdsapi>=0.7.4)\n",
            "  Downloading multiurl-0.3.5-py3-none-any.whl.metadata (2.8 kB)\n",
            "Requirement already satisfied: typing-extensions in /usr/local/lib/python3.11/dist-packages (from ecmwf-datastores-client->cdsapi>=0.7.4) (4.14.0)\n",
            "Requirement already satisfied: pytz in /usr/local/lib/python3.11/dist-packages (from multiurl>=0.3.2->ecmwf-datastores-client->cdsapi>=0.7.4) (2025.2)\n",
            "Requirement already satisfied: python-dateutil in /usr/local/lib/python3.11/dist-packages (from multiurl>=0.3.2->ecmwf-datastores-client->cdsapi>=0.7.4) (2.9.0.post0)\n",
            "Requirement already satisfied: six>=1.5 in /usr/local/lib/python3.11/dist-packages (from python-dateutil->multiurl>=0.3.2->ecmwf-datastores-client->cdsapi>=0.7.4) (1.17.0)\n",
            "Downloading cdsapi-0.7.6-py2.py3-none-any.whl (12 kB)\n",
            "Downloading ecmwf_datastores_client-0.1.0-py3-none-any.whl (29 kB)\n",
            "Downloading multiurl-0.3.5-py3-none-any.whl (21 kB)\n",
            "Installing collected packages: multiurl, ecmwf-datastores-client, cdsapi\n",
            "Successfully installed cdsapi-0.7.6 ecmwf-datastores-client-0.1.0 multiurl-0.3.5\n"
          ]
        }
      ]
    },
    {
      "cell_type": "code",
      "source": [
        "#!rm -fr /content/IGNIS"
      ],
      "metadata": {
        "id": "Ionid5Sx99Ac"
      },
      "execution_count": 15,
      "outputs": []
    },
    {
      "cell_type": "code",
      "execution_count": 16,
      "metadata": {
        "colab": {
          "base_uri": "https://localhost:8080/"
        },
        "id": "byFp2A63CFzR",
        "outputId": "ce9f034e-6ece-468e-8d42-766786663742"
      },
      "outputs": [
        {
          "output_type": "stream",
          "name": "stdout",
          "text": [
            "Cloning into 'IGNIS'...\n",
            "remote: Enumerating objects: 293, done.\u001b[K\n",
            "remote: Counting objects: 100% (89/89), done.\u001b[K\n",
            "remote: Compressing objects: 100% (81/81), done.\u001b[K\n",
            "remote: Total 293 (delta 41), reused 32 (delta 8), pack-reused 204 (from 1)\u001b[K\n",
            "Receiving objects: 100% (293/293), 44.22 MiB | 21.13 MiB/s, done.\n",
            "Resolving deltas: 100% (121/121), done.\n"
          ]
        }
      ],
      "source": [
        "!git clone https://github.com/FaridRash/IGNIS IGNIS\n",
        "!rm -rf /content/IGNIS/Dataset\n",
        "!rm -rf /content/IGNIS/FoV\\ visualization\n",
        "!rm -rf /content/IGNIS/Notebooks\n",
        "!rm -rf /content/IGNIS/Reports/\n",
        "!rm -rf /content/IGNIS/SNR\\ Visualization"
      ]
    },
    {
      "cell_type": "code",
      "source": [
        "file_path = '/content/IGNIS/Requests/TK- PAY-MA-R.01 – Altitude and Angle/Altitude_Theta_Datetime.xlsx'\n",
        "df_excel = pd.read_excel(file_path)\n",
        "\n",
        "print(df_excel.head())\n"
      ],
      "metadata": {
        "colab": {
          "base_uri": "https://localhost:8080/"
        },
        "id": "YtvUL9LwCKmZ",
        "outputId": "a7fd8fd1-e5f1-499c-a81d-92d8c9e4f278"
      },
      "execution_count": 17,
      "outputs": [
        {
          "output_type": "stream",
          "name": "stdout",
          "text": [
            "                 Datetime    Altitude      Theta\n",
            "0 2029-01-02 02:43:41.770  461.218874  21.299047\n",
            "1 2029-01-05 02:34:41.998  462.767619  12.416525\n",
            "2 2029-01-05 02:35:11.998  463.422734  14.037020\n",
            "3 2029-01-05 15:29:42.588  466.582339  22.475595\n",
            "4 2029-01-05 15:30:12.588  466.012605  13.759815\n"
          ]
        }
      ]
    },
    {
      "cell_type": "code",
      "source": [
        "df_excel['Date'] = df_excel['Datetime'].dt.date\n",
        "df_excel['Time'] = df_excel['Datetime'].dt.time\n",
        "\n",
        "print(df_excel.head())"
      ],
      "metadata": {
        "colab": {
          "base_uri": "https://localhost:8080/"
        },
        "id": "6EX-Madzx-x2",
        "outputId": "319772c4-0118-44df-cf97-e10c458f54b2"
      },
      "execution_count": 18,
      "outputs": [
        {
          "output_type": "stream",
          "name": "stdout",
          "text": [
            "                 Datetime    Altitude      Theta        Date             Time\n",
            "0 2029-01-02 02:43:41.770  461.218874  21.299047  2029-01-02  02:43:41.770000\n",
            "1 2029-01-05 02:34:41.998  462.767619  12.416525  2029-01-05  02:34:41.998000\n",
            "2 2029-01-05 02:35:11.998  463.422734  14.037020  2029-01-05  02:35:11.998000\n",
            "3 2029-01-05 15:29:42.588  466.582339  22.475595  2029-01-05  15:29:42.588000\n",
            "4 2029-01-05 15:30:12.588  466.012605  13.759815  2029-01-05  15:30:12.588000\n"
          ]
        }
      ]
    },
    {
      "cell_type": "code",
      "source": [
        "df_excel = df_excel.drop('Datetime', axis=1)\n",
        "\n",
        "print(df_excel.head())"
      ],
      "metadata": {
        "colab": {
          "base_uri": "https://localhost:8080/"
        },
        "id": "eouL9SJByNvM",
        "outputId": "03be23e9-7d4e-4908-a563-7ad1a078c463"
      },
      "execution_count": 19,
      "outputs": [
        {
          "output_type": "stream",
          "name": "stdout",
          "text": [
            "     Altitude      Theta        Date             Time\n",
            "0  461.218874  21.299047  2029-01-02  02:43:41.770000\n",
            "1  462.767619  12.416525  2029-01-05  02:34:41.998000\n",
            "2  463.422734  14.037020  2029-01-05  02:35:11.998000\n",
            "3  466.582339  22.475595  2029-01-05  15:29:42.588000\n",
            "4  466.012605  13.759815  2029-01-05  15:30:12.588000\n"
          ]
        }
      ]
    },
    {
      "cell_type": "code",
      "source": [
        "# prompt: i want to separate time to hour minute ans second and mili second\n",
        "\n",
        "df_excel['Hour'] = df_excel['Time'].apply(lambda x: x.hour)\n",
        "df_excel['Minute'] = df_excel['Time'].apply(lambda x: x.minute)\n",
        "df_excel['Second'] = df_excel['Time'].apply(lambda x: x.second)\n",
        "df_excel['Microsecond'] = df_excel['Time'].apply(lambda x: x.microsecond)\n",
        "df_excel = df_excel.drop(['Time', 'Minute', 'Second', 'Microsecond'], axis=1)\n",
        "\n",
        "df_excel['Year'] = df_excel['Date'].apply(lambda x: x.year)\n",
        "df_excel['Month'] = df_excel['Date'].apply(lambda x: x.month)\n",
        "df_excel['Day'] = df_excel['Date'].apply(lambda x: x.day)\n",
        "df_excel = df_excel.drop(['Date'], axis=1)\n",
        "df_excel = df_excel.drop(['Year'], axis=1)\n",
        "\n",
        "print(df_excel.head())\n"
      ],
      "metadata": {
        "colab": {
          "base_uri": "https://localhost:8080/"
        },
        "id": "b8c2wnEDySwJ",
        "outputId": "6e5606ac-e091-4bfd-eccb-5054b6e55a1c"
      },
      "execution_count": 20,
      "outputs": [
        {
          "output_type": "stream",
          "name": "stdout",
          "text": [
            "     Altitude      Theta  Hour  Month  Day\n",
            "0  461.218874  21.299047     2      1    2\n",
            "1  462.767619  12.416525     2      1    5\n",
            "2  463.422734  14.037020     2      1    5\n",
            "3  466.582339  22.475595    15      1    5\n",
            "4  466.012605  13.759815    15      1    5\n"
          ]
        }
      ]
    },
    {
      "cell_type": "code",
      "source": [
        "cdsapirc = \"\"\"\n",
        "url: https://cds.climate.copernicus.eu/api\n",
        "key: d97ec102-82f7-4827-8b82-13721a50119b\n",
        "\n",
        "\"\"\"\n",
        "\n",
        "with open('/root/.cdsapirc', 'w') as f:\n",
        "    f.write(cdsapirc)"
      ],
      "metadata": {
        "id": "fJYIJZunUGxS"
      },
      "execution_count": 22,
      "outputs": []
    },
    {
      "cell_type": "code",
      "source": [
        "import cdsapi"
      ],
      "metadata": {
        "id": "2E3RJpTouW24"
      },
      "execution_count": 23,
      "outputs": []
    },
    {
      "cell_type": "code",
      "source": [
        "c = cdsapi.Client()\n"
      ],
      "metadata": {
        "colab": {
          "base_uri": "https://localhost:8080/"
        },
        "id": "SxG-hTPuuDSG",
        "outputId": "5f7dcfa9-b998-4e4a-b5cd-dff7cc77237c"
      },
      "execution_count": 24,
      "outputs": [
        {
          "output_type": "stream",
          "name": "stderr",
          "text": [
            "2025-06-07 10:39:02,954 INFO [2024-09-26T00:00:00] Watch our [Forum](https://forum.ecmwf.int/) for Announcements, news and other discussed topics.\n",
            "INFO:ecmwf.datastores.legacy_client:[2024-09-26T00:00:00] Watch our [Forum](https://forum.ecmwf.int/) for Announcements, news and other discussed topics.\n"
          ]
        }
      ]
    },
    {
      "cell_type": "code",
      "source": [
        "dataset = \"reanalysis-era5-single-levels\"\n",
        "request = {\n",
        "    \"product_type\": [\"reanalysis\"],\n",
        "    \"variable\": [\n",
        "        \"soil_temperature_level_1\",\n",
        "        \"skin_temperature\"\n",
        "    ],\n",
        "    \"year\": [\"2024\"],\n",
        "    \"month\": [\n",
        "        \"01\", \"02\", \"03\",\n",
        "        \"04\", \"05\", \"06\",\n",
        "        \"07\", \"08\", \"09\",\n",
        "        \"10\", \"11\", \"12\"\n",
        "    ],\n",
        "    \"day\": [\n",
        "        \"01\", \"02\", \"03\",\n",
        "        \"04\", \"05\", \"06\",\n",
        "        \"07\", \"08\", \"09\",\n",
        "        \"10\", \"11\", \"12\",\n",
        "        \"13\", \"14\", \"15\",\n",
        "        \"16\", \"17\", \"18\",\n",
        "        \"19\", \"20\", \"21\",\n",
        "        \"22\", \"23\", \"24\",\n",
        "        \"25\", \"26\", \"27\",\n",
        "        \"28\", \"29\", \"30\",\n",
        "        \"31\"\n",
        "    ],\n",
        "    \"time\": [\n",
        "        \"02:00\", \"03:00\", \"14:00\",\n",
        "        \"15:00\", \"16:00\"\n",
        "    ],\n",
        "    \"data_format\": \"netcdf\",\n",
        "    \"download_format\": \"unarchived\"\n",
        "}\n",
        "\n",
        "client = cdsapi.Client()\n",
        "client.retrieve(dataset, request).download()\n"
      ],
      "metadata": {
        "colab": {
          "base_uri": "https://localhost:8080/"
        },
        "id": "NVttYcl7uzii",
        "outputId": "450d5a9b-8ff6-4e87-ccce-944b3b3bead4"
      },
      "execution_count": null,
      "outputs": [
        {
          "metadata": {
            "tags": null
          },
          "name": "stderr",
          "output_type": "stream",
          "text": [
            "2025-06-07 11:25:15,702 INFO [2024-09-26T00:00:00] Watch our [Forum](https://forum.ecmwf.int/) for Announcements, news and other discussed topics.\n",
            "INFO:ecmwf.datastores.legacy_client:[2024-09-26T00:00:00] Watch our [Forum](https://forum.ecmwf.int/) for Announcements, news and other discussed topics.\n",
            "2025-06-07 11:25:17,178 INFO Request ID is a3902524-65eb-40a8-8501-fa0df32f530b\n",
            "INFO:ecmwf.datastores.legacy_client:Request ID is a3902524-65eb-40a8-8501-fa0df32f530b\n",
            "2025-06-07 11:25:17,429 INFO status has been updated to accepted\n",
            "INFO:ecmwf.datastores.legacy_client:status has been updated to accepted\n",
            "2025-06-07 11:53:58,209 INFO status has been updated to running\n",
            "INFO:ecmwf.datastores.legacy_client:status has been updated to running\n"
          ]
        }
      ]
    },
    {
      "cell_type": "code",
      "source": [],
      "metadata": {
        "id": "2aE8nhIRv2Yb"
      },
      "execution_count": null,
      "outputs": []
    }
  ]
}