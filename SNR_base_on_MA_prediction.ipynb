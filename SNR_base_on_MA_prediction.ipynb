{
  "nbformat": 4,
  "nbformat_minor": 0,
  "metadata": {
    "colab": {
      "provenance": [],
      "collapsed_sections": [
        "T_pMus_nlLAa"
      ],
      "authorship_tag": "ABX9TyPBLYAulciobK9SIN+CmAfS",
      "include_colab_link": true
    },
    "kernelspec": {
      "name": "python3",
      "display_name": "Python 3"
    },
    "language_info": {
      "name": "python"
    }
  },
  "cells": [
    {
      "cell_type": "markdown",
      "metadata": {
        "id": "view-in-github",
        "colab_type": "text"
      },
      "source": [
        "<a href=\"https://colab.research.google.com/github/FaridRash/IGNIS/blob/main/SNR_base_on_MA_prediction.ipynb\" target=\"_parent\"><img src=\"https://colab.research.google.com/assets/colab-badge.svg\" alt=\"Open In Colab\"/></a>"
      ]
    },
    {
      "cell_type": "markdown",
      "source": [
        "#Github and Libraries\n",
        "\n"
      ],
      "metadata": {
        "id": "T_pMus_nlLAa"
      }
    },
    {
      "cell_type": "code",
      "source": [
        "!pip install \"cdsapi>=0.7.4\""
      ],
      "metadata": {
        "colab": {
          "base_uri": "https://localhost:8080/"
        },
        "id": "R-QzQptwtbEW",
        "outputId": "89b6265a-6d38-4cee-973d-103ce01ebcd6"
      },
      "execution_count": null,
      "outputs": [
        {
          "output_type": "stream",
          "name": "stdout",
          "text": [
            "Collecting cdsapi>=0.7.4\n",
            "  Downloading cdsapi-0.7.6-py2.py3-none-any.whl.metadata (3.0 kB)\n",
            "Collecting ecmwf-datastores-client (from cdsapi>=0.7.4)\n",
            "  Downloading ecmwf_datastores_client-0.1.0-py3-none-any.whl.metadata (21 kB)\n",
            "Requirement already satisfied: requests>=2.5.0 in /usr/local/lib/python3.11/dist-packages (from cdsapi>=0.7.4) (2.32.3)\n",
            "Requirement already satisfied: tqdm in /usr/local/lib/python3.11/dist-packages (from cdsapi>=0.7.4) (4.67.1)\n",
            "Requirement already satisfied: charset-normalizer<4,>=2 in /usr/local/lib/python3.11/dist-packages (from requests>=2.5.0->cdsapi>=0.7.4) (3.4.2)\n",
            "Requirement already satisfied: idna<4,>=2.5 in /usr/local/lib/python3.11/dist-packages (from requests>=2.5.0->cdsapi>=0.7.4) (3.10)\n",
            "Requirement already satisfied: urllib3<3,>=1.21.1 in /usr/local/lib/python3.11/dist-packages (from requests>=2.5.0->cdsapi>=0.7.4) (2.4.0)\n",
            "Requirement already satisfied: certifi>=2017.4.17 in /usr/local/lib/python3.11/dist-packages (from requests>=2.5.0->cdsapi>=0.7.4) (2025.4.26)\n",
            "Requirement already satisfied: attrs in /usr/local/lib/python3.11/dist-packages (from ecmwf-datastores-client->cdsapi>=0.7.4) (25.3.0)\n",
            "Collecting multiurl>=0.3.2 (from ecmwf-datastores-client->cdsapi>=0.7.4)\n",
            "  Downloading multiurl-0.3.5-py3-none-any.whl.metadata (2.8 kB)\n",
            "Requirement already satisfied: typing-extensions in /usr/local/lib/python3.11/dist-packages (from ecmwf-datastores-client->cdsapi>=0.7.4) (4.14.0)\n",
            "Requirement already satisfied: pytz in /usr/local/lib/python3.11/dist-packages (from multiurl>=0.3.2->ecmwf-datastores-client->cdsapi>=0.7.4) (2025.2)\n",
            "Requirement already satisfied: python-dateutil in /usr/local/lib/python3.11/dist-packages (from multiurl>=0.3.2->ecmwf-datastores-client->cdsapi>=0.7.4) (2.9.0.post0)\n",
            "Requirement already satisfied: six>=1.5 in /usr/local/lib/python3.11/dist-packages (from python-dateutil->multiurl>=0.3.2->ecmwf-datastores-client->cdsapi>=0.7.4) (1.17.0)\n",
            "Downloading cdsapi-0.7.6-py2.py3-none-any.whl (12 kB)\n",
            "Downloading ecmwf_datastores_client-0.1.0-py3-none-any.whl (29 kB)\n",
            "Downloading multiurl-0.3.5-py3-none-any.whl (21 kB)\n",
            "Installing collected packages: multiurl, ecmwf-datastores-client, cdsapi\n",
            "Successfully installed cdsapi-0.7.6 ecmwf-datastores-client-0.1.0 multiurl-0.3.5\n"
          ]
        }
      ]
    },
    {
      "cell_type": "code",
      "source": [
        "!pip install xarray netCDF4"
      ],
      "metadata": {
        "colab": {
          "base_uri": "https://localhost:8080/"
        },
        "id": "xtYElnuwlYQ5",
        "outputId": "2419dc6a-f25b-43a8-dbe6-16edda1703e1"
      },
      "execution_count": null,
      "outputs": [
        {
          "output_type": "stream",
          "name": "stdout",
          "text": [
            "Requirement already satisfied: xarray in /usr/local/lib/python3.11/dist-packages (2025.3.1)\n",
            "Collecting netCDF4\n",
            "  Downloading netCDF4-1.7.2-cp311-cp311-manylinux_2_17_x86_64.manylinux2014_x86_64.whl.metadata (1.8 kB)\n",
            "Requirement already satisfied: numpy>=1.24 in /usr/local/lib/python3.11/dist-packages (from xarray) (2.0.2)\n",
            "Requirement already satisfied: packaging>=23.2 in /usr/local/lib/python3.11/dist-packages (from xarray) (24.2)\n",
            "Requirement already satisfied: pandas>=2.1 in /usr/local/lib/python3.11/dist-packages (from xarray) (2.2.2)\n",
            "Collecting cftime (from netCDF4)\n",
            "  Downloading cftime-1.6.4.post1-cp311-cp311-manylinux_2_17_x86_64.manylinux2014_x86_64.whl.metadata (8.7 kB)\n",
            "Requirement already satisfied: certifi in /usr/local/lib/python3.11/dist-packages (from netCDF4) (2025.4.26)\n",
            "Requirement already satisfied: python-dateutil>=2.8.2 in /usr/local/lib/python3.11/dist-packages (from pandas>=2.1->xarray) (2.9.0.post0)\n",
            "Requirement already satisfied: pytz>=2020.1 in /usr/local/lib/python3.11/dist-packages (from pandas>=2.1->xarray) (2025.2)\n",
            "Requirement already satisfied: tzdata>=2022.7 in /usr/local/lib/python3.11/dist-packages (from pandas>=2.1->xarray) (2025.2)\n",
            "Requirement already satisfied: six>=1.5 in /usr/local/lib/python3.11/dist-packages (from python-dateutil>=2.8.2->pandas>=2.1->xarray) (1.17.0)\n",
            "Downloading netCDF4-1.7.2-cp311-cp311-manylinux_2_17_x86_64.manylinux2014_x86_64.whl (9.3 MB)\n",
            "\u001b[2K   \u001b[90m━━━━━━━━━━━━━━━━━━━━━━━━━━━━━━━━━━━━━━━━\u001b[0m \u001b[32m9.3/9.3 MB\u001b[0m \u001b[31m17.6 MB/s\u001b[0m eta \u001b[36m0:00:00\u001b[0m\n",
            "\u001b[?25hDownloading cftime-1.6.4.post1-cp311-cp311-manylinux_2_17_x86_64.manylinux2014_x86_64.whl (1.4 MB)\n",
            "\u001b[2K   \u001b[90m━━━━━━━━━━━━━━━━━━━━━━━━━━━━━━━━━━━━━━━━\u001b[0m \u001b[32m1.4/1.4 MB\u001b[0m \u001b[31m31.7 MB/s\u001b[0m eta \u001b[36m0:00:00\u001b[0m\n",
            "\u001b[?25hInstalling collected packages: cftime, netCDF4\n",
            "Successfully installed cftime-1.6.4.post1 netCDF4-1.7.2\n"
          ]
        }
      ]
    },
    {
      "cell_type": "code",
      "source": [
        "import pandas as pd\n",
        "import numpy as np\n",
        "import cdsapi"
      ],
      "metadata": {
        "id": "7Z0h0MmxCS2H"
      },
      "execution_count": null,
      "outputs": []
    },
    {
      "cell_type": "code",
      "source": [
        "#!rm -fr /content/IGNIS"
      ],
      "metadata": {
        "id": "Ionid5Sx99Ac"
      },
      "execution_count": null,
      "outputs": []
    },
    {
      "cell_type": "code",
      "execution_count": null,
      "metadata": {
        "colab": {
          "base_uri": "https://localhost:8080/"
        },
        "id": "byFp2A63CFzR",
        "outputId": "990c6101-42fc-4458-89c4-079e1e5dc407"
      },
      "outputs": [
        {
          "output_type": "stream",
          "name": "stdout",
          "text": [
            "Cloning into 'IGNIS'...\n",
            "remote: Enumerating objects: 293, done.\u001b[K\n",
            "remote: Counting objects: 100% (89/89), done.\u001b[K\n",
            "remote: Compressing objects: 100% (81/81), done.\u001b[K\n",
            "remote: Total 293 (delta 41), reused 32 (delta 8), pack-reused 204 (from 1)\u001b[K\n",
            "Receiving objects: 100% (293/293), 44.22 MiB | 15.41 MiB/s, done.\n",
            "Resolving deltas: 100% (121/121), done.\n",
            "Updating files: 100% (43/43), done.\n"
          ]
        }
      ],
      "source": [
        "!git clone https://github.com/FaridRash/IGNIS IGNIS\n",
        "!rm -rf /content/IGNIS/Dataset\n",
        "!rm -rf /content/IGNIS/FoV\\ visualization\n",
        "!rm -rf /content/IGNIS/Notebooks\n",
        "!rm -rf /content/IGNIS/Reports/\n",
        "!rm -rf /content/IGNIS/SNR\\ Visualization"
      ]
    },
    {
      "cell_type": "markdown",
      "source": [
        "#Dataset"
      ],
      "metadata": {
        "id": "Rs9YbV1GlIX7"
      }
    },
    {
      "cell_type": "code",
      "source": [
        "file_path = '/content/IGNIS/Requests/TK- PAY-MA-R.01 – Altitude and Angle/Altitude_Theta_Datetime.xlsx'\n",
        "df_excel = pd.read_excel(file_path)\n",
        "\n",
        "print(df_excel.head())\n"
      ],
      "metadata": {
        "colab": {
          "base_uri": "https://localhost:8080/"
        },
        "id": "YtvUL9LwCKmZ",
        "outputId": "a602a2ba-603e-415b-9305-a9cd2d6f722b"
      },
      "execution_count": null,
      "outputs": [
        {
          "output_type": "stream",
          "name": "stdout",
          "text": [
            "                 Datetime    Altitude      Theta\n",
            "0 2029-01-02 02:43:41.770  461.218874  21.299047\n",
            "1 2029-01-05 02:34:41.998  462.767619  12.416525\n",
            "2 2029-01-05 02:35:11.998  463.422734  14.037020\n",
            "3 2029-01-05 15:29:42.588  466.582339  22.475595\n",
            "4 2029-01-05 15:30:12.588  466.012605  13.759815\n"
          ]
        }
      ]
    },
    {
      "cell_type": "code",
      "source": [
        "df_excel['Date'] = df_excel['Datetime'].dt.date\n",
        "df_excel['Time'] = df_excel['Datetime'].dt.time\n",
        "\n",
        "print(df_excel.head())"
      ],
      "metadata": {
        "colab": {
          "base_uri": "https://localhost:8080/"
        },
        "id": "6EX-Madzx-x2",
        "outputId": "3d05e13b-a4ea-4001-8727-a7f4cee4e759"
      },
      "execution_count": null,
      "outputs": [
        {
          "output_type": "stream",
          "name": "stdout",
          "text": [
            "                 Datetime    Altitude      Theta        Date             Time\n",
            "0 2029-01-02 02:43:41.770  461.218874  21.299047  2029-01-02  02:43:41.770000\n",
            "1 2029-01-05 02:34:41.998  462.767619  12.416525  2029-01-05  02:34:41.998000\n",
            "2 2029-01-05 02:35:11.998  463.422734  14.037020  2029-01-05  02:35:11.998000\n",
            "3 2029-01-05 15:29:42.588  466.582339  22.475595  2029-01-05  15:29:42.588000\n",
            "4 2029-01-05 15:30:12.588  466.012605  13.759815  2029-01-05  15:30:12.588000\n"
          ]
        }
      ]
    },
    {
      "cell_type": "code",
      "source": [
        "df_excel = df_excel.drop('Datetime', axis=1)\n",
        "\n",
        "print(df_excel.head())"
      ],
      "metadata": {
        "colab": {
          "base_uri": "https://localhost:8080/"
        },
        "id": "eouL9SJByNvM",
        "outputId": "0f6e56e7-401d-4b9a-eaa0-d7e524de5a99"
      },
      "execution_count": null,
      "outputs": [
        {
          "output_type": "stream",
          "name": "stdout",
          "text": [
            "     Altitude      Theta        Date             Time\n",
            "0  461.218874  21.299047  2029-01-02  02:43:41.770000\n",
            "1  462.767619  12.416525  2029-01-05  02:34:41.998000\n",
            "2  463.422734  14.037020  2029-01-05  02:35:11.998000\n",
            "3  466.582339  22.475595  2029-01-05  15:29:42.588000\n",
            "4  466.012605  13.759815  2029-01-05  15:30:12.588000\n"
          ]
        }
      ]
    },
    {
      "cell_type": "code",
      "source": [
        "# prompt: i want to separate time to hour minute ans second and mili second\n",
        "\n",
        "df_excel['Hour'] = df_excel['Time'].apply(lambda x: x.hour)\n",
        "df_excel['Minute'] = df_excel['Time'].apply(lambda x: x.minute)\n",
        "df_excel['Second'] = df_excel['Time'].apply(lambda x: x.second)\n",
        "df_excel['Microsecond'] = df_excel['Time'].apply(lambda x: x.microsecond)\n",
        "df_excel = df_excel.drop(['Time', 'Minute', 'Second', 'Microsecond'], axis=1)\n",
        "\n",
        "df_excel['Year'] = df_excel['Date'].apply(lambda x: x.year)\n",
        "df_excel['Month'] = df_excel['Date'].apply(lambda x: x.month)\n",
        "df_excel['Day'] = df_excel['Date'].apply(lambda x: x.day)\n",
        "df_excel = df_excel.drop(['Date'], axis=1)\n",
        "df_excel = df_excel.drop(['Year'], axis=1)\n",
        "\n",
        "print(df_excel.head())\n"
      ],
      "metadata": {
        "colab": {
          "base_uri": "https://localhost:8080/"
        },
        "id": "b8c2wnEDySwJ",
        "outputId": "94db8c43-4ab4-47da-fe7b-669c0b5a6628"
      },
      "execution_count": null,
      "outputs": [
        {
          "output_type": "stream",
          "name": "stdout",
          "text": [
            "     Altitude      Theta  Hour  Month  Day\n",
            "0  461.218874  21.299047     2      1    2\n",
            "1  462.767619  12.416525     2      1    5\n",
            "2  463.422734  14.037020     2      1    5\n",
            "3  466.582339  22.475595    15      1    5\n",
            "4  466.012605  13.759815    15      1    5\n"
          ]
        }
      ]
    },
    {
      "cell_type": "code",
      "source": [
        "# prompt: i need to find unics in the day\n",
        "\n",
        "unique_days = df_excel['Day'].unique()\n",
        "print(\"Unique days in the 'Day' column:\", unique_days)"
      ],
      "metadata": {
        "colab": {
          "base_uri": "https://localhost:8080/"
        },
        "id": "olCpsEPWxxqx",
        "outputId": "41ea5c32-b0cf-4c78-e4e6-d118943f2859"
      },
      "execution_count": null,
      "outputs": [
        {
          "output_type": "stream",
          "name": "stdout",
          "text": [
            "Unique days in the 'Day' column: [ 2  5  8 13 16 19 24 27  4  7 12 15 23 26  3  6 11 14 22 25 30 10 18  1\n",
            "  9 17 20 28 21 29 31]\n"
          ]
        }
      ]
    },
    {
      "cell_type": "code",
      "source": [
        "df_head = df_excel.head(10).copy()\n",
        "df_head"
      ],
      "metadata": {
        "colab": {
          "base_uri": "https://localhost:8080/",
          "height": 363
        },
        "id": "xqwfCrbBS6fD",
        "outputId": "f6653e11-da85-41bd-f5b9-52ada6628966"
      },
      "execution_count": null,
      "outputs": [
        {
          "output_type": "execute_result",
          "data": {
            "text/plain": [
              "     Altitude      Theta  Hour  Month  Day\n",
              "0  461.218874  21.299047     2      1    2\n",
              "1  462.767619  12.416525     2      1    5\n",
              "2  463.422734  14.037020     2      1    5\n",
              "3  466.582339  22.475595    15      1    5\n",
              "4  466.012605  13.759815    15      1    5\n",
              "5  464.701066  10.172074    15      1    8\n",
              "6  466.320733  17.211679     2      1   13\n",
              "7  466.846238  10.164086     2      1   16\n",
              "8  467.342004  18.941394     2      1   16\n",
              "9  460.811780  15.738485    15      1   16"
            ],
            "text/html": [
              "\n",
              "  <div id=\"df-7e16b52a-06f3-42c4-aff1-2c9216063b4f\" class=\"colab-df-container\">\n",
              "    <div>\n",
              "<style scoped>\n",
              "    .dataframe tbody tr th:only-of-type {\n",
              "        vertical-align: middle;\n",
              "    }\n",
              "\n",
              "    .dataframe tbody tr th {\n",
              "        vertical-align: top;\n",
              "    }\n",
              "\n",
              "    .dataframe thead th {\n",
              "        text-align: right;\n",
              "    }\n",
              "</style>\n",
              "<table border=\"1\" class=\"dataframe\">\n",
              "  <thead>\n",
              "    <tr style=\"text-align: right;\">\n",
              "      <th></th>\n",
              "      <th>Altitude</th>\n",
              "      <th>Theta</th>\n",
              "      <th>Hour</th>\n",
              "      <th>Month</th>\n",
              "      <th>Day</th>\n",
              "    </tr>\n",
              "  </thead>\n",
              "  <tbody>\n",
              "    <tr>\n",
              "      <th>0</th>\n",
              "      <td>461.218874</td>\n",
              "      <td>21.299047</td>\n",
              "      <td>2</td>\n",
              "      <td>1</td>\n",
              "      <td>2</td>\n",
              "    </tr>\n",
              "    <tr>\n",
              "      <th>1</th>\n",
              "      <td>462.767619</td>\n",
              "      <td>12.416525</td>\n",
              "      <td>2</td>\n",
              "      <td>1</td>\n",
              "      <td>5</td>\n",
              "    </tr>\n",
              "    <tr>\n",
              "      <th>2</th>\n",
              "      <td>463.422734</td>\n",
              "      <td>14.037020</td>\n",
              "      <td>2</td>\n",
              "      <td>1</td>\n",
              "      <td>5</td>\n",
              "    </tr>\n",
              "    <tr>\n",
              "      <th>3</th>\n",
              "      <td>466.582339</td>\n",
              "      <td>22.475595</td>\n",
              "      <td>15</td>\n",
              "      <td>1</td>\n",
              "      <td>5</td>\n",
              "    </tr>\n",
              "    <tr>\n",
              "      <th>4</th>\n",
              "      <td>466.012605</td>\n",
              "      <td>13.759815</td>\n",
              "      <td>15</td>\n",
              "      <td>1</td>\n",
              "      <td>5</td>\n",
              "    </tr>\n",
              "    <tr>\n",
              "      <th>5</th>\n",
              "      <td>464.701066</td>\n",
              "      <td>10.172074</td>\n",
              "      <td>15</td>\n",
              "      <td>1</td>\n",
              "      <td>8</td>\n",
              "    </tr>\n",
              "    <tr>\n",
              "      <th>6</th>\n",
              "      <td>466.320733</td>\n",
              "      <td>17.211679</td>\n",
              "      <td>2</td>\n",
              "      <td>1</td>\n",
              "      <td>13</td>\n",
              "    </tr>\n",
              "    <tr>\n",
              "      <th>7</th>\n",
              "      <td>466.846238</td>\n",
              "      <td>10.164086</td>\n",
              "      <td>2</td>\n",
              "      <td>1</td>\n",
              "      <td>16</td>\n",
              "    </tr>\n",
              "    <tr>\n",
              "      <th>8</th>\n",
              "      <td>467.342004</td>\n",
              "      <td>18.941394</td>\n",
              "      <td>2</td>\n",
              "      <td>1</td>\n",
              "      <td>16</td>\n",
              "    </tr>\n",
              "    <tr>\n",
              "      <th>9</th>\n",
              "      <td>460.811780</td>\n",
              "      <td>15.738485</td>\n",
              "      <td>15</td>\n",
              "      <td>1</td>\n",
              "      <td>16</td>\n",
              "    </tr>\n",
              "  </tbody>\n",
              "</table>\n",
              "</div>\n",
              "    <div class=\"colab-df-buttons\">\n",
              "\n",
              "  <div class=\"colab-df-container\">\n",
              "    <button class=\"colab-df-convert\" onclick=\"convertToInteractive('df-7e16b52a-06f3-42c4-aff1-2c9216063b4f')\"\n",
              "            title=\"Convert this dataframe to an interactive table.\"\n",
              "            style=\"display:none;\">\n",
              "\n",
              "  <svg xmlns=\"http://www.w3.org/2000/svg\" height=\"24px\" viewBox=\"0 -960 960 960\">\n",
              "    <path d=\"M120-120v-720h720v720H120Zm60-500h600v-160H180v160Zm220 220h160v-160H400v160Zm0 220h160v-160H400v160ZM180-400h160v-160H180v160Zm440 0h160v-160H620v160ZM180-180h160v-160H180v160Zm440 0h160v-160H620v160Z\"/>\n",
              "  </svg>\n",
              "    </button>\n",
              "\n",
              "  <style>\n",
              "    .colab-df-container {\n",
              "      display:flex;\n",
              "      gap: 12px;\n",
              "    }\n",
              "\n",
              "    .colab-df-convert {\n",
              "      background-color: #E8F0FE;\n",
              "      border: none;\n",
              "      border-radius: 50%;\n",
              "      cursor: pointer;\n",
              "      display: none;\n",
              "      fill: #1967D2;\n",
              "      height: 32px;\n",
              "      padding: 0 0 0 0;\n",
              "      width: 32px;\n",
              "    }\n",
              "\n",
              "    .colab-df-convert:hover {\n",
              "      background-color: #E2EBFA;\n",
              "      box-shadow: 0px 1px 2px rgba(60, 64, 67, 0.3), 0px 1px 3px 1px rgba(60, 64, 67, 0.15);\n",
              "      fill: #174EA6;\n",
              "    }\n",
              "\n",
              "    .colab-df-buttons div {\n",
              "      margin-bottom: 4px;\n",
              "    }\n",
              "\n",
              "    [theme=dark] .colab-df-convert {\n",
              "      background-color: #3B4455;\n",
              "      fill: #D2E3FC;\n",
              "    }\n",
              "\n",
              "    [theme=dark] .colab-df-convert:hover {\n",
              "      background-color: #434B5C;\n",
              "      box-shadow: 0px 1px 3px 1px rgba(0, 0, 0, 0.15);\n",
              "      filter: drop-shadow(0px 1px 2px rgba(0, 0, 0, 0.3));\n",
              "      fill: #FFFFFF;\n",
              "    }\n",
              "  </style>\n",
              "\n",
              "    <script>\n",
              "      const buttonEl =\n",
              "        document.querySelector('#df-7e16b52a-06f3-42c4-aff1-2c9216063b4f button.colab-df-convert');\n",
              "      buttonEl.style.display =\n",
              "        google.colab.kernel.accessAllowed ? 'block' : 'none';\n",
              "\n",
              "      async function convertToInteractive(key) {\n",
              "        const element = document.querySelector('#df-7e16b52a-06f3-42c4-aff1-2c9216063b4f');\n",
              "        const dataTable =\n",
              "          await google.colab.kernel.invokeFunction('convertToInteractive',\n",
              "                                                    [key], {});\n",
              "        if (!dataTable) return;\n",
              "\n",
              "        const docLinkHtml = 'Like what you see? Visit the ' +\n",
              "          '<a target=\"_blank\" href=https://colab.research.google.com/notebooks/data_table.ipynb>data table notebook</a>'\n",
              "          + ' to learn more about interactive tables.';\n",
              "        element.innerHTML = '';\n",
              "        dataTable['output_type'] = 'display_data';\n",
              "        await google.colab.output.renderOutput(dataTable, element);\n",
              "        const docLink = document.createElement('div');\n",
              "        docLink.innerHTML = docLinkHtml;\n",
              "        element.appendChild(docLink);\n",
              "      }\n",
              "    </script>\n",
              "  </div>\n",
              "\n",
              "\n",
              "    <div id=\"df-66abc307-75cc-4ea9-bfb0-ffec8af4f609\">\n",
              "      <button class=\"colab-df-quickchart\" onclick=\"quickchart('df-66abc307-75cc-4ea9-bfb0-ffec8af4f609')\"\n",
              "                title=\"Suggest charts\"\n",
              "                style=\"display:none;\">\n",
              "\n",
              "<svg xmlns=\"http://www.w3.org/2000/svg\" height=\"24px\"viewBox=\"0 0 24 24\"\n",
              "     width=\"24px\">\n",
              "    <g>\n",
              "        <path d=\"M19 3H5c-1.1 0-2 .9-2 2v14c0 1.1.9 2 2 2h14c1.1 0 2-.9 2-2V5c0-1.1-.9-2-2-2zM9 17H7v-7h2v7zm4 0h-2V7h2v10zm4 0h-2v-4h2v4z\"/>\n",
              "    </g>\n",
              "</svg>\n",
              "      </button>\n",
              "\n",
              "<style>\n",
              "  .colab-df-quickchart {\n",
              "      --bg-color: #E8F0FE;\n",
              "      --fill-color: #1967D2;\n",
              "      --hover-bg-color: #E2EBFA;\n",
              "      --hover-fill-color: #174EA6;\n",
              "      --disabled-fill-color: #AAA;\n",
              "      --disabled-bg-color: #DDD;\n",
              "  }\n",
              "\n",
              "  [theme=dark] .colab-df-quickchart {\n",
              "      --bg-color: #3B4455;\n",
              "      --fill-color: #D2E3FC;\n",
              "      --hover-bg-color: #434B5C;\n",
              "      --hover-fill-color: #FFFFFF;\n",
              "      --disabled-bg-color: #3B4455;\n",
              "      --disabled-fill-color: #666;\n",
              "  }\n",
              "\n",
              "  .colab-df-quickchart {\n",
              "    background-color: var(--bg-color);\n",
              "    border: none;\n",
              "    border-radius: 50%;\n",
              "    cursor: pointer;\n",
              "    display: none;\n",
              "    fill: var(--fill-color);\n",
              "    height: 32px;\n",
              "    padding: 0;\n",
              "    width: 32px;\n",
              "  }\n",
              "\n",
              "  .colab-df-quickchart:hover {\n",
              "    background-color: var(--hover-bg-color);\n",
              "    box-shadow: 0 1px 2px rgba(60, 64, 67, 0.3), 0 1px 3px 1px rgba(60, 64, 67, 0.15);\n",
              "    fill: var(--button-hover-fill-color);\n",
              "  }\n",
              "\n",
              "  .colab-df-quickchart-complete:disabled,\n",
              "  .colab-df-quickchart-complete:disabled:hover {\n",
              "    background-color: var(--disabled-bg-color);\n",
              "    fill: var(--disabled-fill-color);\n",
              "    box-shadow: none;\n",
              "  }\n",
              "\n",
              "  .colab-df-spinner {\n",
              "    border: 2px solid var(--fill-color);\n",
              "    border-color: transparent;\n",
              "    border-bottom-color: var(--fill-color);\n",
              "    animation:\n",
              "      spin 1s steps(1) infinite;\n",
              "  }\n",
              "\n",
              "  @keyframes spin {\n",
              "    0% {\n",
              "      border-color: transparent;\n",
              "      border-bottom-color: var(--fill-color);\n",
              "      border-left-color: var(--fill-color);\n",
              "    }\n",
              "    20% {\n",
              "      border-color: transparent;\n",
              "      border-left-color: var(--fill-color);\n",
              "      border-top-color: var(--fill-color);\n",
              "    }\n",
              "    30% {\n",
              "      border-color: transparent;\n",
              "      border-left-color: var(--fill-color);\n",
              "      border-top-color: var(--fill-color);\n",
              "      border-right-color: var(--fill-color);\n",
              "    }\n",
              "    40% {\n",
              "      border-color: transparent;\n",
              "      border-right-color: var(--fill-color);\n",
              "      border-top-color: var(--fill-color);\n",
              "    }\n",
              "    60% {\n",
              "      border-color: transparent;\n",
              "      border-right-color: var(--fill-color);\n",
              "    }\n",
              "    80% {\n",
              "      border-color: transparent;\n",
              "      border-right-color: var(--fill-color);\n",
              "      border-bottom-color: var(--fill-color);\n",
              "    }\n",
              "    90% {\n",
              "      border-color: transparent;\n",
              "      border-bottom-color: var(--fill-color);\n",
              "    }\n",
              "  }\n",
              "</style>\n",
              "\n",
              "      <script>\n",
              "        async function quickchart(key) {\n",
              "          const quickchartButtonEl =\n",
              "            document.querySelector('#' + key + ' button');\n",
              "          quickchartButtonEl.disabled = true;  // To prevent multiple clicks.\n",
              "          quickchartButtonEl.classList.add('colab-df-spinner');\n",
              "          try {\n",
              "            const charts = await google.colab.kernel.invokeFunction(\n",
              "                'suggestCharts', [key], {});\n",
              "          } catch (error) {\n",
              "            console.error('Error during call to suggestCharts:', error);\n",
              "          }\n",
              "          quickchartButtonEl.classList.remove('colab-df-spinner');\n",
              "          quickchartButtonEl.classList.add('colab-df-quickchart-complete');\n",
              "        }\n",
              "        (() => {\n",
              "          let quickchartButtonEl =\n",
              "            document.querySelector('#df-66abc307-75cc-4ea9-bfb0-ffec8af4f609 button');\n",
              "          quickchartButtonEl.style.display =\n",
              "            google.colab.kernel.accessAllowed ? 'block' : 'none';\n",
              "        })();\n",
              "      </script>\n",
              "    </div>\n",
              "\n",
              "  <div id=\"id_f574080a-a3b3-4354-b767-dc19be05d334\">\n",
              "    <style>\n",
              "      .colab-df-generate {\n",
              "        background-color: #E8F0FE;\n",
              "        border: none;\n",
              "        border-radius: 50%;\n",
              "        cursor: pointer;\n",
              "        display: none;\n",
              "        fill: #1967D2;\n",
              "        height: 32px;\n",
              "        padding: 0 0 0 0;\n",
              "        width: 32px;\n",
              "      }\n",
              "\n",
              "      .colab-df-generate:hover {\n",
              "        background-color: #E2EBFA;\n",
              "        box-shadow: 0px 1px 2px rgba(60, 64, 67, 0.3), 0px 1px 3px 1px rgba(60, 64, 67, 0.15);\n",
              "        fill: #174EA6;\n",
              "      }\n",
              "\n",
              "      [theme=dark] .colab-df-generate {\n",
              "        background-color: #3B4455;\n",
              "        fill: #D2E3FC;\n",
              "      }\n",
              "\n",
              "      [theme=dark] .colab-df-generate:hover {\n",
              "        background-color: #434B5C;\n",
              "        box-shadow: 0px 1px 3px 1px rgba(0, 0, 0, 0.15);\n",
              "        filter: drop-shadow(0px 1px 2px rgba(0, 0, 0, 0.3));\n",
              "        fill: #FFFFFF;\n",
              "      }\n",
              "    </style>\n",
              "    <button class=\"colab-df-generate\" onclick=\"generateWithVariable('df_head')\"\n",
              "            title=\"Generate code using this dataframe.\"\n",
              "            style=\"display:none;\">\n",
              "\n",
              "  <svg xmlns=\"http://www.w3.org/2000/svg\" height=\"24px\"viewBox=\"0 0 24 24\"\n",
              "       width=\"24px\">\n",
              "    <path d=\"M7,19H8.4L18.45,9,17,7.55,7,17.6ZM5,21V16.75L18.45,3.32a2,2,0,0,1,2.83,0l1.4,1.43a1.91,1.91,0,0,1,.58,1.4,1.91,1.91,0,0,1-.58,1.4L9.25,21ZM18.45,9,17,7.55Zm-12,3A5.31,5.31,0,0,0,4.9,8.1,5.31,5.31,0,0,0,1,6.5,5.31,5.31,0,0,0,4.9,4.9,5.31,5.31,0,0,0,6.5,1,5.31,5.31,0,0,0,8.1,4.9,5.31,5.31,0,0,0,12,6.5,5.46,5.46,0,0,0,6.5,12Z\"/>\n",
              "  </svg>\n",
              "    </button>\n",
              "    <script>\n",
              "      (() => {\n",
              "      const buttonEl =\n",
              "        document.querySelector('#id_f574080a-a3b3-4354-b767-dc19be05d334 button.colab-df-generate');\n",
              "      buttonEl.style.display =\n",
              "        google.colab.kernel.accessAllowed ? 'block' : 'none';\n",
              "\n",
              "      buttonEl.onclick = () => {\n",
              "        google.colab.notebook.generateWithVariable('df_head');\n",
              "      }\n",
              "      })();\n",
              "    </script>\n",
              "  </div>\n",
              "\n",
              "    </div>\n",
              "  </div>\n"
            ],
            "application/vnd.google.colaboratory.intrinsic+json": {
              "type": "dataframe",
              "variable_name": "df_head",
              "summary": "{\n  \"name\": \"df_head\",\n  \"rows\": 10,\n  \"fields\": [\n    {\n      \"column\": \"Altitude\",\n      \"properties\": {\n        \"dtype\": \"number\",\n        \"std\": 2.4033902739508175,\n        \"min\": 460.8117799963811,\n        \"max\": 467.3420036567068,\n        \"num_unique_values\": 10,\n        \"samples\": [\n          467.3420036567068,\n          462.7676187497482,\n          464.7010661411277\n        ],\n        \"semantic_type\": \"\",\n        \"description\": \"\"\n      }\n    },\n    {\n      \"column\": \"Theta\",\n      \"properties\": {\n        \"dtype\": \"number\",\n        \"std\": 4.3269841652544505,\n        \"min\": 10.164086489720733,\n        \"max\": 22.475594894986127,\n        \"num_unique_values\": 10,\n        \"samples\": [\n          18.94139439246137,\n          12.416525172908235,\n          10.172073952388686\n        ],\n        \"semantic_type\": \"\",\n        \"description\": \"\"\n      }\n    },\n    {\n      \"column\": \"Hour\",\n      \"properties\": {\n        \"dtype\": \"number\",\n        \"std\": 6,\n        \"min\": 2,\n        \"max\": 15,\n        \"num_unique_values\": 2,\n        \"samples\": [\n          15,\n          2\n        ],\n        \"semantic_type\": \"\",\n        \"description\": \"\"\n      }\n    },\n    {\n      \"column\": \"Month\",\n      \"properties\": {\n        \"dtype\": \"number\",\n        \"std\": 0,\n        \"min\": 1,\n        \"max\": 1,\n        \"num_unique_values\": 1,\n        \"samples\": [\n          1\n        ],\n        \"semantic_type\": \"\",\n        \"description\": \"\"\n      }\n    },\n    {\n      \"column\": \"Day\",\n      \"properties\": {\n        \"dtype\": \"number\",\n        \"std\": 5,\n        \"min\": 2,\n        \"max\": 16,\n        \"num_unique_values\": 5,\n        \"samples\": [\n          5\n        ],\n        \"semantic_type\": \"\",\n        \"description\": \"\"\n      }\n    }\n  ]\n}"
            }
          },
          "metadata": {},
          "execution_count": 25
        }
      ]
    },
    {
      "cell_type": "code",
      "source": [
        "df_excel['Hour'] = df_excel['Hour'].astype(str).str.zfill(2) + ':00'\n",
        "\n",
        "print(df_excel.head())"
      ],
      "metadata": {
        "colab": {
          "base_uri": "https://localhost:8080/"
        },
        "id": "XybGY0IZXn80",
        "outputId": "ab5a2033-c318-42ea-ed3b-275962b097b8"
      },
      "execution_count": null,
      "outputs": [
        {
          "output_type": "stream",
          "name": "stdout",
          "text": [
            "     Altitude      Theta   Hour  Month  Day\n",
            "0  461.218874  21.299047  02:00      1    2\n",
            "1  462.767619  12.416525  02:00      1    5\n",
            "2  463.422734  14.037020  02:00      1    5\n",
            "3  466.582339  22.475595  15:00      1    5\n",
            "4  466.012605  13.759815  15:00      1    5\n"
          ]
        }
      ]
    },
    {
      "cell_type": "code",
      "source": [
        "df_excel['Month'] = df_excel['Month'].astype(str).str.zfill(2)\n",
        "\n",
        "print(df_excel.head())"
      ],
      "metadata": {
        "colab": {
          "base_uri": "https://localhost:8080/"
        },
        "id": "44OOlgeVYA0e",
        "outputId": "13635532-9256-4cf4-a87a-6b6f302d41d0"
      },
      "execution_count": 51,
      "outputs": [
        {
          "output_type": "stream",
          "name": "stdout",
          "text": [
            "     Altitude      Theta   Hour Month  Day        GSD      North      South  \\\n",
            "0  461.218874  21.299047  02:00    01    2  76.025089  40.829036  40.828186   \n",
            "1  462.767619  12.416525  02:00    01    5  76.280377  40.829036  40.828186   \n",
            "2  463.422734  14.037020  02:00    01    5  76.388363  40.829036  40.828186   \n",
            "3  466.582339  22.475595  15:00    01    5  76.909177  40.829036  40.828186   \n",
            "4  466.012605  13.759815  15:00    01    5  76.815265  40.829036  40.828186   \n",
            "\n",
            "        West       East  \n",
            "0  14.144160  14.145534  \n",
            "1  14.144157  14.145531  \n",
            "2  14.144156  14.145530  \n",
            "3  14.144150  14.145524  \n",
            "4  14.144151  14.145525  \n"
          ]
        }
      ]
    },
    {
      "cell_type": "markdown",
      "source": [
        "##Test"
      ],
      "metadata": {
        "id": "OlctfAUbTyFV"
      }
    },
    {
      "cell_type": "code",
      "source": [
        "df10 = df_excel.head(10).copy()"
      ],
      "metadata": {
        "id": "PtUORrYzaI6W"
      },
      "execution_count": null,
      "outputs": []
    },
    {
      "cell_type": "code",
      "source": [
        "def compute_gsd(altitude_m):\n",
        "  pixel_pitch_m = pixel_pitch = 12e-6        #12 micrometers\n",
        "  focal_length_m = 0.0728                    # 72.8 mm\n",
        "  return (altitude_m * pixel_pitch_m) / focal_length_m\n"
      ],
      "metadata": {
        "id": "Ku4jwHJJkiKm"
      },
      "execution_count": null,
      "outputs": []
    },
    {
      "cell_type": "code",
      "source": [
        "def shift_longitude_west(base_lon, lat_deg, distance_m):\n",
        "    \"\"\"\n",
        "    Shift a longitude west by a distance in meters at a given latitude.\n",
        "\n",
        "    Parameters:\n",
        "    - base_lon: original longitude in degrees\n",
        "    - lat_deg: latitude in degrees\n",
        "    - distance_m: westward distance in meters\n",
        "\n",
        "    Returns:\n",
        "    - new longitude shifted westward (float)\n",
        "    \"\"\"\n",
        "    meters_per_deg_lon = 111320 * np.cos(np.radians(lat_deg))\n",
        "    delta_deg = distance_m / meters_per_deg_lon\n",
        "    return base_lon - delta_deg\n"
      ],
      "metadata": {
        "id": "-nMiCMFtl2lw"
      },
      "execution_count": null,
      "outputs": []
    },
    {
      "cell_type": "code",
      "source": [
        "df_excel['GSD'] = df_excel.apply(lambda row: compute_gsd(row['Altitude']*1000), axis=1)\n",
        "\n",
        "print(df_excel.head())"
      ],
      "metadata": {
        "colab": {
          "base_uri": "https://localhost:8080/"
        },
        "id": "s-5mAgf5maMX",
        "outputId": "cee762c3-efc0-42e5-f9e6-41c6810d831d"
      },
      "execution_count": null,
      "outputs": [
        {
          "output_type": "stream",
          "name": "stdout",
          "text": [
            "     Altitude      Theta   Hour  Month  Day        GSD\n",
            "0  461.218874  21.299047  02:00      1    2  76.025089\n",
            "1  462.767619  12.416525  02:00      1    5  76.280377\n",
            "2  463.422734  14.037020  02:00      1    5  76.388363\n",
            "3  466.582339  22.475595  15:00      1    5  76.909177\n",
            "4  466.012605  13.759815  15:00      1    5  76.815265\n"
          ]
        }
      ]
    },
    {
      "cell_type": "code",
      "source": [
        "\"\"\"\n",
        "North: 40.829036\n",
        "South: 40.828186\n",
        "West: 14.145063\n",
        "East: 14.146437\n",
        "\"\"\""
      ],
      "metadata": {
        "colab": {
          "base_uri": "https://localhost:8080/",
          "height": 35
        },
        "id": "byq584AMmpcP",
        "outputId": "c74c8c49-5d3a-4d6f-d58e-f04ec14c444c"
      },
      "execution_count": null,
      "outputs": [
        {
          "output_type": "execute_result",
          "data": {
            "text/plain": [
              "'\\nNorth: 40.829036\\nSouth: 40.828186\\nWest: 14.145063\\nEast: 14.146437\\n'"
            ],
            "application/vnd.google.colaboratory.intrinsic+json": {
              "type": "string"
            }
          },
          "metadata": {},
          "execution_count": 31
        }
      ]
    },
    {
      "cell_type": "code",
      "source": [
        "df_excel['North'] = 40.829036\n",
        "df_excel['South'] = 40.828186\n",
        "df_excel['West'] = 14.145063\n",
        "df_excel['East'] = 14.146437\n",
        "\n",
        "print(df_excel.head())"
      ],
      "metadata": {
        "colab": {
          "base_uri": "https://localhost:8080/"
        },
        "id": "cHa-6YG5slI4",
        "outputId": "c484a296-30a1-4ad6-9959-78d80886764a"
      },
      "execution_count": null,
      "outputs": [
        {
          "output_type": "stream",
          "name": "stdout",
          "text": [
            "     Altitude      Theta   Hour  Month  Day        GSD      North      South  \\\n",
            "0  461.218874  21.299047  02:00      1    2  76.025089  40.829036  40.828186   \n",
            "1  462.767619  12.416525  02:00      1    5  76.280377  40.829036  40.828186   \n",
            "2  463.422734  14.037020  02:00      1    5  76.388363  40.829036  40.828186   \n",
            "3  466.582339  22.475595  15:00      1    5  76.909177  40.829036  40.828186   \n",
            "4  466.012605  13.759815  15:00      1    5  76.815265  40.829036  40.828186   \n",
            "\n",
            "        West       East  \n",
            "0  14.145063  14.146437  \n",
            "1  14.145063  14.146437  \n",
            "2  14.145063  14.146437  \n",
            "3  14.145063  14.146437  \n",
            "4  14.145063  14.146437  \n"
          ]
        }
      ]
    },
    {
      "cell_type": "code",
      "source": [],
      "metadata": {
        "id": "BlYZxOCiXt_w"
      },
      "execution_count": null,
      "outputs": []
    },
    {
      "cell_type": "code",
      "source": [
        "def shift_west_by_gsd(row):\n",
        "    \"\"\"\n",
        "    Shifts the West and East longitude values westward by the amount corresponding\n",
        "    to the GSD (Ground Sample Distance) in meters.\n",
        "\n",
        "    Parameters:\n",
        "        row (pd.Series): A row from the DataFrame with 'GSD', 'North', 'South', 'West', and 'East' fields.\n",
        "\n",
        "    Returns:\n",
        "        pd.Series: New values for 'West_shifted' and 'East_shifted'.\n",
        "    \"\"\"\n",
        "    # Calculate center latitude in radians\n",
        "    center_lat = (row['North'] + row['South']) / 2\n",
        "    lat_rad = np.radians(center_lat)\n",
        "\n",
        "    # Convert GSD in meters to degrees longitude\n",
        "    delta_lon_deg = row['GSD'] / (111320 * np.cos(lat_rad))\n",
        "\n",
        "    # Apply the westward shift\n",
        "    row['West'] = row['West'] - delta_lon_deg\n",
        "    row['East'] = row['East'] - delta_lon_deg\n",
        "\n",
        "    return row['West'], row['East']"
      ],
      "metadata": {
        "id": "lnQ2nR35cZQE"
      },
      "execution_count": null,
      "outputs": []
    },
    {
      "cell_type": "code",
      "source": [
        "df_excel[['West', 'East']] = df_excel.apply(lambda row: pd.Series(shift_west_by_gsd(row)), axis=1)\n"
      ],
      "metadata": {
        "id": "S4LeMBEsfAVm"
      },
      "execution_count": null,
      "outputs": []
    },
    {
      "cell_type": "code",
      "source": [
        "print(df_excel.head())"
      ],
      "metadata": {
        "colab": {
          "base_uri": "https://localhost:8080/"
        },
        "id": "TLUXfFkGgDHk",
        "outputId": "ef979d22-6e52-45ec-c816-01579439a1b0"
      },
      "execution_count": null,
      "outputs": [
        {
          "output_type": "stream",
          "name": "stdout",
          "text": [
            "     Altitude      Theta   Hour  Month  Day        GSD      North      South  \\\n",
            "0  461.218874  21.299047  02:00      1    2  76.025089  40.829036  40.828186   \n",
            "1  462.767619  12.416525  02:00      1    5  76.280377  40.829036  40.828186   \n",
            "2  463.422734  14.037020  02:00      1    5  76.388363  40.829036  40.828186   \n",
            "3  466.582339  22.475595  15:00      1    5  76.909177  40.829036  40.828186   \n",
            "4  466.012605  13.759815  15:00      1    5  76.815265  40.829036  40.828186   \n",
            "\n",
            "        West       East  \n",
            "0  14.144160  14.145534  \n",
            "1  14.144157  14.145531  \n",
            "2  14.144156  14.145530  \n",
            "3  14.144150  14.145524  \n",
            "4  14.144151  14.145525  \n"
          ]
        }
      ]
    },
    {
      "cell_type": "markdown",
      "source": [
        "#Fetch the temperature"
      ],
      "metadata": {
        "id": "7FS49su9jFTJ"
      }
    },
    {
      "cell_type": "code",
      "source": [
        "# prompt: install cdsapi\n",
        "\n",
        "!pip install \"cdsapi>=0.7.4\""
      ],
      "metadata": {
        "colab": {
          "base_uri": "https://localhost:8080/"
        },
        "id": "bBaPS2LRnPKk",
        "outputId": "7f3ac4fb-dec3-4e15-a1e2-4f67ccb866eb"
      },
      "execution_count": null,
      "outputs": [
        {
          "output_type": "stream",
          "name": "stdout",
          "text": [
            "Requirement already satisfied: cdsapi>=0.7.4 in /usr/local/lib/python3.11/dist-packages (0.7.6)\n",
            "Requirement already satisfied: ecmwf-datastores-client in /usr/local/lib/python3.11/dist-packages (from cdsapi>=0.7.4) (0.1.0)\n",
            "Requirement already satisfied: requests>=2.5.0 in /usr/local/lib/python3.11/dist-packages (from cdsapi>=0.7.4) (2.32.3)\n",
            "Requirement already satisfied: tqdm in /usr/local/lib/python3.11/dist-packages (from cdsapi>=0.7.4) (4.67.1)\n",
            "Requirement already satisfied: charset-normalizer<4,>=2 in /usr/local/lib/python3.11/dist-packages (from requests>=2.5.0->cdsapi>=0.7.4) (3.4.2)\n",
            "Requirement already satisfied: idna<4,>=2.5 in /usr/local/lib/python3.11/dist-packages (from requests>=2.5.0->cdsapi>=0.7.4) (3.10)\n",
            "Requirement already satisfied: urllib3<3,>=1.21.1 in /usr/local/lib/python3.11/dist-packages (from requests>=2.5.0->cdsapi>=0.7.4) (2.4.0)\n",
            "Requirement already satisfied: certifi>=2017.4.17 in /usr/local/lib/python3.11/dist-packages (from requests>=2.5.0->cdsapi>=0.7.4) (2025.4.26)\n",
            "Requirement already satisfied: attrs in /usr/local/lib/python3.11/dist-packages (from ecmwf-datastores-client->cdsapi>=0.7.4) (25.3.0)\n",
            "Requirement already satisfied: multiurl>=0.3.2 in /usr/local/lib/python3.11/dist-packages (from ecmwf-datastores-client->cdsapi>=0.7.4) (0.3.5)\n",
            "Requirement already satisfied: typing-extensions in /usr/local/lib/python3.11/dist-packages (from ecmwf-datastores-client->cdsapi>=0.7.4) (4.14.0)\n",
            "Requirement already satisfied: pytz in /usr/local/lib/python3.11/dist-packages (from multiurl>=0.3.2->ecmwf-datastores-client->cdsapi>=0.7.4) (2025.2)\n",
            "Requirement already satisfied: python-dateutil in /usr/local/lib/python3.11/dist-packages (from multiurl>=0.3.2->ecmwf-datastores-client->cdsapi>=0.7.4) (2.9.0.post0)\n",
            "Requirement already satisfied: six>=1.5 in /usr/local/lib/python3.11/dist-packages (from python-dateutil->multiurl>=0.3.2->ecmwf-datastores-client->cdsapi>=0.7.4) (1.17.0)\n"
          ]
        }
      ]
    },
    {
      "cell_type": "code",
      "source": [
        "cdsapirc = \"\"\"\n",
        "url: https://cds.climate.copernicus.eu/api\n",
        "key: d97ec102-82f7-4827-8b82-13721a50119b\n",
        "\n",
        "\"\"\"\n",
        "\n",
        "with open('/root/.cdsapirc', 'w') as f:\n",
        "    f.write(cdsapirc)"
      ],
      "metadata": {
        "id": "2-XS5ImRrWSy"
      },
      "execution_count": null,
      "outputs": []
    },
    {
      "cell_type": "code",
      "source": [
        "dataset = \"reanalysis-era5-single-levels\"\n",
        "for index, row in df_excel.iterrows():\n",
        "    month_str = str(row['Month']).zfill(2)\n",
        "    request = {\n",
        "      \"product_type\": [\"reanalysis\"],\n",
        "      \"variable\": [\"skin_temperature\"],\n",
        "      \"year\": [\"2024\"],\n",
        "      \"month\": [\n",
        "          \"01\", \"02\", \"03\",\n",
        "          \"04\", \"05\", \"06\",\n",
        "          \"07\", \"08\", \"09\",\n",
        "          \"10\", \"11\", \"12\"\n",
        "      ],\n",
        "      \"day\": [\n",
        "          \"01\", \"02\", \"03\",\n",
        "          \"04\", \"05\", \"06\",\n",
        "          \"07\", \"08\", \"09\",\n",
        "          \"10\", \"11\", \"12\",\n",
        "          \"13\", \"14\", \"15\",\n",
        "          \"16\", \"17\", \"18\",\n",
        "          \"19\", \"20\", \"21\",\n",
        "          \"22\", \"23\", \"24\",\n",
        "          \"25\", \"26\", \"27\",\n",
        "          \"28\", \"29\", \"30\",\n",
        "          \"31\"\n",
        "      ],\n",
        "      \"time\": [\n",
        "          \"02:00\", \"03:00\", \"14:00\",\n",
        "          \"15:00\", \"16:00\"\n",
        "      ],\n",
        "      \"area\": [90, -180, -90, 180],\n",
        "      \"data_format\": \"netcdf\",\n",
        "      \"download_format\": \"unarchived\"\n",
        "}\n",
        "\n",
        "client = cdsapi.Client()\n",
        "client.retrieve(dataset, request).download()"
      ],
      "metadata": {
        "colab": {
          "base_uri": "https://localhost:8080/"
        },
        "id": "a_l8e73LjQdl",
        "outputId": "827d6f05-45b1-40ef-cce2-7460c1a70527"
      },
      "execution_count": 50,
      "outputs": [
        {
          "output_type": "stream",
          "name": "stdout",
          "text": [
            "📦 Requesting: Row 0 → /content/temp_0.nc\n",
            "⚠️ Error on row 0: 404 Client Error: Not Found for url: https://cds.climate.copernicus.eu/api/v2/retrieve/v1/processes/reanalysis-era5-single-levels\n",
            "\n",
            "📦 Requesting: Row 1 → /content/temp_1.nc\n",
            "⚠️ Error on row 1: 404 Client Error: Not Found for url: https://cds.climate.copernicus.eu/api/v2/retrieve/v1/processes/reanalysis-era5-single-levels\n",
            "\n",
            "📦 Requesting: Row 2 → /content/temp_2.nc\n",
            "⚠️ Error on row 2: 404 Client Error: Not Found for url: https://cds.climate.copernicus.eu/api/v2/retrieve/v1/processes/reanalysis-era5-single-levels\n",
            "\n",
            "📦 Requesting: Row 3 → /content/temp_3.nc\n",
            "⚠️ Error on row 3: 404 Client Error: Not Found for url: https://cds.climate.copernicus.eu/api/v2/retrieve/v1/processes/reanalysis-era5-single-levels\n",
            "\n",
            "📦 Requesting: Row 4 → /content/temp_4.nc\n",
            "⚠️ Error on row 4: 404 Client Error: Not Found for url: https://cds.climate.copernicus.eu/api/v2/retrieve/v1/processes/reanalysis-era5-single-levels\n",
            "\n",
            "📦 Requesting: Row 5 → /content/temp_5.nc\n",
            "⚠️ Error on row 5: 404 Client Error: Not Found for url: https://cds.climate.copernicus.eu/api/v2/retrieve/v1/processes/reanalysis-era5-single-levels\n",
            "\n",
            "📦 Requesting: Row 6 → /content/temp_6.nc\n",
            "⚠️ Error on row 6: 404 Client Error: Not Found for url: https://cds.climate.copernicus.eu/api/v2/retrieve/v1/processes/reanalysis-era5-single-levels\n",
            "\n",
            "📦 Requesting: Row 7 → /content/temp_7.nc\n",
            "⚠️ Error on row 7: 404 Client Error: Not Found for url: https://cds.climate.copernicus.eu/api/v2/retrieve/v1/processes/reanalysis-era5-single-levels\n",
            "\n",
            "📦 Requesting: Row 8 → /content/temp_8.nc\n",
            "⚠️ Error on row 8: 404 Client Error: Not Found for url: https://cds.climate.copernicus.eu/api/v2/retrieve/v1/processes/reanalysis-era5-single-levels\n",
            "\n",
            "📦 Requesting: Row 9 → /content/temp_9.nc\n",
            "⚠️ Error on row 9: 404 Client Error: Not Found for url: https://cds.climate.copernicus.eu/api/v2/retrieve/v1/processes/reanalysis-era5-single-levels\n",
            "\n"
          ]
        }
      ]
    },
    {
      "cell_type": "code",
      "source": [],
      "metadata": {
        "id": "AxA301URyLhU"
      },
      "execution_count": null,
      "outputs": []
    }
  ]
}