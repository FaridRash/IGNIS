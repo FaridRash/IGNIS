{
  "nbformat": 4,
  "nbformat_minor": 0,
  "metadata": {
    "colab": {
      "provenance": [],
      "authorship_tag": "ABX9TyN7alRQFvhnExxO+8hLDbSQ",
      "include_colab_link": true
    },
    "kernelspec": {
      "name": "python3",
      "display_name": "Python 3"
    },
    "language_info": {
      "name": "python"
    },
    "widgets": {
      "application/vnd.jupyter.widget-state+json": {
        "1c0e7f22c17947a6b33552110c6e8504": {
          "model_module": "@jupyter-widgets/controls",
          "model_name": "VBoxModel",
          "model_module_version": "1.5.0",
          "state": {
            "_dom_classes": [
              "widget-interact"
            ],
            "_model_module": "@jupyter-widgets/controls",
            "_model_module_version": "1.5.0",
            "_model_name": "VBoxModel",
            "_view_count": null,
            "_view_module": "@jupyter-widgets/controls",
            "_view_module_version": "1.5.0",
            "_view_name": "VBoxView",
            "box_style": "",
            "children": [
              "IPY_MODEL_42138a1bdd4e43279bdc33e2c4ecdf4e",
              "IPY_MODEL_40a471077c3b463ea9396f66b0f73cae",
              "IPY_MODEL_484145de450a40389fea4fb4fd4d8ffe",
              "IPY_MODEL_226acff2d0c146cb8c789277266dc524",
              "IPY_MODEL_3b3eac3df9a1436387b5b768cc4a20c5"
            ],
            "layout": "IPY_MODEL_99faaf7ae9c2497c83b2e7874045a62b"
          }
        },
        "42138a1bdd4e43279bdc33e2c4ecdf4e": {
          "model_module": "@jupyter-widgets/controls",
          "model_name": "FloatSliderModel",
          "model_module_version": "1.5.0",
          "state": {
            "_dom_classes": [],
            "_model_module": "@jupyter-widgets/controls",
            "_model_module_version": "1.5.0",
            "_model_name": "FloatSliderModel",
            "_view_count": null,
            "_view_module": "@jupyter-widgets/controls",
            "_view_module_version": "1.5.0",
            "_view_name": "FloatSliderView",
            "continuous_update": true,
            "description": "Temperature (K)",
            "description_tooltip": null,
            "disabled": false,
            "layout": "IPY_MODEL_0f6eb1ba07b440c0a2f63e29db0a16b3",
            "max": 500,
            "min": 200,
            "orientation": "horizontal",
            "readout": true,
            "readout_format": ".2f",
            "step": 1,
            "style": "IPY_MODEL_1d6a985a287e4c51927da49dd0c9a17c",
            "value": 278.15
          }
        },
        "40a471077c3b463ea9396f66b0f73cae": {
          "model_module": "@jupyter-widgets/controls",
          "model_name": "FloatSliderModel",
          "model_module_version": "1.5.0",
          "state": {
            "_dom_classes": [],
            "_model_module": "@jupyter-widgets/controls",
            "_model_module_version": "1.5.0",
            "_model_name": "FloatSliderModel",
            "_view_count": null,
            "_view_module": "@jupyter-widgets/controls",
            "_view_module_version": "1.5.0",
            "_view_name": "FloatSliderView",
            "continuous_update": true,
            "description": "Theta (°)",
            "description_tooltip": null,
            "disabled": false,
            "layout": "IPY_MODEL_b36a1b78db384879a58bb6665270cf3d",
            "max": 90,
            "min": 0,
            "orientation": "horizontal",
            "readout": true,
            "readout_format": ".2f",
            "step": 1,
            "style": "IPY_MODEL_b3456c39e1214c90a8bb746b99afe22e",
            "value": 0
          }
        },
        "484145de450a40389fea4fb4fd4d8ffe": {
          "model_module": "@jupyter-widgets/controls",
          "model_name": "FloatSliderModel",
          "model_module_version": "1.5.0",
          "state": {
            "_dom_classes": [],
            "_model_module": "@jupyter-widgets/controls",
            "_model_module_version": "1.5.0",
            "_model_name": "FloatSliderModel",
            "_view_count": null,
            "_view_module": "@jupyter-widgets/controls",
            "_view_module_version": "1.5.0",
            "_view_name": "FloatSliderView",
            "continuous_update": true,
            "description": "Distance (m)",
            "description_tooltip": null,
            "disabled": false,
            "layout": "IPY_MODEL_3d95e5b27e08455a9d1436900cf1ac16",
            "max": 460000,
            "min": 150000,
            "orientation": "horizontal",
            "readout": true,
            "readout_format": ".2f",
            "step": 1000,
            "style": "IPY_MODEL_ecdb2f286f5d4c469ca7e407df29882b",
            "value": 460000
          }
        },
        "226acff2d0c146cb8c789277266dc524": {
          "model_module": "@jupyter-widgets/controls",
          "model_name": "FloatSliderModel",
          "model_module_version": "1.5.0",
          "state": {
            "_dom_classes": [],
            "_model_module": "@jupyter-widgets/controls",
            "_model_module_version": "1.5.0",
            "_model_name": "FloatSliderModel",
            "_view_count": null,
            "_view_module": "@jupyter-widgets/controls",
            "_view_module_version": "1.5.0",
            "_view_name": "FloatSliderView",
            "continuous_update": true,
            "description": "τₐ (Atmosphere)",
            "description_tooltip": null,
            "disabled": false,
            "layout": "IPY_MODEL_24948064f10a48879b54abbfa7a6b208",
            "max": 1,
            "min": 0,
            "orientation": "horizontal",
            "readout": true,
            "readout_format": ".2f",
            "step": 0.01,
            "style": "IPY_MODEL_1d911e2bad30496d9da0892469efd8f3",
            "value": 0.85
          }
        },
        "3b3eac3df9a1436387b5b768cc4a20c5": {
          "model_module": "@jupyter-widgets/output",
          "model_name": "OutputModel",
          "model_module_version": "1.0.0",
          "state": {
            "_dom_classes": [],
            "_model_module": "@jupyter-widgets/output",
            "_model_module_version": "1.0.0",
            "_model_name": "OutputModel",
            "_view_count": null,
            "_view_module": "@jupyter-widgets/output",
            "_view_module_version": "1.0.0",
            "_view_name": "OutputView",
            "layout": "IPY_MODEL_833955c712d347998756ef0598c08f11",
            "msg_id": "",
            "outputs": [
              {
                "output_type": "display_data",
                "data": {
                  "text/plain": "<Figure size 1000x500 with 1 Axes>",
                  "image/png": "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\n"
                },
                "metadata": {}
              },
              {
                "output_type": "stream",
                "name": "stdout",
                "text": [
                  "Total SNR at T = 278.15 K, θ = 0.0°, R = 460 km, τₐ = 0.85: 1.10e+06\n"
                ]
              }
            ]
          }
        },
        "99faaf7ae9c2497c83b2e7874045a62b": {
          "model_module": "@jupyter-widgets/base",
          "model_name": "LayoutModel",
          "model_module_version": "1.2.0",
          "state": {
            "_model_module": "@jupyter-widgets/base",
            "_model_module_version": "1.2.0",
            "_model_name": "LayoutModel",
            "_view_count": null,
            "_view_module": "@jupyter-widgets/base",
            "_view_module_version": "1.2.0",
            "_view_name": "LayoutView",
            "align_content": null,
            "align_items": null,
            "align_self": null,
            "border": null,
            "bottom": null,
            "display": null,
            "flex": null,
            "flex_flow": null,
            "grid_area": null,
            "grid_auto_columns": null,
            "grid_auto_flow": null,
            "grid_auto_rows": null,
            "grid_column": null,
            "grid_gap": null,
            "grid_row": null,
            "grid_template_areas": null,
            "grid_template_columns": null,
            "grid_template_rows": null,
            "height": null,
            "justify_content": null,
            "justify_items": null,
            "left": null,
            "margin": null,
            "max_height": null,
            "max_width": null,
            "min_height": null,
            "min_width": null,
            "object_fit": null,
            "object_position": null,
            "order": null,
            "overflow": null,
            "overflow_x": null,
            "overflow_y": null,
            "padding": null,
            "right": null,
            "top": null,
            "visibility": null,
            "width": null
          }
        },
        "0f6eb1ba07b440c0a2f63e29db0a16b3": {
          "model_module": "@jupyter-widgets/base",
          "model_name": "LayoutModel",
          "model_module_version": "1.2.0",
          "state": {
            "_model_module": "@jupyter-widgets/base",
            "_model_module_version": "1.2.0",
            "_model_name": "LayoutModel",
            "_view_count": null,
            "_view_module": "@jupyter-widgets/base",
            "_view_module_version": "1.2.0",
            "_view_name": "LayoutView",
            "align_content": null,
            "align_items": null,
            "align_self": null,
            "border": null,
            "bottom": null,
            "display": null,
            "flex": null,
            "flex_flow": null,
            "grid_area": null,
            "grid_auto_columns": null,
            "grid_auto_flow": null,
            "grid_auto_rows": null,
            "grid_column": null,
            "grid_gap": null,
            "grid_row": null,
            "grid_template_areas": null,
            "grid_template_columns": null,
            "grid_template_rows": null,
            "height": null,
            "justify_content": null,
            "justify_items": null,
            "left": null,
            "margin": null,
            "max_height": null,
            "max_width": null,
            "min_height": null,
            "min_width": null,
            "object_fit": null,
            "object_position": null,
            "order": null,
            "overflow": null,
            "overflow_x": null,
            "overflow_y": null,
            "padding": null,
            "right": null,
            "top": null,
            "visibility": null,
            "width": null
          }
        },
        "1d6a985a287e4c51927da49dd0c9a17c": {
          "model_module": "@jupyter-widgets/controls",
          "model_name": "SliderStyleModel",
          "model_module_version": "1.5.0",
          "state": {
            "_model_module": "@jupyter-widgets/controls",
            "_model_module_version": "1.5.0",
            "_model_name": "SliderStyleModel",
            "_view_count": null,
            "_view_module": "@jupyter-widgets/base",
            "_view_module_version": "1.2.0",
            "_view_name": "StyleView",
            "description_width": "",
            "handle_color": null
          }
        },
        "b36a1b78db384879a58bb6665270cf3d": {
          "model_module": "@jupyter-widgets/base",
          "model_name": "LayoutModel",
          "model_module_version": "1.2.0",
          "state": {
            "_model_module": "@jupyter-widgets/base",
            "_model_module_version": "1.2.0",
            "_model_name": "LayoutModel",
            "_view_count": null,
            "_view_module": "@jupyter-widgets/base",
            "_view_module_version": "1.2.0",
            "_view_name": "LayoutView",
            "align_content": null,
            "align_items": null,
            "align_self": null,
            "border": null,
            "bottom": null,
            "display": null,
            "flex": null,
            "flex_flow": null,
            "grid_area": null,
            "grid_auto_columns": null,
            "grid_auto_flow": null,
            "grid_auto_rows": null,
            "grid_column": null,
            "grid_gap": null,
            "grid_row": null,
            "grid_template_areas": null,
            "grid_template_columns": null,
            "grid_template_rows": null,
            "height": null,
            "justify_content": null,
            "justify_items": null,
            "left": null,
            "margin": null,
            "max_height": null,
            "max_width": null,
            "min_height": null,
            "min_width": null,
            "object_fit": null,
            "object_position": null,
            "order": null,
            "overflow": null,
            "overflow_x": null,
            "overflow_y": null,
            "padding": null,
            "right": null,
            "top": null,
            "visibility": null,
            "width": null
          }
        },
        "b3456c39e1214c90a8bb746b99afe22e": {
          "model_module": "@jupyter-widgets/controls",
          "model_name": "SliderStyleModel",
          "model_module_version": "1.5.0",
          "state": {
            "_model_module": "@jupyter-widgets/controls",
            "_model_module_version": "1.5.0",
            "_model_name": "SliderStyleModel",
            "_view_count": null,
            "_view_module": "@jupyter-widgets/base",
            "_view_module_version": "1.2.0",
            "_view_name": "StyleView",
            "description_width": "",
            "handle_color": null
          }
        },
        "3d95e5b27e08455a9d1436900cf1ac16": {
          "model_module": "@jupyter-widgets/base",
          "model_name": "LayoutModel",
          "model_module_version": "1.2.0",
          "state": {
            "_model_module": "@jupyter-widgets/base",
            "_model_module_version": "1.2.0",
            "_model_name": "LayoutModel",
            "_view_count": null,
            "_view_module": "@jupyter-widgets/base",
            "_view_module_version": "1.2.0",
            "_view_name": "LayoutView",
            "align_content": null,
            "align_items": null,
            "align_self": null,
            "border": null,
            "bottom": null,
            "display": null,
            "flex": null,
            "flex_flow": null,
            "grid_area": null,
            "grid_auto_columns": null,
            "grid_auto_flow": null,
            "grid_auto_rows": null,
            "grid_column": null,
            "grid_gap": null,
            "grid_row": null,
            "grid_template_areas": null,
            "grid_template_columns": null,
            "grid_template_rows": null,
            "height": null,
            "justify_content": null,
            "justify_items": null,
            "left": null,
            "margin": null,
            "max_height": null,
            "max_width": null,
            "min_height": null,
            "min_width": null,
            "object_fit": null,
            "object_position": null,
            "order": null,
            "overflow": null,
            "overflow_x": null,
            "overflow_y": null,
            "padding": null,
            "right": null,
            "top": null,
            "visibility": null,
            "width": null
          }
        },
        "ecdb2f286f5d4c469ca7e407df29882b": {
          "model_module": "@jupyter-widgets/controls",
          "model_name": "SliderStyleModel",
          "model_module_version": "1.5.0",
          "state": {
            "_model_module": "@jupyter-widgets/controls",
            "_model_module_version": "1.5.0",
            "_model_name": "SliderStyleModel",
            "_view_count": null,
            "_view_module": "@jupyter-widgets/base",
            "_view_module_version": "1.2.0",
            "_view_name": "StyleView",
            "description_width": "",
            "handle_color": null
          }
        },
        "24948064f10a48879b54abbfa7a6b208": {
          "model_module": "@jupyter-widgets/base",
          "model_name": "LayoutModel",
          "model_module_version": "1.2.0",
          "state": {
            "_model_module": "@jupyter-widgets/base",
            "_model_module_version": "1.2.0",
            "_model_name": "LayoutModel",
            "_view_count": null,
            "_view_module": "@jupyter-widgets/base",
            "_view_module_version": "1.2.0",
            "_view_name": "LayoutView",
            "align_content": null,
            "align_items": null,
            "align_self": null,
            "border": null,
            "bottom": null,
            "display": null,
            "flex": null,
            "flex_flow": null,
            "grid_area": null,
            "grid_auto_columns": null,
            "grid_auto_flow": null,
            "grid_auto_rows": null,
            "grid_column": null,
            "grid_gap": null,
            "grid_row": null,
            "grid_template_areas": null,
            "grid_template_columns": null,
            "grid_template_rows": null,
            "height": null,
            "justify_content": null,
            "justify_items": null,
            "left": null,
            "margin": null,
            "max_height": null,
            "max_width": null,
            "min_height": null,
            "min_width": null,
            "object_fit": null,
            "object_position": null,
            "order": null,
            "overflow": null,
            "overflow_x": null,
            "overflow_y": null,
            "padding": null,
            "right": null,
            "top": null,
            "visibility": null,
            "width": null
          }
        },
        "1d911e2bad30496d9da0892469efd8f3": {
          "model_module": "@jupyter-widgets/controls",
          "model_name": "SliderStyleModel",
          "model_module_version": "1.5.0",
          "state": {
            "_model_module": "@jupyter-widgets/controls",
            "_model_module_version": "1.5.0",
            "_model_name": "SliderStyleModel",
            "_view_count": null,
            "_view_module": "@jupyter-widgets/base",
            "_view_module_version": "1.2.0",
            "_view_name": "StyleView",
            "description_width": "",
            "handle_color": null
          }
        },
        "833955c712d347998756ef0598c08f11": {
          "model_module": "@jupyter-widgets/base",
          "model_name": "LayoutModel",
          "model_module_version": "1.2.0",
          "state": {
            "_model_module": "@jupyter-widgets/base",
            "_model_module_version": "1.2.0",
            "_model_name": "LayoutModel",
            "_view_count": null,
            "_view_module": "@jupyter-widgets/base",
            "_view_module_version": "1.2.0",
            "_view_name": "LayoutView",
            "align_content": null,
            "align_items": null,
            "align_self": null,
            "border": null,
            "bottom": null,
            "display": null,
            "flex": null,
            "flex_flow": null,
            "grid_area": null,
            "grid_auto_columns": null,
            "grid_auto_flow": null,
            "grid_auto_rows": null,
            "grid_column": null,
            "grid_gap": null,
            "grid_row": null,
            "grid_template_areas": null,
            "grid_template_columns": null,
            "grid_template_rows": null,
            "height": null,
            "justify_content": null,
            "justify_items": null,
            "left": null,
            "margin": null,
            "max_height": null,
            "max_width": null,
            "min_height": null,
            "min_width": null,
            "object_fit": null,
            "object_position": null,
            "order": null,
            "overflow": null,
            "overflow_x": null,
            "overflow_y": null,
            "padding": null,
            "right": null,
            "top": null,
            "visibility": null,
            "width": null
          }
        }
      }
    }
  },
  "cells": [
    {
      "cell_type": "markdown",
      "metadata": {
        "id": "view-in-github",
        "colab_type": "text"
      },
      "source": [
        "<a href=\"https://colab.research.google.com/github/FaridRash/IGNIS/blob/main/SNR_calculator_MODTRAN.ipynb\" target=\"_parent\"><img src=\"https://colab.research.google.com/assets/colab-badge.svg\" alt=\"Open In Colab\"/></a>"
      ]
    },
    {
      "cell_type": "code",
      "source": [
        "\"\"\"\n",
        "For the campi flegrei target we are considering a 200 km^2 square area (approximately 14x14km).\n",
        "But the specific spots we want to investigate are the fumarole (whose vents can reach 10 metres and 165degree)\n",
        "Consider those would be much smaller than our gsd, so if you consider the signal from that area it would be a\n",
        "weighted sum of the signal from the fumarola (~10m, 150-160 °C) and from the sourrunding ground (GSD-10m, Ground Temperature)\n",
        "\n",
        "But this thing of the weighted sum can be implemented later,\n",
        "for now let’s see what happens with the whole campi flegrei as target,\n",
        "then let’s consider the hotspot, then let’s consider the weighted sum (if necessary)\n",
        "\"\"\""
      ],
      "metadata": {
        "colab": {
          "base_uri": "https://localhost:8080/",
          "height": 70
        },
        "id": "oGqA-AeqUU5L",
        "outputId": "6c06a3a1-60ef-4160-c39c-5b4d4b4eeac2"
      },
      "execution_count": 7,
      "outputs": [
        {
          "output_type": "execute_result",
          "data": {
            "text/plain": [
              "'For the campi flegrei target we are considering a 200 km^2 square area (approximately 14x14km). But the specific spots we want to investigate are the fumarole (whose vents can reach 10 metres and 165degree)\\nConsider those would be much smaller than our gsd, so if you consider the signal from that area it would be a weighted sum of the signal from the fumarola (~10m, 150-160 °C) and from the sourrunding ground (GSD-10m, Ground\\xa0Temperature)'"
            ],
            "application/vnd.google.colaboratory.intrinsic+json": {
              "type": "string"
            }
          },
          "metadata": {},
          "execution_count": 7
        }
      ]
    },
    {
      "cell_type": "code",
      "source": [
        "import numpy as np\n",
        "import matplotlib.pyplot as plt\n",
        "from ipywidgets import interact, FloatSlider"
      ],
      "metadata": {
        "id": "0iwD4CObnvix"
      },
      "execution_count": 1,
      "outputs": []
    },
    {
      "cell_type": "code",
      "source": [
        "c1 = 3.7418e8\n",
        "c2 = 1.4388e4\n",
        "h = 6.626e-34\n",
        "c = 3e8"
      ],
      "metadata": {
        "id": "4Ysz21QvnxB5"
      },
      "execution_count": 2,
      "outputs": []
    },
    {
      "cell_type": "code",
      "source": [
        "epsilon = 0.95\n",
        "tau_0 = 0.89\n",
        "eta = 0.7\n",
        "t = 0.01\n",
        "A0 = 10\n",
        "focal_length = 72.8\n",
        "F_number = 1.05\n",
        "D = (focal_length / F_number) / 1000\n",
        "\n",
        "lambda_range = np.arange(8, 12.1, 0.1)\n",
        "delta_lambda = 0.1"
      ],
      "metadata": {
        "id": "MUREo2Icnz7c"
      },
      "execution_count": 8,
      "outputs": []
    },
    {
      "cell_type": "code",
      "source": [
        "def compute_snr(T, theta_deg, R, tau_a):\n",
        "    cos_theta = np.cos(np.deg2rad(theta_deg))\n",
        "    M_lambda = c1 / (lambda_range**5 * (np.exp(c2 / (lambda_range * T)) - 1))\n",
        "    E_lambda = epsilon * M_lambda\n",
        "    S_lambda = lambda_range * E_lambda * tau_a * tau_0 * eta * delta_lambda\n",
        "    S_sum = np.sum(S_lambda)\n",
        "    S_total = (D**2 * t * cos_theta * A0) / (4 * R**2 * h * c) * S_sum\n",
        "    N_total = np.sqrt(S_total)\n",
        "    SNR_total = S_total / N_total\n",
        "    SNR_lambda = S_lambda / N_total\n",
        "\n",
        "    plt.figure(figsize=(10, 5))\n",
        "    plt.plot(lambda_range, SNR_lambda, label='SNR Contribution per λ', color='blue')\n",
        "    plt.xlabel('Wavelength (μm)')\n",
        "    plt.ylabel('SNR Contribution')\n",
        "    plt.title(f'Spectral SNR Contribution\\nT = {T} K, θ = {theta_deg}°, R = {R/1000:.0f} km, τₐ = {tau_a}')\n",
        "    plt.grid(True)\n",
        "    plt.legend()\n",
        "    plt.tight_layout()\n",
        "    plt.show()\n",
        "\n",
        "    print(f\"Total SNR at T = {T} K, θ = {theta_deg}°, R = {R/1000:.0f} km, τₐ = {tau_a}: {SNR_total:.2e}\")"
      ],
      "metadata": {
        "id": "aOG04wGNn3ca"
      },
      "execution_count": 9,
      "outputs": []
    },
    {
      "cell_type": "code",
      "source": [
        "interact(\n",
        "    compute_snr,\n",
        "    T=FloatSlider(value=278.15, min=200, max=500, step=1, description='Temperature (K)'),\n",
        "    theta_deg=FloatSlider(value=0, min=0, max=90, step=1, description='Theta (°)'),\n",
        "    R=FloatSlider(value=460000, min=150000, max=460000, step=1000, description='Distance (m)'),\n",
        "    tau_a=FloatSlider(value=0.85, min=0.0, max=1.0, step=0.01, description='τₐ (Atmosphere)')\n",
        ")"
      ],
      "metadata": {
        "colab": {
          "base_uri": "https://localhost:8080/",
          "height": 738,
          "referenced_widgets": [
            "1c0e7f22c17947a6b33552110c6e8504",
            "42138a1bdd4e43279bdc33e2c4ecdf4e",
            "40a471077c3b463ea9396f66b0f73cae",
            "484145de450a40389fea4fb4fd4d8ffe",
            "226acff2d0c146cb8c789277266dc524",
            "3b3eac3df9a1436387b5b768cc4a20c5",
            "99faaf7ae9c2497c83b2e7874045a62b",
            "0f6eb1ba07b440c0a2f63e29db0a16b3",
            "1d6a985a287e4c51927da49dd0c9a17c",
            "b36a1b78db384879a58bb6665270cf3d",
            "b3456c39e1214c90a8bb746b99afe22e",
            "3d95e5b27e08455a9d1436900cf1ac16",
            "ecdb2f286f5d4c469ca7e407df29882b",
            "24948064f10a48879b54abbfa7a6b208",
            "1d911e2bad30496d9da0892469efd8f3",
            "833955c712d347998756ef0598c08f11"
          ]
        },
        "id": "ebAcdtMAn5Pu",
        "outputId": "f3115e06-74f2-4aba-a63e-dde2d5ade03f"
      },
      "execution_count": 11,
      "outputs": [
        {
          "output_type": "display_data",
          "data": {
            "text/plain": [
              "interactive(children=(FloatSlider(value=278.15, description='Temperature (K)', max=500.0, min=200.0, step=1.0)…"
            ],
            "application/vnd.jupyter.widget-view+json": {
              "version_major": 2,
              "version_minor": 0,
              "model_id": "1c0e7f22c17947a6b33552110c6e8504"
            }
          },
          "metadata": {}
        },
        {
          "output_type": "execute_result",
          "data": {
            "text/plain": [
              "<function __main__.compute_snr(T, theta_deg, R, tau_a)>"
            ],
            "text/html": [
              "<div style=\"max-width:800px; border: 1px solid var(--colab-border-color);\"><style>\n",
              "      pre.function-repr-contents {\n",
              "        overflow-x: auto;\n",
              "        padding: 8px 12px;\n",
              "        max-height: 500px;\n",
              "      }\n",
              "\n",
              "      pre.function-repr-contents.function-repr-contents-collapsed {\n",
              "        cursor: pointer;\n",
              "        max-height: 100px;\n",
              "      }\n",
              "    </style>\n",
              "    <pre style=\"white-space: initial; background:\n",
              "         var(--colab-secondary-surface-color); padding: 8px 12px;\n",
              "         border-bottom: 1px solid var(--colab-border-color);\"><b>compute_snr</b><br/>def compute_snr(T, theta_deg, R, tau_a)</pre><pre class=\"function-repr-contents function-repr-contents-collapsed\" style=\"\"><a class=\"filepath\" style=\"display:none\" href=\"#\">/content/&lt;ipython-input-9-d65290bee835&gt;</a>&lt;no docstring&gt;</pre></div>"
            ]
          },
          "metadata": {},
          "execution_count": 11
        }
      ]
    },
    {
      "cell_type": "code",
      "source": [],
      "metadata": {
        "id": "TGBtU2H-n_eF"
      },
      "execution_count": null,
      "outputs": []
    }
  ]
}