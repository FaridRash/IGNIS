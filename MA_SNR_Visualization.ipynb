{
  "nbformat": 4,
  "nbformat_minor": 0,
  "metadata": {
    "colab": {
      "provenance": [],
      "name": "MA_SNR_Visualization.ipynb",
      "authorship_tag": "ABX9TyPu2ojYJ5MeW3h0rfMlltJL",
      "include_colab_link": true
    },
    "kernelspec": {
      "name": "python3",
      "display_name": "Python 3"
    },
    "language_info": {
      "name": "python"
    }
  },
  "cells": [
    {
      "cell_type": "markdown",
      "metadata": {
        "id": "view-in-github",
        "colab_type": "text"
      },
      "source": [
        "<a href=\"https://colab.research.google.com/github/FaridRash/IGNIS/blob/main/MA_SNR_Visualization.ipynb\" target=\"_parent\"><img src=\"https://colab.research.google.com/assets/colab-badge.svg\" alt=\"Open In Colab\"/></a>"
      ]
    },
    {
      "cell_type": "markdown",
      "source": [
        "#Libraries"
      ],
      "metadata": {
        "id": "ceyhheZ78Gky"
      }
    },
    {
      "cell_type": "code",
      "source": [
        "import numpy as np\n",
        "import pandas as pd\n",
        "import matplotlib.pyplot as plt\n",
        "import plotly.express as px\n",
        "\n",
        "from ipywidgets import interact, FloatSlider"
      ],
      "metadata": {
        "id": "0iwD4CObnvix"
      },
      "execution_count": 1,
      "outputs": []
    },
    {
      "cell_type": "markdown",
      "source": [
        "#Github"
      ],
      "metadata": {
        "id": "ofw5pyw58PfC"
      }
    },
    {
      "cell_type": "code",
      "source": [
        "!git clone https://github.com/FaridRash/IGNIS"
      ],
      "metadata": {
        "colab": {
          "base_uri": "https://localhost:8080/"
        },
        "id": "1742HboW8O3i",
        "outputId": "39ad3a1f-9489-49c2-b179-442b588b4f47"
      },
      "execution_count": 2,
      "outputs": [
        {
          "output_type": "stream",
          "name": "stdout",
          "text": [
            "Cloning into 'IGNIS'...\n",
            "remote: Enumerating objects: 359, done.\u001b[K\n",
            "remote: Counting objects: 100% (155/155), done.\u001b[K\n",
            "remote: Compressing objects: 100% (134/134), done.\u001b[K\n",
            "remote: Total 359 (delta 77), reused 68 (delta 21), pack-reused 204 (from 1)\u001b[K\n",
            "Receiving objects: 100% (359/359), 44.38 MiB | 7.60 MiB/s, done.\n",
            "Resolving deltas: 100% (157/157), done.\n",
            "Updating files: 100% (47/47), done.\n"
          ]
        }
      ]
    },
    {
      "cell_type": "code",
      "source": [
        "!rm -rf /content/IGNIS/FoV\\ visualization\n",
        "!rm -rf /content/IGNIS/Notebooks/\n",
        "!rm -rf /content/IGNIS/Reports/\n",
        "!rm -rf /content/IGNIS/Requests/\n",
        "!rm -rf /content/IGNIS/SNR\\ Visualization"
      ],
      "metadata": {
        "id": "ciDMfK1y8feA"
      },
      "execution_count": 3,
      "outputs": []
    },
    {
      "cell_type": "markdown",
      "source": [
        "#Dataset"
      ],
      "metadata": {
        "id": "IKTVchzX80gr"
      }
    },
    {
      "cell_type": "code",
      "source": [
        "df = pd.read_csv(\"/content/IGNIS/Dataset/df_excel_with_temperature.csv\")\n",
        "df.head()"
      ],
      "metadata": {
        "colab": {
          "base_uri": "https://localhost:8080/",
          "height": 244
        },
        "id": "5KllA0PH82dI",
        "outputId": "2afe4869-f2ad-4a36-bdb5-870800843eee"
      },
      "execution_count": 4,
      "outputs": [
        {
          "output_type": "execute_result",
          "data": {
            "text/plain": [
              "     Altitude      Theta   Hour  Month  Day        GSD      North      South  \\\n",
              "0  461.218874  21.299047  02:00      1    2  76.025089  40.829036  40.828186   \n",
              "1  462.767619  12.416525  02:00      1    5  76.280377  40.829036  40.828186   \n",
              "2  463.422734  14.037020  02:00      1    5  76.388363  40.829036  40.828186   \n",
              "3  466.582339  22.475595  15:00      1    5  76.909177  40.829036  40.828186   \n",
              "4  466.012605  13.759815  15:00      1    5  76.815265  40.829036  40.828186   \n",
              "\n",
              "        West       East  Background Temperature  \n",
              "0  14.144160  14.145534              286.143799  \n",
              "1  14.144157  14.145531              287.206543  \n",
              "2  14.144156  14.145530              287.206543  \n",
              "3  14.144150  14.145524              288.963867  \n",
              "4  14.144151  14.145525              288.963867  "
            ],
            "text/html": [
              "\n",
              "  <div id=\"df-542f1fa8-6b73-4677-9375-1290289fa055\" class=\"colab-df-container\">\n",
              "    <div>\n",
              "<style scoped>\n",
              "    .dataframe tbody tr th:only-of-type {\n",
              "        vertical-align: middle;\n",
              "    }\n",
              "\n",
              "    .dataframe tbody tr th {\n",
              "        vertical-align: top;\n",
              "    }\n",
              "\n",
              "    .dataframe thead th {\n",
              "        text-align: right;\n",
              "    }\n",
              "</style>\n",
              "<table border=\"1\" class=\"dataframe\">\n",
              "  <thead>\n",
              "    <tr style=\"text-align: right;\">\n",
              "      <th></th>\n",
              "      <th>Altitude</th>\n",
              "      <th>Theta</th>\n",
              "      <th>Hour</th>\n",
              "      <th>Month</th>\n",
              "      <th>Day</th>\n",
              "      <th>GSD</th>\n",
              "      <th>North</th>\n",
              "      <th>South</th>\n",
              "      <th>West</th>\n",
              "      <th>East</th>\n",
              "      <th>Background Temperature</th>\n",
              "    </tr>\n",
              "  </thead>\n",
              "  <tbody>\n",
              "    <tr>\n",
              "      <th>0</th>\n",
              "      <td>461.218874</td>\n",
              "      <td>21.299047</td>\n",
              "      <td>02:00</td>\n",
              "      <td>1</td>\n",
              "      <td>2</td>\n",
              "      <td>76.025089</td>\n",
              "      <td>40.829036</td>\n",
              "      <td>40.828186</td>\n",
              "      <td>14.144160</td>\n",
              "      <td>14.145534</td>\n",
              "      <td>286.143799</td>\n",
              "    </tr>\n",
              "    <tr>\n",
              "      <th>1</th>\n",
              "      <td>462.767619</td>\n",
              "      <td>12.416525</td>\n",
              "      <td>02:00</td>\n",
              "      <td>1</td>\n",
              "      <td>5</td>\n",
              "      <td>76.280377</td>\n",
              "      <td>40.829036</td>\n",
              "      <td>40.828186</td>\n",
              "      <td>14.144157</td>\n",
              "      <td>14.145531</td>\n",
              "      <td>287.206543</td>\n",
              "    </tr>\n",
              "    <tr>\n",
              "      <th>2</th>\n",
              "      <td>463.422734</td>\n",
              "      <td>14.037020</td>\n",
              "      <td>02:00</td>\n",
              "      <td>1</td>\n",
              "      <td>5</td>\n",
              "      <td>76.388363</td>\n",
              "      <td>40.829036</td>\n",
              "      <td>40.828186</td>\n",
              "      <td>14.144156</td>\n",
              "      <td>14.145530</td>\n",
              "      <td>287.206543</td>\n",
              "    </tr>\n",
              "    <tr>\n",
              "      <th>3</th>\n",
              "      <td>466.582339</td>\n",
              "      <td>22.475595</td>\n",
              "      <td>15:00</td>\n",
              "      <td>1</td>\n",
              "      <td>5</td>\n",
              "      <td>76.909177</td>\n",
              "      <td>40.829036</td>\n",
              "      <td>40.828186</td>\n",
              "      <td>14.144150</td>\n",
              "      <td>14.145524</td>\n",
              "      <td>288.963867</td>\n",
              "    </tr>\n",
              "    <tr>\n",
              "      <th>4</th>\n",
              "      <td>466.012605</td>\n",
              "      <td>13.759815</td>\n",
              "      <td>15:00</td>\n",
              "      <td>1</td>\n",
              "      <td>5</td>\n",
              "      <td>76.815265</td>\n",
              "      <td>40.829036</td>\n",
              "      <td>40.828186</td>\n",
              "      <td>14.144151</td>\n",
              "      <td>14.145525</td>\n",
              "      <td>288.963867</td>\n",
              "    </tr>\n",
              "  </tbody>\n",
              "</table>\n",
              "</div>\n",
              "    <div class=\"colab-df-buttons\">\n",
              "\n",
              "  <div class=\"colab-df-container\">\n",
              "    <button class=\"colab-df-convert\" onclick=\"convertToInteractive('df-542f1fa8-6b73-4677-9375-1290289fa055')\"\n",
              "            title=\"Convert this dataframe to an interactive table.\"\n",
              "            style=\"display:none;\">\n",
              "\n",
              "  <svg xmlns=\"http://www.w3.org/2000/svg\" height=\"24px\" viewBox=\"0 -960 960 960\">\n",
              "    <path d=\"M120-120v-720h720v720H120Zm60-500h600v-160H180v160Zm220 220h160v-160H400v160Zm0 220h160v-160H400v160ZM180-400h160v-160H180v160Zm440 0h160v-160H620v160ZM180-180h160v-160H180v160Zm440 0h160v-160H620v160Z\"/>\n",
              "  </svg>\n",
              "    </button>\n",
              "\n",
              "  <style>\n",
              "    .colab-df-container {\n",
              "      display:flex;\n",
              "      gap: 12px;\n",
              "    }\n",
              "\n",
              "    .colab-df-convert {\n",
              "      background-color: #E8F0FE;\n",
              "      border: none;\n",
              "      border-radius: 50%;\n",
              "      cursor: pointer;\n",
              "      display: none;\n",
              "      fill: #1967D2;\n",
              "      height: 32px;\n",
              "      padding: 0 0 0 0;\n",
              "      width: 32px;\n",
              "    }\n",
              "\n",
              "    .colab-df-convert:hover {\n",
              "      background-color: #E2EBFA;\n",
              "      box-shadow: 0px 1px 2px rgba(60, 64, 67, 0.3), 0px 1px 3px 1px rgba(60, 64, 67, 0.15);\n",
              "      fill: #174EA6;\n",
              "    }\n",
              "\n",
              "    .colab-df-buttons div {\n",
              "      margin-bottom: 4px;\n",
              "    }\n",
              "\n",
              "    [theme=dark] .colab-df-convert {\n",
              "      background-color: #3B4455;\n",
              "      fill: #D2E3FC;\n",
              "    }\n",
              "\n",
              "    [theme=dark] .colab-df-convert:hover {\n",
              "      background-color: #434B5C;\n",
              "      box-shadow: 0px 1px 3px 1px rgba(0, 0, 0, 0.15);\n",
              "      filter: drop-shadow(0px 1px 2px rgba(0, 0, 0, 0.3));\n",
              "      fill: #FFFFFF;\n",
              "    }\n",
              "  </style>\n",
              "\n",
              "    <script>\n",
              "      const buttonEl =\n",
              "        document.querySelector('#df-542f1fa8-6b73-4677-9375-1290289fa055 button.colab-df-convert');\n",
              "      buttonEl.style.display =\n",
              "        google.colab.kernel.accessAllowed ? 'block' : 'none';\n",
              "\n",
              "      async function convertToInteractive(key) {\n",
              "        const element = document.querySelector('#df-542f1fa8-6b73-4677-9375-1290289fa055');\n",
              "        const dataTable =\n",
              "          await google.colab.kernel.invokeFunction('convertToInteractive',\n",
              "                                                    [key], {});\n",
              "        if (!dataTable) return;\n",
              "\n",
              "        const docLinkHtml = 'Like what you see? Visit the ' +\n",
              "          '<a target=\"_blank\" href=https://colab.research.google.com/notebooks/data_table.ipynb>data table notebook</a>'\n",
              "          + ' to learn more about interactive tables.';\n",
              "        element.innerHTML = '';\n",
              "        dataTable['output_type'] = 'display_data';\n",
              "        await google.colab.output.renderOutput(dataTable, element);\n",
              "        const docLink = document.createElement('div');\n",
              "        docLink.innerHTML = docLinkHtml;\n",
              "        element.appendChild(docLink);\n",
              "      }\n",
              "    </script>\n",
              "  </div>\n",
              "\n",
              "\n",
              "    <div id=\"df-ea799e91-44fe-4906-8714-a7c773cf0a1f\">\n",
              "      <button class=\"colab-df-quickchart\" onclick=\"quickchart('df-ea799e91-44fe-4906-8714-a7c773cf0a1f')\"\n",
              "                title=\"Suggest charts\"\n",
              "                style=\"display:none;\">\n",
              "\n",
              "<svg xmlns=\"http://www.w3.org/2000/svg\" height=\"24px\"viewBox=\"0 0 24 24\"\n",
              "     width=\"24px\">\n",
              "    <g>\n",
              "        <path d=\"M19 3H5c-1.1 0-2 .9-2 2v14c0 1.1.9 2 2 2h14c1.1 0 2-.9 2-2V5c0-1.1-.9-2-2-2zM9 17H7v-7h2v7zm4 0h-2V7h2v10zm4 0h-2v-4h2v4z\"/>\n",
              "    </g>\n",
              "</svg>\n",
              "      </button>\n",
              "\n",
              "<style>\n",
              "  .colab-df-quickchart {\n",
              "      --bg-color: #E8F0FE;\n",
              "      --fill-color: #1967D2;\n",
              "      --hover-bg-color: #E2EBFA;\n",
              "      --hover-fill-color: #174EA6;\n",
              "      --disabled-fill-color: #AAA;\n",
              "      --disabled-bg-color: #DDD;\n",
              "  }\n",
              "\n",
              "  [theme=dark] .colab-df-quickchart {\n",
              "      --bg-color: #3B4455;\n",
              "      --fill-color: #D2E3FC;\n",
              "      --hover-bg-color: #434B5C;\n",
              "      --hover-fill-color: #FFFFFF;\n",
              "      --disabled-bg-color: #3B4455;\n",
              "      --disabled-fill-color: #666;\n",
              "  }\n",
              "\n",
              "  .colab-df-quickchart {\n",
              "    background-color: var(--bg-color);\n",
              "    border: none;\n",
              "    border-radius: 50%;\n",
              "    cursor: pointer;\n",
              "    display: none;\n",
              "    fill: var(--fill-color);\n",
              "    height: 32px;\n",
              "    padding: 0;\n",
              "    width: 32px;\n",
              "  }\n",
              "\n",
              "  .colab-df-quickchart:hover {\n",
              "    background-color: var(--hover-bg-color);\n",
              "    box-shadow: 0 1px 2px rgba(60, 64, 67, 0.3), 0 1px 3px 1px rgba(60, 64, 67, 0.15);\n",
              "    fill: var(--button-hover-fill-color);\n",
              "  }\n",
              "\n",
              "  .colab-df-quickchart-complete:disabled,\n",
              "  .colab-df-quickchart-complete:disabled:hover {\n",
              "    background-color: var(--disabled-bg-color);\n",
              "    fill: var(--disabled-fill-color);\n",
              "    box-shadow: none;\n",
              "  }\n",
              "\n",
              "  .colab-df-spinner {\n",
              "    border: 2px solid var(--fill-color);\n",
              "    border-color: transparent;\n",
              "    border-bottom-color: var(--fill-color);\n",
              "    animation:\n",
              "      spin 1s steps(1) infinite;\n",
              "  }\n",
              "\n",
              "  @keyframes spin {\n",
              "    0% {\n",
              "      border-color: transparent;\n",
              "      border-bottom-color: var(--fill-color);\n",
              "      border-left-color: var(--fill-color);\n",
              "    }\n",
              "    20% {\n",
              "      border-color: transparent;\n",
              "      border-left-color: var(--fill-color);\n",
              "      border-top-color: var(--fill-color);\n",
              "    }\n",
              "    30% {\n",
              "      border-color: transparent;\n",
              "      border-left-color: var(--fill-color);\n",
              "      border-top-color: var(--fill-color);\n",
              "      border-right-color: var(--fill-color);\n",
              "    }\n",
              "    40% {\n",
              "      border-color: transparent;\n",
              "      border-right-color: var(--fill-color);\n",
              "      border-top-color: var(--fill-color);\n",
              "    }\n",
              "    60% {\n",
              "      border-color: transparent;\n",
              "      border-right-color: var(--fill-color);\n",
              "    }\n",
              "    80% {\n",
              "      border-color: transparent;\n",
              "      border-right-color: var(--fill-color);\n",
              "      border-bottom-color: var(--fill-color);\n",
              "    }\n",
              "    90% {\n",
              "      border-color: transparent;\n",
              "      border-bottom-color: var(--fill-color);\n",
              "    }\n",
              "  }\n",
              "</style>\n",
              "\n",
              "      <script>\n",
              "        async function quickchart(key) {\n",
              "          const quickchartButtonEl =\n",
              "            document.querySelector('#' + key + ' button');\n",
              "          quickchartButtonEl.disabled = true;  // To prevent multiple clicks.\n",
              "          quickchartButtonEl.classList.add('colab-df-spinner');\n",
              "          try {\n",
              "            const charts = await google.colab.kernel.invokeFunction(\n",
              "                'suggestCharts', [key], {});\n",
              "          } catch (error) {\n",
              "            console.error('Error during call to suggestCharts:', error);\n",
              "          }\n",
              "          quickchartButtonEl.classList.remove('colab-df-spinner');\n",
              "          quickchartButtonEl.classList.add('colab-df-quickchart-complete');\n",
              "        }\n",
              "        (() => {\n",
              "          let quickchartButtonEl =\n",
              "            document.querySelector('#df-ea799e91-44fe-4906-8714-a7c773cf0a1f button');\n",
              "          quickchartButtonEl.style.display =\n",
              "            google.colab.kernel.accessAllowed ? 'block' : 'none';\n",
              "        })();\n",
              "      </script>\n",
              "    </div>\n",
              "\n",
              "    </div>\n",
              "  </div>\n"
            ],
            "application/vnd.google.colaboratory.intrinsic+json": {
              "type": "dataframe",
              "variable_name": "df",
              "summary": "{\n  \"name\": \"df\",\n  \"rows\": 1126,\n  \"fields\": [\n    {\n      \"column\": \"Altitude\",\n      \"properties\": {\n        \"dtype\": \"number\",\n        \"std\": 44.23888290144552,\n        \"min\": 200.49898855008,\n        \"max\": 467.5379292192119,\n        \"num_unique_values\": 1126,\n        \"samples\": [\n          296.3929624130287,\n          305.5024601671166,\n          410.2904942601463\n        ],\n        \"semantic_type\": \"\",\n        \"description\": \"\"\n      }\n    },\n    {\n      \"column\": \"Theta\",\n      \"properties\": {\n        \"dtype\": \"number\",\n        \"std\": 6.221743597466136,\n        \"min\": 0.7595856119970049,\n        \"max\": 38.48813061150809,\n        \"num_unique_values\": 1126,\n        \"samples\": [\n          31.60211574486441,\n          7.549874772271907,\n          20.06773943859937\n        ],\n        \"semantic_type\": \"\",\n        \"description\": \"\"\n      }\n    },\n    {\n      \"column\": \"Hour\",\n      \"properties\": {\n        \"dtype\": \"object\",\n        \"num_unique_values\": 5,\n        \"samples\": [\n          \"15:00\",\n          \"16:00\",\n          \"14:00\"\n        ],\n        \"semantic_type\": \"\",\n        \"description\": \"\"\n      }\n    },\n    {\n      \"column\": \"Month\",\n      \"properties\": {\n        \"dtype\": \"number\",\n        \"std\": 3,\n        \"min\": 1,\n        \"max\": 12,\n        \"num_unique_values\": 12,\n        \"samples\": [\n          11,\n          10,\n          1\n        ],\n        \"semantic_type\": \"\",\n        \"description\": \"\"\n      }\n    },\n    {\n      \"column\": \"Day\",\n      \"properties\": {\n        \"dtype\": \"number\",\n        \"std\": 8,\n        \"min\": 1,\n        \"max\": 31,\n        \"num_unique_values\": 31,\n        \"samples\": [\n          28,\n          6,\n          1\n        ],\n        \"semantic_type\": \"\",\n        \"description\": \"\"\n      }\n    },\n    {\n      \"column\": \"GSD\",\n      \"properties\": {\n        \"dtype\": \"number\",\n        \"std\": 7.292123555183325,\n        \"min\": 33.04928382693626,\n        \"max\": 77.06669162954043,\n        \"num_unique_values\": 1126,\n        \"samples\": [\n          48.8559828153344,\n          50.357548379195045,\n          67.63030125167246\n        ],\n        \"semantic_type\": \"\",\n        \"description\": \"\"\n      }\n    },\n    {\n      \"column\": \"North\",\n      \"properties\": {\n        \"dtype\": \"number\",\n        \"std\": 3.838635696882571e-13,\n        \"min\": 40.829036,\n        \"max\": 40.829036,\n        \"num_unique_values\": 1,\n        \"samples\": [\n          40.829036\n        ],\n        \"semantic_type\": \"\",\n        \"description\": \"\"\n      }\n    },\n    {\n      \"column\": \"South\",\n      \"properties\": {\n        \"dtype\": \"number\",\n        \"std\": 6.61098370018665e-13,\n        \"min\": 40.828186,\n        \"max\": 40.828186,\n        \"num_unique_values\": 1,\n        \"samples\": [\n          40.828186\n        ],\n        \"semantic_type\": \"\",\n        \"description\": \"\"\n      }\n    },\n    {\n      \"column\": \"West\",\n      \"properties\": {\n        \"dtype\": \"number\",\n        \"std\": 8.657152495089612e-05,\n        \"min\": 14.14414807021764,\n        \"max\": 14.144670641467156,\n        \"num_unique_values\": 1126,\n        \"samples\": [\n          14.144482985563425\n        ],\n        \"semantic_type\": \"\",\n        \"description\": \"\"\n      }\n    },\n    {\n      \"column\": \"East\",\n      \"properties\": {\n        \"dtype\": \"number\",\n        \"std\": 8.65715249508376e-05,\n        \"min\": 14.14552207021764,\n        \"max\": 14.146044641467157,\n        \"num_unique_values\": 1126,\n        \"samples\": [\n          14.145856985563425\n        ],\n        \"semantic_type\": \"\",\n        \"description\": \"\"\n      }\n    },\n    {\n      \"column\": \"Background Temperature\",\n      \"properties\": {\n        \"dtype\": \"number\",\n        \"std\": 5.915273165192039,\n        \"min\": 280.90869140625,\n        \"max\": 304.031982421875,\n        \"num_unique_values\": 613,\n        \"samples\": [\n          290.47607421875\n        ],\n        \"semantic_type\": \"\",\n        \"description\": \"\"\n      }\n    }\n  ]\n}"
            }
          },
          "metadata": {},
          "execution_count": 4
        }
      ]
    },
    {
      "cell_type": "markdown",
      "source": [
        "#Constants"
      ],
      "metadata": {
        "id": "eQp9L6R_MqM4"
      }
    },
    {
      "cell_type": "code",
      "source": [
        "c1 = 3.7418e8\n",
        "c2 = 1.4388e4\n",
        "h = 6.626e-34\n",
        "c = 3e8"
      ],
      "metadata": {
        "id": "4Ysz21QvnxB5"
      },
      "execution_count": 5,
      "outputs": []
    },
    {
      "cell_type": "code",
      "source": [
        "epsilon = 0.95\n",
        "tau_0 = 0.89\n",
        "eta = 0.7\n",
        "t = 0.01\n",
        "focal_length = 72.8\n",
        "F_number = 1.05\n",
        "D = (focal_length / F_number) / 1000\n",
        "NEDT = 0.0441 # NEDT = 44.1mK\n",
        "lambda_range = np.arange(8, 14.1, 0.1)\n",
        "delta_lambda = 0.1"
      ],
      "metadata": {
        "id": "mpAPNyhb0tvI"
      },
      "execution_count": 6,
      "outputs": []
    },
    {
      "cell_type": "markdown",
      "source": [
        "#Variables"
      ],
      "metadata": {
        "id": "ytO2xQicMvCp"
      }
    },
    {
      "cell_type": "code",
      "source": [
        "tau_a = 0.5\n",
        "Tt = 413.15\n",
        "At = 100"
      ],
      "metadata": {
        "id": "WMI05q0F0wkO"
      },
      "execution_count": 7,
      "outputs": []
    },
    {
      "cell_type": "markdown",
      "source": [
        "#Functions"
      ],
      "metadata": {
        "id": "yttcBdYBMkkJ"
      }
    },
    {
      "cell_type": "code",
      "source": [
        "def compute_sT(T):\n",
        "    M_lambda = c1 / (lambda_range**5 * (np.exp(c2 / (lambda_range * T)) - 1))\n",
        "    E_lambda = epsilon * M_lambda\n",
        "    S_lambda = lambda_range * E_lambda * tau_a * tau_0 * eta * delta_lambda\n",
        "    S_sum = np.sum(S_lambda)\n",
        "    return S_sum"
      ],
      "metadata": {
        "id": "Tb6LLUYrbDY9"
      },
      "execution_count": 8,
      "outputs": []
    },
    {
      "cell_type": "code",
      "source": [
        "def compute_s(R, theta_deg, A0, S_sum):\n",
        "  cos_theta = np.cos(np.deg2rad(theta_deg))\n",
        "  S_total = (D**2 * t * cos_theta * A0) / (4 * R**2 * h * c) * S_sum\n",
        "  return S_total"
      ],
      "metadata": {
        "id": "MUREo2Icnz7c"
      },
      "execution_count": 9,
      "outputs": []
    },
    {
      "cell_type": "markdown",
      "source": [
        "#Sb"
      ],
      "metadata": {
        "id": "uWf1Euak4dqj"
      }
    },
    {
      "cell_type": "code",
      "source": [
        "df[\"Background Area\"] = df[\"GSD\"]**2\n",
        "df['Sum of Background'] = df['Background Temperature'].apply(compute_sT)\n",
        "df[\"Background Signal\"] = compute_s(df[\"Altitude\"], df[\"Theta\"], df[\"Background Area\"], df[\"Sum of Background\"])"
      ],
      "metadata": {
        "id": "ADiZzcXS9GQb"
      },
      "execution_count": 10,
      "outputs": []
    },
    {
      "cell_type": "markdown",
      "source": [
        "#SNEDT"
      ],
      "metadata": {
        "id": "Uu-gdbOe46wM"
      }
    },
    {
      "cell_type": "code",
      "source": [
        "df[\"NEDT Temp\"] = df[\"Background Temperature\"] + NEDT\n",
        "df['Sum of NEDT'] = df['NEDT Temp'].apply(compute_sT)\n",
        "df[\"NEDT S\"] = df['Sum of NEDT'] - df['Sum of Background']\n",
        "df[\"NEDT Signal\"] = compute_s(df[\"Altitude\"], df[\"Theta\"], df[\"Background Area\"], df[\"Sum of NEDT\"])"
      ],
      "metadata": {
        "id": "uJ9NYbGLBV6l"
      },
      "execution_count": 11,
      "outputs": []
    },
    {
      "cell_type": "markdown",
      "source": [
        "#Smix"
      ],
      "metadata": {
        "id": "grR8nvRN5d6O"
      }
    },
    {
      "cell_type": "code",
      "source": [
        "s_Tt= compute_sT(Tt)\n",
        "print(f'St: {s_Tt:.2f}')"
      ],
      "metadata": {
        "colab": {
          "base_uri": "https://localhost:8080/"
        },
        "id": "6ZOvLhDd5t8f",
        "outputId": "1b1d7fe2-3243-43b2-916e-4f0d25e04fca"
      },
      "execution_count": 12,
      "outputs": [
        {
          "output_type": "stream",
          "name": "stdout",
          "text": [
            "St: 1980.74\n"
          ]
        }
      ]
    },
    {
      "cell_type": "code",
      "source": [
        "df[\"Target Signal\"] = compute_s(df[\"Altitude\"], df[\"Theta\"], df[\"Background Area\"], s_Tt)"
      ],
      "metadata": {
        "id": "Ke66eK-kGFJf"
      },
      "execution_count": 13,
      "outputs": []
    },
    {
      "cell_type": "code",
      "source": [
        "df[\"Mix Signal\"] = (df[\"Background Signal\"] * (1 - (At/df['Background Area']))) + df[\"Target Signal\"]"
      ],
      "metadata": {
        "id": "ki9LzYYNGWgd"
      },
      "execution_count": 14,
      "outputs": []
    },
    {
      "cell_type": "markdown",
      "source": [
        "#SNR"
      ],
      "metadata": {
        "id": "duIhrnc26yC_"
      }
    },
    {
      "cell_type": "code",
      "source": [
        "df[\"SNR\"] = (df[\"Mix Signal\"] - df['Background Signal']) / df[\"NEDT Signal\"]"
      ],
      "metadata": {
        "id": "GKA4pzBCGyiX"
      },
      "execution_count": 15,
      "outputs": []
    },
    {
      "cell_type": "markdown",
      "source": [
        "#Visualization"
      ],
      "metadata": {
        "id": "w-1ahv_O07lY"
      }
    },
    {
      "cell_type": "code",
      "source": [
        "df.columns"
      ],
      "metadata": {
        "colab": {
          "base_uri": "https://localhost:8080/"
        },
        "id": "N2Nza7pUxswm",
        "outputId": "1f9c884f-be4c-4aec-e5a9-ca5789c0b8e4"
      },
      "execution_count": 16,
      "outputs": [
        {
          "output_type": "execute_result",
          "data": {
            "text/plain": [
              "Index(['Altitude', 'Theta', 'Hour', 'Month', 'Day', 'GSD', 'North', 'South',\n",
              "       'West', 'East', 'Background Temperature', 'Background Area',\n",
              "       'Sum of Background', 'Background Signal', 'NEDT Temp', 'Sum of NEDT',\n",
              "       'NEDT S', 'NEDT Signal', 'Target Signal', 'Mix Signal', 'SNR'],\n",
              "      dtype='object')"
            ]
          },
          "metadata": {},
          "execution_count": 16
        }
      ]
    },
    {
      "cell_type": "code",
      "source": [
        "fig = px.scatter_3d(df, x='Theta', y='Altitude', z=\"SNR\",\n",
        "                    color=\"SNR\", title=\"SNR vs Theta and Altitude\")\n",
        "fig.show()\n"
      ],
      "metadata": {
        "colab": {
          "base_uri": "https://localhost:8080/",
          "height": 542
        },
        "id": "bey7YNdCxKru",
        "outputId": "913f77f9-2ad4-4263-d34b-ed55901d9119"
      },
      "execution_count": 17,
      "outputs": [
        {
          "output_type": "display_data",
          "data": {
            "text/html": [
              "<html>\n",
              "<head><meta charset=\"utf-8\" /></head>\n",
              "<body>\n",
              "    <div>            <script src=\"https://cdnjs.cloudflare.com/ajax/libs/mathjax/2.7.5/MathJax.js?config=TeX-AMS-MML_SVG\"></script><script type=\"text/javascript\">if (window.MathJax && window.MathJax.Hub && window.MathJax.Hub.Config) {window.MathJax.Hub.Config({SVG: {font: \"STIX-Web\"}});}</script>                <script type=\"text/javascript\">window.PlotlyConfig = {MathJaxConfig: 'local'};</script>\n",
              "        <script charset=\"utf-8\" src=\"https://cdn.plot.ly/plotly-2.35.2.min.js\"></script>                <div id=\"b2cc9f17-ca47-4c5c-8d3e-ea5d91b44776\" class=\"plotly-graph-div\" style=\"height:525px; width:100%;\"></div>            <script type=\"text/javascript\">                                    window.PLOTLYENV=window.PLOTLYENV || {};                                    if (document.getElementById(\"b2cc9f17-ca47-4c5c-8d3e-ea5d91b44776\")) {                    Plotly.newPlot(                        \"b2cc9f17-ca47-4c5c-8d3e-ea5d91b44776\",                        [{\"hovertemplate\":\"Theta=%{x}\\u003cbr\\u003eAltitude=%{y}\\u003cbr\\u003eSNR=%{marker.color}\\u003cextra\\u003e\\u003c\\u002fextra\\u003e\",\"legendgroup\":\"\",\"marker\":{\"color\":[4.338187416201043,4.263968917760094,4.264017438581076,4.145169314382185,4.1451279803055545,4.437641281783727,4.73224415804374,4.325046962580536,4.325082746044061,4.220333550284646,4.22028213433208,4.147371799749775,4.5737416130548585,4.57376620716508,4.296141433213092,4.510238083275943,4.226092243824533,4.2260406635191785,4.453667835372903,4.453679109578381,4.257382666042351,4.2573385256739025,4.236357710882101,4.23631769638128,4.465869023567699,4.465875145253135,4.509649672672057,4.21183358719904,4.21180546525332,4.302735487392853,4.302743068988145,4.212331834777923,4.272918657607381,4.356501488386015,4.356518210013491,4.207037063317158,4.390971388813294,4.30662105858858,4.344706802474759,4.344734877114269,4.557989614980567,4.558022993798924,4.233742174252386,4.255700972988454,4.266282011080097,4.266326863306373,4.140050754201221,4.1572810101828965,4.147773180673963,4.147825124105545,3.9756759218765696,3.9756552172894546,4.148386255638157,4.288924867094604,4.288977721899742,4.054317423948722,4.054285555783599,4.169213526077594,4.16917747085279,4.081286762455409,4.081316012868877,4.081348663420221,3.8837177497649416,3.8836751988402645,4.203793635417541,4.3420318871885675,4.231706251261,4.142814454810838,4.017893254862032,4.017921752689599,4.050649875639911,4.050596182143849,4.198876563046827,4.088299829661608,4.088317591280754,3.9095838671948693,3.909533392530866,4.063999991839517,4.064012243697939,3.967222774719434,3.7764361866721647,3.7763942892621984,3.9636200466264775,3.9636268208821615,3.8592281002007707,3.8979968936344784,3.8979671139657874,3.9549106568498638,3.8129686092076573,3.8129472041579646,3.9764580453374583,3.839709015789809,3.839721922090783,3.6584765269192276,3.658464818429875,3.8102698453841923,3.810288442509607,3.6643881298970893,3.7229818748130468,3.722975300667416,3.687976036260668,3.688007635133704,3.429848363211626,3.429841971767892,3.822069516107865,3.56801588241895,3.568005224286802,3.690882046896432,3.739397551550513,3.7393818661184994,3.665545501385205,3.6655977898334844,3.581852256089619,3.42738685761838,3.4273609618623295,3.548644456205086,3.5486974931010438,3.4086426254750353,3.4086096468564855,3.5877622772545266,3.5577821623043056,3.4562300621194497,3.456186635657494,3.5073677008361206,3.5074106568945984,3.328477485348301,3.3284287828031487,3.5160449174219903,3.516081489246496,3.3577802531448397,3.41041482429782,3.410440335134577,3.290280219358921,3.290227180691911,3.4962481925079465,3.4962670734444674,3.335343957781822,3.5376910828355026,3.548341379784871,3.511681048757636,3.3769960413229114,3.376953933206026,3.5490344503994047,3.5490420984462347,3.454051401975891,3.554861946169351,3.554868885266191,3.5262549221105255,3.4265361804391197,3.5686688401983453,3.690079483320223,3.5454403572227746,3.545424307467477,3.8574423147000725,3.8574578242070676,3.8214093984729636,3.8213984147167004,3.899555312495155,3.8995771527072693,3.68316401161243,3.6831561420370407,3.8242622378668996,3.745286425585468,3.9652410576729435,3.9006196107175946,3.8461747516332676,3.846164286117915,3.8433036951136015,3.843351589335861,3.757439652764176,3.9751745023010248,3.975227099243902,3.822854217260526,3.8228331360966457,3.899057059759114,3.899111329676388,3.877447515382503,3.8774196707519075,3.863964757447682,3.7791776705030347,3.9543831659517927,3.9544341164107855,3.8169901309869516,3.813594675645392,4.065885670353805,3.8857583879076385,4.08020676338639,4.004080706514404,4.2435832543128615,4.391425423108813,4.164852492695764,4.164798361251976,4.123643709408072,4.123590985458673,4.198814089548012,4.023710540063611,4.023661319625824,4.269286250441428,4.246873544635183,4.246837374971479,4.241020161937629,4.354367346242555,4.411300559059385,4.263672155181224,4.417959536231999,4.3461760480820875,4.3461906821114935,4.579180897782456,4.51574149076125,4.515745262358606,4.254993101951262,4.336355962568838,4.3363857173578095,4.245480765770764,4.39902341694876,4.399060948777981,4.424905194851452,4.424896166784775,4.564359471867984,4.435265301711169,4.435253112015229,4.249792449950032,4.140666456238618,4.150384494463699,4.428871587302606,4.571879759381785,4.2960600715420805,4.606738023682478,4.606792749326332,4.33857965929123,4.338547028442716,4.535141956410264,4.535194988832421,4.271663156564797,4.271623745394377,4.348889017364609,4.222578199119793,4.22253252929953,4.298739789742293,4.509193340349276,4.509234570347206,4.211835527050931,4.400218602432475,4.400253144346459,4.1956040227580935,4.4852044375596645,4.485232135616281,4.303671766053931,4.303616813622934,4.255708783407171,4.255656685862108,4.526953931647832,4.5269727254579255,4.364664709839309,4.36467853602754,4.286180546135653,4.286134722148905,4.557982872877817,4.231905012366875,4.231866501663332,4.361326169692722,4.361335505157808,4.139578362591407,4.256140173613323,4.256151251465566,4.179320645444371,4.179298872397509,4.039636160155065,4.243154512032839,4.24317201904074,4.146316105223504,4.287293681204425,4.052435996979832,4.052425656260874,4.09573308920244,3.8530576469173567,3.853047726813387,4.544806813767158,4.544842917583705,4.159972267558543,4.1599600576808236,4.449494250537151,4.2939131470670615,4.293963882694732,4.142201945839506,4.050269776847385,4.331721344918031,4.1527944023948,4.12879806915327,4.043158688405783,4.0431248171209315,4.06910552402326,3.9774254322151483,3.793204479884175,3.793161199087687,3.962870676492385,3.859226133865111,3.859175456648684,3.8271405918062538,3.8270864520394112,3.9467972260601263,3.946833383974121,3.822937265992113,3.8228822010199024,3.964038021443238,3.8176131407454013,3.918272031078143,3.7195182514113725,3.7456540503575013,3.7456744761073306,3.6435857254908255,3.8103446189513543,3.6630708809184593,3.804177338083303,3.627940054669183,3.7330826095571736,3.8156038674128334,3.6346606624981206,3.6346260074252545,3.8080146543367066,3.713935395418219,3.713946542516156,3.5694415605087233,3.569416822212428,3.690005643054616,3.6643261381119747,3.5238249530457524,3.523809800223681,3.606294179509755,3.5640104611482215,3.3621082154319324,3.3620977160461516,3.537926968092377,3.5379548926073974,3.3958366078738016,3.5419207873897114,3.449501649087926,3.4494912760987058,3.5555654981720513,3.5556041039486193,3.454803771817101,3.49265452574696,3.3378001666671295,3.486127477990118,3.486182145329917,3.3556589892486293,3.3556348709121435,3.489115354252239,3.489150653312566,3.329757818258632,null,3.4945228438258784,3.4945539312149894,3.546929276571026,3.4237443201057394,3.5336073857499004,3.533658902808445,3.394181967661744,3.394136622032085,3.56915203803436,3.5691964613831684,3.3927991954889496,3.3927468567415726,3.6199540467478006,3.6199893654507256,3.426083275190033,3.426027403218761,3.56835723184786,3.5683898052345473,3.402177032348732,3.967444817747347,3.88060853332736,3.880631968403088,3.7397762772081093,3.835192752538421,3.7041104544622074,3.854347069369653,3.7038418423992514,3.9648441803400303,3.9648560144624927,3.792634083438689,3.812364938287375,3.812379097012617,3.712476373908568,3.7124540882336743,3.695029501393385,3.897416283440718,3.897438869586733,3.8752625426949012,3.9089226107121897,3.783120768428753,3.9632849002781483,3.963321433314942,3.7529393549892633,4.120857814292108,3.8846495348991166,3.8846322690944715,4.077845123850812,4.442524206618963,4.442580533952251,4.183628418109596,4.183600921046312,4.297129573544193,4.109415121396559,4.5442548739354685,4.2452160611730125,4.1971461813438395,4.197201129066026,4.023509423644793,4.023467226453357,4.352659204792001,4.326318726876205,4.324874071301222,4.3249189567262825,4.268064864493087,4.268011042679021,4.500737695448456,4.500770956413323,4.262884866524458,4.417561361968934,4.417591847132791,4.314384824589818,4.508596993802332,4.257779301524699,4.315146226150807,4.474297494411638,4.474315668104815,4.214337651968845,4.214288892764141,4.473665707073967,4.537423214542167,4.5374363853243365,4.417338645373152,4.417304391193818,4.515165892313495,4.5151791098876695,4.432907078103803,4.304106630382249,4.649362933817924,4.721356981959884,4.426501507031142,4.426484256044873,4.570221415080289,4.293711538624388,4.586107088953086,4.234243520525537,4.450170702453942,4.450209946080715,4.255766809158115,4.25575358426285,4.316492574081164,4.316534461919404,4.229334984282503,4.229320520881008,4.402337084488918,4.402391691068214,4.164826857762439,4.164803295673592,4.383838740607202,4.383894261262566,4.270148151332432,4.270122277623979,4.470551708023582,4.470608568030316,4.168935536438293,4.525135430810335,4.525191820319861,4.355694590845238,4.355651393459527,4.389421170024987,4.3894760793068865,4.3049321530709665,4.304886512517425,4.505029945668476,4.2687592997923325,4.254549086645118,4.025503905436924,4.360546844373655,4.138822148185811,4.346616428375627,4.346652382573899,4.162932070256619,4.162873921582009,4.349909634785982,4.154116669025643,4.286831263823089,4.286850058161668,4.050521081019238,4.154798451455694,4.154815499124674,3.9618733362434275,3.961826065028423,4.357289136279671,4.357305320678368,4.094279187434215,4.094234921939419,4.106557783803429,3.8659079348117014,4.160530756167773,3.85829695075031,4.049749636448281,3.8565632164054255,4.1146461653533235,4.114670730441258,4.136307985462068,4.13628942582617,4.238173849300631,4.238199908477253,4.0327462412202895,4.0327297436254925,4.194997162237874,4.195026183324469,3.970622845625045,4.040864860793048,3.9573085968073327,3.9442714496942233,3.821843046399537,3.821814123123867,3.835446955451929,3.835505232306692,3.7650621889783897,3.7650306693343647,3.930051962933529,3.930110201999483,3.8455079587327954,3.845473827266384,3.974055692334543,3.974114380924053,3.7692205213910652,3.7691838207937636,3.8741007933832123,3.874159282327145,3.657361537337759,3.8163070775450283,3.816364831626192,3.647250624239593,3.642957791766418,3.5983720955782292,3.4012703621322418,3.5633170260706897,3.360011984610319,3.359963419039376,3.537206493490989,3.537224781755966,3.393608580354675,3.3935629244410297,3.5467520987363588,3.3809910009339568,3.3809473664835434,3.584814278137738,3.5848305848720305,3.396935889160966,3.3968953279513667,3.5489142891726537,3.54893024854668,3.3721865970175826,3.372149565860752,3.5660117151296795,3.5660279852935597,3.374466614698213,3.374431156659165,3.5035375079761946,3.5035546168475893,3.3712584636135405,3.3712267948568075,3.5038367248008155,3.5038538781211033,3.324675361408998,3.3246463838290086,3.491252158759184,3.4912708744784395,3.335100971660467,3.3350736736745263,3.550093319811654,3.3740711327627784,3.3740461849182135,3.5058580722442727,3.505879238472715,3.364982240144771,3.364959050142113,3.4945000347412036,3.4945232942991002,3.3545356307297864,3.3545145613860217,3.5157921230272606,3.515817606204755,3.4044722714187547,3.4044531567247263,3.4945678357561163,3.4945966384116214,3.2904532556538504,3.2904351186168546,3.4235471358175826,3.4235652908133014,3.311944184906434,3.311927252632956,3.486791505162651,3.4868241786665912,3.3273104353506207,3.327293290630964,3.4921038153108968,3.49212826512521,3.332897134426504,3.332880713159215,3.475592208995423,3.4756230259523817,3.554146404394224,3.7064298433264113,3.460736827391656,3.460719470358664,3.5272781119514525,3.383323337884199,3.5077697738580254,3.375057335622129,3.3750378078247594,3.532878199725643,3.392513520345242,3.557580209434777,3.5576330716327758,3.3961612473029352,3.3961383290427554,3.5664123143485917,3.39121938595007,3.520062869695484,3.520119158076423,3.3913531689117473,3.3913261820209946,3.5515738642347916,3.551631807842655,3.52461124993328,3.524581733613615,3.5575066254558325,3.64181610757715,3.5980763611492153,3.3841145353523245,3.384079985889181,3.5054326583904243,3.505492414317239,3.558090804129742,3.687437154558725,3.6874971589276124,3.5436420419104304,3.5436022405680747,3.806350172198123,3.8064096277964774,3.9863600564657524,3.986317502851741,3.878350780081909,3.8784095061830945,3.738901300983607,4.005875764510779,4.005933396714926,3.928488232714337,3.928440675049947,4.0109225958336445,4.010978958620517,3.8498842841501615,3.8498341886821543,3.897558544070985,3.8976131611055354,3.6808060807318284,3.680753749200331,3.8592730324950626,3.859325666682594,3.754554490084661,3.7545004728131284,3.844959422395915,3.845010189708174,3.8065863990522435,3.806530543598084,3.7434671000978876,3.74351558301451,3.630938169963006,3.9193753361233723,3.9194213639836057,3.742231884587604,3.9634910536559342,3.791540612363056,3.7737787927357074,3.739095985006379,4.04270070564398,3.7502646869019727,3.9927339956043997,3.8095954105406302,3.809556821893235,4.038925998381791,4.038944809793363,3.8093254055175674,4.0620636023650425,4.062083138253599,3.81219939916271,3.8121665723071234,4.130543942892239,4.130565171711332,3.8904661764913144,4.11245059382356,4.112473284543866,3.8825126359143303,3.8824851749290668,4.108831119837517,4.541470189280885,4.242439150535714,4.19430277658745,4.194348038777814,4.021072499261004,4.021052331921407,4.134951711944784,4.134999771806426,4.032816995691306,4.032795755410691,4.45257528559203,4.404753723340722,4.407793255974511,4.245431948171805,4.361352521397342,4.361414222627671,4.29314486924466,4.293106104733546,4.4125164574246325,4.4125784584618994,4.169975323699758,4.169933955392306,4.398045046917809,4.460165581795764,4.460219871584055,4.2056928308674175,4.205636054985207,4.183775121526377,4.233727823476659,4.229470337854617,4.141124893572154,4.4311737313428585,4.5978076515245645,4.379834203767693,4.320415845354827,4.320449683441501,4.215363377791076,4.215302470803728,4.1152706337914475,4.505276022681913,4.505299836267998,4.2212225468378515,4.221171486641153,4.603388391403652,4.3336394257158855,4.377394138369427,4.231790850002135,4.231754383751661,4.318793868966462,4.318817127240283,4.206802320434427,4.206768452224612,4.290346143122585,4.421988047090847,4.208307729775281,4.395283098600079,4.3953161918639205,4.191586282720177,4.191562437516095,4.473515459607611,4.332016993834892,4.286321014587665,4.2862984429592,4.414903218974017,4.414951304614172,4.252461123531038,4.25243813822544,4.283286268098314,4.340104022381731,4.340163005036111,4.389213717126192,4.448155979018637,4.353892499943875,4.0900460995759875,4.090005659111845,4.261879478079342,4.151214506096352,4.151276315711126,3.9780221541078364,3.977970106839642,4.093622069410042,4.127911039338956,4.28431174107653,4.284366140893726,4.048752993152534,4.092864080701343,3.8488218989963334,3.8487565938438126,4.0570869394187286,4.119452386209582,4.119387909781414,4.336735064633267,4.336770151228276,4.225849518019788,3.8780359763396968,4.04787435409799,4.047902710616447,3.853687021046925,4.022581071077067,4.139250490982151,4.13927551796301,3.9310534347859565,3.9310042308209834,3.8764732773613453,4.057963295665316,4.057989099451245,3.8328673587447732,3.82006857357485,3.820033957829004,3.866330879868683,4.003941537757203,4.003975961307715,3.812383944459845,3.812355022381472,3.938466340823067,3.9267203061125913,3.926765026268321,3.8419372080513505,3.8419111735250935,3.6534621422158144,3.6534348533619236,3.800021614143987,3.8000751101996,3.9238256710294577,3.9238845718399595,3.7138036860654067,3.713772284833911,3.5585267276406545,3.602790863884915,3.6312231510823563,3.8031797171970445,3.8032457409234386,3.6324665948176804,3.7094885782285005,3.5658556815310796,3.565804204009184,3.740748186893701,3.532126639725958,3.532069289602501,3.660366421826054,3.4211009632097165,3.5952810099298937,3.5953373505569384,3.5608360936289882,3.3673434048562543,3.3672768850300514,3.546253111731035,3.3695392823418406,3.369472392516325,3.495477342140804,3.4955161262440897,3.362870159364389,3.3628051018448315,3.547623025485267,3.3708777692237737,3.3708156646788523,3.4817693440428776,3.4817997730180053,3.3494909777475876,3.3494343408932057,3.4209818367788194,3.4210104600455766,3.308190230407775,3.480193024121325,3.480222020729637,3.3339403375586487,3.3338953211125246,3.5242677560955875,3.5242912510726176,3.379208873772037,3.5191288680102675,3.5191566088350537,3.5191849335362506,3.412668933855795,3.4126352188479405,3.5165531202490334,3.516594803347678,3.3871611097579546,3.411489795876051,3.613475822308205,3.613523614647303,3.5014747275032096,3.554080734492395,4.0259217537406435,4.025979688273942,3.759700903708208,3.7596689080068044,4.006589666085417,4.006654018579417,3.6997425809221434,3.7390881719652582,3.6275861411744224,3.6275410103969197,3.948996777950814,3.949067077390951,4.0384541382673715,3.973138506678018,3.973082535028449,3.807238947972618,3.8073062575609358,3.972924350052118,3.972989032109396,3.8250301107906766,3.8249651142435446,3.820865563648652,3.8209257431393535,3.8710488625634087,3.8711057292833098,3.6745941865652365,3.6745233187911195,3.771388210980882,3.9474633851712366,4.035438266622779,4.035482688699643,3.8055370540465727,3.854089790393133,4.105356867804957,4.287157049620488,4.2871930589404,4.0490456145024725,4.048984497087473,4.436673183431344,4.176154042446964,4.176095319677108,4.007484871652209,4.190288722422443,4.184313376725846,4.184354025205378,4.408973132734887,4.409016599159772,4.1991272227657666,4.344983653632256,4.345030565856356,4.319114027344166,4.232295018083244,4.2323456483362865,4.384362687363833,4.384325318855782,4.437175543086746,4.347000465666345,4.346963353479897,4.327861584273792,4.327824447191824,4.407232642415561,4.164825280400569,4.164787292088794,4.556442230498394,4.556402030624484,4.3905315061569885,4.571717148148209,4.571674202521676,4.527529417827244,4.3686838969527635,4.368638101927549,4.466484869317964,4.208242652965144,4.1780669812791045,4.178143453250479,4.228987077264228,4.228934874615463,4.1817120705559265,4.148759501366372,4.391030951395408,4.391107470235563,4.416568899578873,4.603969015345013,4.604044781696216,4.722157851377334,4.722232306054895,4.131626345736324,4.646696137894717,4.359239811495529,4.359163762985411,4.487779322684032,4.264020421705299,4.598174925976715,4.598234762601714,4.589209942103862,4.231168235673941,4.255268955333069,4.255192065194626,4.342272587220222,4.3423225288692615,4.212266117717362,4.28522173973189,4.201507591274168,4.201437923171769,4.429543657517197,4.429588503361281,4.202125252167216,4.462576984504696,4.24670514623875,4.481487025007145,4.293445298012852,4.293387324525538,4.192362688299769,4.1924097475803155,4.346088743782864,4.34603691947045,4.414783092499821,4.363723276613956,4.382165714820496,4.382116854847324,4.546790644252769,4.5468532672986495,4.236203836713415,4.314556822025274,4.314624641697786,4.127989969753761,4.339489150321919,4.169300781847248,4.154772207737674,4.154853459976997,4.229190479736883,4.229274940858496,4.34310151313703,4.343182651634432,4.101214255383746,4.154074840424,4.156399949451316,4.08599542076272,3.841514356267898,4.394139435292943,4.394224088682943,4.190684446898877,4.360481031106626,4.360563952307385,4.287951670525144,3.938642853727967,4.036906504397664,4.197493262237873,4.1975644502572225,3.959707475673628,3.8386726882429874,3.8385775806247393,4.061399142500306,4.061463142571308,3.7951431174446713,3.7950500762550403,3.9604161564789564,3.6176592881114455,3.6175684613174925,4.026614615060336,4.026675302584693,3.876769839570816,3.9384022944762083,3.800184331004863,3.800103160125858,3.965840730987052,3.7618366161196777,3.761758737738959,3.7911273666030803,3.641762160135049,3.641687166796592,3.9230858945156397,3.6530542637811942,3.652979728344243,3.586996425612442,3.633030921374157,3.6329548978666653,3.7748883004868676,3.5651313277961,3.565050410888885,3.6822204951229778,3.763715680757957,3.7638200276028546,3.560217819545754,3.568345043156815,3.568454656611647,3.424276918214703,3.406128568263754,3.406025553556631,3.5561057774383804,3.5345854956461316,3.534696581819595,3.4131860432566543,3.3918791619215076,3.4929801387260264,3.49308953839362,3.4872552347996484,3.4873647507098418,3.312921959832846,3.2967592928228635,3.296631504095092,3.3327834473376345,3.4697716633521596,3.5079054717585367,3.508012459301926,3.2834124165941616,3.273972643174665,3.2738360046292034,3.3056125218229644,3.494948729502464,3.516478685075842,3.5165982534517375,3.4990907347524653,3.4992116111422504,3.5064459629689244,3.506569953137996,3.5340514748377516,3.5341787248281773,3.5276314095224803,3.5277618982886603,3.548151328480229,3.5200255803999045,3.5022637415163627,3.502403841564856,3.5224837268091402,3.5316931881782856,3.5318405269839723,3.5930706061274846,3.593222679950516,3.522457981075358,3.522612973700984,3.598578682039613,3.598739615616248,3.5725433123367294,3.572708077860331,3.7008356486030163,3.7006006249472767,3.782403202840514,3.8982743507650217,3.654404576305651,3.654027595315288,3.8148438506736824,3.815189750231564],\"coloraxis\":\"coloraxis\",\"symbol\":\"circle\"},\"mode\":\"markers\",\"name\":\"\",\"scene\":\"scene\",\"showlegend\":false,\"x\":[21.299046904491654,12.416525172908235,14.037019703552703,22.475594894986127,13.759815049011138,10.172073952388686,17.211678907340332,10.164086489720733,18.94139439246137,15.738485269001313,14.505746641134762,16.61014050956257,12.609908293016936,19.63359306169852,23.328672954009203,14.69066548944028,17.1410237847543,9.51987346349986,13.215239988105637,12.94932777335155,15.719476360053395,23.71282695101395,13.934583834669752,20.56130076570949,15.061623681364647,22.00970594582884,12.20034718902552,12.393502521685908,14.937470419545653,22.151526134999106,4.198549387291316,12.563441839847846,14.657415898333628,9.408213211253528,22.74796703677027,21.53089460234512,20.522214511732336,5.824443077894903,20.460364932857694,20.07249621815436,15.93629127576672,19.93199216850195,2.0569360540230384,21.631484187328923,11.213320234410132,18.900722269073544,6.986147147741756,22.1214464780738,9.42352987130774,17.96540274585997,15.14585552058077,17.694332834690396,17.82563268575935,17.990899141832056,8.550543812973872,14.408580656915758,21.0653324735752,21.492993465896543,19.97078444652865,13.59574817716389,2.5589411734653496,19.665452658707235,13.286189585329767,23.19989342959316,18.536772886260707,2.67983718284052,10.823153729904073,20.81593098697735,21.194263985380733,7.743472171602762,19.92454870394003,10.396695278580736,20.36499426961972,20.895310893376763,13.417132766478735,13.413807169235216,13.834927322465632,17.75719254603757,20.108142067900303,19.4382268608602,17.50861066098906,12.22225224252286,12.074327639737977,16.99925938078574,18.36890950731369,22.79503048060078,17.701554748271434,4.258866384057457,9.138862577163067,24.02116678655493,18.840446102736816,18.736321132246683,22.17150648496084,14.104132996888865,14.002341105825142,17.250755080744092,12.570913083638104,18.36067942329272,23.205504370892832,19.12248955928098,11.004574189027432,21.15394154741657,14.220564318409467,13.602915111320453,12.58925765053534,20.555179019051568,14.222583494582118,4.65321196083702,20.44250835569285,10.634099137579522,19.18476594592804,20.877748698566712,23.77957019015466,10.082570036535104,22.9259950205701,19.34911926852548,7.8823842688638575,14.821779284211845,16.810329945325936,16.54492134769111,22.087585567495022,12.142934245600808,21.26096312331097,19.44368468611059,8.61296791415607,14.332015064430408,15.628522715905028,22.53454522617844,13.366604098328787,15.312766248714803,14.778969707355245,17.6749092937611,5.236455544273833,21.60557510291623,22.68692761486972,6.579620714931356,17.955141727313922,22.207007626529105,20.481466039215924,18.097189714651066,10.292900983703907,21.04322184703848,17.42990886117924,10.833616090481051,7.0954378132436045,13.23789958211191,18.72284562128425,19.870583830058848,22.35700956961355,23.57827237172123,19.840573229904184,15.104286128867772,16.594129752760743,15.442370190253545,15.71384902335789,13.615925846599117,14.520707679810547,18.24522406068553,10.012229284295822,17.70130917219484,21.163058978672527,14.711859734552496,18.35417922077475,22.79624279969228,20.28958322992188,15.502610401677426,16.01153498827671,22.80904233824171,13.271513174250652,0.7595856119970049,8.707632875331331,19.55058800259917,17.42771547632052,12.310466022405745,11.037423557705212,16.63129511450147,23.21374857217011,14.621656080497171,8.857954167248064,21.200242219587203,16.55746036499756,21.10447562279261,23.05213145085924,23.21265215660029,17.48472978646172,17.44579980984045,21.106401048750552,15.096983437586164,22.37494068560073,22.86198005573769,16.408597361652248,21.497797502652,15.736218622070377,21.40926543127492,23.396422419104702,18.792598624452346,18.32636935216724,13.985268410678248,19.17285094900973,21.98372162070814,21.292139379579893,18.31966699909076,20.03744785500444,21.465687051628016,16.081473397520668,23.925886964173124,12.356835053563106,20.16038103824998,7.86257346704768,22.578682724550035,15.93338470506297,2.923266101609467,23.82201087336312,9.49384739385091,7.989306629457659,23.79933782276868,13.726928061808447,13.802737731683012,14.502388802071389,20.24419125549095,8.304264013185511,21.67453173318706,12.842485670597508,22.46145635571568,21.60671309059231,15.32338007953548,23.036904574459907,16.781019192890533,11.901374490341768,23.4255319505512,14.691306334087445,12.495729413433288,16.90921003320001,4.356666563505224,23.27382001407199,17.76431379676432,19.22730984508842,11.691455454879808,19.76092219204351,18.877234409591388,20.345954608135006,23.75630340427848,16.186052900990013,10.984827335884043,11.290977906076138,12.397114192154172,22.795565174178183,22.404110247600634,5.077044988934917,19.32274918696565,23.641222109796573,21.22133561414745,20.58391275537891,11.203684237958258,15.946456287335389,17.55900527518351,16.4313014724414,15.605881966293277,11.639330970278122,19.38499022373995,11.96262030494265,21.08432651097633,18.88938777961361,17.531279283241293,15.89361513639099,23.98030876907347,3.368951742748433,24.06456898128788,14.469843331669146,21.38586338190237,19.196425256587887,10.470513416949954,15.3171575265312,12.557333156715316,8.935934444777404,20.906595472921403,19.469960340979423,17.577433659900517,21.18488954647013,22.766268238134725,9.191604246052943,23.93370066715928,3.789381692304042,23.28414062796687,6.9549822648113695,19.62823545922172,12.922994217115797,18.720956399975627,15.713775374645094,10.677596782411456,20.11519766850945,23.15336350474081,4.989053420787847,21.435009147684475,5.72677096059132,3.7662840121374535,12.248809717533955,22.524472927499417,23.80669052738007,22.24912139597493,17.749013791877854,15.33376821558293,20.21956927672722,22.14062029180948,22.808484020892088,14.432595076003947,14.791677986756651,22.09793060516808,21.162332764670964,21.17529489406905,11.310394717961165,18.79680777642106,24.47254099059241,15.059736428037564,8.882721984896833,19.955804014400137,14.941549282662734,17.14507528651294,14.852683663742484,20.43264929115017,19.24765082568933,20.152951239346933,24.42694141502393,9.359206944806736,20.03660806885616,17.19095520152136,11.87766702433982,23.48885764426648,19.26450380856264,19.377891704839413,15.236322162435137,23.48654249594105,19.75054439193161,20.08850988140476,20.62995952332652,23.23199602388486,20.810066723848056,22.76759476270173,17.24018413096711,16.908472145085486,15.563542405515252,4.493132888657775,10.552580107534192,4.721724521865192,24.011407186279783,17.813046377393402,9.81325542324183,15.640001174319943,13.861034861244455,13.525433449223472,16.01308681880631,21.94593692282641,20.90617154372208,24.025447609828788,16.20381272625893,20.01223414422392,14.320275583653885,17.826473071952325,23.849004277914634,9.359570736208829,17.955194331879277,12.876910115733375,16.144580323483048,20.653129474567056,17.783041932178797,17.511307988275924,15.055092351648357,24.004746184890955,18.2681493738726,24.27152559280493,23.051024055097216,20.38276331368252,6.778668786881877,7.001336239938649,16.77553743618019,11.749886310140308,15.190391743184668,20.59262667589768,7.443041734540086,23.289727528656467,1.112144466528352,8.26945965421893,19.598801667016573,13.76227783125898,16.303541066106153,20.46288969390052,21.33865375466741,7.408154864760778,8.053409967798594,24.527458441325184,21.783297385536283,9.629642767567184,18.90356933559852,6.229420660490085,4.137878429522626,13.175710720670766,14.556733573802989,22.02540001711817,15.172097574069433,22.43943730077752,18.65940800007648,13.463990594409642,12.982143014533802,16.12953206999425,24.06853603432648,22.686876090233746,21.69474132469664,5.80431026334147,5.2802711711492485,22.61685049834236,17.907880663616293,15.693835081741767,20.139728026067285,9.365625251376883,14.986917221069216,17.57536226318735,17.875998054230195,24.262506332601763,14.198621020330568,21.74401260896871,8.398131229159052,9.223573392241413,19.73112377246885,23.044654289058062,20.79779560235509,9.851075693516387,18.007075290528,12.09559182066854,17.6744723678038,22.365758737406058,15.864350923983393,16.84743007941357,23.714083043471625,7.815407491751797,18.008404645126554,18.43798481549105,15.467014019490886,22.49006092150596,22.3904505867343,4.45112925020458,10.572935929417486,18.049039844022943,15.856815385322289,18.6165554861628,23.366374129139498,21.388471593283896,8.542318206665907,22.43964770507897,5.394826581324815,23.473489556372765,15.11583505416472,23.864805612138337,21.382529042876723,18.598676269288,19.644523696847948,19.81772805758997,22.202971478982448,14.593676426255929,21.226792329064,7.977018155137596,10.064693051748806,19.600985457192262,23.29505631596801,24.78281437546008,23.390633432728176,15.91322666584414,22.641237723897973,18.41151502847208,17.437583375218505,17.996557515212203,10.668529460890522,5.299552302074829,24.20260505585696,18.1824148782656,21.649382905050896,22.446438701605853,21.174364247113125,8.851332248086297,7.905265006817095,15.357846154211437,14.9925831699422,11.40656400224754,20.54482623974521,20.73878053737024,20.726677584894365,23.016027936637467,21.413575540476064,17.98558052731492,24.662772904001425,6.606327171900612,20.25484472392277,10.614642746672905,12.600450443920764,18.58006184036012,13.301781149305585,18.955921000847447,19.136040591097736,18.98179511068589,22.89702411297552,24.70986824897144,13.851206878039529,14.795834848028198,9.513895631675249,20.125473926872854,22.47648766812041,7.072245829206614,23.79337404586056,8.56237872375024,7.622506600508381,24.33375144320659,23.3579604544096,19.43290571551315,16.567384904287053,23.98348054462269,21.895494800050063,15.022877433584314,22.462857759030324,18.38939038336421,10.189359252230563,22.655692019376698,22.725445747189976,10.442631533492088,19.268081069879933,9.484675377756384,20.143480193100963,8.024323329794646,11.607266016284962,19.837689001506025,11.00906601183708,19.193114943741342,14.865678820891056,23.98301949356441,11.958186380849387,22.09244418538413,24.41048972123504,17.826165882249406,23.428039099184392,20.239268586155347,23.487557856673508,17.20987311053078,23.767766873995363,23.53447998896468,16.216669518982062,23.83652872257287,18.337679288536936,25.24458572378042,11.793600809943651,22.460187267359085,16.78906745534579,21.57032464900272,11.554099320172329,17.432360571938656,18.16953055351605,21.18478343207713,9.52660302554439,8.458244829498511,25.62310017698734,14.145988944662262,15.314431666888767,22.75294311679109,8.167256317141758,3.369235230700005,24.609980536624647,7.53287337876285,21.913358150579565,19.260577280286352,10.102590065803062,6.624915285825006,22.24306074899875,10.991230966751337,19.49636835368256,19.693734483585843,9.839903245975702,6.781273576754958,19.54485004722104,10.883616828806966,23.82057120516628,10.551527347526946,24.9717176488368,7.258582758756337,23.422512446521573,12.667979852827935,20.65084704144641,12.376193040584225,24.70552515663161,13.511550472715731,14.192792110442864,20.17744676178809,16.505366906902577,22.70388645889132,17.676586187316047,17.8920648623289,20.45739542442868,14.666310490771677,13.16687308031818,24.74042055226098,18.500328030426765,22.71408212770176,24.3407664507497,14.451162746467054,18.992133093454484,18.68942268021634,14.930694087603513,24.985482265694245,22.258282778350218,18.54427639973001,14.929691451295271,19.484527162160475,16.906956529734117,23.77195509001372,19.22351451619893,15.25919300450869,18.03020974584811,17.680721516556286,23.294937872179027,19.584914016671224,15.186989256924091,23.13858992183737,21.872146398475355,20.740757834526537,19.45633934947321,17.610123613148996,14.674062087301794,25.50958273661485,18.78599782642713,15.90483531918597,23.577796841649583,21.448095056472727,21.133600209919138,23.230077183035927,15.24620691916481,15.769875143831952,12.72569212820401,14.200315824226408,19.40011910394022,16.05540327957793,22.235735734092604,16.11957928730402,9.585771668076836,14.881333857362304,21.55905159550785,12.825819326953154,19.748723156651355,16.706134872318803,17.545855497167757,19.966931296182345,11.094362454145568,14.838793338585466,17.52806176523439,4.414219670464998,14.48568635084264,16.197574513981394,10.189000324054929,18.686840672345365,8.63341287643439,20.55361187675493,21.8182246173801,6.5007441708804645,13.687701726710085,15.276167982941471,22.63197699931316,6.77746964726775,19.849026711330225,9.475085702683106,7.714538544131653,24.590287178045948,7.454807308806437,24.31052509280787,12.629823560367766,22.336979663876136,11.274628169070708,23.662211360136364,13.332996265898329,17.740002769538425,20.46563373823524,16.808574179293288,16.712732155157067,20.456759863950754,22.34338122029241,24.29073307057748,24.42838205434385,25.6857222326148,21.7930594497798,24.21546421573606,20.513566068865565,23.877735787599047,16.45946648635962,8.94981044445352,20.9405481872879,10.267444329503968,16.71660140774171,13.16635093984583,9.780885761905322,20.77760150390713,10.291319862653763,16.272765847877523,23.638748975189824,22.16311231672935,24.7394085055414,23.804042389964668,23.67433506086389,16.853982452812378,25.60978862930406,12.44562886556361,8.572137456187024,22.211247991015227,24.835462752919074,4.608860285387741,15.086536586296862,18.167720162552136,14.858668043367448,20.51352883178396,23.61996604860025,18.815832708837075,21.847997842179726,13.32981302711323,8.337961480241615,21.08450853049657,16.128781567573487,15.810137938338157,16.3497094492306,21.93539560396016,21.70114205184253,20.68961425800109,24.75003780085588,23.112135652173727,13.672389643973984,2.0502346399845965,6.810399350631292,17.90467840972197,25.021402452706965,23.00603892895125,12.434111973110673,4.760568292158108,19.979172153700684,12.390222911764708,24.931422051425333,17.12315148486328,25.540891291414287,20.06773943859937,18.40668095445691,15.525149346583431,16.039124334965067,9.112484358706766,18.090279692065383,24.358521485699782,19.165236696611267,23.385667959532213,14.64196787782259,15.721651047754571,17.42199374287714,16.273342301866446,21.31448118204345,26.25177284688084,18.20513833375032,17.793220680130812,13.289030188870408,17.686087436773757,14.99512039717042,21.226902490777626,21.69715401417564,16.325134409843088,21.622031427984385,20.343153394550583,11.299558277501006,17.05604027429343,23.567511032087044,24.202235400926583,14.272234480728482,19.059485729865987,4.432809830861713,20.58405389426661,12.473508403962583,6.332944136545765,22.93295365023632,18.663214356993123,20.16773427174862,14.637987814739912,5.206467166554654,24.37547641563379,24.27851410285516,20.80978268825991,4.841660284034794,24.34192499705008,13.025062854780014,16.010278009572502,21.912882236527143,9.42393924321277,17.797338521760658,18.773092418548345,24.554904792697105,18.40623369710915,14.997669322931506,19.757563900436967,24.96545325635953,19.357330685883728,10.987957385499534,15.60469035946882,25.974493476535294,11.549026752137715,18.90115102380692,19.689835693618924,21.00423720936469,23.88805807405296,5.244651292459525,26.30719577493165,17.667453510957195,23.23822235623816,19.404104887437143,13.142463304950406,25.824272801447005,20.47555352259994,26.17903530713291,5.203964415229045,23.89177518013222,6.0762535591492375,24.76130252688369,19.969246937603423,18.9405283595226,20.872484273360968,17.79225850234447,25.65481538485796,20.354976157419728,22.131168762561625,10.248916805897087,13.26603128559696,23.949811486272928,9.452392774342728,22.54657548705354,25.737801592652048,17.517844590893713,14.70230874075616,20.95401948831623,11.533612280782512,12.117315369578453,19.59532833741489,24.99699221095496,12.228522716577126,24.0684584064803,24.597677493496747,20.770811990982327,17.028126823038377,21.71491418976513,3.449430379671345,26.11100526261533,21.51867145402901,5.512853218256367,16.713405231027433,21.77481414421841,16.227824074043152,21.077581251227485,8.106203342017135,25.619593184717854,14.923603532244377,15.108812863441926,16.808080977042625,18.395573766604567,26.697579719816208,9.055495243209176,22.237751654815654,18.86739978384378,25.947066413315845,2.470139089292964,16.137903146261475,26.40508626503165,23.74075088936125,8.416060702406932,19.734957851076192,12.015142741853074,8.677797716321471,25.84627810090141,3.286462079625022,23.03855500019604,22.57707672525078,20.869187443979715,10.213821278870306,24.13786071221146,25.691482412558805,22.454992942301025,25.566730228272235,21.78716329202472,27.27685525621528,9.005350357778848,24.775065330110767,15.039544443054623,9.720659677261192,25.50090333411628,13.971374124854448,21.03596454335196,14.84400551171281,11.160293442902136,10.497487411741725,27.029860254603268,20.78196440067365,23.784601606129865,21.064780733885623,25.164948937886265,5.298429348248948,14.62088052448648,25.35444734291348,25.985235948138165,24.94282315624484,16.818660498785622,14.926721086584395,19.886586157088296,25.60460331622277,15.778549980572372,24.88682148254818,20.86743200198824,15.792574256950658,20.626042628178155,5.986043769030051,23.37824480543873,24.50643653952652,4.256797197272972,19.12132723663639,14.271588745456798,20.221825588155163,13.589807604297915,22.63281837950742,26.27901327964757,23.46390801040684,25.79968894389324,6.130138694465619,15.850274924174984,17.9348201190254,18.354320841741995,16.556857896736375,19.37975105602818,14.260966963709857,23.96971965619281,21.690958369796675,18.11421586002724,16.262188706362906,25.776455839203503,21.82423478326146,25.58323706977785,12.152802958685964,23.37429301852506,24.91016236383253,8.690305299792255,15.77605941488702,17.137773370002545,27.3747006950706,7.97590319571532,24.15445722277081,17.56610442201594,15.272555588942565,28.15193226953144,27.5292949282253,3.668415648964048,25.15937914332616,27.138649479089693,5.115408066927427,23.54433427270804,7.5317134305376925,20.02623808779497,26.66835411773057,17.133686049733523,23.235557278037906,11.445467898046047,18.902738952930875,23.537578946708816,9.502487002052852,26.40980425354871,25.00210034405561,11.399799696399644,27.948788346304184,20.7966582404044,27.48164792915324,13.80438726734446,18.72770247813427,15.1393674998685,10.744688556043071,23.14530676184017,14.722209257441923,22.68491518203555,28.17032653953192,27.91837475759961,17.659060278359576,16.554390350410856,17.19704603323182,21.50994241060352,25.619636573135427,16.86037927338377,22.159975411757667,14.582251470929297,20.8664599755022,17.98167037551491,26.29960334636717,22.550015376902905,26.27392504038647,28.37588928487313,13.403014850412076,25.28080902033583,29.002290491760657,12.7197521305071,11.801791139453462,23.304510771686445,10.84465395898699,25.88613828949197,22.61557521200956,17.58894843294512,28.883755621835427,24.149061381528565,23.939243420201787,21.873637017203865,16.97585272267214,4.491747184022478,24.014830147762886,16.92988411642997,18.39057960744903,17.577280652539525,18.205745202216008,21.517619825731103,22.491157546829623,25.89483578327455,24.73776748594432,22.2399796990873,19.78453740350215,23.110597069739782,21.62605829754542,29.0398787975648,17.437505878585217,27.55828375468008,6.400990052747786,28.623583171597765,13.90393968298562,11.32190554010849,15.916893691267324,7.134371829896019,27.606275309162744,21.750464196775933,19.75281421702463,30.221529751599512,16.1274609683102,27.07654970649592,6.59207495581002,28.948969473621947,3.654387451026307,24.61816718126033,18.799342111287483,21.2651398359265,16.023348246705975,12.352342988886646,3.611929426712083,13.555476079938842,23.71098485152703,20.162298450829525,30.117149188482355,21.174372402364213,8.703905131020273,22.997669666768456,16.684795314659134,24.09112422657572,26.03968004625799,22.781297507648382,20.908313627610443,14.308507745609557,29.199328038597184,3.630366697858565,15.598577166014412,28.005029116792,29.56704054239357,31.377992870956305,17.504701860101314,4.748348211909372,22.804544690322658,16.66649211060303,21.448491443639977,29.07772671135908,26.0418095265405,32.3123506035526,22.6949887164666,18.281701144312297,25.9860721917179,13.659526422773656,31.731605065748067,31.48766088896513,14.910996117400732,26.438876462997783,31.89909979964917,30.75257431512998,7.549874772271907,31.918477916316423,19.79336932544871,11.326638960078917,31.40706135656484,21.23420154513519,8.603208667821999,31.60211574486441,28.110294968188285,26.39881553772671,21.7546828728429,28.18491417124,32.237159905084454,10.287688059927357,26.073100936476333,16.896786786089976,20.84570145635885,25.36002399902044,19.24973446825377,30.97982742990901,18.15485351208944,19.06592073100861,22.672421640227487,32.55772267209443,16.412160591845428,20.924957674485853,28.652012646188293,9.126340948868384,35.17783019215543,28.78673660130839,15.539814749263392,16.587702646816332,34.21914209378424,35.84273190284379,28.67291584668109,32.97256578626676,22.92747177791892,33.77115313373767,5.66566653878337,31.291110664841806,38.48813061150809,30.06342690904748,34.380575969053126],\"y\":[461.2188742996341,462.7676187497482,463.4227335763144,466.5823394957442,466.0126048921302,464.7010661411277,466.3207334423214,466.8462384804234,467.3420036567068,460.8117799963811,460.1293145324516,458.6603280437903,467.1965843072912,467.5379292192119,455.560062454887,466.9505728684726,454.2771071725774,453.6211388320626,464.0633019641155,464.2165577982423,450.4002131068319,449.8529220357686,449.4221885865327,448.9291918320541,459.8245363034021,459.9054732341037,458.0566004806951,448.574736088909,448.2300478383859,453.2223803425368,453.318367398203,449.8070961049552,450.854905774916,449.5208996237761,449.727537151578,453.0480373437676,448.7442260898169,454.5744679305999,447.4917147778051,447.8341265727086,447.4633937768003,447.8705143858379,458.902333318033,447.9360560809673,448.6599387593933,449.2116545743156,462.6424185374362,463.7310219242445,451.731857036214,452.3842186218535,464.9644414733229,464.6817582373351,465.0709388177511,455.6283817681388,456.3095738014699,464.9914429723285,464.5564772360849,464.4369762833758,463.9467047491926,459.8548796027453,460.2420625841496,460.6754098965812,462.7466657188615,462.1745280740652,461.0079632603738,463.1484775682457,458.7058090625569,456.5642829606277,463.7987228569673,464.1857268450858,454.3434955410848,453.6604225689762,463.5629786311956,462.6645303918558,462.9038574919505,449.6736898361405,449.0510575900562,460.8713300644768,461.0344641459315,459.5945260995213,446.5544131313836,446.0480809366773,456.7560996654483,456.843882569131,445.4289178550216,445.4288515062262,445.0714962746688,452.0461736138504,445.7805896201317,445.5230353869892,449.2869791350713,447.8006065575855,447.9582411091496,448.254337535941,448.1110439794265,445.7894223909243,446.0135668243229,450.485750746846,452.0847317080488,452.0021768746028,444.4591142354611,444.8367575650354,454.755401892412,454.6737119601003,444.7506816725527,458.6940105509466,458.5542420272723,446.8982221761526,460.5802949789168,460.3720947850879,448.7484018802925,449.3921397063095,450.4060466467654,461.7723383866933,461.4260989227569,452.7886056025891,453.4593943996824,461.6765200406444,461.235989386757,455.9738542721343,457.5832385103604,459.3459963480682,458.7748891867705,458.8769210103055,459.4422100964775,457.301197414723,456.6693570245943,460.150846798666,460.6360119721312,452.6204764523563,460.7878609010922,461.1275331945053,449.7999964640021,449.1452847220944,459.7576232192969,460.0072660996784,447.0217699837995,445.7881155621571,458.2889143846287,456.9585434524724,444.1289773570043,443.6283557515208,454.256685239654,454.3541732709446,443.1408735855521,451.4033736379433,451.4901656547481,443.0944078842713,443.2423011461533,448.6122582201779,447.0376533069348,444.6927930403872,444.5010477865371,444.6171616536858,444.8025981313667,446.5712054973237,446.4382841125116,442.8718880909446,443.1300183659832,448.8956205864188,448.7988800770227,442.2138189859525,452.8706240992824,442.1399441928997,442.7651442267052,455.2681585265418,455.1339633516091,443.4649487321803,444.0338836601668,457.0429122288879,445.5895012131114,446.2234612772354,458.3762864075916,458.1005242103165,447.8038837525273,448.4678652446655,458.8531777648732,458.4879100081207,450.4979904964102,457.9000664305531,452.6744942742689,453.3183696861652,456.8443624757592,455.1743796335722,454.9859867668929,453.021265449006,456.5254644830438,450.2609534092153,457.164782640567,457.3724327367972,447.6255660744791,446.9669821910175,444.8589733426352,444.2292829764356,455.1245493773986,442.5855163428832,442.0065461836721,440.5342847497595,439.7240570373078,439.3065682469023,449.3270134602935,439.4059156181092,446.5001437023402,440.0884507357932,443.7189203659927,441.2444409491527,441.4154564314422,442.2793684207718,439.5744791533589,439.8293714200099,444.4690715756606,438.5742691587757,438.9159138082741,446.8811474003496,438.375247808026,438.8057347577715,449.3623725840598,449.2510439239513,439.0447546084961,451.5931178595192,451.4405726641116,440.4604260027618,453.1344462727029,441.064119362858,454.0591569990811,443.3435241903308,454.5178784981317,445.2604642471642,445.9187038716409,454.6067408186127,454.1905233297339,447.8680662534216,448.5171813302868,453.3656358934486,452.8671789765676,450.5314184808713,451.970737789472,451.3985840191217,449.3930358640691,452.208102434487,452.7273347101254,448.5985420135685,452.9628034476264,453.3998674847644,445.6085115583246,453.111951363303,453.4626669287354,443.3365943718327,442.6870444845854,440.4089069176816,439.8051383344618,451.5300730358222,451.7654699322393,449.6992113190281,449.8702515998129,437.8416629892035,437.3196917012883,447.3812952118897,436.5166012854588,436.0817782470103,443.4591706287229,443.5698945025633,436.0808689933547,440.7260965939313,440.8550792346041,437.1117530325582,436.8647484653557,438.3918095919425,437.481471824749,437.6808906728147,439.1090775932389,435.9983381953607,441.2298472579823,441.1091381743927,434.9732210714528,444.4542374201037,444.3358813275336,435.1055562081283,435.5104393862775,446.6348394326624,446.4870207122822,435.5406524612672,436.7050448093114,437.2806377991483,448.8399279432106,449.5732542791839,439.2958201269621,449.8929048976652,441.9199879699208,449.7365060837819,449.3182209786555,442.6962201878259,444.850650394751,448.4978329234582,447.9679609002942,447.3472472841177,445.4052953872397,444.7977810016846,442.9569529763157,442.3186492620598,448.3514255335867,448.7951086817066,441.9802024206429,441.3352935709181,448.5721453076285,438.8541606442614,448.3896924988703,437.8605812417745,447.3020253615077,447.5507427116872,435.5910486559342,446.6926999222624,434.9564438662628,444.8004711767044,433.1139338384155,443.841834524198,441.3842154427712,432.3721974007585,431.9918970997696,440.2737030262115,437.6195486829183,437.7466071039362,432.9368202139476,432.6641795163368,436.6294380626068,434.4793437812814,434.6544173794427,434.4853621549955,433.5795444884525,432.2558504232093,437.5235576834766,437.4040650839379,431.6310194781709,431.9366109960265,438.4578828493613,431.4461130490354,440.7651363274254,440.6444380926077,431.1854900529615,431.6068353878691,441.6334610323784,432.4778302399145,444.2936221480913,434.8134282313213,435.4256492281402,446.1202680415827,445.8294449624955,437.7399503198249,438.143007113782,446.269109852059,445.8649809856088,438.5299178228024,438.8867524449142,440.8588058511796,444.6243038199018,441.4293925970433,442.0330373600927,444.3714204076823,443.8314952956516,443.9520454690646,444.481408234702,441.513148453585,440.9020606002641,444.9354341032531,445.3589549689123,437.9761893901505,437.3394663632198,444.8359332689652,445.2262268670011,436.9992481936488,434.0066672562816,444.0073366223651,444.286471298059,433.169453835746,441.8886040643047,430.3898945935507,440.987239101265,429.8857487978848,437.5490184218552,437.6838485963035,428.9629204612529,432.8350141561314,432.9911820713814,429.9283476196379,429.687794061505,431.8146720808445,429.0248450170011,429.2675205428868,432.5953729476887,427.8506707099596,435.4838426051092,427.4490287045674,427.8374478200312,436.2864153708497,428.2977108463892,439.624689984641,439.4253908653891,428.7374337922693,430.8948624308532,431.5088288916058,441.3110119550947,440.9900723383525,431.6833005876015,441.2108524807263,434.7094097846812,440.5497263302195,434.9600700796518,435.5760929145563,440.0535471984913,439.5655142526739,438.5475501496503,436.4751843583863,438.4599219888096,438.9751990876975,436.0380736027601,435.4327249589805,439.460203016577,439.8444836565695,431.2397654015458,439.0640853934183,439.4153031668002,430.2049808657848,437.232885112061,426.593020927513,426.0562455985273,436.4075226419454,436.6130224776607,425.9244217716177,425.4131529262058,435.593715067087,431.3053334013912,431.449070802073,424.4105584186809,424.0550012308468,430.2756505124617,430.4188676289778,424.3084676486069,426.2291539678545,425.957903110927,425.416360297143,426.602983674019,426.4210172399062,424.7196682749291,427.2117907216189,423.0072642334844,430.7544118084388,422.7892310091138,423.1930130442988,431.5780445105902,431.4335900452379,422.7335167663905,423.1643727279497,432.4422906564896,432.2833651934616,424.6615087447299,425.231187266395,435.6585747658864,435.3939485310548,425.0717785301676,425.6526946294089,435.881812229939,435.5908014891884,425.8750988692273,426.473445729499,435.8916871764977,430.3586300959951,430.9709838311692,435.1247381810481,434.641727415933,430.8321481367875,431.4303619727407,434.4297621380329,433.9219211411037,431.8203222141428,433.5942307259493,434.4918710039683,428.7747262661014,434.49849408509,427.7974760241186,434.2069131630051,434.6076156438166,427.1059663347096,426.4913775065197,434.361608890983,425.9936179270962,430.8795479857135,431.0840904707738,420.5946152953002,429.9612129538791,430.1455480074828,420.4120414464351,419.935332623927,429.1423190555251,429.3163178954674,419.8866819650839,419.44190196623,428.2808428191147,419.4387711925501,421.1691732968256,420.5974478104463,420.426312293841,421.0418874184124,419.622225748737,419.8692000547881,421.851841144553,421.6625491452578,418.8664783263257,419.1270762623753,422.3952948395035,422.2263715449999,418.3835246660119,418.672768858768,423.0452693225288,423.7995110475267,419.8621939830109,420.2794683877501,429.6708541602775,429.359289349858,420.8422185768823,421.4339648274326,429.8609357700452,429.5209867021094,421.2503875378552,421.8434780143316,429.8791494093102,429.5110183223678,422.1510981340743,422.7526255558105,429.6572638894004,429.2620754153759,422.9100224266767,423.512738548322,429.3585706847207,423.5255777958546,424.1233089711404,429.0487809096385,428.7027344569988,425.5842055788626,415.5479179818267,424.8377442117526,415.4475376069395,414.9749457194957,423.9641065295245,424.1536931547407,414.9609868677262,414.5182199101655,423.1869003892598,414.8290737107473,414.4062842134708,422.1534571830762,422.3203331362702,414.5731721283246,414.1808438093121,421.2436710978545,421.4059357727519,414.3572788203146,413.9996102712803,420.3648041324186,420.529197131732,414.6193345239108,414.2761914802459,419.5095015791712,419.6813197520905,414.5617250685955,414.2553396548819,418.5207214894381,418.6917706193099,414.7868907947759,414.5060595252307,417.7089655729542,417.8945204613583,415.2345865022571,414.969159885005,416.9459632723801,415.6307482245866,415.3874573609282,416.0238734724253,416.2312112703303,416.1586268408646,415.931602242028,415.3217102133558,415.5484178424167,416.6621092981504,416.4550809593684,414.6781465376134,414.9253936978721,417.2104971751587,417.0219192924196,414.241497708379,414.5201012321859,417.8935745615254,417.7137573120808,413.7385912290365,413.9134963324514,418.5353047485851,418.3666501996968,413.4285119176393,413.7427414086542,419.3476880118396,419.1759225493888,413.1781315812632,413.4127772835727,419.9776250061068,419.8123609121285,412.961257465794,413.2566082099993,420.6855584532595,412.9948136142493,421.4066843281826,421.2302183324373,413.2951033685977,421.9893273758225,413.3630816867699,422.6981228719169,422.497774142993,413.4734743019362,423.1628278998041,413.6844709702136,414.1941682619217,423.8019845555327,423.5650337417492,414.4346547939949,424.1147491622214,414.5066268502042,415.0526698545527,424.485136896039,424.2048119645242,415.1702037840942,415.7350456037129,424.8482812006832,424.5409203304189,416.1552808941842,424.804035972068,416.7615605958918,424.9825350683323,424.6224924501257,417.0214732226477,417.611855604383,424.7062491004972,417.8979650715737,418.4945667657694,424.6376818604276,424.2239916916506,418.5073067653275,419.1010390742686,424.4908022640384,424.048994084601,419.2083949733651,419.797786425529,423.8136159957176,419.8486570893319,420.4297102339342,423.4517941279082,422.9617364978876,420.5692377161431,421.1404014228256,423.0893888840965,422.5745536329187,421.0228364651275,421.5780648929758,422.437784375119,421.9024969908978,421.4039132347325,421.9404004165181,421.3287820593005,420.7806167366443,422.1175392090618,422.6375985924715,420.5893138371794,420.0255052321199,422.4216259639679,422.919314376587,419.5204707424627,422.5651190979261,423.0380516233772,418.6202568610261,422.9085316601195,417.6898002907974,423.0983532553573,416.6963551794752,422.8447407310023,408.9026660867139,414.5894608190065,408.9045152322624,408.5463199805899,413.5273697236371,413.7083335028556,408.6772170627219,412.5989730409874,412.7856477307087,408.9315167659424,408.6266845990494,411.7782645774432,411.9799201533124,408.9701867219783,410.9226748382998,411.1368863328962,409.3136785036759,409.0579109596538,410.2590861715034,406.5930731720146,413.6761906899537,406.1118914249564,406.5246646414798,414.2777581393366,414.0829581115167,406.1254807191872,406.563851208397,414.8395253611579,414.6335338290519,406.638982150921,415.2022152552781,409.1203967853298,416.6648145038489,409.316259921603,409.8927201824945,416.7234491757208,416.34259183018,410.0669765879366,410.6494433982307,416.5288787486461,416.1230485288297,411.1497852589737,413.4547006581752,413.9773488239998,413.4397509000764,412.8953491339944,414.0626842204865,412.240004379435,414.2189324039382,411.5233433877811,407.5408777030252,414.0374757345799,406.6923581751898,413.5371349500283,413.8628538004396,406.2005412873859,405.6467101104445,413.4366392303573,410.2904942601463,410.5142840300423,402.7397514840732,402.2870612376109,409.6209224529657,402.1955308175538,405.7089225084501,401.8461639055386,401.5248513856723,404.8418623279167,405.0518298622246,401.9716588162928,401.6729337406568,404.2032499990792,401.6169966487487,403.4045447779699,400.9425363978762,401.2328318957316,403.9455252225871,403.7320231747017,400.6619707514992,399.641272444248,406.3180149841955,406.1123260208815,399.3040777095948,399.7209371988656,406.7825218153912,406.5723477057682,408.1362636402328,400.0000190226201,400.5142075887288,408.4600380382235,400.6440449234942,402.0016925578748,408.7376725685581,408.3627631825593,402.6025910636517,403.9971144478259,404.5523294967552,407.1219159295497,406.6452886613351,404.6625051211513,404.9103113581205,405.8430042778009,406.3382785185677,403.7759149603498,406.040058969299,401.287508199176,400.7150404726981,406.0758271014793,398.0631750859857,397.5114429870437,404.6633249197457,404.9797807812993,396.9928386604142,395.5315643276545,402.5326457234778,402.784318460519,394.7012521481192,393.7445798229492,399.8166253936624,400.0342565141464,393.3674520559616,392.9609235284015,392.7571871799055,396.8566524858779,397.0760934155214,392.765029429298,393.3544675977982,393.0683676246199,394.0826927335875,392.2943887503143,392.5772236129797,394.5075067568314,394.2663149611772,392.0312784178095,390.9954678917156,391.359377599023,395.9580047391073,395.7384704768347,397.1456616736987,396.9134872499299,390.4290502308886,390.8625973607104,390.6198553254171,391.0979898774967,398.3108307589091,398.0413457451577,398.7515399822405,392.3159899345728,398.8073406933809,392.9169348713822,393.4625312441422,398.6906588624179,394.340698447776,398.0888150360743,397.6480637791874,395.2592692281423,396.9330357433864,396.4463558511607,396.0904382796816,395.3241944840001,396.3640085345669,396.8418102910664,396.8089232808752,392.9492461980335,392.401722248369,396.5554968663837,390.9071428368325,390.3651069868456,395.6543521507338,395.9813124899765,388.9842329810936,388.4647470900372,394.5479406249215,387.5803684667708,387.0897603877092,392.9090997970125,393.1602507278867,386.2902091402293,385.847169007252,391.0524871387915,391.2853847903534,385.3990427342769,389.1070642936957,389.3394976581103,385.4297237420633,385.0798067448759,387.1193285106901,387.3047576306362,385.349642773901,385.3210759916801,385.537003926619,385.7578515923524,386.0414997819244,385.7780891993507,384.1056585408769,384.4271824688385,386.6362250456841,387.2920329862609,383.022767357852,383.3883729834497,382.8408799560611,388.2426285628235,382.2364896165718,382.677101881266,389.0410696860808,388.7852032140909,382.5917010690855,383.0825850445826,389.659646728137,383.6317216541975,389.4478715791029,389.0859829633828,384.2071944182699,384.7503677579743,384.8488069475115,388.4500524318282,388.0048094596214,385.3184458735122,385.8429971848964,385.3160557349174,385.8200867326332,385.8372722070653,385.3307330822108,385.651178862975,386.121280715889,385.4588189214555,385.9023343024446,382.5644082840427,382.0261305045897,381.1536909800407,384.4541808587892,383.4727430438552,383.8137426192116,377.494723859455,376.4483762997006,380.9604951749116,379.5549941538566,379.822959497993,373.9911083802708,373.5572325293242,378.4605691106663,373.5371739418733,373.1217803531417,372.7836698188466,373.7384094929575,372.3298831299626,372.6154476974616,371.2029802454826,371.5056036000105,372.2542105294333,370.2180117437965,370.5420603038883,372.349712080646,369.3586292871614,369.705961791401,372.853875213641,372.5908214144474,368.9589422087111,373.1361064643243,372.8742624718834,373.3272232129384,373.064801548011,368.0158450572553,373.494550102625,373.2257619397578,373.7461672504614,373.4611669428141,367.5485485383815,373.9328942342618,373.6279950132903,367.7233106249469,373.8987421590191,373.5737327393972,367.9859964381867,373.4685533134952,367.8762495681576,368.3949325921676,373.2507094739576,372.8822165375523,368.3651000128766,372.6293952980641,368.1844701306436,368.7047864714214,372.0638513907925,368.4302741072797,368.9465038347598,368.6774685581395,369.1857696528095,369.2934728034015,368.0630874121507,367.0930424074932,366.5826612184974,368.5686284050626,365.7077427644117,368.041826748572,368.4480508732031,367.7020800528708,362.6312523376691,361.8761930095397,361.3818378646802,365.5054004480135,365.8373844296048,360.2890581302727,364.6951504190538,358.6829610448513,358.2466956248763,361.7227193747258,362.0116233747249,357.463074008976,360.6828010580612,356.8918674545357,358.7723377457378,356.4973940002455,356.1408388568398,357.4436917530866,357.7362270713684,355.8232754677319,355.5062912824542,354.9655259921064,353.5018523382814,355.5557475680116,355.2575443372216,352.4636531952638,352.8370357996782,355.1820010332276,351.3521954611078,351.7527915525607,354.8295305103165,350.4342933519683,354.481594917972,349.4450064641314,349.9173172008395,348.9906388863692,349.4797288100817,348.614435886946,349.0827303614342,352.0371352832763,348.4377121228208,350.9307852398115,347.8819447698997,349.367758374091,347.1559669104927,347.6384765257471,347.6473867549448,346.8258512791808,347.2971177197869,346.0814687717693,343.4325635851374,341.288131197869,343.291151600466,343.6833591506338,338.6077147050146,336.6789051553505,336.1865525021058,339.5329102517535,339.8739881481233,334.2874307994989,333.8159313468668,337.1886393994537,332.3426968878121,331.8903778888262,334.3772233498248,334.6860987917744,330.1715253639804,331.9257883677337,328.6460383920694,328.2550395627859,329.3295005334594,327.3321547555724,326.961466274508,326.3414614497242,325.860890456278,325.5087017253163,323.5386503562768,324.5064475625977,324.1607476147074,321.3492068387159,322.9748729615085,322.6272465127231,319.32110703338,321.3418608895927,320.9774762134839,317.5938917908716,316.8207500703538,317.2728281768459,318.8895653200498,314.8859047824271,315.3521835094252,315.8785332054804,315.8043318657828,315.3641849636406,313.1453337345783,312.2980811927318,312.7590652359731,311.684469487881,311.3347220734331,309.1234347496029,309.5636799258473,308.6547169054384,309.0934261317634,306.1246861661311,305.9989880304784,305.5024601671166,304.786020774809,303.1142525878049,302.2642970683773,302.6667516194957,297.5022737304571,296.8777929261887,296.3929624130287,295.8694611921374,288.0627083621775,286.9140053130986,287.2986866515703,285.6299910117368,286.0136837224609,284.5461128400329,284.9352403001594,283.4391767225025,283.833907784996,282.281866547919,282.681720409787,281.1070135289674,279.9279513858983,278.4370971845892,278.8491370087731,277.2053294007974,275.6214314352392,276.0417766848741,274.2452183175201,274.6726290835431,272.4814263043972,272.9086934248053,271.0563731294696,271.493124099653,269.1700081245353,269.6078970467561,248.5104437226355,248.0215373688306,244.7917234978704,239.4934782771952,217.5203482614988,216.9948087892881,200.49898855008,200.8790798881146],\"z\":[4.338187416201043,4.263968917760094,4.264017438581076,4.145169314382185,4.1451279803055545,4.437641281783727,4.73224415804374,4.325046962580536,4.325082746044061,4.220333550284646,4.22028213433208,4.147371799749775,4.5737416130548585,4.57376620716508,4.296141433213092,4.510238083275943,4.226092243824533,4.2260406635191785,4.453667835372903,4.453679109578381,4.257382666042351,4.2573385256739025,4.236357710882101,4.23631769638128,4.465869023567699,4.465875145253135,4.509649672672057,4.21183358719904,4.21180546525332,4.302735487392853,4.302743068988145,4.212331834777923,4.272918657607381,4.356501488386015,4.356518210013491,4.207037063317158,4.390971388813294,4.30662105858858,4.344706802474759,4.344734877114269,4.557989614980567,4.558022993798924,4.233742174252386,4.255700972988454,4.266282011080097,4.266326863306373,4.140050754201221,4.1572810101828965,4.147773180673963,4.147825124105545,3.9756759218765696,3.9756552172894546,4.148386255638157,4.288924867094604,4.288977721899742,4.054317423948722,4.054285555783599,4.169213526077594,4.16917747085279,4.081286762455409,4.081316012868877,4.081348663420221,3.8837177497649416,3.8836751988402645,4.203793635417541,4.3420318871885675,4.231706251261,4.142814454810838,4.017893254862032,4.017921752689599,4.050649875639911,4.050596182143849,4.198876563046827,4.088299829661608,4.088317591280754,3.9095838671948693,3.909533392530866,4.063999991839517,4.064012243697939,3.967222774719434,3.7764361866721647,3.7763942892621984,3.9636200466264775,3.9636268208821615,3.8592281002007707,3.8979968936344784,3.8979671139657874,3.9549106568498638,3.8129686092076573,3.8129472041579646,3.9764580453374583,3.839709015789809,3.839721922090783,3.6584765269192276,3.658464818429875,3.8102698453841923,3.810288442509607,3.6643881298970893,3.7229818748130468,3.722975300667416,3.687976036260668,3.688007635133704,3.429848363211626,3.429841971767892,3.822069516107865,3.56801588241895,3.568005224286802,3.690882046896432,3.739397551550513,3.7393818661184994,3.665545501385205,3.6655977898334844,3.581852256089619,3.42738685761838,3.4273609618623295,3.548644456205086,3.5486974931010438,3.4086426254750353,3.4086096468564855,3.5877622772545266,3.5577821623043056,3.4562300621194497,3.456186635657494,3.5073677008361206,3.5074106568945984,3.328477485348301,3.3284287828031487,3.5160449174219903,3.516081489246496,3.3577802531448397,3.41041482429782,3.410440335134577,3.290280219358921,3.290227180691911,3.4962481925079465,3.4962670734444674,3.335343957781822,3.5376910828355026,3.548341379784871,3.511681048757636,3.3769960413229114,3.376953933206026,3.5490344503994047,3.5490420984462347,3.454051401975891,3.554861946169351,3.554868885266191,3.5262549221105255,3.4265361804391197,3.5686688401983453,3.690079483320223,3.5454403572227746,3.545424307467477,3.8574423147000725,3.8574578242070676,3.8214093984729636,3.8213984147167004,3.899555312495155,3.8995771527072693,3.68316401161243,3.6831561420370407,3.8242622378668996,3.745286425585468,3.9652410576729435,3.9006196107175946,3.8461747516332676,3.846164286117915,3.8433036951136015,3.843351589335861,3.757439652764176,3.9751745023010248,3.975227099243902,3.822854217260526,3.8228331360966457,3.899057059759114,3.899111329676388,3.877447515382503,3.8774196707519075,3.863964757447682,3.7791776705030347,3.9543831659517927,3.9544341164107855,3.8169901309869516,3.813594675645392,4.065885670353805,3.8857583879076385,4.08020676338639,4.004080706514404,4.2435832543128615,4.391425423108813,4.164852492695764,4.164798361251976,4.123643709408072,4.123590985458673,4.198814089548012,4.023710540063611,4.023661319625824,4.269286250441428,4.246873544635183,4.246837374971479,4.241020161937629,4.354367346242555,4.411300559059385,4.263672155181224,4.417959536231999,4.3461760480820875,4.3461906821114935,4.579180897782456,4.51574149076125,4.515745262358606,4.254993101951262,4.336355962568838,4.3363857173578095,4.245480765770764,4.39902341694876,4.399060948777981,4.424905194851452,4.424896166784775,4.564359471867984,4.435265301711169,4.435253112015229,4.249792449950032,4.140666456238618,4.150384494463699,4.428871587302606,4.571879759381785,4.2960600715420805,4.606738023682478,4.606792749326332,4.33857965929123,4.338547028442716,4.535141956410264,4.535194988832421,4.271663156564797,4.271623745394377,4.348889017364609,4.222578199119793,4.22253252929953,4.298739789742293,4.509193340349276,4.509234570347206,4.211835527050931,4.400218602432475,4.400253144346459,4.1956040227580935,4.4852044375596645,4.485232135616281,4.303671766053931,4.303616813622934,4.255708783407171,4.255656685862108,4.526953931647832,4.5269727254579255,4.364664709839309,4.36467853602754,4.286180546135653,4.286134722148905,4.557982872877817,4.231905012366875,4.231866501663332,4.361326169692722,4.361335505157808,4.139578362591407,4.256140173613323,4.256151251465566,4.179320645444371,4.179298872397509,4.039636160155065,4.243154512032839,4.24317201904074,4.146316105223504,4.287293681204425,4.052435996979832,4.052425656260874,4.09573308920244,3.8530576469173567,3.853047726813387,4.544806813767158,4.544842917583705,4.159972267558543,4.1599600576808236,4.449494250537151,4.2939131470670615,4.293963882694732,4.142201945839506,4.050269776847385,4.331721344918031,4.1527944023948,4.12879806915327,4.043158688405783,4.0431248171209315,4.06910552402326,3.9774254322151483,3.793204479884175,3.793161199087687,3.962870676492385,3.859226133865111,3.859175456648684,3.8271405918062538,3.8270864520394112,3.9467972260601263,3.946833383974121,3.822937265992113,3.8228822010199024,3.964038021443238,3.8176131407454013,3.918272031078143,3.7195182514113725,3.7456540503575013,3.7456744761073306,3.6435857254908255,3.8103446189513543,3.6630708809184593,3.804177338083303,3.627940054669183,3.7330826095571736,3.8156038674128334,3.6346606624981206,3.6346260074252545,3.8080146543367066,3.713935395418219,3.713946542516156,3.5694415605087233,3.569416822212428,3.690005643054616,3.6643261381119747,3.5238249530457524,3.523809800223681,3.606294179509755,3.5640104611482215,3.3621082154319324,3.3620977160461516,3.537926968092377,3.5379548926073974,3.3958366078738016,3.5419207873897114,3.449501649087926,3.4494912760987058,3.5555654981720513,3.5556041039486193,3.454803771817101,3.49265452574696,3.3378001666671295,3.486127477990118,3.486182145329917,3.3556589892486293,3.3556348709121435,3.489115354252239,3.489150653312566,3.329757818258632,null,3.4945228438258784,3.4945539312149894,3.546929276571026,3.4237443201057394,3.5336073857499004,3.533658902808445,3.394181967661744,3.394136622032085,3.56915203803436,3.5691964613831684,3.3927991954889496,3.3927468567415726,3.6199540467478006,3.6199893654507256,3.426083275190033,3.426027403218761,3.56835723184786,3.5683898052345473,3.402177032348732,3.967444817747347,3.88060853332736,3.880631968403088,3.7397762772081093,3.835192752538421,3.7041104544622074,3.854347069369653,3.7038418423992514,3.9648441803400303,3.9648560144624927,3.792634083438689,3.812364938287375,3.812379097012617,3.712476373908568,3.7124540882336743,3.695029501393385,3.897416283440718,3.897438869586733,3.8752625426949012,3.9089226107121897,3.783120768428753,3.9632849002781483,3.963321433314942,3.7529393549892633,4.120857814292108,3.8846495348991166,3.8846322690944715,4.077845123850812,4.442524206618963,4.442580533952251,4.183628418109596,4.183600921046312,4.297129573544193,4.109415121396559,4.5442548739354685,4.2452160611730125,4.1971461813438395,4.197201129066026,4.023509423644793,4.023467226453357,4.352659204792001,4.326318726876205,4.324874071301222,4.3249189567262825,4.268064864493087,4.268011042679021,4.500737695448456,4.500770956413323,4.262884866524458,4.417561361968934,4.417591847132791,4.314384824589818,4.508596993802332,4.257779301524699,4.315146226150807,4.474297494411638,4.474315668104815,4.214337651968845,4.214288892764141,4.473665707073967,4.537423214542167,4.5374363853243365,4.417338645373152,4.417304391193818,4.515165892313495,4.5151791098876695,4.432907078103803,4.304106630382249,4.649362933817924,4.721356981959884,4.426501507031142,4.426484256044873,4.570221415080289,4.293711538624388,4.586107088953086,4.234243520525537,4.450170702453942,4.450209946080715,4.255766809158115,4.25575358426285,4.316492574081164,4.316534461919404,4.229334984282503,4.229320520881008,4.402337084488918,4.402391691068214,4.164826857762439,4.164803295673592,4.383838740607202,4.383894261262566,4.270148151332432,4.270122277623979,4.470551708023582,4.470608568030316,4.168935536438293,4.525135430810335,4.525191820319861,4.355694590845238,4.355651393459527,4.389421170024987,4.3894760793068865,4.3049321530709665,4.304886512517425,4.505029945668476,4.2687592997923325,4.254549086645118,4.025503905436924,4.360546844373655,4.138822148185811,4.346616428375627,4.346652382573899,4.162932070256619,4.162873921582009,4.349909634785982,4.154116669025643,4.286831263823089,4.286850058161668,4.050521081019238,4.154798451455694,4.154815499124674,3.9618733362434275,3.961826065028423,4.357289136279671,4.357305320678368,4.094279187434215,4.094234921939419,4.106557783803429,3.8659079348117014,4.160530756167773,3.85829695075031,4.049749636448281,3.8565632164054255,4.1146461653533235,4.114670730441258,4.136307985462068,4.13628942582617,4.238173849300631,4.238199908477253,4.0327462412202895,4.0327297436254925,4.194997162237874,4.195026183324469,3.970622845625045,4.040864860793048,3.9573085968073327,3.9442714496942233,3.821843046399537,3.821814123123867,3.835446955451929,3.835505232306692,3.7650621889783897,3.7650306693343647,3.930051962933529,3.930110201999483,3.8455079587327954,3.845473827266384,3.974055692334543,3.974114380924053,3.7692205213910652,3.7691838207937636,3.8741007933832123,3.874159282327145,3.657361537337759,3.8163070775450283,3.816364831626192,3.647250624239593,3.642957791766418,3.5983720955782292,3.4012703621322418,3.5633170260706897,3.360011984610319,3.359963419039376,3.537206493490989,3.537224781755966,3.393608580354675,3.3935629244410297,3.5467520987363588,3.3809910009339568,3.3809473664835434,3.584814278137738,3.5848305848720305,3.396935889160966,3.3968953279513667,3.5489142891726537,3.54893024854668,3.3721865970175826,3.372149565860752,3.5660117151296795,3.5660279852935597,3.374466614698213,3.374431156659165,3.5035375079761946,3.5035546168475893,3.3712584636135405,3.3712267948568075,3.5038367248008155,3.5038538781211033,3.324675361408998,3.3246463838290086,3.491252158759184,3.4912708744784395,3.335100971660467,3.3350736736745263,3.550093319811654,3.3740711327627784,3.3740461849182135,3.5058580722442727,3.505879238472715,3.364982240144771,3.364959050142113,3.4945000347412036,3.4945232942991002,3.3545356307297864,3.3545145613860217,3.5157921230272606,3.515817606204755,3.4044722714187547,3.4044531567247263,3.4945678357561163,3.4945966384116214,3.2904532556538504,3.2904351186168546,3.4235471358175826,3.4235652908133014,3.311944184906434,3.311927252632956,3.486791505162651,3.4868241786665912,3.3273104353506207,3.327293290630964,3.4921038153108968,3.49212826512521,3.332897134426504,3.332880713159215,3.475592208995423,3.4756230259523817,3.554146404394224,3.7064298433264113,3.460736827391656,3.460719470358664,3.5272781119514525,3.383323337884199,3.5077697738580254,3.375057335622129,3.3750378078247594,3.532878199725643,3.392513520345242,3.557580209434777,3.5576330716327758,3.3961612473029352,3.3961383290427554,3.5664123143485917,3.39121938595007,3.520062869695484,3.520119158076423,3.3913531689117473,3.3913261820209946,3.5515738642347916,3.551631807842655,3.52461124993328,3.524581733613615,3.5575066254558325,3.64181610757715,3.5980763611492153,3.3841145353523245,3.384079985889181,3.5054326583904243,3.505492414317239,3.558090804129742,3.687437154558725,3.6874971589276124,3.5436420419104304,3.5436022405680747,3.806350172198123,3.8064096277964774,3.9863600564657524,3.986317502851741,3.878350780081909,3.8784095061830945,3.738901300983607,4.005875764510779,4.005933396714926,3.928488232714337,3.928440675049947,4.0109225958336445,4.010978958620517,3.8498842841501615,3.8498341886821543,3.897558544070985,3.8976131611055354,3.6808060807318284,3.680753749200331,3.8592730324950626,3.859325666682594,3.754554490084661,3.7545004728131284,3.844959422395915,3.845010189708174,3.8065863990522435,3.806530543598084,3.7434671000978876,3.74351558301451,3.630938169963006,3.9193753361233723,3.9194213639836057,3.742231884587604,3.9634910536559342,3.791540612363056,3.7737787927357074,3.739095985006379,4.04270070564398,3.7502646869019727,3.9927339956043997,3.8095954105406302,3.809556821893235,4.038925998381791,4.038944809793363,3.8093254055175674,4.0620636023650425,4.062083138253599,3.81219939916271,3.8121665723071234,4.130543942892239,4.130565171711332,3.8904661764913144,4.11245059382356,4.112473284543866,3.8825126359143303,3.8824851749290668,4.108831119837517,4.541470189280885,4.242439150535714,4.19430277658745,4.194348038777814,4.021072499261004,4.021052331921407,4.134951711944784,4.134999771806426,4.032816995691306,4.032795755410691,4.45257528559203,4.404753723340722,4.407793255974511,4.245431948171805,4.361352521397342,4.361414222627671,4.29314486924466,4.293106104733546,4.4125164574246325,4.4125784584618994,4.169975323699758,4.169933955392306,4.398045046917809,4.460165581795764,4.460219871584055,4.2056928308674175,4.205636054985207,4.183775121526377,4.233727823476659,4.229470337854617,4.141124893572154,4.4311737313428585,4.5978076515245645,4.379834203767693,4.320415845354827,4.320449683441501,4.215363377791076,4.215302470803728,4.1152706337914475,4.505276022681913,4.505299836267998,4.2212225468378515,4.221171486641153,4.603388391403652,4.3336394257158855,4.377394138369427,4.231790850002135,4.231754383751661,4.318793868966462,4.318817127240283,4.206802320434427,4.206768452224612,4.290346143122585,4.421988047090847,4.208307729775281,4.395283098600079,4.3953161918639205,4.191586282720177,4.191562437516095,4.473515459607611,4.332016993834892,4.286321014587665,4.2862984429592,4.414903218974017,4.414951304614172,4.252461123531038,4.25243813822544,4.283286268098314,4.340104022381731,4.340163005036111,4.389213717126192,4.448155979018637,4.353892499943875,4.0900460995759875,4.090005659111845,4.261879478079342,4.151214506096352,4.151276315711126,3.9780221541078364,3.977970106839642,4.093622069410042,4.127911039338956,4.28431174107653,4.284366140893726,4.048752993152534,4.092864080701343,3.8488218989963334,3.8487565938438126,4.0570869394187286,4.119452386209582,4.119387909781414,4.336735064633267,4.336770151228276,4.225849518019788,3.8780359763396968,4.04787435409799,4.047902710616447,3.853687021046925,4.022581071077067,4.139250490982151,4.13927551796301,3.9310534347859565,3.9310042308209834,3.8764732773613453,4.057963295665316,4.057989099451245,3.8328673587447732,3.82006857357485,3.820033957829004,3.866330879868683,4.003941537757203,4.003975961307715,3.812383944459845,3.812355022381472,3.938466340823067,3.9267203061125913,3.926765026268321,3.8419372080513505,3.8419111735250935,3.6534621422158144,3.6534348533619236,3.800021614143987,3.8000751101996,3.9238256710294577,3.9238845718399595,3.7138036860654067,3.713772284833911,3.5585267276406545,3.602790863884915,3.6312231510823563,3.8031797171970445,3.8032457409234386,3.6324665948176804,3.7094885782285005,3.5658556815310796,3.565804204009184,3.740748186893701,3.532126639725958,3.532069289602501,3.660366421826054,3.4211009632097165,3.5952810099298937,3.5953373505569384,3.5608360936289882,3.3673434048562543,3.3672768850300514,3.546253111731035,3.3695392823418406,3.369472392516325,3.495477342140804,3.4955161262440897,3.362870159364389,3.3628051018448315,3.547623025485267,3.3708777692237737,3.3708156646788523,3.4817693440428776,3.4817997730180053,3.3494909777475876,3.3494343408932057,3.4209818367788194,3.4210104600455766,3.308190230407775,3.480193024121325,3.480222020729637,3.3339403375586487,3.3338953211125246,3.5242677560955875,3.5242912510726176,3.379208873772037,3.5191288680102675,3.5191566088350537,3.5191849335362506,3.412668933855795,3.4126352188479405,3.5165531202490334,3.516594803347678,3.3871611097579546,3.411489795876051,3.613475822308205,3.613523614647303,3.5014747275032096,3.554080734492395,4.0259217537406435,4.025979688273942,3.759700903708208,3.7596689080068044,4.006589666085417,4.006654018579417,3.6997425809221434,3.7390881719652582,3.6275861411744224,3.6275410103969197,3.948996777950814,3.949067077390951,4.0384541382673715,3.973138506678018,3.973082535028449,3.807238947972618,3.8073062575609358,3.972924350052118,3.972989032109396,3.8250301107906766,3.8249651142435446,3.820865563648652,3.8209257431393535,3.8710488625634087,3.8711057292833098,3.6745941865652365,3.6745233187911195,3.771388210980882,3.9474633851712366,4.035438266622779,4.035482688699643,3.8055370540465727,3.854089790393133,4.105356867804957,4.287157049620488,4.2871930589404,4.0490456145024725,4.048984497087473,4.436673183431344,4.176154042446964,4.176095319677108,4.007484871652209,4.190288722422443,4.184313376725846,4.184354025205378,4.408973132734887,4.409016599159772,4.1991272227657666,4.344983653632256,4.345030565856356,4.319114027344166,4.232295018083244,4.2323456483362865,4.384362687363833,4.384325318855782,4.437175543086746,4.347000465666345,4.346963353479897,4.327861584273792,4.327824447191824,4.407232642415561,4.164825280400569,4.164787292088794,4.556442230498394,4.556402030624484,4.3905315061569885,4.571717148148209,4.571674202521676,4.527529417827244,4.3686838969527635,4.368638101927549,4.466484869317964,4.208242652965144,4.1780669812791045,4.178143453250479,4.228987077264228,4.228934874615463,4.1817120705559265,4.148759501366372,4.391030951395408,4.391107470235563,4.416568899578873,4.603969015345013,4.604044781696216,4.722157851377334,4.722232306054895,4.131626345736324,4.646696137894717,4.359239811495529,4.359163762985411,4.487779322684032,4.264020421705299,4.598174925976715,4.598234762601714,4.589209942103862,4.231168235673941,4.255268955333069,4.255192065194626,4.342272587220222,4.3423225288692615,4.212266117717362,4.28522173973189,4.201507591274168,4.201437923171769,4.429543657517197,4.429588503361281,4.202125252167216,4.462576984504696,4.24670514623875,4.481487025007145,4.293445298012852,4.293387324525538,4.192362688299769,4.1924097475803155,4.346088743782864,4.34603691947045,4.414783092499821,4.363723276613956,4.382165714820496,4.382116854847324,4.546790644252769,4.5468532672986495,4.236203836713415,4.314556822025274,4.314624641697786,4.127989969753761,4.339489150321919,4.169300781847248,4.154772207737674,4.154853459976997,4.229190479736883,4.229274940858496,4.34310151313703,4.343182651634432,4.101214255383746,4.154074840424,4.156399949451316,4.08599542076272,3.841514356267898,4.394139435292943,4.394224088682943,4.190684446898877,4.360481031106626,4.360563952307385,4.287951670525144,3.938642853727967,4.036906504397664,4.197493262237873,4.1975644502572225,3.959707475673628,3.8386726882429874,3.8385775806247393,4.061399142500306,4.061463142571308,3.7951431174446713,3.7950500762550403,3.9604161564789564,3.6176592881114455,3.6175684613174925,4.026614615060336,4.026675302584693,3.876769839570816,3.9384022944762083,3.800184331004863,3.800103160125858,3.965840730987052,3.7618366161196777,3.761758737738959,3.7911273666030803,3.641762160135049,3.641687166796592,3.9230858945156397,3.6530542637811942,3.652979728344243,3.586996425612442,3.633030921374157,3.6329548978666653,3.7748883004868676,3.5651313277961,3.565050410888885,3.6822204951229778,3.763715680757957,3.7638200276028546,3.560217819545754,3.568345043156815,3.568454656611647,3.424276918214703,3.406128568263754,3.406025553556631,3.5561057774383804,3.5345854956461316,3.534696581819595,3.4131860432566543,3.3918791619215076,3.4929801387260264,3.49308953839362,3.4872552347996484,3.4873647507098418,3.312921959832846,3.2967592928228635,3.296631504095092,3.3327834473376345,3.4697716633521596,3.5079054717585367,3.508012459301926,3.2834124165941616,3.273972643174665,3.2738360046292034,3.3056125218229644,3.494948729502464,3.516478685075842,3.5165982534517375,3.4990907347524653,3.4992116111422504,3.5064459629689244,3.506569953137996,3.5340514748377516,3.5341787248281773,3.5276314095224803,3.5277618982886603,3.548151328480229,3.5200255803999045,3.5022637415163627,3.502403841564856,3.5224837268091402,3.5316931881782856,3.5318405269839723,3.5930706061274846,3.593222679950516,3.522457981075358,3.522612973700984,3.598578682039613,3.598739615616248,3.5725433123367294,3.572708077860331,3.7008356486030163,3.7006006249472767,3.782403202840514,3.8982743507650217,3.654404576305651,3.654027595315288,3.8148438506736824,3.815189750231564],\"type\":\"scatter3d\"}],                        {\"template\":{\"data\":{\"histogram2dcontour\":[{\"type\":\"histogram2dcontour\",\"colorbar\":{\"outlinewidth\":0,\"ticks\":\"\"},\"colorscale\":[[0.0,\"#0d0887\"],[0.1111111111111111,\"#46039f\"],[0.2222222222222222,\"#7201a8\"],[0.3333333333333333,\"#9c179e\"],[0.4444444444444444,\"#bd3786\"],[0.5555555555555556,\"#d8576b\"],[0.6666666666666666,\"#ed7953\"],[0.7777777777777778,\"#fb9f3a\"],[0.8888888888888888,\"#fdca26\"],[1.0,\"#f0f921\"]]}],\"choropleth\":[{\"type\":\"choropleth\",\"colorbar\":{\"outlinewidth\":0,\"ticks\":\"\"}}],\"histogram2d\":[{\"type\":\"histogram2d\",\"colorbar\":{\"outlinewidth\":0,\"ticks\":\"\"},\"colorscale\":[[0.0,\"#0d0887\"],[0.1111111111111111,\"#46039f\"],[0.2222222222222222,\"#7201a8\"],[0.3333333333333333,\"#9c179e\"],[0.4444444444444444,\"#bd3786\"],[0.5555555555555556,\"#d8576b\"],[0.6666666666666666,\"#ed7953\"],[0.7777777777777778,\"#fb9f3a\"],[0.8888888888888888,\"#fdca26\"],[1.0,\"#f0f921\"]]}],\"heatmap\":[{\"type\":\"heatmap\",\"colorbar\":{\"outlinewidth\":0,\"ticks\":\"\"},\"colorscale\":[[0.0,\"#0d0887\"],[0.1111111111111111,\"#46039f\"],[0.2222222222222222,\"#7201a8\"],[0.3333333333333333,\"#9c179e\"],[0.4444444444444444,\"#bd3786\"],[0.5555555555555556,\"#d8576b\"],[0.6666666666666666,\"#ed7953\"],[0.7777777777777778,\"#fb9f3a\"],[0.8888888888888888,\"#fdca26\"],[1.0,\"#f0f921\"]]}],\"heatmapgl\":[{\"type\":\"heatmapgl\",\"colorbar\":{\"outlinewidth\":0,\"ticks\":\"\"},\"colorscale\":[[0.0,\"#0d0887\"],[0.1111111111111111,\"#46039f\"],[0.2222222222222222,\"#7201a8\"],[0.3333333333333333,\"#9c179e\"],[0.4444444444444444,\"#bd3786\"],[0.5555555555555556,\"#d8576b\"],[0.6666666666666666,\"#ed7953\"],[0.7777777777777778,\"#fb9f3a\"],[0.8888888888888888,\"#fdca26\"],[1.0,\"#f0f921\"]]}],\"contourcarpet\":[{\"type\":\"contourcarpet\",\"colorbar\":{\"outlinewidth\":0,\"ticks\":\"\"}}],\"contour\":[{\"type\":\"contour\",\"colorbar\":{\"outlinewidth\":0,\"ticks\":\"\"},\"colorscale\":[[0.0,\"#0d0887\"],[0.1111111111111111,\"#46039f\"],[0.2222222222222222,\"#7201a8\"],[0.3333333333333333,\"#9c179e\"],[0.4444444444444444,\"#bd3786\"],[0.5555555555555556,\"#d8576b\"],[0.6666666666666666,\"#ed7953\"],[0.7777777777777778,\"#fb9f3a\"],[0.8888888888888888,\"#fdca26\"],[1.0,\"#f0f921\"]]}],\"surface\":[{\"type\":\"surface\",\"colorbar\":{\"outlinewidth\":0,\"ticks\":\"\"},\"colorscale\":[[0.0,\"#0d0887\"],[0.1111111111111111,\"#46039f\"],[0.2222222222222222,\"#7201a8\"],[0.3333333333333333,\"#9c179e\"],[0.4444444444444444,\"#bd3786\"],[0.5555555555555556,\"#d8576b\"],[0.6666666666666666,\"#ed7953\"],[0.7777777777777778,\"#fb9f3a\"],[0.8888888888888888,\"#fdca26\"],[1.0,\"#f0f921\"]]}],\"mesh3d\":[{\"type\":\"mesh3d\",\"colorbar\":{\"outlinewidth\":0,\"ticks\":\"\"}}],\"scatter\":[{\"fillpattern\":{\"fillmode\":\"overlay\",\"size\":10,\"solidity\":0.2},\"type\":\"scatter\"}],\"parcoords\":[{\"type\":\"parcoords\",\"line\":{\"colorbar\":{\"outlinewidth\":0,\"ticks\":\"\"}}}],\"scatterpolargl\":[{\"type\":\"scatterpolargl\",\"marker\":{\"colorbar\":{\"outlinewidth\":0,\"ticks\":\"\"}}}],\"bar\":[{\"error_x\":{\"color\":\"#2a3f5f\"},\"error_y\":{\"color\":\"#2a3f5f\"},\"marker\":{\"line\":{\"color\":\"#E5ECF6\",\"width\":0.5},\"pattern\":{\"fillmode\":\"overlay\",\"size\":10,\"solidity\":0.2}},\"type\":\"bar\"}],\"scattergeo\":[{\"type\":\"scattergeo\",\"marker\":{\"colorbar\":{\"outlinewidth\":0,\"ticks\":\"\"}}}],\"scatterpolar\":[{\"type\":\"scatterpolar\",\"marker\":{\"colorbar\":{\"outlinewidth\":0,\"ticks\":\"\"}}}],\"histogram\":[{\"marker\":{\"pattern\":{\"fillmode\":\"overlay\",\"size\":10,\"solidity\":0.2}},\"type\":\"histogram\"}],\"scattergl\":[{\"type\":\"scattergl\",\"marker\":{\"colorbar\":{\"outlinewidth\":0,\"ticks\":\"\"}}}],\"scatter3d\":[{\"type\":\"scatter3d\",\"line\":{\"colorbar\":{\"outlinewidth\":0,\"ticks\":\"\"}},\"marker\":{\"colorbar\":{\"outlinewidth\":0,\"ticks\":\"\"}}}],\"scattermapbox\":[{\"type\":\"scattermapbox\",\"marker\":{\"colorbar\":{\"outlinewidth\":0,\"ticks\":\"\"}}}],\"scatterternary\":[{\"type\":\"scatterternary\",\"marker\":{\"colorbar\":{\"outlinewidth\":0,\"ticks\":\"\"}}}],\"scattercarpet\":[{\"type\":\"scattercarpet\",\"marker\":{\"colorbar\":{\"outlinewidth\":0,\"ticks\":\"\"}}}],\"carpet\":[{\"aaxis\":{\"endlinecolor\":\"#2a3f5f\",\"gridcolor\":\"white\",\"linecolor\":\"white\",\"minorgridcolor\":\"white\",\"startlinecolor\":\"#2a3f5f\"},\"baxis\":{\"endlinecolor\":\"#2a3f5f\",\"gridcolor\":\"white\",\"linecolor\":\"white\",\"minorgridcolor\":\"white\",\"startlinecolor\":\"#2a3f5f\"},\"type\":\"carpet\"}],\"table\":[{\"cells\":{\"fill\":{\"color\":\"#EBF0F8\"},\"line\":{\"color\":\"white\"}},\"header\":{\"fill\":{\"color\":\"#C8D4E3\"},\"line\":{\"color\":\"white\"}},\"type\":\"table\"}],\"barpolar\":[{\"marker\":{\"line\":{\"color\":\"#E5ECF6\",\"width\":0.5},\"pattern\":{\"fillmode\":\"overlay\",\"size\":10,\"solidity\":0.2}},\"type\":\"barpolar\"}],\"pie\":[{\"automargin\":true,\"type\":\"pie\"}]},\"layout\":{\"autotypenumbers\":\"strict\",\"colorway\":[\"#636efa\",\"#EF553B\",\"#00cc96\",\"#ab63fa\",\"#FFA15A\",\"#19d3f3\",\"#FF6692\",\"#B6E880\",\"#FF97FF\",\"#FECB52\"],\"font\":{\"color\":\"#2a3f5f\"},\"hovermode\":\"closest\",\"hoverlabel\":{\"align\":\"left\"},\"paper_bgcolor\":\"white\",\"plot_bgcolor\":\"#E5ECF6\",\"polar\":{\"bgcolor\":\"#E5ECF6\",\"angularaxis\":{\"gridcolor\":\"white\",\"linecolor\":\"white\",\"ticks\":\"\"},\"radialaxis\":{\"gridcolor\":\"white\",\"linecolor\":\"white\",\"ticks\":\"\"}},\"ternary\":{\"bgcolor\":\"#E5ECF6\",\"aaxis\":{\"gridcolor\":\"white\",\"linecolor\":\"white\",\"ticks\":\"\"},\"baxis\":{\"gridcolor\":\"white\",\"linecolor\":\"white\",\"ticks\":\"\"},\"caxis\":{\"gridcolor\":\"white\",\"linecolor\":\"white\",\"ticks\":\"\"}},\"coloraxis\":{\"colorbar\":{\"outlinewidth\":0,\"ticks\":\"\"}},\"colorscale\":{\"sequential\":[[0.0,\"#0d0887\"],[0.1111111111111111,\"#46039f\"],[0.2222222222222222,\"#7201a8\"],[0.3333333333333333,\"#9c179e\"],[0.4444444444444444,\"#bd3786\"],[0.5555555555555556,\"#d8576b\"],[0.6666666666666666,\"#ed7953\"],[0.7777777777777778,\"#fb9f3a\"],[0.8888888888888888,\"#fdca26\"],[1.0,\"#f0f921\"]],\"sequentialminus\":[[0.0,\"#0d0887\"],[0.1111111111111111,\"#46039f\"],[0.2222222222222222,\"#7201a8\"],[0.3333333333333333,\"#9c179e\"],[0.4444444444444444,\"#bd3786\"],[0.5555555555555556,\"#d8576b\"],[0.6666666666666666,\"#ed7953\"],[0.7777777777777778,\"#fb9f3a\"],[0.8888888888888888,\"#fdca26\"],[1.0,\"#f0f921\"]],\"diverging\":[[0,\"#8e0152\"],[0.1,\"#c51b7d\"],[0.2,\"#de77ae\"],[0.3,\"#f1b6da\"],[0.4,\"#fde0ef\"],[0.5,\"#f7f7f7\"],[0.6,\"#e6f5d0\"],[0.7,\"#b8e186\"],[0.8,\"#7fbc41\"],[0.9,\"#4d9221\"],[1,\"#276419\"]]},\"xaxis\":{\"gridcolor\":\"white\",\"linecolor\":\"white\",\"ticks\":\"\",\"title\":{\"standoff\":15},\"zerolinecolor\":\"white\",\"automargin\":true,\"zerolinewidth\":2},\"yaxis\":{\"gridcolor\":\"white\",\"linecolor\":\"white\",\"ticks\":\"\",\"title\":{\"standoff\":15},\"zerolinecolor\":\"white\",\"automargin\":true,\"zerolinewidth\":2},\"scene\":{\"xaxis\":{\"backgroundcolor\":\"#E5ECF6\",\"gridcolor\":\"white\",\"linecolor\":\"white\",\"showbackground\":true,\"ticks\":\"\",\"zerolinecolor\":\"white\",\"gridwidth\":2},\"yaxis\":{\"backgroundcolor\":\"#E5ECF6\",\"gridcolor\":\"white\",\"linecolor\":\"white\",\"showbackground\":true,\"ticks\":\"\",\"zerolinecolor\":\"white\",\"gridwidth\":2},\"zaxis\":{\"backgroundcolor\":\"#E5ECF6\",\"gridcolor\":\"white\",\"linecolor\":\"white\",\"showbackground\":true,\"ticks\":\"\",\"zerolinecolor\":\"white\",\"gridwidth\":2}},\"shapedefaults\":{\"line\":{\"color\":\"#2a3f5f\"}},\"annotationdefaults\":{\"arrowcolor\":\"#2a3f5f\",\"arrowhead\":0,\"arrowwidth\":1},\"geo\":{\"bgcolor\":\"white\",\"landcolor\":\"#E5ECF6\",\"subunitcolor\":\"white\",\"showland\":true,\"showlakes\":true,\"lakecolor\":\"white\"},\"title\":{\"x\":0.05},\"mapbox\":{\"style\":\"light\"}}},\"scene\":{\"domain\":{\"x\":[0.0,1.0],\"y\":[0.0,1.0]},\"xaxis\":{\"title\":{\"text\":\"Theta\"}},\"yaxis\":{\"title\":{\"text\":\"Altitude\"}},\"zaxis\":{\"title\":{\"text\":\"SNR\"}}},\"coloraxis\":{\"colorbar\":{\"title\":{\"text\":\"SNR\"}},\"colorscale\":[[0.0,\"#0d0887\"],[0.1111111111111111,\"#46039f\"],[0.2222222222222222,\"#7201a8\"],[0.3333333333333333,\"#9c179e\"],[0.4444444444444444,\"#bd3786\"],[0.5555555555555556,\"#d8576b\"],[0.6666666666666666,\"#ed7953\"],[0.7777777777777778,\"#fb9f3a\"],[0.8888888888888888,\"#fdca26\"],[1.0,\"#f0f921\"]]},\"legend\":{\"tracegroupgap\":0},\"title\":{\"text\":\"SNR vs Theta and Altitude\"}},                        {\"responsive\": true}                    ).then(function(){\n",
              "                            \n",
              "var gd = document.getElementById('b2cc9f17-ca47-4c5c-8d3e-ea5d91b44776');\n",
              "var x = new MutationObserver(function (mutations, observer) {{\n",
              "        var display = window.getComputedStyle(gd).display;\n",
              "        if (!display || display === 'none') {{\n",
              "            console.log([gd, 'removed!']);\n",
              "            Plotly.purge(gd);\n",
              "            observer.disconnect();\n",
              "        }}\n",
              "}});\n",
              "\n",
              "// Listen for the removal of the full notebook cells\n",
              "var notebookContainer = gd.closest('#notebook-container');\n",
              "if (notebookContainer) {{\n",
              "    x.observe(notebookContainer, {childList: true});\n",
              "}}\n",
              "\n",
              "// Listen for the clearing of the current output cell\n",
              "var outputEl = gd.closest('.output');\n",
              "if (outputEl) {{\n",
              "    x.observe(outputEl, {childList: true});\n",
              "}}\n",
              "\n",
              "                        })                };                            </script>        </div>\n",
              "</body>\n",
              "</html>"
            ]
          },
          "metadata": {}
        }
      ]
    },
    {
      "cell_type": "code",
      "source": [
        "top_10_snr = df.nlargest(10, 'SNR')\n",
        "print(top_10_snr[['Altitude', 'Theta', 'Hour', 'Day', 'Month',  'Background Temperature', 'SNR']])"
      ],
      "metadata": {
        "colab": {
          "base_uri": "https://localhost:8080/"
        },
        "id": "89BTPITcyJS5",
        "outputId": "0d617e8d-e367-408e-9265-3151af50566f"
      },
      "execution_count": 18,
      "outputs": [
        {
          "output_type": "stream",
          "name": "stdout",
          "text": [
            "       Altitude      Theta   Hour  Day  Month  Background Temperature  \\\n",
            "6    466.320733  17.211679  02:00   13      1              280.909424   \n",
            "968  369.185770  20.796658  02:00   13      1              280.908691   \n",
            "967  368.677469  27.948788  02:00   13      1              280.908691   \n",
            "439  425.416360   4.451129  02:00   22      1              281.003174   \n",
            "438  425.957903  22.390451  14:00   20      1              281.916992   \n",
            "970  368.063087  13.804387  15:00   20      1              281.863037   \n",
            "228  445.918704  11.901374  02:00   29      1              282.489258   \n",
            "227  445.260464  16.781019  02:00   29      1              282.489258   \n",
            "966  368.946504  11.399800  02:00   10      1              282.414307   \n",
            "965  368.430274  25.002100  02:00   10      1              282.414307   \n",
            "\n",
            "          SNR  \n",
            "6    4.732244  \n",
            "968  4.722232  \n",
            "967  4.722158  \n",
            "439  4.721357  \n",
            "438  4.649363  \n",
            "970  4.646696  \n",
            "228  4.606793  \n",
            "227  4.606738  \n",
            "966  4.604045  \n",
            "965  4.603969  \n"
          ]
        }
      ]
    },
    {
      "cell_type": "code",
      "source": [
        "bottom_10_snr = df.nsmallest(10, 'SNR')\n",
        "print(bottom_10_snr[['Altitude', 'Theta', 'Hour', 'Day', 'Month',  'Background Temperature', 'SNR']])"
      ],
      "metadata": {
        "colab": {
          "base_uri": "https://localhost:8080/"
        },
        "id": "cRMairRCzjRF",
        "outputId": "58d6e0b6-45ef-4f34-b3b6-70534af0f71d"
      },
      "execution_count": 19,
      "outputs": [
        {
          "output_type": "stream",
          "name": "stdout",
          "text": [
            "        Altitude      Theta   Hour  Day  Month  Background Temperature  \\\n",
            "1090  296.392962  31.602116  16:00   11      8              303.881592   \n",
            "1089  296.877793   8.603209  16:00   11      8              303.881592   \n",
            "1088  297.502274  21.234202  16:00   10      8              303.689941   \n",
            "133   449.145285  21.605575  15:00   11      8              304.031982   \n",
            "132   449.799996   5.236456  15:00   11      8              304.031982   \n",
            "591   417.713757  17.892065  15:00   10      8              303.968506   \n",
            "590   417.893575  17.676586  15:00   10      8              303.968506   \n",
            "1083  305.502460   7.549875  16:00   30      7              303.461914   \n",
            "1082  305.998988  30.752574  16:00   30      7              303.461914   \n",
            "1091  295.869461  28.110295  16:00   12      8              303.224365   \n",
            "\n",
            "           SNR  \n",
            "1090  3.273836  \n",
            "1089  3.273973  \n",
            "1088  3.283412  \n",
            "133   3.290227  \n",
            "132   3.290280  \n",
            "591   3.290435  \n",
            "590   3.290453  \n",
            "1083  3.296632  \n",
            "1082  3.296759  \n",
            "1091  3.305613  \n"
          ]
        }
      ]
    },
    {
      "cell_type": "code",
      "source": [
        "import matplotlib.pyplot as plt\n",
        "plt.figure(figsize=(10, 6))\n",
        "df.boxplot(column='SNR', by='Hour')\n",
        "plt.title('SNR vs Hour')\n",
        "plt.xlabel('Hour of Day')\n",
        "plt.ylabel('SNR')\n",
        "plt.suptitle('')\n",
        "plt.show()"
      ],
      "metadata": {
        "id": "6_T3tJGf19qC",
        "outputId": "5abcd71a-989b-4aca-d8c6-6ac99f748161",
        "colab": {
          "base_uri": "https://localhost:8080/",
          "height": 480
        }
      },
      "execution_count": 22,
      "outputs": [
        {
          "output_type": "display_data",
          "data": {
            "text/plain": [
              "<Figure size 1000x600 with 0 Axes>"
            ]
          },
          "metadata": {}
        },
        {
          "output_type": "display_data",
          "data": {
            "text/plain": [
              "<Figure size 640x480 with 1 Axes>"
            ],
            "image/png": "[encoded data removed]"
          },
          "metadata": {}
        }
      ]
    },
    {
      "cell_type": "code",
      "source": [
        "# prompt: snr vs month box plot\n",
        "\n",
        "import matplotlib.pyplot as plt\n",
        "plt.figure(figsize=(10, 6))\n",
        "df.boxplot(column='SNR', by='Month')\n",
        "plt.title('SNR vs Month')\n",
        "plt.xlabel('Month')\n",
        "plt.ylabel('SNR')\n",
        "plt.suptitle('')\n",
        "plt.show()"
      ],
      "metadata": {
        "id": "SuCT7mz52Sqf",
        "outputId": "42c6296e-e1e6-420b-fa26-90b8df33ac5c",
        "colab": {
          "base_uri": "https://localhost:8080/",
          "height": 480
        }
      },
      "execution_count": 24,
      "outputs": [
        {
          "output_type": "display_data",
          "data": {
            "text/plain": [
              "<Figure size 1000x600 with 0 Axes>"
            ]
          },
          "metadata": {}
        },
        {
          "output_type": "display_data",
          "data": {
            "text/plain": [
              "<Figure size 640x480 with 1 Axes>"
            ],
            "image/png": "[encoded data removed]"
          },
          "metadata": {}
        }
      ]
    },
    {
      "cell_type": "code",
      "source": [],
      "metadata": {
        "id": "nJI0zJEa2iOV"
      },
      "execution_count": null,
      "outputs": []
    }
  ]
}