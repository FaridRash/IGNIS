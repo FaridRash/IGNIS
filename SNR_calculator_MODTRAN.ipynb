{
  "nbformat": 4,
  "nbformat_minor": 0,
  "metadata": {
    "colab": {
      "provenance": [],
      "authorship_tag": "ABX9TyNu7v6M8uqiK6s6HM+jO1gO",
      "include_colab_link": true
    },
    "kernelspec": {
      "name": "python3",
      "display_name": "Python 3"
    },
    "language_info": {
      "name": "python"
    },
    "widgets": {
      "application/vnd.jupyter.widget-state+json": {
        "32bcb7d5fbb046a69c5bc56e4955e583": {
          "model_module": "@jupyter-widgets/controls",
          "model_name": "VBoxModel",
          "model_module_version": "1.5.0",
          "state": {
            "_dom_classes": [
              "widget-interact"
            ],
            "_model_module": "@jupyter-widgets/controls",
            "_model_module_version": "1.5.0",
            "_model_name": "VBoxModel",
            "_view_count": null,
            "_view_module": "@jupyter-widgets/controls",
            "_view_module_version": "1.5.0",
            "_view_name": "VBoxView",
            "box_style": "",
            "children": [
              "IPY_MODEL_e9011dc36d1e463d9db14ab21b0d8cb0",
              "IPY_MODEL_c3635983348b4533b7dd04fafc9f2dc5",
              "IPY_MODEL_93e713bc7b5f4bcfb672104fa0dd5aea",
              "IPY_MODEL_eb25608647a747139fd0ac16da519e9d",
              "IPY_MODEL_893cad3d76d849f1bc31daf79fabedb3"
            ],
            "layout": "IPY_MODEL_4b3452b43ba14b87807d01d858f78466"
          }
        },
        "e9011dc36d1e463d9db14ab21b0d8cb0": {
          "model_module": "@jupyter-widgets/controls",
          "model_name": "FloatSliderModel",
          "model_module_version": "1.5.0",
          "state": {
            "_dom_classes": [],
            "_model_module": "@jupyter-widgets/controls",
            "_model_module_version": "1.5.0",
            "_model_name": "FloatSliderModel",
            "_view_count": null,
            "_view_module": "@jupyter-widgets/controls",
            "_view_module_version": "1.5.0",
            "_view_name": "FloatSliderView",
            "continuous_update": true,
            "description": "Temperature (K)",
            "description_tooltip": null,
            "disabled": false,
            "layout": "IPY_MODEL_a8235e0ed95647eabb319ff4b1126fcf",
            "max": 500,
            "min": 200,
            "orientation": "horizontal",
            "readout": true,
            "readout_format": ".2f",
            "step": 1,
            "style": "IPY_MODEL_f6a590c84af748f1acb637490555bc1c",
            "value": 354
          }
        },
        "c3635983348b4533b7dd04fafc9f2dc5": {
          "model_module": "@jupyter-widgets/controls",
          "model_name": "FloatSliderModel",
          "model_module_version": "1.5.0",
          "state": {
            "_dom_classes": [],
            "_model_module": "@jupyter-widgets/controls",
            "_model_module_version": "1.5.0",
            "_model_name": "FloatSliderModel",
            "_view_count": null,
            "_view_module": "@jupyter-widgets/controls",
            "_view_module_version": "1.5.0",
            "_view_name": "FloatSliderView",
            "continuous_update": true,
            "description": "Theta (°)",
            "description_tooltip": null,
            "disabled": false,
            "layout": "IPY_MODEL_b7089c8a5771429c8d1b9f42e75d28c0",
            "max": 180,
            "min": 0,
            "orientation": "horizontal",
            "readout": true,
            "readout_format": ".2f",
            "step": 1,
            "style": "IPY_MODEL_9742874686a8415790da468e7f8a669c",
            "value": 0
          }
        },
        "93e713bc7b5f4bcfb672104fa0dd5aea": {
          "model_module": "@jupyter-widgets/controls",
          "model_name": "FloatSliderModel",
          "model_module_version": "1.5.0",
          "state": {
            "_dom_classes": [],
            "_model_module": "@jupyter-widgets/controls",
            "_model_module_version": "1.5.0",
            "_model_name": "FloatSliderModel",
            "_view_count": null,
            "_view_module": "@jupyter-widgets/controls",
            "_view_module_version": "1.5.0",
            "_view_name": "FloatSliderView",
            "continuous_update": true,
            "description": "Distance (m)",
            "description_tooltip": null,
            "disabled": false,
            "layout": "IPY_MODEL_a077b4179de74415bd33c38363462df1",
            "max": 460000,
            "min": 150000,
            "orientation": "horizontal",
            "readout": true,
            "readout_format": ".2f",
            "step": 1000,
            "style": "IPY_MODEL_14775a7d96cd4b39a77e09d7bcc8df27",
            "value": 460000
          }
        },
        "eb25608647a747139fd0ac16da519e9d": {
          "model_module": "@jupyter-widgets/controls",
          "model_name": "FloatSliderModel",
          "model_module_version": "1.5.0",
          "state": {
            "_dom_classes": [],
            "_model_module": "@jupyter-widgets/controls",
            "_model_module_version": "1.5.0",
            "_model_name": "FloatSliderModel",
            "_view_count": null,
            "_view_module": "@jupyter-widgets/controls",
            "_view_module_version": "1.5.0",
            "_view_name": "FloatSliderView",
            "continuous_update": true,
            "description": "τₐ (Atmosphere)",
            "description_tooltip": null,
            "disabled": false,
            "layout": "IPY_MODEL_8fdbd70597f844fa9e5aa0d50f3071db",
            "max": 1,
            "min": 0,
            "orientation": "horizontal",
            "readout": true,
            "readout_format": ".2f",
            "step": 0.01,
            "style": "IPY_MODEL_088be185177246ceaf8c7d4eee1ef251",
            "value": 0.85
          }
        },
        "893cad3d76d849f1bc31daf79fabedb3": {
          "model_module": "@jupyter-widgets/output",
          "model_name": "OutputModel",
          "model_module_version": "1.0.0",
          "state": {
            "_dom_classes": [],
            "_model_module": "@jupyter-widgets/output",
            "_model_module_version": "1.0.0",
            "_model_name": "OutputModel",
            "_view_count": null,
            "_view_module": "@jupyter-widgets/output",
            "_view_module_version": "1.0.0",
            "_view_name": "OutputView",
            "layout": "IPY_MODEL_1a059dae1f4740959525d9de9699a1c3",
            "msg_id": "",
            "outputs": [
              {
                "output_type": "display_data",
                "data": {
                  "text/plain": "<Figure size 1000x500 with 1 Axes>",
                  "image/png": "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\n"
                },
                "metadata": {}
              },
              {
                "output_type": "stream",
                "name": "stdout",
                "text": [
                  "Total SNR at T = 354.0 K, θ = 0.0°, R = 460 km, τₐ = 0.85: 1.94e+06\n"
                ]
              }
            ]
          }
        },
        "4b3452b43ba14b87807d01d858f78466": {
          "model_module": "@jupyter-widgets/base",
          "model_name": "LayoutModel",
          "model_module_version": "1.2.0",
          "state": {
            "_model_module": "@jupyter-widgets/base",
            "_model_module_version": "1.2.0",
            "_model_name": "LayoutModel",
            "_view_count": null,
            "_view_module": "@jupyter-widgets/base",
            "_view_module_version": "1.2.0",
            "_view_name": "LayoutView",
            "align_content": null,
            "align_items": null,
            "align_self": null,
            "border": null,
            "bottom": null,
            "display": null,
            "flex": null,
            "flex_flow": null,
            "grid_area": null,
            "grid_auto_columns": null,
            "grid_auto_flow": null,
            "grid_auto_rows": null,
            "grid_column": null,
            "grid_gap": null,
            "grid_row": null,
            "grid_template_areas": null,
            "grid_template_columns": null,
            "grid_template_rows": null,
            "height": null,
            "justify_content": null,
            "justify_items": null,
            "left": null,
            "margin": null,
            "max_height": null,
            "max_width": null,
            "min_height": null,
            "min_width": null,
            "object_fit": null,
            "object_position": null,
            "order": null,
            "overflow": null,
            "overflow_x": null,
            "overflow_y": null,
            "padding": null,
            "right": null,
            "top": null,
            "visibility": null,
            "width": null
          }
        },
        "a8235e0ed95647eabb319ff4b1126fcf": {
          "model_module": "@jupyter-widgets/base",
          "model_name": "LayoutModel",
          "model_module_version": "1.2.0",
          "state": {
            "_model_module": "@jupyter-widgets/base",
            "_model_module_version": "1.2.0",
            "_model_name": "LayoutModel",
            "_view_count": null,
            "_view_module": "@jupyter-widgets/base",
            "_view_module_version": "1.2.0",
            "_view_name": "LayoutView",
            "align_content": null,
            "align_items": null,
            "align_self": null,
            "border": null,
            "bottom": null,
            "display": null,
            "flex": null,
            "flex_flow": null,
            "grid_area": null,
            "grid_auto_columns": null,
            "grid_auto_flow": null,
            "grid_auto_rows": null,
            "grid_column": null,
            "grid_gap": null,
            "grid_row": null,
            "grid_template_areas": null,
            "grid_template_columns": null,
            "grid_template_rows": null,
            "height": null,
            "justify_content": null,
            "justify_items": null,
            "left": null,
            "margin": null,
            "max_height": null,
            "max_width": null,
            "min_height": null,
            "min_width": null,
            "object_fit": null,
            "object_position": null,
            "order": null,
            "overflow": null,
            "overflow_x": null,
            "overflow_y": null,
            "padding": null,
            "right": null,
            "top": null,
            "visibility": null,
            "width": null
          }
        },
        "f6a590c84af748f1acb637490555bc1c": {
          "model_module": "@jupyter-widgets/controls",
          "model_name": "SliderStyleModel",
          "model_module_version": "1.5.0",
          "state": {
            "_model_module": "@jupyter-widgets/controls",
            "_model_module_version": "1.5.0",
            "_model_name": "SliderStyleModel",
            "_view_count": null,
            "_view_module": "@jupyter-widgets/base",
            "_view_module_version": "1.2.0",
            "_view_name": "StyleView",
            "description_width": "",
            "handle_color": null
          }
        },
        "b7089c8a5771429c8d1b9f42e75d28c0": {
          "model_module": "@jupyter-widgets/base",
          "model_name": "LayoutModel",
          "model_module_version": "1.2.0",
          "state": {
            "_model_module": "@jupyter-widgets/base",
            "_model_module_version": "1.2.0",
            "_model_name": "LayoutModel",
            "_view_count": null,
            "_view_module": "@jupyter-widgets/base",
            "_view_module_version": "1.2.0",
            "_view_name": "LayoutView",
            "align_content": null,
            "align_items": null,
            "align_self": null,
            "border": null,
            "bottom": null,
            "display": null,
            "flex": null,
            "flex_flow": null,
            "grid_area": null,
            "grid_auto_columns": null,
            "grid_auto_flow": null,
            "grid_auto_rows": null,
            "grid_column": null,
            "grid_gap": null,
            "grid_row": null,
            "grid_template_areas": null,
            "grid_template_columns": null,
            "grid_template_rows": null,
            "height": null,
            "justify_content": null,
            "justify_items": null,
            "left": null,
            "margin": null,
            "max_height": null,
            "max_width": null,
            "min_height": null,
            "min_width": null,
            "object_fit": null,
            "object_position": null,
            "order": null,
            "overflow": null,
            "overflow_x": null,
            "overflow_y": null,
            "padding": null,
            "right": null,
            "top": null,
            "visibility": null,
            "width": null
          }
        },
        "9742874686a8415790da468e7f8a669c": {
          "model_module": "@jupyter-widgets/controls",
          "model_name": "SliderStyleModel",
          "model_module_version": "1.5.0",
          "state": {
            "_model_module": "@jupyter-widgets/controls",
            "_model_module_version": "1.5.0",
            "_model_name": "SliderStyleModel",
            "_view_count": null,
            "_view_module": "@jupyter-widgets/base",
            "_view_module_version": "1.2.0",
            "_view_name": "StyleView",
            "description_width": "",
            "handle_color": null
          }
        },
        "a077b4179de74415bd33c38363462df1": {
          "model_module": "@jupyter-widgets/base",
          "model_name": "LayoutModel",
          "model_module_version": "1.2.0",
          "state": {
            "_model_module": "@jupyter-widgets/base",
            "_model_module_version": "1.2.0",
            "_model_name": "LayoutModel",
            "_view_count": null,
            "_view_module": "@jupyter-widgets/base",
            "_view_module_version": "1.2.0",
            "_view_name": "LayoutView",
            "align_content": null,
            "align_items": null,
            "align_self": null,
            "border": null,
            "bottom": null,
            "display": null,
            "flex": null,
            "flex_flow": null,
            "grid_area": null,
            "grid_auto_columns": null,
            "grid_auto_flow": null,
            "grid_auto_rows": null,
            "grid_column": null,
            "grid_gap": null,
            "grid_row": null,
            "grid_template_areas": null,
            "grid_template_columns": null,
            "grid_template_rows": null,
            "height": null,
            "justify_content": null,
            "justify_items": null,
            "left": null,
            "margin": null,
            "max_height": null,
            "max_width": null,
            "min_height": null,
            "min_width": null,
            "object_fit": null,
            "object_position": null,
            "order": null,
            "overflow": null,
            "overflow_x": null,
            "overflow_y": null,
            "padding": null,
            "right": null,
            "top": null,
            "visibility": null,
            "width": null
          }
        },
        "14775a7d96cd4b39a77e09d7bcc8df27": {
          "model_module": "@jupyter-widgets/controls",
          "model_name": "SliderStyleModel",
          "model_module_version": "1.5.0",
          "state": {
            "_model_module": "@jupyter-widgets/controls",
            "_model_module_version": "1.5.0",
            "_model_name": "SliderStyleModel",
            "_view_count": null,
            "_view_module": "@jupyter-widgets/base",
            "_view_module_version": "1.2.0",
            "_view_name": "StyleView",
            "description_width": "",
            "handle_color": null
          }
        },
        "8fdbd70597f844fa9e5aa0d50f3071db": {
          "model_module": "@jupyter-widgets/base",
          "model_name": "LayoutModel",
          "model_module_version": "1.2.0",
          "state": {
            "_model_module": "@jupyter-widgets/base",
            "_model_module_version": "1.2.0",
            "_model_name": "LayoutModel",
            "_view_count": null,
            "_view_module": "@jupyter-widgets/base",
            "_view_module_version": "1.2.0",
            "_view_name": "LayoutView",
            "align_content": null,
            "align_items": null,
            "align_self": null,
            "border": null,
            "bottom": null,
            "display": null,
            "flex": null,
            "flex_flow": null,
            "grid_area": null,
            "grid_auto_columns": null,
            "grid_auto_flow": null,
            "grid_auto_rows": null,
            "grid_column": null,
            "grid_gap": null,
            "grid_row": null,
            "grid_template_areas": null,
            "grid_template_columns": null,
            "grid_template_rows": null,
            "height": null,
            "justify_content": null,
            "justify_items": null,
            "left": null,
            "margin": null,
            "max_height": null,
            "max_width": null,
            "min_height": null,
            "min_width": null,
            "object_fit": null,
            "object_position": null,
            "order": null,
            "overflow": null,
            "overflow_x": null,
            "overflow_y": null,
            "padding": null,
            "right": null,
            "top": null,
            "visibility": null,
            "width": null
          }
        },
        "088be185177246ceaf8c7d4eee1ef251": {
          "model_module": "@jupyter-widgets/controls",
          "model_name": "SliderStyleModel",
          "model_module_version": "1.5.0",
          "state": {
            "_model_module": "@jupyter-widgets/controls",
            "_model_module_version": "1.5.0",
            "_model_name": "SliderStyleModel",
            "_view_count": null,
            "_view_module": "@jupyter-widgets/base",
            "_view_module_version": "1.2.0",
            "_view_name": "StyleView",
            "description_width": "",
            "handle_color": null
          }
        },
        "1a059dae1f4740959525d9de9699a1c3": {
          "model_module": "@jupyter-widgets/base",
          "model_name": "LayoutModel",
          "model_module_version": "1.2.0",
          "state": {
            "_model_module": "@jupyter-widgets/base",
            "_model_module_version": "1.2.0",
            "_model_name": "LayoutModel",
            "_view_count": null,
            "_view_module": "@jupyter-widgets/base",
            "_view_module_version": "1.2.0",
            "_view_name": "LayoutView",
            "align_content": null,
            "align_items": null,
            "align_self": null,
            "border": null,
            "bottom": null,
            "display": null,
            "flex": null,
            "flex_flow": null,
            "grid_area": null,
            "grid_auto_columns": null,
            "grid_auto_flow": null,
            "grid_auto_rows": null,
            "grid_column": null,
            "grid_gap": null,
            "grid_row": null,
            "grid_template_areas": null,
            "grid_template_columns": null,
            "grid_template_rows": null,
            "height": null,
            "justify_content": null,
            "justify_items": null,
            "left": null,
            "margin": null,
            "max_height": null,
            "max_width": null,
            "min_height": null,
            "min_width": null,
            "object_fit": null,
            "object_position": null,
            "order": null,
            "overflow": null,
            "overflow_x": null,
            "overflow_y": null,
            "padding": null,
            "right": null,
            "top": null,
            "visibility": null,
            "width": null
          }
        }
      }
    }
  },
  "cells": [
    {
      "cell_type": "markdown",
      "metadata": {
        "id": "view-in-github",
        "colab_type": "text"
      },
      "source": [
        "<a href=\"https://colab.research.google.com/github/FaridRash/IGNIS/blob/main/SNR_calculator_MODTRAN.ipynb\" target=\"_parent\"><img src=\"https://colab.research.google.com/assets/colab-badge.svg\" alt=\"Open In Colab\"/></a>"
      ]
    },
    {
      "cell_type": "code",
      "source": [
        "\"\"\"\n",
        "For the campi flegrei target we are considering a 200 km^2 square area (approximately 14x14km).\n",
        "But the specific spots we want to investigate are the fumarole (whose vents can reach 10 metres and 165degree)\n",
        "Consider those would be much smaller than our gsd, so if you consider the signal from that area it would be a\n",
        "weighted sum of the signal from the fumarola (~10m, 150-160 °C) and from the sourrunding ground (GSD-10m, Ground Temperature)\n",
        "\n",
        "But this thing of the weighted sum can be implemented later,\n",
        "for now let’s see what happens with the whole campi flegrei as target,\n",
        "then let’s consider the hotspot, then let’s consider the weighted sum (if necessary)\n",
        "\"\"\""
      ],
      "metadata": {
        "id": "oGqA-AeqUU5L",
        "outputId": "6c06a3a1-60ef-4160-c39c-5b4d4b4eeac2",
        "colab": {
          "base_uri": "https://localhost:8080/",
          "height": 70
        }
      },
      "execution_count": 7,
      "outputs": [
        {
          "output_type": "execute_result",
          "data": {
            "text/plain": [
              "'For the campi flegrei target we are considering a 200 km^2 square area (approximately 14x14km). But the specific spots we want to investigate are the fumarole (whose vents can reach 10 metres and 165degree)\\nConsider those would be much smaller than our gsd, so if you consider the signal from that area it would be a weighted sum of the signal from the fumarola (~10m, 150-160 °C) and from the sourrunding ground (GSD-10m, Ground\\xa0Temperature)'"
            ],
            "application/vnd.google.colaboratory.intrinsic+json": {
              "type": "string"
            }
          },
          "metadata": {},
          "execution_count": 7
        }
      ]
    },
    {
      "cell_type": "code",
      "source": [
        "import numpy as np\n",
        "import matplotlib.pyplot as plt\n",
        "from ipywidgets import interact, FloatSlider"
      ],
      "metadata": {
        "id": "0iwD4CObnvix"
      },
      "execution_count": 1,
      "outputs": []
    },
    {
      "cell_type": "code",
      "source": [
        "c1 = 3.7418e8\n",
        "c2 = 1.4388e4\n",
        "h = 6.626e-34\n",
        "c = 3e8"
      ],
      "metadata": {
        "id": "4Ysz21QvnxB5"
      },
      "execution_count": 2,
      "outputs": []
    },
    {
      "cell_type": "code",
      "source": [
        "epsilon = 0.95\n",
        "tau_0 = 0.89\n",
        "eta = 0.7\n",
        "t = 0.01\n",
        "A0 = 10\n",
        "focal_length = 72.8\n",
        "F_number = 1.05\n",
        "D = (focal_length / F_number) / 1000\n",
        "\n",
        "lambda_range = np.arange(8, 12.1, 0.1)\n",
        "delta_lambda = 0.1"
      ],
      "metadata": {
        "id": "MUREo2Icnz7c"
      },
      "execution_count": 8,
      "outputs": []
    },
    {
      "cell_type": "code",
      "source": [
        "def compute_snr(T, theta_deg, R, tau_a):\n",
        "    cos_theta = np.cos(np.deg2rad(theta_deg))\n",
        "    M_lambda = c1 / (lambda_range**5 * (np.exp(c2 / (lambda_range * T)) - 1))\n",
        "    E_lambda = epsilon * M_lambda\n",
        "    S_lambda = lambda_range * E_lambda * tau_a * tau_0 * eta * delta_lambda\n",
        "    S_sum = np.sum(S_lambda)\n",
        "    S_total = (D**2 * t * cos_theta * A0) / (4 * R**2 * h * c) * S_sum\n",
        "    N_total = np.sqrt(S_total)\n",
        "    SNR_total = S_total / N_total\n",
        "    SNR_lambda = S_lambda / N_total\n",
        "\n",
        "    plt.figure(figsize=(10, 5))\n",
        "    plt.plot(lambda_range, SNR_lambda, label='SNR Contribution per λ', color='blue')\n",
        "    plt.xlabel('Wavelength (μm)')\n",
        "    plt.ylabel('SNR Contribution')\n",
        "    plt.title(f'Spectral SNR Contribution\\nT = {T} K, θ = {theta_deg}°, R = {R/1000:.0f} km, τₐ = {tau_a}')\n",
        "    plt.grid(True)\n",
        "    plt.legend()\n",
        "    plt.tight_layout()\n",
        "    plt.show()\n",
        "\n",
        "    print(f\"Total SNR at T = {T} K, θ = {theta_deg}°, R = {R/1000:.0f} km, τₐ = {tau_a}: {SNR_total:.2e}\")"
      ],
      "metadata": {
        "id": "aOG04wGNn3ca"
      },
      "execution_count": 9,
      "outputs": []
    },
    {
      "cell_type": "code",
      "source": [
        "interact(\n",
        "    compute_snr,\n",
        "    T=FloatSlider(value=278.15, min=200, max=500, step=1, description='Temperature (K)'),\n",
        "    theta_deg=FloatSlider(value=0, min=0, max=180, step=1, description='Theta (°)'),\n",
        "    R=FloatSlider(value=460000, min=150000, max=460000, step=1000, description='Distance (m)'),\n",
        "    tau_a=FloatSlider(value=0.85, min=0.0, max=1.0, step=0.01, description='τₐ (Atmosphere)')\n",
        ")"
      ],
      "metadata": {
        "colab": {
          "base_uri": "https://localhost:8080/",
          "height": 738,
          "referenced_widgets": [
            "32bcb7d5fbb046a69c5bc56e4955e583",
            "e9011dc36d1e463d9db14ab21b0d8cb0",
            "c3635983348b4533b7dd04fafc9f2dc5",
            "93e713bc7b5f4bcfb672104fa0dd5aea",
            "eb25608647a747139fd0ac16da519e9d",
            "893cad3d76d849f1bc31daf79fabedb3",
            "4b3452b43ba14b87807d01d858f78466",
            "a8235e0ed95647eabb319ff4b1126fcf",
            "f6a590c84af748f1acb637490555bc1c",
            "b7089c8a5771429c8d1b9f42e75d28c0",
            "9742874686a8415790da468e7f8a669c",
            "a077b4179de74415bd33c38363462df1",
            "14775a7d96cd4b39a77e09d7bcc8df27",
            "8fdbd70597f844fa9e5aa0d50f3071db",
            "088be185177246ceaf8c7d4eee1ef251",
            "1a059dae1f4740959525d9de9699a1c3"
          ]
        },
        "id": "ebAcdtMAn5Pu",
        "outputId": "75031220-7105-44e9-a5a9-3a1cdd5745ff"
      },
      "execution_count": 10,
      "outputs": [
        {
          "output_type": "display_data",
          "data": {
            "text/plain": [
              "interactive(children=(FloatSlider(value=278.15, description='Temperature (K)', max=500.0, min=200.0, step=1.0)…"
            ],
            "application/vnd.jupyter.widget-view+json": {
              "version_major": 2,
              "version_minor": 0,
              "model_id": "32bcb7d5fbb046a69c5bc56e4955e583"
            }
          },
          "metadata": {}
        },
        {
          "output_type": "execute_result",
          "data": {
            "text/plain": [
              "<function __main__.compute_snr(T, theta_deg, R, tau_a)>"
            ],
            "text/html": [
              "<div style=\"max-width:800px; border: 1px solid var(--colab-border-color);\"><style>\n",
              "      pre.function-repr-contents {\n",
              "        overflow-x: auto;\n",
              "        padding: 8px 12px;\n",
              "        max-height: 500px;\n",
              "      }\n",
              "\n",
              "      pre.function-repr-contents.function-repr-contents-collapsed {\n",
              "        cursor: pointer;\n",
              "        max-height: 100px;\n",
              "      }\n",
              "    </style>\n",
              "    <pre style=\"white-space: initial; background:\n",
              "         var(--colab-secondary-surface-color); padding: 8px 12px;\n",
              "         border-bottom: 1px solid var(--colab-border-color);\"><b>compute_snr</b><br/>def compute_snr(T, theta_deg, R, tau_a)</pre><pre class=\"function-repr-contents function-repr-contents-collapsed\" style=\"\"><a class=\"filepath\" style=\"display:none\" href=\"#\">/content/&lt;ipython-input-9-d65290bee835&gt;</a>&lt;no docstring&gt;</pre></div>"
            ]
          },
          "metadata": {},
          "execution_count": 10
        }
      ]
    },
    {
      "cell_type": "code",
      "source": [],
      "metadata": {
        "id": "TGBtU2H-n_eF"
      },
      "execution_count": null,
      "outputs": []
    }
  ]
}