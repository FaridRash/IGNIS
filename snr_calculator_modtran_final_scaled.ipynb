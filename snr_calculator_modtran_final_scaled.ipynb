{
  "nbformat": 4,
  "nbformat_minor": 0,
  "metadata": {
    "colab": {
      "provenance": [],
      "authorship_tag": "ABX9TyMbRud0/PdksdxzkFLyl6ZC",
      "include_colab_link": true
    },
    "kernelspec": {
      "name": "python3",
      "display_name": "Python 3"
    },
    "language_info": {
      "name": "python"
    },
    "widgets": {
      "application/vnd.jupyter.widget-state+json": {
        "234e3e7813d941b9aaed8ec91993e0fd": {
          "model_module": "@jupyter-widgets/controls",
          "model_name": "VBoxModel",
          "model_module_version": "1.5.0",
          "state": {
            "_dom_classes": [
              "widget-interact"
            ],
            "_model_module": "@jupyter-widgets/controls",
            "_model_module_version": "1.5.0",
            "_model_name": "VBoxModel",
            "_view_count": null,
            "_view_module": "@jupyter-widgets/controls",
            "_view_module_version": "1.5.0",
            "_view_name": "VBoxView",
            "box_style": "",
            "children": [
              "IPY_MODEL_0f60bb565fd348dfa5725e0698f0d544",
              "IPY_MODEL_e792b1e2a5b54d42ab6db7ae8dfe61b5",
              "IPY_MODEL_68111b10b0954fbaa1cbbc0cdae56c25",
              "IPY_MODEL_8f52c418c8f44282804328b13df4aeb5",
              "IPY_MODEL_061230449b5b4a5fac6bcd3dc7d8f884"
            ],
            "layout": "IPY_MODEL_b6d39e8c3b40497480391ff35cb91396"
          }
        },
        "0f60bb565fd348dfa5725e0698f0d544": {
          "model_module": "@jupyter-widgets/controls",
          "model_name": "FloatSliderModel",
          "model_module_version": "1.5.0",
          "state": {
            "_dom_classes": [],
            "_model_module": "@jupyter-widgets/controls",
            "_model_module_version": "1.5.0",
            "_model_name": "FloatSliderModel",
            "_view_count": null,
            "_view_module": "@jupyter-widgets/controls",
            "_view_module_version": "1.5.0",
            "_view_name": "FloatSliderView",
            "continuous_update": true,
            "description": "Temperature (K)",
            "description_tooltip": null,
            "disabled": false,
            "layout": "IPY_MODEL_0b051a5292a944f4b35756999d2e502f",
            "max": 500,
            "min": 200,
            "orientation": "horizontal",
            "readout": true,
            "readout_format": ".2f",
            "step": 1,
            "style": "IPY_MODEL_c463268fc1364b9ebda38b13d342c21b",
            "value": 438
          }
        },
        "e792b1e2a5b54d42ab6db7ae8dfe61b5": {
          "model_module": "@jupyter-widgets/controls",
          "model_name": "FloatSliderModel",
          "model_module_version": "1.5.0",
          "state": {
            "_dom_classes": [],
            "_model_module": "@jupyter-widgets/controls",
            "_model_module_version": "1.5.0",
            "_model_name": "FloatSliderModel",
            "_view_count": null,
            "_view_module": "@jupyter-widgets/controls",
            "_view_module_version": "1.5.0",
            "_view_name": "FloatSliderView",
            "continuous_update": true,
            "description": "Theta (°)",
            "description_tooltip": null,
            "disabled": false,
            "layout": "IPY_MODEL_f6785b6a010e4371997ff41ee054eb68",
            "max": 90,
            "min": 0,
            "orientation": "horizontal",
            "readout": true,
            "readout_format": ".2f",
            "step": 1,
            "style": "IPY_MODEL_eb6c7204f4484557aba1cb8f8cec84aa",
            "value": 0
          }
        },
        "68111b10b0954fbaa1cbbc0cdae56c25": {
          "model_module": "@jupyter-widgets/controls",
          "model_name": "FloatSliderModel",
          "model_module_version": "1.5.0",
          "state": {
            "_dom_classes": [],
            "_model_module": "@jupyter-widgets/controls",
            "_model_module_version": "1.5.0",
            "_model_name": "FloatSliderModel",
            "_view_count": null,
            "_view_module": "@jupyter-widgets/controls",
            "_view_module_version": "1.5.0",
            "_view_name": "FloatSliderView",
            "continuous_update": true,
            "description": "Distance (m)",
            "description_tooltip": null,
            "disabled": false,
            "layout": "IPY_MODEL_aa4778a419bd43dc840d46fa203d077d",
            "max": 460000,
            "min": 150000,
            "orientation": "horizontal",
            "readout": true,
            "readout_format": ".2f",
            "step": 1000,
            "style": "IPY_MODEL_48a840a3d72c4a598492b12ac7d0c660",
            "value": 460000
          }
        },
        "8f52c418c8f44282804328b13df4aeb5": {
          "model_module": "@jupyter-widgets/controls",
          "model_name": "FloatSliderModel",
          "model_module_version": "1.5.0",
          "state": {
            "_dom_classes": [],
            "_model_module": "@jupyter-widgets/controls",
            "_model_module_version": "1.5.0",
            "_model_name": "FloatSliderModel",
            "_view_count": null,
            "_view_module": "@jupyter-widgets/controls",
            "_view_module_version": "1.5.0",
            "_view_name": "FloatSliderView",
            "continuous_update": true,
            "description": "τₐ (Atmosphere)",
            "description_tooltip": null,
            "disabled": false,
            "layout": "IPY_MODEL_ae8b872d287e4977a76a4931acdd6007",
            "max": 1,
            "min": 0,
            "orientation": "horizontal",
            "readout": true,
            "readout_format": ".2f",
            "step": 0.01,
            "style": "IPY_MODEL_ed2ed4feecdc46d2a9f10245ea598210",
            "value": 0.85
          }
        },
        "061230449b5b4a5fac6bcd3dc7d8f884": {
          "model_module": "@jupyter-widgets/output",
          "model_name": "OutputModel",
          "model_module_version": "1.0.0",
          "state": {
            "_dom_classes": [],
            "_model_module": "@jupyter-widgets/output",
            "_model_module_version": "1.0.0",
            "_model_name": "OutputModel",
            "_view_count": null,
            "_view_module": "@jupyter-widgets/output",
            "_view_module_version": "1.0.0",
            "_view_name": "OutputView",
            "layout": "IPY_MODEL_8d56f958f408412fbb593b358555a91c",
            "msg_id": "",
            "outputs": [
              {
                "output_type": "display_data",
                "data": {
                  "text/plain": "<Figure size 1000x500 with 1 Axes>",
                  "image/png": "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\n"
                },
                "metadata": {}
              },
              {
                "output_type": "stream",
                "name": "stdout",
                "text": [
                  "Total SNR at T = 438.0 K, θ = 0.0°, R = 460 km, τₐ = 0.85: 6.10e+03\n"
                ]
              }
            ]
          }
        },
        "b6d39e8c3b40497480391ff35cb91396": {
          "model_module": "@jupyter-widgets/base",
          "model_name": "LayoutModel",
          "model_module_version": "1.2.0",
          "state": {
            "_model_module": "@jupyter-widgets/base",
            "_model_module_version": "1.2.0",
            "_model_name": "LayoutModel",
            "_view_count": null,
            "_view_module": "@jupyter-widgets/base",
            "_view_module_version": "1.2.0",
            "_view_name": "LayoutView",
            "align_content": null,
            "align_items": null,
            "align_self": null,
            "border": null,
            "bottom": null,
            "display": null,
            "flex": null,
            "flex_flow": null,
            "grid_area": null,
            "grid_auto_columns": null,
            "grid_auto_flow": null,
            "grid_auto_rows": null,
            "grid_column": null,
            "grid_gap": null,
            "grid_row": null,
            "grid_template_areas": null,
            "grid_template_columns": null,
            "grid_template_rows": null,
            "height": null,
            "justify_content": null,
            "justify_items": null,
            "left": null,
            "margin": null,
            "max_height": null,
            "max_width": null,
            "min_height": null,
            "min_width": null,
            "object_fit": null,
            "object_position": null,
            "order": null,
            "overflow": null,
            "overflow_x": null,
            "overflow_y": null,
            "padding": null,
            "right": null,
            "top": null,
            "visibility": null,
            "width": null
          }
        },
        "0b051a5292a944f4b35756999d2e502f": {
          "model_module": "@jupyter-widgets/base",
          "model_name": "LayoutModel",
          "model_module_version": "1.2.0",
          "state": {
            "_model_module": "@jupyter-widgets/base",
            "_model_module_version": "1.2.0",
            "_model_name": "LayoutModel",
            "_view_count": null,
            "_view_module": "@jupyter-widgets/base",
            "_view_module_version": "1.2.0",
            "_view_name": "LayoutView",
            "align_content": null,
            "align_items": null,
            "align_self": null,
            "border": null,
            "bottom": null,
            "display": null,
            "flex": null,
            "flex_flow": null,
            "grid_area": null,
            "grid_auto_columns": null,
            "grid_auto_flow": null,
            "grid_auto_rows": null,
            "grid_column": null,
            "grid_gap": null,
            "grid_row": null,
            "grid_template_areas": null,
            "grid_template_columns": null,
            "grid_template_rows": null,
            "height": null,
            "justify_content": null,
            "justify_items": null,
            "left": null,
            "margin": null,
            "max_height": null,
            "max_width": null,
            "min_height": null,
            "min_width": null,
            "object_fit": null,
            "object_position": null,
            "order": null,
            "overflow": null,
            "overflow_x": null,
            "overflow_y": null,
            "padding": null,
            "right": null,
            "top": null,
            "visibility": null,
            "width": null
          }
        },
        "c463268fc1364b9ebda38b13d342c21b": {
          "model_module": "@jupyter-widgets/controls",
          "model_name": "SliderStyleModel",
          "model_module_version": "1.5.0",
          "state": {
            "_model_module": "@jupyter-widgets/controls",
            "_model_module_version": "1.5.0",
            "_model_name": "SliderStyleModel",
            "_view_count": null,
            "_view_module": "@jupyter-widgets/base",
            "_view_module_version": "1.2.0",
            "_view_name": "StyleView",
            "description_width": "",
            "handle_color": null
          }
        },
        "f6785b6a010e4371997ff41ee054eb68": {
          "model_module": "@jupyter-widgets/base",
          "model_name": "LayoutModel",
          "model_module_version": "1.2.0",
          "state": {
            "_model_module": "@jupyter-widgets/base",
            "_model_module_version": "1.2.0",
            "_model_name": "LayoutModel",
            "_view_count": null,
            "_view_module": "@jupyter-widgets/base",
            "_view_module_version": "1.2.0",
            "_view_name": "LayoutView",
            "align_content": null,
            "align_items": null,
            "align_self": null,
            "border": null,
            "bottom": null,
            "display": null,
            "flex": null,
            "flex_flow": null,
            "grid_area": null,
            "grid_auto_columns": null,
            "grid_auto_flow": null,
            "grid_auto_rows": null,
            "grid_column": null,
            "grid_gap": null,
            "grid_row": null,
            "grid_template_areas": null,
            "grid_template_columns": null,
            "grid_template_rows": null,
            "height": null,
            "justify_content": null,
            "justify_items": null,
            "left": null,
            "margin": null,
            "max_height": null,
            "max_width": null,
            "min_height": null,
            "min_width": null,
            "object_fit": null,
            "object_position": null,
            "order": null,
            "overflow": null,
            "overflow_x": null,
            "overflow_y": null,
            "padding": null,
            "right": null,
            "top": null,
            "visibility": null,
            "width": null
          }
        },
        "eb6c7204f4484557aba1cb8f8cec84aa": {
          "model_module": "@jupyter-widgets/controls",
          "model_name": "SliderStyleModel",
          "model_module_version": "1.5.0",
          "state": {
            "_model_module": "@jupyter-widgets/controls",
            "_model_module_version": "1.5.0",
            "_model_name": "SliderStyleModel",
            "_view_count": null,
            "_view_module": "@jupyter-widgets/base",
            "_view_module_version": "1.2.0",
            "_view_name": "StyleView",
            "description_width": "",
            "handle_color": null
          }
        },
        "aa4778a419bd43dc840d46fa203d077d": {
          "model_module": "@jupyter-widgets/base",
          "model_name": "LayoutModel",
          "model_module_version": "1.2.0",
          "state": {
            "_model_module": "@jupyter-widgets/base",
            "_model_module_version": "1.2.0",
            "_model_name": "LayoutModel",
            "_view_count": null,
            "_view_module": "@jupyter-widgets/base",
            "_view_module_version": "1.2.0",
            "_view_name": "LayoutView",
            "align_content": null,
            "align_items": null,
            "align_self": null,
            "border": null,
            "bottom": null,
            "display": null,
            "flex": null,
            "flex_flow": null,
            "grid_area": null,
            "grid_auto_columns": null,
            "grid_auto_flow": null,
            "grid_auto_rows": null,
            "grid_column": null,
            "grid_gap": null,
            "grid_row": null,
            "grid_template_areas": null,
            "grid_template_columns": null,
            "grid_template_rows": null,
            "height": null,
            "justify_content": null,
            "justify_items": null,
            "left": null,
            "margin": null,
            "max_height": null,
            "max_width": null,
            "min_height": null,
            "min_width": null,
            "object_fit": null,
            "object_position": null,
            "order": null,
            "overflow": null,
            "overflow_x": null,
            "overflow_y": null,
            "padding": null,
            "right": null,
            "top": null,
            "visibility": null,
            "width": null
          }
        },
        "48a840a3d72c4a598492b12ac7d0c660": {
          "model_module": "@jupyter-widgets/controls",
          "model_name": "SliderStyleModel",
          "model_module_version": "1.5.0",
          "state": {
            "_model_module": "@jupyter-widgets/controls",
            "_model_module_version": "1.5.0",
            "_model_name": "SliderStyleModel",
            "_view_count": null,
            "_view_module": "@jupyter-widgets/base",
            "_view_module_version": "1.2.0",
            "_view_name": "StyleView",
            "description_width": "",
            "handle_color": null
          }
        },
        "ae8b872d287e4977a76a4931acdd6007": {
          "model_module": "@jupyter-widgets/base",
          "model_name": "LayoutModel",
          "model_module_version": "1.2.0",
          "state": {
            "_model_module": "@jupyter-widgets/base",
            "_model_module_version": "1.2.0",
            "_model_name": "LayoutModel",
            "_view_count": null,
            "_view_module": "@jupyter-widgets/base",
            "_view_module_version": "1.2.0",
            "_view_name": "LayoutView",
            "align_content": null,
            "align_items": null,
            "align_self": null,
            "border": null,
            "bottom": null,
            "display": null,
            "flex": null,
            "flex_flow": null,
            "grid_area": null,
            "grid_auto_columns": null,
            "grid_auto_flow": null,
            "grid_auto_rows": null,
            "grid_column": null,
            "grid_gap": null,
            "grid_row": null,
            "grid_template_areas": null,
            "grid_template_columns": null,
            "grid_template_rows": null,
            "height": null,
            "justify_content": null,
            "justify_items": null,
            "left": null,
            "margin": null,
            "max_height": null,
            "max_width": null,
            "min_height": null,
            "min_width": null,
            "object_fit": null,
            "object_position": null,
            "order": null,
            "overflow": null,
            "overflow_x": null,
            "overflow_y": null,
            "padding": null,
            "right": null,
            "top": null,
            "visibility": null,
            "width": null
          }
        },
        "ed2ed4feecdc46d2a9f10245ea598210": {
          "model_module": "@jupyter-widgets/controls",
          "model_name": "SliderStyleModel",
          "model_module_version": "1.5.0",
          "state": {
            "_model_module": "@jupyter-widgets/controls",
            "_model_module_version": "1.5.0",
            "_model_name": "SliderStyleModel",
            "_view_count": null,
            "_view_module": "@jupyter-widgets/base",
            "_view_module_version": "1.2.0",
            "_view_name": "StyleView",
            "description_width": "",
            "handle_color": null
          }
        },
        "8d56f958f408412fbb593b358555a91c": {
          "model_module": "@jupyter-widgets/base",
          "model_name": "LayoutModel",
          "model_module_version": "1.2.0",
          "state": {
            "_model_module": "@jupyter-widgets/base",
            "_model_module_version": "1.2.0",
            "_model_name": "LayoutModel",
            "_view_count": null,
            "_view_module": "@jupyter-widgets/base",
            "_view_module_version": "1.2.0",
            "_view_name": "LayoutView",
            "align_content": null,
            "align_items": null,
            "align_self": null,
            "border": null,
            "bottom": null,
            "display": null,
            "flex": null,
            "flex_flow": null,
            "grid_area": null,
            "grid_auto_columns": null,
            "grid_auto_flow": null,
            "grid_auto_rows": null,
            "grid_column": null,
            "grid_gap": null,
            "grid_row": null,
            "grid_template_areas": null,
            "grid_template_columns": null,
            "grid_template_rows": null,
            "height": null,
            "justify_content": null,
            "justify_items": null,
            "left": null,
            "margin": null,
            "max_height": null,
            "max_width": null,
            "min_height": null,
            "min_width": null,
            "object_fit": null,
            "object_position": null,
            "order": null,
            "overflow": null,
            "overflow_x": null,
            "overflow_y": null,
            "padding": null,
            "right": null,
            "top": null,
            "visibility": null,
            "width": null
          }
        }
      }
    }
  },
  "cells": [
    {
      "cell_type": "markdown",
      "metadata": {
        "id": "view-in-github",
        "colab_type": "text"
      },
      "source": [
        "<a href=\"https://colab.research.google.com/github/FaridRash/IGNIS/blob/main/snr_calculator_modtran_final_scaled.ipynb\" target=\"_parent\"><img src=\"https://colab.research.google.com/assets/colab-badge.svg\" alt=\"Open In Colab\"/></a>"
      ]
    },
    {
      "cell_type": "code",
      "source": [
        "\"\"\"\n",
        "https://wp.optics.arizona.edu/alumni/wp-content/uploads/sites/113/2024/06/Jacob_Wilson_Master_s_Report_2024.pdf\n",
        "maybe when you do the calculation cite that the value is taken from this source\n",
        "\"\"\""
      ],
      "metadata": {
        "id": "knUCk8Ill8Mq",
        "outputId": "569f00f1-f95f-4db7-93b0-382caa661b00",
        "colab": {
          "base_uri": "https://localhost:8080/",
          "height": 52
        }
      },
      "execution_count": null,
      "outputs": [
        {
          "output_type": "execute_result",
          "data": {
            "text/plain": [
              "'\\nhttps://wp.optics.arizona.edu/alumni/wp-content/uploads/sites/113/2024/06/Jacob_Wilson_Master_s_Report_2024.pdf\\nmaybe when you do the calculation cite that the value is taken from\\xa0this\\xa0source\\n'"
            ],
            "application/vnd.google.colaboratory.intrinsic+json": {
              "type": "string"
            }
          },
          "metadata": {},
          "execution_count": 4
        }
      ]
    },
    {
      "cell_type": "code",
      "source": [
        "\n",
        "\"\"\"\n",
        "For the campi flegrei target we are considering a 200 km^2 square area (approximately 14x14km).\n",
        "But the specific spots we want to investigate are the fumarole (whose vents can reach 10 metres and 165degree)\n",
        "Consider those would be much smaller than our gsd, so if you consider the signal from that area it would be a\n",
        "weighted sum of the signal from the fumarola (~10m, 150-160 °C) and from the sourrunding ground (GSD-10m, Ground Temperature)\n",
        "\n",
        "But this thing of the weighted sum can be implemented later,\n",
        "for now let’s see what happens with the whole campi flegrei as target,\n",
        "then let’s consider the hotspot, then let’s consider the weighted sum (if necessary)\n",
        "\"\"\""
      ],
      "metadata": {
        "colab": {
          "base_uri": "https://localhost:8080/",
          "height": 87
        },
        "id": "oGqA-AeqUU5L",
        "outputId": "6a8956be-7fa1-4e1d-81ef-4126f6c0c29f"
      },
      "execution_count": null,
      "outputs": [
        {
          "output_type": "execute_result",
          "data": {
            "text/plain": [
              "'\\nFor the campi flegrei target we are considering a 200 km^2 square area (approximately 14x14km).\\nBut the specific spots we want to investigate are the fumarole (whose vents can reach 10 metres and 165degree)\\nConsider those would be much smaller than our gsd, so if you consider the signal from that area it would be a\\nweighted sum of the signal from the fumarola (~10m, 150-160 °C) and from the sourrunding ground (GSD-10m, Ground\\xa0Temperature)\\n\\nBut this thing of the weighted sum can be implemented later,\\nfor now let’s see what happens with the whole campi flegrei as target,\\nthen let’s consider the hotspot, then let’s consider the weighted sum\\xa0(if\\xa0necessary)\\n'"
            ],
            "application/vnd.google.colaboratory.intrinsic+json": {
              "type": "string"
            }
          },
          "metadata": {},
          "execution_count": 5
        }
      ]
    },
    {
      "cell_type": "code",
      "source": [
        "import numpy as np\n",
        "import matplotlib.pyplot as plt\n",
        "from ipywidgets import interact, FloatSlider"
      ],
      "metadata": {
        "id": "0iwD4CObnvix"
      },
      "execution_count": null,
      "outputs": []
    },
    {
      "cell_type": "code",
      "source": [
        "c1 = 1.191042972e-16\n",
        "c2 = c2 = 1.4388e-2\n",
        "h = 6.626e-34\n",
        "c = 3e8"
      ],
      "metadata": {
        "id": "4Ysz21QvnxB5"
      },
      "execution_count": null,
      "outputs": []
    },
    {
      "cell_type": "code",
      "source": [
        "def compute_snr(T, theta_deg, R, tau_a):\n",
        "    lambda_m = lambda_range * 1e-6\n",
        "    cos_theta = np.cos(np.deg2rad(theta_deg))\n",
        "    exponent = np.clip(c2 / (lambda_m * T), 0, 700)  # cap large exponents\n",
        "    #print(f'exponent {exponent}')\n",
        "    M_lambda = c1 / (lambda_m**5 * (np.exp(exponent) - 1))\n",
        "    #print(f'M_lambda: {M_lambda}')\n",
        "    E_lambda = epsilon * M_lambda\n",
        "    #print(f'E_lambda: {E_lambda}')\n",
        "    S_lambda = lambda_m * E_lambda * tau_a * tau_0 * eta * delta_lambda\n",
        "    #print(S_lambda)\n",
        "    S_sum = np.sum(S_lambda)\n",
        "    #print(S_sum)\n",
        "    S_total = (D**2 * t * cos_theta * A0) / (4 * R**2 * h * c) * S_sum\n",
        "    #print(S_total)\n",
        "    N_total = np.sqrt(S_total)\n",
        "    SNR_total = S_total / N_total\n",
        "    SNR_lambda = S_lambda / N_total\n",
        "\n",
        "    plt.figure(figsize=(10, 5))\n",
        "    plt.plot(lambda_m, SNR_lambda, label='SNR Contribution per λ', color='blue')\n",
        "    plt.xlabel('Wavelength (μm)')\n",
        "    plt.ylabel('SNR Contribution')\n",
        "    plt.title(f'Spectral SNR Contribution\\nT = {T}K, θ = {theta_deg}°, R = {R/1000:.0f}km, τₐ = {tau_a}, A0 = {A0}m' )\n",
        "    plt.grid(True)\n",
        "    plt.legend()\n",
        "    plt.tight_layout()\n",
        "    plt.show()\n",
        "\n",
        "    print(f\"Total SNR at T = {T} K, θ = {theta_deg}°, R = {R/1000:.0f} km, τₐ = {tau_a}: {SNR_total:.2e}\")"
      ],
      "metadata": {
        "id": "Tb6LLUYrbDY9"
      },
      "execution_count": null,
      "outputs": []
    },
    {
      "cell_type": "code",
      "source": [
        "epsilon = 0.95\n",
        "tau_0 = 0.89\n",
        "eta = 0.7\n",
        "t = 0.01\n",
        "A0 = 100\n",
        "focal_length = 72.8\n",
        "F_number = 1.05\n",
        "D = (focal_length / F_number) / 1000\n",
        "\n",
        "lambda_range = np.arange(8, 14.1, 0.1)\n",
        "delta_lambda = 0.1e-6  # meters\n"
      ],
      "metadata": {
        "id": "MUREo2Icnz7c"
      },
      "execution_count": null,
      "outputs": []
    },
    {
      "cell_type": "code",
      "source": [
        "interact(\n",
        "    compute_snr,\n",
        "    T=FloatSlider(value=438.0, min=200, max=500, step=1, description='Temperature (K)'),\n",
        "    theta_deg=FloatSlider(value=0, min=0, max=90, step=1, description='Theta (°)'),\n",
        "    R=FloatSlider(value=460000, min=150000, max=460000, step=1000, description='Distance (m)'),\n",
        "    tau_a=FloatSlider(value=0.85, min=0.0, max=1.0, step=0.01, description='τₐ (Atmosphere)')\n",
        "\n",
        ")"
      ],
      "metadata": {
        "colab": {
          "base_uri": "https://localhost:8080/",
          "height": 738,
          "referenced_widgets": [
            "234e3e7813d941b9aaed8ec91993e0fd",
            "0f60bb565fd348dfa5725e0698f0d544",
            "e792b1e2a5b54d42ab6db7ae8dfe61b5",
            "68111b10b0954fbaa1cbbc0cdae56c25",
            "8f52c418c8f44282804328b13df4aeb5",
            "061230449b5b4a5fac6bcd3dc7d8f884",
            "b6d39e8c3b40497480391ff35cb91396",
            "0b051a5292a944f4b35756999d2e502f",
            "c463268fc1364b9ebda38b13d342c21b",
            "f6785b6a010e4371997ff41ee054eb68",
            "eb6c7204f4484557aba1cb8f8cec84aa",
            "aa4778a419bd43dc840d46fa203d077d",
            "48a840a3d72c4a598492b12ac7d0c660",
            "ae8b872d287e4977a76a4931acdd6007",
            "ed2ed4feecdc46d2a9f10245ea598210",
            "8d56f958f408412fbb593b358555a91c"
          ]
        },
        "id": "ebAcdtMAn5Pu",
        "outputId": "e3d04b64-8147-4dec-afcd-c43c33110de3"
      },
      "execution_count": null,
      "outputs": [
        {
          "output_type": "display_data",
          "data": {
            "text/plain": [
              "interactive(children=(FloatSlider(value=438.0, description='Temperature (K)', max=500.0, min=200.0, step=1.0),…"
            ],
            "application/vnd.jupyter.widget-view+json": {
              "version_major": 2,
              "version_minor": 0,
              "model_id": "234e3e7813d941b9aaed8ec91993e0fd"
            }
          },
          "metadata": {}
        },
        {
          "output_type": "execute_result",
          "data": {
            "text/plain": [
              "<function __main__.compute_snr(T, theta_deg, R, tau_a)>"
            ],
            "text/html": [
              "<div style=\"max-width:800px; border: 1px solid var(--colab-border-color);\"><style>\n",
              "      pre.function-repr-contents {\n",
              "        overflow-x: auto;\n",
              "        padding: 8px 12px;\n",
              "        max-height: 500px;\n",
              "      }\n",
              "\n",
              "      pre.function-repr-contents.function-repr-contents-collapsed {\n",
              "        cursor: pointer;\n",
              "        max-height: 100px;\n",
              "      }\n",
              "    </style>\n",
              "    <pre style=\"white-space: initial; background:\n",
              "         var(--colab-secondary-surface-color); padding: 8px 12px;\n",
              "         border-bottom: 1px solid var(--colab-border-color);\"><b>compute_snr</b><br/>def compute_snr(T, theta_deg, R, tau_a)</pre><pre class=\"function-repr-contents function-repr-contents-collapsed\" style=\"\"><a class=\"filepath\" style=\"display:none\" href=\"#\">/tmp/ipython-input-54-1886026584.py</a>&lt;no docstring&gt;</pre></div>"
            ]
          },
          "metadata": {},
          "execution_count": 58
        }
      ]
    },
    {
      "cell_type": "code",
      "source": [],
      "metadata": {
        "id": "cjZ144KKZYyx"
      },
      "execution_count": null,
      "outputs": []
    }
  ]
}