{
  "nbformat": 4,
  "nbformat_minor": 0,
  "metadata": {
    "colab": {
      "provenance": [],
      "authorship_tag": "ABX9TyNmuICkJbDsJwoV4we8yKaq",
      "include_colab_link": true
    },
    "kernelspec": {
      "name": "python3",
      "display_name": "Python 3"
    },
    "language_info": {
      "name": "python"
    },
    "widgets": {
      "application/vnd.jupyter.widget-state+json": {
        "e1046e44b49d412b8d6dc78a19e8155e": {
          "model_module": "@jupyter-widgets/controls",
          "model_name": "VBoxModel",
          "model_module_version": "1.5.0",
          "state": {
            "_dom_classes": [
              "widget-interact"
            ],
            "_model_module": "@jupyter-widgets/controls",
            "_model_module_version": "1.5.0",
            "_model_name": "VBoxModel",
            "_view_count": null,
            "_view_module": "@jupyter-widgets/controls",
            "_view_module_version": "1.5.0",
            "_view_name": "VBoxView",
            "box_style": "",
            "children": [
              "IPY_MODEL_9e82e519f19b457a964098641e0579a1",
              "IPY_MODEL_56eda214b5ea4fc88c91684ffba3a4fc",
              "IPY_MODEL_e4b9ee1f708c471b8f1af0db05578701",
              "IPY_MODEL_c18a195dc03b448da9475e4a89c1a350",
              "IPY_MODEL_54a3c961c4964bf6ad2af5c74e64627a",
              "IPY_MODEL_725a3375190b4364ac808ca344fa83e6"
            ],
            "layout": "IPY_MODEL_7685ecad64b74e709e1016c827db7e01"
          }
        },
        "9e82e519f19b457a964098641e0579a1": {
          "model_module": "@jupyter-widgets/controls",
          "model_name": "FloatSliderModel",
          "model_module_version": "1.5.0",
          "state": {
            "_dom_classes": [],
            "_model_module": "@jupyter-widgets/controls",
            "_model_module_version": "1.5.0",
            "_model_name": "FloatSliderModel",
            "_view_count": null,
            "_view_module": "@jupyter-widgets/controls",
            "_view_module_version": "1.5.0",
            "_view_name": "FloatSliderView",
            "continuous_update": true,
            "description": "surrounding ground Temperature (K)",
            "description_tooltip": null,
            "disabled": false,
            "layout": "IPY_MODEL_6c7611b1928242e29b396bdcfd844beb",
            "max": 500,
            "min": 200,
            "orientation": "horizontal",
            "readout": true,
            "readout_format": ".2f",
            "step": 1,
            "style": "IPY_MODEL_a6aa780d788a490b831f913a334c39c6",
            "value": 313.15
          }
        },
        "56eda214b5ea4fc88c91684ffba3a4fc": {
          "model_module": "@jupyter-widgets/controls",
          "model_name": "FloatSliderModel",
          "model_module_version": "1.5.0",
          "state": {
            "_dom_classes": [],
            "_model_module": "@jupyter-widgets/controls",
            "_model_module_version": "1.5.0",
            "_model_name": "FloatSliderModel",
            "_view_count": null,
            "_view_module": "@jupyter-widgets/controls",
            "_view_module_version": "1.5.0",
            "_view_name": "FloatSliderView",
            "continuous_update": true,
            "description": "fumarole Temperature (K)",
            "description_tooltip": null,
            "disabled": false,
            "layout": "IPY_MODEL_bcc9e8481f6749179790099d1064d0bd",
            "max": 500,
            "min": 200,
            "orientation": "horizontal",
            "readout": true,
            "readout_format": ".2f",
            "step": 1,
            "style": "IPY_MODEL_3ef3872ab8964026a284d7d6e2f29333",
            "value": 433.15
          }
        },
        "e4b9ee1f708c471b8f1af0db05578701": {
          "model_module": "@jupyter-widgets/controls",
          "model_name": "FloatSliderModel",
          "model_module_version": "1.5.0",
          "state": {
            "_dom_classes": [],
            "_model_module": "@jupyter-widgets/controls",
            "_model_module_version": "1.5.0",
            "_model_name": "FloatSliderModel",
            "_view_count": null,
            "_view_module": "@jupyter-widgets/controls",
            "_view_module_version": "1.5.0",
            "_view_name": "FloatSliderView",
            "continuous_update": true,
            "description": "Theta (°)",
            "description_tooltip": null,
            "disabled": false,
            "layout": "IPY_MODEL_f81d184568974a6b84f22339ce2bddeb",
            "max": 90,
            "min": 0,
            "orientation": "horizontal",
            "readout": true,
            "readout_format": ".2f",
            "step": 1,
            "style": "IPY_MODEL_1e7e0d3db6fc43aca9991cc53fd7a59e",
            "value": 90
          }
        },
        "c18a195dc03b448da9475e4a89c1a350": {
          "model_module": "@jupyter-widgets/controls",
          "model_name": "FloatSliderModel",
          "model_module_version": "1.5.0",
          "state": {
            "_dom_classes": [],
            "_model_module": "@jupyter-widgets/controls",
            "_model_module_version": "1.5.0",
            "_model_name": "FloatSliderModel",
            "_view_count": null,
            "_view_module": "@jupyter-widgets/controls",
            "_view_module_version": "1.5.0",
            "_view_name": "FloatSliderView",
            "continuous_update": true,
            "description": "Distance (m)",
            "description_tooltip": null,
            "disabled": false,
            "layout": "IPY_MODEL_a038faf65694416ea47a8fa0c5b46252",
            "max": 460000,
            "min": 150000,
            "orientation": "horizontal",
            "readout": true,
            "readout_format": ".2f",
            "step": 1000,
            "style": "IPY_MODEL_5c3ca71aed4b43bfa608dab7cc0958b0",
            "value": 193000
          }
        },
        "54a3c961c4964bf6ad2af5c74e64627a": {
          "model_module": "@jupyter-widgets/controls",
          "model_name": "FloatSliderModel",
          "model_module_version": "1.5.0",
          "state": {
            "_dom_classes": [],
            "_model_module": "@jupyter-widgets/controls",
            "_model_module_version": "1.5.0",
            "_model_name": "FloatSliderModel",
            "_view_count": null,
            "_view_module": "@jupyter-widgets/controls",
            "_view_module_version": "1.5.0",
            "_view_name": "FloatSliderView",
            "continuous_update": true,
            "description": "τₐ (Atmosphere)",
            "description_tooltip": null,
            "disabled": false,
            "layout": "IPY_MODEL_bd7529693b1241a1bf0b68fd6907fc3b",
            "max": 1,
            "min": 0,
            "orientation": "horizontal",
            "readout": true,
            "readout_format": ".2f",
            "step": 0.01,
            "style": "IPY_MODEL_f016b905871d42018e607efffe66910e",
            "value": 0.85
          }
        },
        "725a3375190b4364ac808ca344fa83e6": {
          "model_module": "@jupyter-widgets/output",
          "model_name": "OutputModel",
          "model_module_version": "1.0.0",
          "state": {
            "_dom_classes": [],
            "_model_module": "@jupyter-widgets/output",
            "_model_module_version": "1.0.0",
            "_model_name": "OutputModel",
            "_view_count": null,
            "_view_module": "@jupyter-widgets/output",
            "_view_module_version": "1.0.0",
            "_view_name": "OutputView",
            "layout": "IPY_MODEL_774ed43ec241469a861780e94ab3a00e",
            "msg_id": "",
            "outputs": [
              {
                "output_type": "display_data",
                "data": {
                  "text/plain": "<Figure size 1000x500 with 1 Axes>",
                  "image/png": "iVBORw0KGgoAAAANSUhEUgAAA90AAAHpCAYAAACful8UAAAAOnRFWHRTb2Z0d2FyZQBNYXRwbG90bGliIHZlcnNpb24zLjEwLjAsIGh0dHBzOi8vbWF0cGxvdGxpYi5vcmcvlHJYcgAAAAlwSFlzAAAPYQAAD2EBqD+naQAAu+hJREFUeJzs3Xd8jef/x/HXyU4EESux9y5aIzVqVIhN7VVCi1K1ipo1Wq0atVpVfIsSpUWNWjVL7VnV2puaNWKL5P79cf9y6kgiJyTOwfv5eJwH57qv+74/51w543Pua1gMwzAQERERERERkUTn4ugARERERERERF5USrpFREREREREkoiSbhEREREREZEkoqRbREREREREJIko6RYRERERERFJIkq6RURERERERJKIkm4RERERERGRJKKkW0RERERERCSJKOkWERERERERSSJKukVERJ4zgwYNwmKxODqMl9K6deuwWCysW7fOWlahQgUKFSr0TM5/4sQJLBYL06ZNeybnExGRp6ekW0REnkt//vknDRo0IGvWrHh5eZExY0YqV67M+PHjHR0at2/fZtCgQTaJmaMsXryY8uXLky5dOnx8fMiRIweNGjVi+fLl1jrRiZzFYmHevHkxjhGd5F++fNlaFhoaat3HYrHg6elJnjx5+Pjjj7l7926CYvz555+pVq0aadKkwcPDgwwZMtCoUSPWrFnz5A/cDrNmzWLMmDFJeo4n5cyxiYhIwrg5OgAREZGE2rRpExUrViRLliy0bduWgIAATp8+zZYtWxg7diwffPCBQ+O7ffs2gwcPBsyroI4ycuRIevbsSfny5enTpw8+Pj4cOXKEVatWMXv2bKpWrRpjnyFDhlCvXj27rqR7enoyZcoUAK5fv87ChQv55JNPOHr0KGFhYfHubxgGbdq0Ydq0abz66qt0796dgIAAzp07x88//0ylSpXYuHEjpUuXTviDt8OsWbPYt28fXbt2tXufcuXKcefOHTw8PJIkpmhxxZY1a1bu3LmDu7t7kp5fREQSj5JuERF57gwdOpSUKVOyfft2/Pz8bLZdvHjRMUE9hVu3bpEsWbJEPeaDBw/45JNPqFy5Mr/++muM7bE9T0WLFmXPnj38/PPP1KtXL95zuLm50aJFC+v9jh07Urp0aX744Qe+/PJL0qdP/9j9R40axbRp0+jatStffvmlTaLfr18/ZsyYgZubc3xVuXv3Lh4eHri4uODl5eWwOCwWi0PPLyIiCafu5SIi8tw5evQoBQsWjJFwA6RLl87mvsVioVOnToSFhZE3b168vLwoVqwY69evj7Hv2bNnadOmDenTp8fT05OCBQvy3Xffxah39+5dBg0aRJ48efDy8iIwMJB69epx9OhRTpw4Qdq0aQEYPHiwtfv1oEGDALNbtq+vL0ePHqV69eokT56c5s2bA7BhwwYaNmxIlixZ8PT0JHPmzHTr1o07d+4k+Dm6fPky4eHhlClTJtbtjz5PAE2aNCFPnjwMGTIEwzASfE6LxULZsmUxDINjx449tu6dO3f4/PPPyZcvHyNHjoz1yvrbb79NyZIlrfePHTtGw4YN8ff3x8fHh9dff50lS5bY7BM95vrHH39k6NChZMqUCS8vLypVqsSRI0es9SpUqMCSJUs4efKktY2yZctmc4zZs2fTv39/MmbMiI+PD+Hh4bGO6Y62c+dOSpcujbe3N9mzZ2fixIk226dNm4bFYuHEiROxxhx9zMfFFteY7jVr1vDGG2+QLFky/Pz8qFOnDvv377epEz1M4MiRI4SGhuLn50fKlClp3bo1t2/fjvF4REQkcTjHz8ciIiIJkDVrVjZv3sy+ffvsmsDqt99+Y86cOXTu3BlPT08mTJhA1apV2bZtm3X/Cxcu8Prrr1uT9LRp07Js2TLeeecdwsPDrd18IyMjqVmzJqtXr6ZJkyZ06dKFGzdusHLlSvbt20dwcDDffPMNHTp04K233rJeMS5cuLA1ngcPHhASEkLZsmUZOXIkPj4+APz000/cvn2bDh06kDp1arZt28b48eM5c+YMP/30U4Keo3Tp0uHt7c3ixYv54IMP8Pf3j3cfV1dX+vfvT8uWLe2+2v2o6IQyVapUj633+++/c+XKFbp27Yqrq2u8x71w4QKlS5fm9u3bdO7cmdSpUzN9+nRq167N3Llzeeutt2zqDxs2DBcXF3r06MH169cZPnw4zZs3Z+vWrYB5Jf369eucOXOG0aNHA+Dr62tzjE8++QQPDw969OjBvXv3Htul/OrVq1SvXp1GjRrRtGlTfvzxRzp06ICHhwdt2rSJ9/E9zJ7YHrZq1SqqVatGjhw5GDRoEHfu3GH8+PGUKVOGXbt2WRP2aI0aNSJ79ux8/vnn7Nq1iylTppAuXTq++OKLBMUpIiJ2MkRERJ4zv/76q+Hq6mq4uroapUqVMnr16mWsWLHCuH//foy6gAEYO3bssJadPHnS8PLyMt566y1r2TvvvGMEBgYaly9fttm/SZMmRsqUKY3bt28bhmEY3333nQEYX375ZYxzRUVFGYZhGJcuXTIAY+DAgTHqtGrVygCM3r17x9gWfY6Hff7554bFYjFOnjxpLRs4cKBhz0f4xx9/bABGsmTJjGrVqhlDhw41du7cGaPe8ePHDcAYMWKE8eDBAyN37txGkSJFrI8n+nyXLl2yeRzJkiUzLl26ZFy6dMk4cuSIMXLkSMNisRiFChWy7huXsWPHGoDx888/x/s4DMMwunbtagDGhg0brGU3btwwsmfPbmTLls2IjIw0DMMw1q5dawBG/vz5jXv37sU4359//mktq1GjhpE1a9YY54o+Ro4cOWK0SfS2tWvXWsvKly9vAMaoUaOsZffu3TOKFi1qpEuXzvp3OXXqVAMwjh8/Hu8x44otuq2mTp1qLYs+z7///mst++OPPwwXFxejZcuW1rLodmzTpo3NMd966y0jderUMc4lIiKJQ93LRUTkuVO5cmU2b95M7dq1+eOPPxg+fDghISFkzJiRRYsWxahfqlQpihUrZr2fJUsW6tSpw4oVK4iMjMQwDObNm0etWrUwDIPLly9bbyEhIVy/fp1du3YBMG/ePNKkSRPrZG0JWcarQ4cOMcq8vb2t/7916xaXL1+mdOnSGIbB7t277T52tMGDBzNr1ixeffVVVqxYQb9+/ShWrBivvfZajK7H0aKvdv/xxx8sWLDgsce/desWadOmJW3atOTKlYsePXpQpkwZFi5cGO9zER4eDkDy5MnteixLly6lZMmSlC1b1lrm6+tLu3btOHHiBH///bdN/datW9tcmX7jjTcA4u32/rBWrVrZtMnjuLm50b59e+t9Dw8P2rdvz8WLF9m5c6fd50yoc+fOsWfPHkJDQ216MxQuXJjKlSuzdOnSGPu89957NvffeOMN/v33X2ubiIhI4lLSLSIiz6USJUowf/58rl69yrZt2+jTpw83btygQYMGMRKw3Llzx9g/T5483L59m0uXLnHp0iWuXbvGpEmTrElk9K1169bAfxOPHT16lLx58z7VBF9ubm5kypQpRvmpU6esyZOvry9p06alfPnygDk7+JNo2rQpGzZs4OrVq/z66680a9aM3bt3U6tWrTiX9mrevDm5cuWKd2y3l5cXK1euZOXKlUydOpX8+fNz8eJFuxLVFClSAHDjxg27HsfJkyfJmzdvjPL8+fNbtz8sS5YsNveju7tfvXrVrvMBZM+e3e66GTJkiDEZXp48eQBijOFOTNGPO67n5vLly9y6dcumPDGeGxERsZ/GdIuIyHPNw8ODEiVKUKJECfLkyUPr1q356aefGDhwoN3HiIqKAqBFixa0atUq1joPj8l+Wp6enri42P7uHRkZSeXKlbly5QofffQR+fLlI1myZJw9e5bQ0FBrjE8qRYoUVK5cmcqVK+Pu7s706dPZunWrNal/WPTV7tDQUBYuXBjnMV1dXQkODrbeDwkJIV++fLRv3z7WHgcPy5cvH2Cut163bt0ne1CPEdc48cf9iPAoe69y2yuuq/+RkZGJep74JMZzIyIi9lPSLSIiL4zixYsDZpfbhx0+fDhG3UOHDuHj42OdaTx58uRERkbaJJGxyZkzJ1u3biUiIiLOtZIT0s082p9//smhQ4eYPn06LVu2tJavXLkywceKT/HixZk+fXqM5+lhLVq04NNPP2Xw4MHUrl3bruMGBgbSrVs3Bg8ezJYtW3j99dfjrFu2bFlSpUrFDz/8QN++feOdTC1r1qwcPHgwRvmBAwes2xPqSdopLv/880+Mpd8OHToEYJ3ILPqK8rVr12z2ffQqfUJii37ccT03adKkSfTl6EREJGHUvVxERJ47a9eujfWqXPT41Ue72m7evNk6Jhvg9OnTLFy4kCpVquDq6oqrqyv169dn3rx57Nu3L8ZxL126ZP1//fr1uXz5Ml999VWMetExRc9G/mhy9TjRSefDj8swDMaOHWv3MR52+/ZtNm/eHOu2ZcuWAbF3SX44nv79+7Nnz554r1o/7IMPPsDHx4dhw4Y9tp6Pjw8fffQR+/fv56OPPoq1PWfOnMm2bdsAqF69Otu2bbN5TLdu3WLSpElky5aNAgUK2B1jtGTJkj1xt/1HPXjwgG+//dZ6//79+3z77bekTZvWOp9Azpw5AWyWq4uMjGTSpElPHFtgYCBFixZl+vTpNn9v+/bt49dff6V69epP+pBERCSR6Eq3iIg8dz744ANu377NW2+9Rb58+bh//z6bNm1izpw5ZMuWzToOO1qhQoUICQmxWTIMzInGog0bNoy1a9cSFBRE27ZtKVCgAFeuXGHXrl2sWrWKK1euANCyZUu+//57unfvzrZt23jjjTe4desWq1atomPHjtSpUwdvb28KFCjAnDlzyJMnD/7+/hQqVOixy5vly5ePnDlz0qNHD86ePUuKFCmYN2/eE4+zvX37NqVLl+b111+natWqZM6cmWvXrrFgwQI2bNhA3bp1efXVVx97jObNm/PJJ5+wZ88eu8+bOnVqWrduzYQJE9i/f791zHVsevbsyV9//cWoUaNYu3YtDRo0ICAggPPnz7NgwQK2bdvGpk2bAOjduzc//PAD1apVo3Pnzvj7+zN9+nSOHz/OvHnzYnTXt0exYsWYM2cO3bt3p0SJEvj6+lKrVq0EHwfMMd1ffPEFJ06cIE+ePMyZM4c9e/YwadIka4+IggUL8vrrr9OnTx+uXLmCv78/s2fP5sGDB08V24gRI6hWrRqlSpXinXfesS4ZljJlSuv68CIi4kAOmjVdRETkiS1btsxo06aNkS9fPsPX19fw8PAwcuXKZXzwwQfGhQsXbOoCxvvvv2/MnDnTyJ07t+Hp6Wm8+uqrNsszRbtw4YLx/vvvG5kzZzbc3d2NgIAAo1KlSsakSZNs6t2+fdvo16+fkT17dmu9Bg0aGEePHrXW2bRpk1GsWDHDw8PDZvmw6KW2YvP3338bwcHBhq+vr5EmTRqjbdu2xh9//BFjiSh7lgyLiIgwJk+ebNStW9fImjWr4enpafj4+BivvvqqMWLECJvltB5eMuxR0ctcEceSYbE5evSo4erqarRq1eqxMUabO3euUaVKFcPf399wc3MzAgMDjcaNGxvr1q2LcdwGDRoYfn5+hpeXl1GyZEnjl19+sakTvfzWTz/9ZFMe21JbN2/eNJo1a2b4+fkZgHWJrriO8fC2R5cMK1iwoLFjxw6jVKlShpeXl5E1a1bjq6++ivW5CQ4ONjw9PY306dMbffv2NVauXBnjmHHFFtvjMAzDWLVqlVGmTBnD29vbSJEihVGrVi3j77//tqkT29JvhhH3UmYiIpI4LIahWTNEROTFZbFYeP/992PtDi4iIiKS1DSmW0RERERERCSJKOkWERERERERSSJKukVERERERESSiGYvFxGRF5qmLhERERFH0pVuERERERERkSSipFtEREREREQkiSjpFpHnyuHDh6lSpQopU6bEYrGwYMECR4ckdrhx4wbt2rUjderU+Pn58fbbb3PlyhVHh+VU7t275+gQXiiDBg3CYrFw+fJlR4ciIk5uxowZ5MuXD3d3d/z8/BwdjryAlHSLU7FYLHbd1q1b5+hQbfzzzz+0aNGCvHnzkjx5cvz8/ChZsiTTp0+PMZ704MGDdOvWjdKlS+Pl5YXFYuHEiROxHrdbt2689tpr+Pv74+PjQ/78+Rk0aBA3b960K65vvvmGhg0bkiVLFiwWC6GhobHWmzZtWpzP9fnz523qWiwWOnXqFOMYn332GRaLhTZt2hAVFWVXfCdOnLC7zaOfo1atWvHnn38ydOhQZsyYQfHixe06V2I6evSote127Nhhs239+vXUrl2bzJkz4+XlRUBAAFWrVmXjxo0xjvPZZ5/x+uuvkzZtWry8vMidOzddu3bl0qVLdsUxZ84cWrRoQe7cubFYLFSoUCHWeuvWrYvzed2yZYtN3WzZslGzZs0Yx5gxYwaurq5UrVqVu3fv2hVfNMMwqFevHj///DO9evViwIABrFq1iqpVqxIREZGgYz2tiIgIBg8eTI4cOfD09CRHjhx8+umnPHjwIEbde/fu8dFHH5EhQwa8vb0JCgpi5cqVdp/r7NmzNGrUCD8/P1KkSEGdOnU4duxYjHq7du0iX758eHt788Ybb3D69OknemyPvp5cXFzw9/enWrVqbN68+YmO+bTsfQ8CWLlyJWXLlsXHx4dUqVLRoEGDWN8bn/Z9UeK3adMma1sEBATQuXNnu5/f69ev06tXL3Lnzo23tzdZs2blnXfe4dSpUzb1on8UefTm5eWVKI+hV69eWCwWGjdunCjHS2pHjhyhQYMGpEqVCh8fH8qWLcvatWtj1Nu2bRsdO3akWLFiuLu7Y7FYYj3e6dOnGTx4MCVLliRVqlSkSZOGChUqsGrVKrtjioqKYvjw4WTPnh0vLy8KFy7MDz/8EGvdH3/8kddffx0/Pz9Sp05N+fLlWbJkid3nSkoTJkzAYrEQFBQU6/YDBw4QGhpKzpw5mTx5MpMmTXomcd28eZOBAwdStWpV/P39sVgsTJs2Lc76+/fvp2rVqvj6+uLv78/bb78d6/eFhLSbPDuaSE2cyowZM2zuf//996xcuTJGef78+Z9lWPG6fPkyZ86coUGDBmTJkoWIiAhWrlxJaGgoBw8e5LPPPrPW3bx5M+PGjaNAgQLkz5+fPXv2xHnc7du388Ybb9C6dWu8vLzYvXs3w4YNY9WqVaxfvx4Xl8f/bvbFF19w48YNSpYsyblz5+J9HEOGDCF79uw2Zfb84jts2DD69etHq1atmDJlSrxxRUubNm2Mth01ahRnzpxh9OjRMereuXOHzZs3069fv1gT/2elW7duuLm5xXpl8tChQ7i4uPDee+8REBDA1atXmTlzJuXKlWPJkiVUrVrVWnfnzp0ULVqUJk2akDx5cvbv38/kyZNZsmQJe/bsIVmyZI+N45tvvmHnzp2UKFGCf//9N964O3fuTIkSJWzKcuXKFe9+YWFhhIaGEhwczIIFCxL8pXjBggWsWrWKzZs38/rrrwMQHBzMa6+9xvTp03n33XcTdLyn0aJFC3766SfatGlD8eLF2bJlCwMGDODUqVMxvmiFhoYyd+5cunbtSu7cuZk2bRrVq1dn7dq1lC1b9rHnuXnzJhUrVuT69ev07dsXd3d3Ro8eTfny5dmzZw+pU6e21m3SpAlvvvkmw4cPZ/r06bRv356lS5c+8WNs2rQp1atXJzIykkOHDjFhwgQqVqzI9u3beeWVV574uE/C3vegX375hTp16vDaa68xbNgwwsPDGTt2LGXLlmX37t2kTZvWWvdp3xfl8fbs2UOlSpXInz8/X375JWfOnGHkyJEcPnyYZcuWPXbfqKgoKleuzN9//03Hjh3JkycPR44cYcKECaxYsYL9+/eTPHlym32++eYbfH19rfddXV2f+jEYhsEPP/xAtmzZWLx4MTdu3IhxXmdy+vRpSpUqhaurKz179iRZsmRMnTqVKlWqsHr1asqVK2etu3TpUqZMmULhwoXJkSMHhw4divWYCxcu5IsvvqBu3bq0atWKBw8e8P3331O5cmW+++47WrduHW9c/fr1Y9iwYbRt25YSJUqwcOFCmjVrhsVioUmTJtZ648ePp3PnztSoUYNhw4Zx9+5dpk2bRs2aNZk3bx716tV7+ifpKYSFhZEtWza2bdvGkSNHYnzurVu3jqioKMaOHWvXZ2JiuXz5MkOGDCFLliwUKVLksReUzpw5Q7ly5UiZMiWfffYZN2/eZOTIkfz5559s27YNDw8Pa117202eMUPEib3//vvG8/xnWrNmTSNZsmTGgwcPrGX//vuvER4ebhiGYYwYMcIAjOPHj9t9zJEjRxqAsXnz5njrnjhxwoiKijIMwzCSJUtmtGrVKtZ6U6dONQBj+/bt8R4TMN5//33r/eHDhxuA0bJlSyMyMtK+B/EYNWrUMLJmzRrrtpMnTxqAMWLEiKc+z5Navny54eHhYfTv39/u5+zWrVtG+vTpjZCQkHjrzp071wCMH374Id66p06dsj7nBQsWNMqXLx9rvbVr1xqA8dNPP8V7zKxZsxo1atSw3v/hhx8MV1dXIzg42Lhz5068+8embt26RrFixWKUV6hQwShXrtwTHfNJbNu2zQCMAQMG2JR/+OGHhsViMf744w9r2datW2P8rd25c8fImTOnUapUqXjP9cUXXxiAsW3bNmvZ/v37DVdXV6NPnz7WskuXLhmpUqWy3r927Zrh6+v7RI/v+PHjsb4+li1bZgBGhw4dnui4T8Pe96ACBQoYuXLlMu7du2ct27Nnj+Hi4mJ079493vPE9r44cOBAAzAuXbr0dA/iJVOtWjUjMDDQuH79urVs8uTJBmCsWLHisftu3LjRAIyvvvrKpvy7774zAGP+/PnWsqRsnzVr1hiAsWbNGsPd3d2YNm1aop8jMXXs2NFwc3MzDhw4YC27deuWkTlzZuO1116zqXv+/Hnj9u3bhmE8/jvSvn37Yjy3d+/eNfLly2dkypQp3pjOnDljuLu723zeR0VFGW+88YaRKVMmm+81uXPnNkqUKGF9rRuGYVy/ft3w9fU1ateuHe+5ktKxY8esf3tp06Y1Bg0aFKPO4MGDHfJecffuXePcuXOGYRjG9u3bDcCYOnVqrHU7dOhgeHt7GydPnrSWrVy50gCMb7/91lqWkHaTZ0s/B8tz7eTJk9SuXZtkyZKRLl06unXrxooVK5ymC3q2bNm4ffs29+/ft5b5+/s/1S/u2bJlA+DatWvx1s2aNWucXc/icuPGDSIjI+2q++WXX9KrVy9atGjB1KlTk/QK06BBg8iaNSsAPXv2xGKxWJ+LZyUiIoIuXbrQpUsXcubMafd+Pj4+pE2b1q42S0j7Zs6cOcHP+Y0bN2LtSh2bH3/8kRYtWlChQgUWLVr0xN0+N23aRKlSpWKUBwUFsWXLFrv/3p7Whg0bAGL80t+kSRMMw2DOnDnWsrlz5+Lq6kq7du2sZV5eXrzzzjts3rw53i7gc+fOpUSJEjY9C/Lly0elSpX48ccfrWX+/v6A2f3x+PHjjBgxgty5cz/5g4zFG2+8AZjDIp41e96Drly5wt9//81bb71lc7WmSJEi5M+fn9mzZ8d7HntfNydPniRXrlwUKlSICxcuAFChQgUKFSrE3r17KV++PD4+PuTKlYu5c+cC8NtvvxEUFIS3tzd58+ZNUPfch4WGhj52CE1cw0OepfDwcFauXEmLFi1IkSKFtbxly5b4+vra/O3GtT9A+vTpbcoDAwMB8Pb2jrGPYRiEh4cn6tJ+YWFhFChQgIoVKxIcHExYWFis9ZzlO8SGDRt49dVXyZs3r7XMx8eH2rVrs2vXLg4fPmwtT58+fazP46MKFixImjRpbMo8PT2pXr06Z86c4caNG4/df+HChURERNCxY0drmcVioUOHDpw5c8ZmyEp4eDjp0qWzea2nSJECX19fm1ijh7L9/vvvdO7cmbRp0+Ln50f79u25f/8+165do2XLlqRKlYpUqVLRq1evp/67CAsLI1WqVNSoUYMGDRrE+FvIli0bAwcOBMwedRaLhUGDBj3VOe3l6elJQECAXXXnzZtHzZo1yZIli7UsODiYPHny2LwuE9Ju0cPJ1q1bR/HixfH29uaVV16x/u3Pnz+fV155BS8vL4oVK8bu3buf8hG/3NS9XJ5bt27d4s033+TcuXN06dKFgIAAZs2aFesYqNhERERw/fp1u+r6+/vbldzcuXOHW7ducfPmTX777TemTp1KqVKl7PqAjMuDBw+4du0a9+/fZ9++ffTv35/kyZNTsmTJJz5mXCpWrMjNmzfx8PAgJCSEUaNGxZkAjB07lg8//JBmzZoxbdq0JO/SWa9ePfz8/OjWrZu1++zDXRJjY+8ESsmTJ8fT0zPeemPGjOHq1av079+f+fPnP7ZueHg49+/f5/Lly3z//ffs27ePvn37xqhnGAb//vsvDx484PDhw/Tu3RtXV9ck+QLeunVrbt68iaurK2+88QYjRoyIc0z8vHnzaN68OeXKlWPx4sVP/Dd848YNLl68SNq0aWO0R7p06bh//z5nzpyx/qASm6tXr9qVmPv4+ODj4xPn9ujhAI8+luh9du7caS3bvXs3efLksUk8AOvrbs+ePWTOnDnW80RFRbF3717atGkTY1vJkiX59ddfrd1dXVxc+Prrr2ndujXvv/8+qVOnZtGiRfE+1oSIHhedKlWqeOtGRUXZPcFdypQpcXd3f5rQgLjbBcy2+euvvzh//rzNl9MneV88evQob775Jv7+/qxcudImIbl69So1a9akSZMmNGzYkG+++YYmTZoQFhZG165dee+992jWrBkjRoygQYMGnD59OsE/nrZv357g4GDAHJv52Wef2Qz5eDRRTYjEeo38+eefPHjwIMb7goeHB0WLFo33S3fx4sVJliwZAwYMwN/fn7x583LkyBF69epFiRIlrI//YTly5ODmzZskS5aMunXrMmrUqKd6Lu7du8e8efP48MMPAXO4RevWrWP8DTnTd4h79+7F+vp8+L0psX6MO3/+fLx/B2C+ByZLlizGcL7o19ju3butw2wqVKjA3LlzGT9+PLVq1eLu3buMHz+e69ev06VLlxjH/uCDDwgICGDw4MFs2bKFSZMm4efnx6ZNm8iSJQufffYZS5cuZcSIERQqVIiWLVs+8eMNCwujXr16eHh40LRpU7755hu2b99ufd2NGTOG77//np9//tk61KFw4cJxHu/evXvx/mAR7dEfPZ7U2bNnuXjxYqyf1yVLlrQZjpSQdgNzLoFmzZrRvn17WrRowciRI6lVqxYTJ06kb9++1uT9888/p1GjRhw8eFBDeJ6UQ6+zi8TjcV2nRo0aZQDGggULrGV37twx8uXLZwDG2rVrH3vs6C639tzs7f79+eef2+xXqVIl49SpU3HWt6d7+ebNm22OmTdv3ngfW2we17Vzzpw5RmhoqDF9+nTj559/Nvr372/4+PgYadKkiRE/YGTNmtUAjKZNmyZ6V6XHdS+Pq/tsXOxt37i6cz3s3LlzRvLkya3duOLrkh8SEmI9voeHh9G+fftYu2efO3fOJpZMmTIZc+bMsevxPexx3cs3btxo1K9f3/jf//5nLFy40Pj888+N1KlTG15eXsauXbts6mbNmtXIkCGD4ebmZlSoUMG4detWgmN52JkzZ+J9/h/u1h2b6L+3+G4DBw587HHmzZtnAMaMGTNsyidOnGgARqFChaxlBQsWNN58880Yx/jrr78MwJg4cWKc57l06ZIBGEOGDImx7euvvzYAm26k0fts2bLFOvTkSUS/PgYPHmxcunTJOH/+vLFhwwajRIkSdg8viD6GPbeEvg/F9R4UGRlp+Pn5GZUqVbIpv3z5spEsWTIDMHbs2GGzzZ73xYe7L+/fv9/IkCGDUaJECePKlSs29cqXL28AxqxZs6xlBw4cMADDxcXF2LJli7V8xYoVdr9nPE5ChnzYI7FeIz/99JMBGOvXr4+xrWHDhkZAQEC8sfzyyy9GYGCgzXlDQkKMGzdu2NQbM2aM0alTJyMsLMyYO3eu0aVLF8PNzc3InTu3Tdf2hIoeonP48GHDMAwjPDzc8PLyMkaPHm1Tz5m+Q9SqVcvw8/OL8fovVaqUARgjR46Mdb+EDsE7fPiw4eXlZbz99tvx1q1Ro4aRI0eOGOW3bt0yAKN3797WsgsXLhiVKlWyecxp0qQxNm3aZLNv9OdmSEiITVf0UqVKGRaLxXjvvfesZQ8ePDAyZcoU5+eaPXbs2GEAxsqVKw3DMLtZZ8qUyejSpYtNvYQMdYh+DPbcEuJx3cujt33//fcxtvXs2dMAjLt37xqGkbB2i37feLidot/jHu3K/u233z7R+778R1e65bm1fPlyMmbMSO3ata1lXl5etG3b1voL9+MUKVLE7pmI7e3+07RpU4oXL86lS5f45ZdfuHDhAnfu3LFr37gUKFCAlStXcuvWLTZt2sSqVasSfZbeRo0a0ahRI+v9unXrEhISQrly5Rg6dCgTJ060qR/dLTN79uyJMulNUrG3fQsWLBhvnY8++ogcOXLYPenXsGHD+PDDDzl9+jTTp0/n/v37sXbrjr7qdvfuXXbv3s38+fMTvX1Lly5N6dKlrfdr165NgwYNKFy4MH369GH58uU29a9cucKDBw/IlCnTU/XSAKzdDd99990YswgvX76cUaNGxdv9OCwszK7XUY4cOR67vXr16mTNmpUePXrg4+NDsWLF2Lp1K/369cPNzc3mHHfu3Im190N0F/vHxRO9LSH7p0mTJtGuigwcONDaXRLA19eXUaNG0aBBg3j3DQgIsPt1U6RIkSeO8WEuLi60b9+eL774gj59+tCmTRvCw8Pp1auXdWjOo89XQt4X9+3bR+PGjcmVKxfLli2L0XsBzOfo4WEHefPmxc/Pj4wZM9rMeBz9/9hmoXekxHqNxPe3a8850qZNy6uvvkqnTp0oWLAge/bsYfjw4bRu3ZqffvrJWu/RK6D169enZMmSNG/enAkTJtC7d+94zxWbsLAwihcvbp0QK3ny5NSoUcPaayGaM32H6NChA4sXL6Zx48YMHTqUZMmSMWHCBOvqGE/7PQLg9u3bNGzYEG9vb4YNGxZv/YS8B/r4+JA3b14yZcpEzZo1uXHjBqNHj6ZevXps2LAhxuRk77zzjs37flBQEJs3b+add96xlrm6ulK8eHGbHkgJFRYWRvr06alYsSKAdTb7mTNnMmrUqCf6/hISEpKgVSwSg72fKZ6engn+7CpQoIDN8K/o97g333zTpiv7w+99zjAU5nmkpFueWydPniRnzpwxvrDbO/NkqlSpYu3q9jSyZs1q7SbbtGlT2rVrR3BwMAcPHnzi5CVFihTWOOvUqcOsWbOoU6cOu3btSrQvvbEpW7YsQUFBsY5fbNWqFf/88w+fffYZadKkoVu3bkkWx9NIrPbdsmULM2bMYPXq1XZ3qypatKj1/y1atOC1116zzob9MA8PD2ucNWvWpFKlSpQpU4Z06dLFunRXYsmVKxd16tRh/vz5REZG2nz5qFSpElmyZOGbb77B39+fsWPHPvF5ohOczJkzx2iPAwcO2NSJS5kyZZ74/A/z8vJiyZIlNGrUiPr16wPml5jhw4czdOhQm+EK3t7esc5OH71c2uNez9HbnnT/p9WuXTsaNmzI3bt3WbNmDePGjbN73LyXl1eivy/aY8iQIVy+fJnhw4dbE4IqVarwzjvvMHHixBhDSRLyvlirVi3Sp0/PihUr4hySkilTphifJSlTpowxhCBlypSA2Z3bmSTWayS+v934/m6PHTtGxYoV+f77762vsTp16pAtWzZCQ0NZtmwZ1apVi3P/Zs2a8eGHH7Jq1aonSrqvXbvG0qVL6dSpE0eOHLGWlylThnnz5nHo0CHy5MkDONd3iGrVqjF+/Hh69+7Na6+9Zo1j6NCh9OrVK96hVPGJjIykSZMm/P333yxbtowMGTLEu09C3gMbNmyIm5sbixcvtpbVqVOH3Llz069fP5v5MgCbZA7+e13F9np70tdaZGQks2fPpmLFihw/ftxaHhQUxKhRo1i9ejVVqlRJ8HEDAwOtcxQ8Kwn5TEnoZ1dC2gKc773veaKkW15a9+/ft3vsYtq0aZ/oF9EGDRowefJk1q9fT0hISIL3j029evV4++23mT17dpIm3WC+6R48eDBGuZubGz/++CNVq1blww8/xM/Pz67lR561R9cYj0vKlCkf+2WyV69evPHGG2TPnt06PjZ6fPK5c+c4depUjA+uh3l4eFC7dm2GDRvGnTt3Hnuu0qVLExgYSFhYWJIm3WC27/3797l161aMxPerr77i6tWrjBs3jlSpUj3xxDK+vr6kS5cu1uWiTp8+jYeHB5kyZXrsMS5dumRX0ujr6xvvl9OCBQuyb98+/v77b65evUqBAgXw9vamW7dulC9f3lovMDCQs2fPxtg/+nE87kurv78/np6esT5me/Z/Wrlz57b5IcfV1ZXevXtTsWLFeNe1j4yMtHudeH9/f5uJz56Gh4cHU6ZMYejQoRw6dIj06dOTJ08emjVrhouLS7yJ0OPeF+vXr8/06dMJCwujffv2se4f1/t7XOVGIk769ajt27fTo0cPLBYL165do0ePHrRo0eKx+yTWayQ6mYjrbze+v9tp06Zx9+7dGO9d0VeTN27c+NikG8z3JXs/mx/1008/ce/ePUaNGsWoUaNibA8LC2Pw4MFPdOxHJfZ3iE6dOtG6dWv27t1rHUP/v//9D8D6Q8GTatu2Lb/88gthYWG8+eabdu0TGBjI2rVrMQzD5oeJR9/Djh07xvLly2Msuejv70/ZsmXZuHFjjGMn5PX2pK+1NWvWcO7cOWbPnh3rZIxhYWFPlHTfuXPH7rH89vaSjE98r8voz5zouva0WzRneu970SnpludW1qxZ+fvvv2O8sTz86/bjbNq0ydrlKD7Hjx9/opmyo7vx2PsGbY979+4RFRWVqMeMy7Fjx2zWx32Yl5cXixYtomLFirRt2xY/Pz/eeuutJI8pIez9NXrq1KmEhobGuf3UqVOcPHkyxhrmYH6ZTJkyZbyzJt+5cwfDMLhx40a8V4vu3r37zNrXy8sr1i/hLi4ufP/991y/fp3Bgwfj7+9P586dn+g8ZcqUsXaTfFj0ut3xfRktUaIEJ0+ejPc8AwcOtOvHAYvFYjOkYOnSpURFRdlctSpatChr164lPDzc5geJrVu3WrfHxcXFhVdeeSXWx7x161Zy5MjxTNcM7tevH5MnT6Z///4xhhI86vTp07H+ncdm7dq1id7NMH369NZJtCIjI1m3bh1BQUHx/pjyuPfFESNG4ObmRseOHUmePDnNmjVL1JifRPTffFRUVIxtBQoUYO3atbi4uHDhwgXy589PkyZNcHOL+ytbYr1GChUqhJubGzt27LAZcnT//n327NljUxabCxcuYBhGjB8AIiIiAOJdOcEwDE6cOMGrr74azyOJXVhYGIUKFbIZXhHt22+/ZdasWdak2xm/QyRLlsymq++qVavw9vZ+qp4MPXv2ZOrUqYwZM4amTZvavV/RokWZMmUK+/fvp0CBAtbyR98Do4ebxfajT0REhN2rZSS2sLAw0qVLx9dffx1j2/z58/n555+ZOHFignsdzZkzx+6LDImVoGbMmJG0adPG+pmybds2m88je9tNnj0l3fLcih5Xs2jRIurUqQOYycrkyZPt2j8xx2NdunQp1uT0f//7HxaLxdpdLCGuXbtGsmTJYswOPGXKFACbK1a3b9/m1KlTTzwuNLb4ly5dys6dOx+baKVIkYLly5fzxhtv0LRpU5YsWUKlSpUSfP6kklhjuidNmsTt27dtytasWcP48eMZOXIk+fLls5ZfvHiRdOnS2dS9du0a8+bNI3PmzNZtt27dwmKxxJhBdt68eVy9etWmfSMiIjh69CgpU6Z8om5tsbXvH3/8waJFi6hWrVqcXebd3d2ZO3cuVapUoWvXrqRKlYq33347wed/++23rWP7opev2rFjB7///nuMqyOxSazxqrG5c+cOAwYMIDAw0OYLaYMGDRg5ciSTJk2iR48egJnYTZ06laCgIJuud6dOneL27ds2fwcNGjSgd+/e7Nixw9qWBw8eZM2aNdbjPSvRS/IMHz6cPXv2PPZLlyPGdMdl5MiRnDt3jvHjx1vLEvK+GM1isTBp0iRu3LhBq1at8PX1tRnH6wjR7wOx9So4cuQIAwYM4Nq1a7i4uHD79m0uXLhAxowZ4zxeYr1GUqZMSXBwMDNnzmTAgAHWH4dmzJjBzZs3adiwobVubJ87efLkwTAMfvzxR5sfMn/44QcAm2Q6tvelb775hkuXLlG1atV4H8ujTp8+zfr16xk8eHCs8xfcv3+f5s2bs3XrVoKCgpzqO0RsNm3axPz58+nQoYO1a29CjRgxgpEjR9K3b99YZxGPdv36dc6dO0dgYKD1XHXq1KFbt25MmDCBr776CjCTyIkTJ5IxY0brPCG5cuXCxcWFOXPm0L59e+sPGGfOnGHDhg02M2U/K3fu3GH+/Pk0bNgw1r+FDBky8MMPP7Bo0aIYc43ExxFjuuG/HjunT5+2fv6sXr2aQ4cO2Qzxs7fd5NlT0i3Prfbt2/PVV1/RtGlTunTpYu2SGz1ZRHyTMyXmeKyhQ4eyceNGqlatSpYsWbhy5Qrz5s1j+/btfPDBBzZdI69fv279Ehnd7eqrr77Cz88PPz8/OnXqBMC6devo3LkzDRo0IHfu3Ny/f58NGzYwf/58ihcvbtPdcNu2bVSsWDHGVYzFixfzxx9/AGbitnfvXj799FPAvEIbvSxG6dKlefXVVylevDgpU6Zk165dfPfdd2TOnDnWZa4eljZtWlauXEmZMmWoW7cuq1evti5NUaFCBX777TeHdUdKrPaNrQta9JXt8uXL23zRr1atGpkyZSIoKIh06dJx6tQppk6dyj///GMzru3w4cMEBwfTuHFj8uXLh4uLCzt27GDmzJlky5bN5gvS2bNnyZ8/P61atWLatGnW8vXr17N+/XrA/AJ769Yta/uWK1eOcuXKAdC4cWO8vb0pXbo06dKl4++//2bSpEn4+PjEO6GOj48PS5YsoXz58rRp04aUKVNaE5bQ0FCmT58e71WcunXrUqlSJerWrUvPnj1xc3OzLlfWqlWrx54fEm+8KpiTBmbIkIECBQoQHh7Od999x7Fjx1iyZInN1eegoCAaNmxInz59uHjxIrly5WL69OmcOHHC2uUzWsuWLWP8nXfs2JHJkydTo0YNevTogbu7O19++SXp06e3a5Kmh02bNo3WrVvH2yPjcbp06cKYMWMYNmzYY9e9Tuwx3fa+B82cOZN58+ZRrlw5fH19WbVqFT/++CPvvvuudWwwJOx98WEuLi7MnDmTunXr0qhRI5YuXWp3N1t7WCwWypcvb/faznny5CFLliyMHTsWNzc3ypYta/3xb+DAgTRq1IgWLVpw9uxZcuXKFe97aGK+RoYOHUrp0qUpX7487dq148yZM4waNYoqVarYJMOxfe6EhoYycuRI2rdvz+7duylYsCC7du1iypQpFCxY0KY3VNasWWncuLF1HeDff/+d2bNnU7Ro0RjDAOz5LJk1axaGYcT5g0r16tVxc3MjLCyMoKAgp/oOcfLkSRo1akTt2rUJCAjgr7/+YuLEiRQuXJjPPvssRt0ZM2YAWK98Rr+msmbNav1h9Oeff6ZXr17kzp2b/PnzM3PmTJvjVK5c2dqr5Oeff47xHpMpUya6du3KiBEjiIiIoESJEixYsIANGzYQFhZm7a2RNm1a2rRpw5QpU6hUqRL16tXjxo0bTJgwgTt37tCnT59EeY6i2fO5s2jRIm7cuBHn38Lrr79O2rRpCQsLS3DSndhjur/66iuuXbvGP//8A5jvmWfOnAHMpdWifwTp27cvP/30ExUrVqRLly7cvHmTESNG8Morr9hcebe33cQBnvFs6SIJEt9yGMeOHTNq1KhheHt7G2nTpjU+/PBD67JADy/zktR+/fVXo2bNmkaGDBkMd3d3I3ny5EaZMmWMqVOn2iyLYRiPX5Ln4aWyjhw5YrRs2dLIkSOH4e3tbXh5eRkFCxY0Bg4caNy8edPmmNFLlzy6HEyrVq3iPNfDy1L069fPKFq0qJEyZUrD3d3dyJIli9GhQwfj/PnzMR4rYLz//vsxyvfv32+kSZPG8Pf3N/bt22cYhmEUK1bMriVmHpaYS4YlpbiWDPvqq6+MsmXLGmnSpDHc3NyMtGnTGrVq1YqxBM+lS5eMdu3aGfny5TOSJUtmeHh4GLlz5za6du0aY9mS6Mf96HJL0cucxHZ7+G9h7NixRsmSJQ1/f3/Dzc3NCAwMNFq0aGFdUudhWbNmNWrUqBGj/Pz580auXLkMLy8v65Ih9evXN7y9vY2rV6/G+3yFh4cbbdu2NVKlSmWkTJnSaNGihfHvv//Gu19i++KLL4x8+fIZXl5eRqpUqYzatWsbu3fvjrXunTt3jB49ehgBAQGGp6enUaJECWP58uUx6kUvOfWo06dPGw0aNDBSpEhh+Pr6GjVr1oz1OY/P+PHjDSDWcz8svtdHaGio4erqahw5ciTBMTwpe9+Dtm7dapQrV85IlSqV4eXlZRQpUsSYOHFijPfPhLwvxrYM0O3bt43y5csbvr6+1s+I8uXLGwULFowRe1yvhUffA2/cuGEARpMmTRL03OzcudMoWbKk4enpaXz++efW8vnz5xv58uUzqlSpYnTp0sXIkCGDcfr06QQd+2lt2LDBKF26tOHl5WWkTZvWeP/992MsZxXX586ZM2eMNm3aGNmzZzc8PDyMwMBAo23btjHe1959912jQIECRvLkyQ13d3cjV65cxkcffRTrsnn2fJa88sorRpYsWR5bp0KFCka6dOmMiIgIwzCc5zvElStXjDp16hgBAQGGh4eHkT179jifi8ctVfbw8lqP+3zgkaWfoj/PHl2uKjIy0vjss8+MrFmzGh4eHkbBggWNmTNnxogpIiLCGD9+vFG0aFHD19fX8PX1NSpWrGisWbPGpl5cn5txLdnVqlUrI1myZDZl9nzu1KpVy/Dy8nrskpehoaGGu7u7cfny5QQtGZbYHrfc36NLze3bt8+oUqWK4ePjY/j5+RnNmzeP9Xuave1m73ucYTjX96/nlcUwNCJeXixjxoyhW7dunDlz5rHd8SRp3bhxA39/f8aMGcP777/v6HAkCaRPn56WLVsyYsQIR4fyQmvUqBEnTpxg27Ztjg5FYrF06VJq1qzJH3/8wSuvvOLocF44z/qzRN8hnJs+d+R5paRbnmuPzgR99+5dXn31VSIjIzl06JADI5MlS5bw/vvvc+jQoUSb4Vicx19//UWpUqU4duxYoq0vLTEZhkH69OmZOXPmE820K0mvZ8+enD17llmzZjk6lBdSUn6W6DvE80WfO/I8U9Itz7Vq1aqRJUsWihYtyvXr15k5cyZ//fUXYWFhTjFDrYiIiDgnfYcQkWdFE6nJcy0kJIQpU6YQFhZGZGQkBQoUYPbs2QmeGENEREReLvoOISLPiq50i4iIiIiIiCSR2BdnFREREREREZGnpu7lDhQVFcU///xD8uTJ410PUkRERERERJyHYRjcuHGDDBky4OIS9/VsJd0O9M8//5A5c2ZHhyEiIiIiIiJP6PTp02TKlCnO7Uq6HSh58uSA2UgpUqRwcDQxRURE8Ouvv1KlShXc3d0dHY6gNnE2ag/nozZxLmoP56M2cS5qD+ei9nA+zt4m4eHhZM6c2ZrXxUVJtwNFdylPkSKF0ybdPj4+pEiRwin/yF9GahPnovZwPmoT56L2cD5qE+ei9nAuag/n87y0SXxDhTWRmoiIiIiIiEgSUdItIiIiIiIikkSUdIuIiIiIiIgkEY3pFhERERF5wUVGRhIREeHoMJxaREQEbm5u3L17l8jISEeHIzi+Tdzd3XF1dX3q4yjpFhERERF5QRmGwfnz57l27ZqjQ3F6hmEQEBDA6dOn450YS54NZ2gTPz8/AgICnur8SrpFRERERF5Q0Ql3unTp8PHxUTL5GFFRUdy8eRNfX19cXDQK1xk4sk0Mw+D27dtcvHgRgMDAwCc+lpJuEREREZEXUGRkpDXhTp06taPDcXpRUVHcv38fLy8vJd1OwtFt4u3tDcDFixdJly7dE3c111+TiIiIiMgLKHoMt4+Pj4MjEXl+Rb9+nmZOBCXdIiIiIiIvMHUpF3lyifH6UdItIiIiIiIikkSUdIuIiIiIiIgkESXdIiIiIiIiz4lp06bh5+dnvT9o0CCKFi36TM71Ijhx4gQuLi7kzZuXPXv2PJNzKukWERERERGncunSJTp06ECWLFnw9PQkICCAkJAQNm7caK2TLVs2LBYLW7Zssdm3a9euVKhQwXp/0KBBWCwWLBYLrq6uZM6cmXbt2nHlypV44wgPD6dfv37ky5cPLy8vAgICCA4OZv78+RiGkWiPNzQ0lLp169pVt3Hjxhw6dCjRzh0tW7ZsjBkz5pmcy5EyZ87MkSNHyJAhAx999NEzOaeWDJM4rVhh4aef8nDzpoW8eSFnTkiVytFRiYiIiMiLrn79+ty/f5/p06eTI0cOLly4wOrVq/n3339t6nl5efHRRx/x22+/PfZ4BQsWZNWqVURGRrJ//37atGnD9evXmTNnTpz7XLt2jbJly3L9+nU+/fRTSpQogZubG7/99hu9evXizTfffOZXgSMiIvD29rYuZZXUnuW5Etv9+/fx8PCIUe7q6kqOHDkYOHAgwcHBnDt37qnW4LaHrnRLnBYutBAWlp8WLdwoUQL8/c1byZLQtCn07w9Tp8KGDfDPP5CIP/aJiIiISBIwDLh1yzE3e78rXrt2jQ0bNvDFF19QsWJFsmbNSsmSJenTpw+1a9e2qduuXTu2bNnC0qVLH3tMNzc3AgICyJgxI8HBwTRs2JCVK1c+dp++ffty4sQJtm7dSqtWrShQoAB58uShbdu27NmzB19fXwCuXr1Ky5YtSZUqFT4+PlSrVo3Dhw9bjxPdRXvFihXkz58fX19fqlatyrlz5wDzSvz06dNZuHCh9Yr8unXrOHHiBBaLhTlz5lC+fHm8vLwICwuLs8v3t99+S+bMmfHx8aFRo0Zcv37duq1ChQp07drVpn7dunUJDQ21bj958iTdunWzxvBw7A/75ptvyJkzJx4eHuTNm5cZM2bYbLdYLEyZMoW33noLHx8fcufOzaJFix77XGfLlo1PPvmEpk2bkixZMjJmzMjXX39tU+fatWu8++67pE2blhQpUvDmm2/yxx9/WLdHd7OfMmUK2bNnx8vL67HnLF68OACzZ89+bL3EoKRb4lSmjEHFiqcoXTqK9OnNsqtXYft2mD0bhg6FNm2gXDnImBGSJYNChaBuXfjwQ5gwAVasgKNH4SmWtRMRERGRRHL7Nvj6OuZ2+7Z9Mfr6+uLr68uCBQu4d+/eY+tmz56d9957jz59+hAVFWXX8U+cOMGKFStivQoaLSoqitmzZ9O8eXMyZMgQa4xubman4dDQUHbs2MGiRYvYvHkzhmFQvXp1m3Wdb9++zciRI5kxYwbr16/n1KlT9OjRA4AePXrQqFEjayJ+7tw5Spcubd23d+/edOnShf379xMSEhJrvEeOHOHHH39k8eLFLF++nN27d9OxY0e7ng+A+fPnkylTJoYMGWKNITY///wzXbp04cMPP2Tfvn20b9+e1q1bs3btWpt6gwcPplGjRuzdu5fq1avTvHnzeLvzjxgxgiJFirB7927rY374h5GGDRty8eJFli1bxs6dO3nttdeoVKmSzXGPHDnCvHnzmD9/frzjtWfMmEFkZCQzZ86M59l5eupeLnFq3twgVardVK8eiLu7CzdvwrFjZhJ99CgcOfLf/0+ehDt34K+/zNujXF0ha1bIlQsKFDCT80KFzP8nT/7sH5uIiIiIOCc3NzemTZtG27ZtmThxIq+99hrly5enSZMmFC5cOEb9/v37M3XqVMLCwnj77bdjPeaff/6Jr68vkZGR3L17F4Avv/wyzhguX77M1atXyZcv32NjPXz4MIsWLWLjxo3WRDksLIzMmTOzYMECGjZsCJjdwidOnEjOnDkB6NSpE0OGDAHMBN7b25t79+4REBAQ4xxdu3alXr16j43j7t27fP/992TMmBGA8ePHU6NGDUaNGhXrMR/l7++Pq6sryZMnf2z9kSNHEhoaak3ou3fvzpYtWxg5ciQVK1a01gsNDaVp06YAfPbZZ4wbN45t27ZRtWrVOI9dpkwZevfuDUCePHnYuHEjY8aM4YcffuD3339n27ZtXLx4EU9PT2ssCxYsYO7cubRr1w4wu5R///33pE2b9rGP1zAMxo0bR506dVi4cCEHDhyIt62fhpJusZuvLxQubN4eFRFhJt4PJ+LRifmxY3D3rvnvsWPw66+2+2bN+l8SHn3Llw/i6REiIiIiIgnk4wM3bzru3PaqX78+NWrUYMOGDWzZsoVly5YxfPhwpkyZYu0SHS1t2rT06NGDjz/+mMaNG8d6vLx587Jo0SLu3r3LzJkz2bNnDx988EGc57d3krT9+/fj5uZGUFCQtSx16tTkzZuX/fv3W8t8fHysCTdAYGAgFy9etOsc0d2gHydLlizWhBugVKlSREVFcfDgQbuSbnvt37/fmuBGK1OmDGPHjrUpe/jHkWTJkpEiRYp4H2+pUqVi3I+e2G3v3r3cvHmT1KlT29S5c+cOR48etd7PmjVrvAk3wPLlyzl27Bhr167l+PHjzJw5k08//TTe/Z6Ukm5JFO7u5lXsXLlibouKgnPnzCT88GHzSvi+febt3DkzWT95EpYs+W8fFxfzWI8m47lymecSERERkYSzWMwhgc8DLy8vKleuTOXKlRkwYADvvvsuAwcOjJF0g3nFdcKECUyYMCHWY3l4eJDr/7+oDhs2jBo1ajB48GA++eSTWOunTZsWPz8/Dhw4kCiPxf2RL7AWi8XuxD5ZIjSYi4tLjPNFJOH4z9ger73d/2Nz8+ZNAgMDWbduXYxtD485t/e5GjNmDE2bNiUgIIC3336bCRMmJGnSrTHdkuRcXMwx3+XKwTvvwJdfmle7//kH/v0X1q83x3937GjW8fc3E/VDh2D+fBgyBBo1MruiR19tb9YMPvsMFi2C06c1iZuIiIjIi65AgQLcunUr1m2+vr4MGDCAoUOHcuPGjXiP1b9/f0aOHMk///wT63YXFxeaNGlCWFhYrHVu3rzJgwcPyJ8/Pw8ePGDr1q3Wbf/++y8HDx6kQIECdj4y80eByMhIu+s/6tSpUzZxbtmyxboWNZg/Ijw8TjsyMpJ9+/YlOIb8+fPbLNsGsHHjxgQ91rg8uvTbli1brF2+X331Vc6fP4+bmxu5cuWyuaVJkyZB59m/fz8rV66ke/fuADRr1oyTJ0/GeFyJSUm3OJS/P7zxBnToAF9/Db/9Bpcvmwn5ypUwerSZqAcFmQn3/fvw55/www/Qrx/UqQNZskBAANSoAQMHwuLF5hV0EREREXn+/Pvvv7z55pvMnDmTvXv3cvz4cX766SeGDx9OnTp14tyvXbt2pEyZklmzZsV7jlKlSlG4cGE+++yzOOsMHTqUzJkzExQUxPfff8/ff//N4cOH+e6773j11Ve5efMmuXPnpk6dOrRt25bff/+dP/74gxYtWpAxY8bHxvqobNmysXfvXg4ePMjly5cTfBXay8uLVq1a8ccff7BhwwY6d+5Mo0aNrF3L33zzTZYsWcKSJUs4cOAAHTp04Nq1azFiWL9+PWfPnuXy5cuxnqdnz55MmzaNb775hsOHD/Pll18yf/5866RwT2Pjxo0MHz6cQ4cO8fXXX/PTTz/RuXNnAIKDgylVqhR169bl119/5cSJE2zatIl+/fqxY8eOBJ1nzJgxVKpUydoFPkOGDLz55puEhYU99WOIi7qXi9OxWCAw0LwFB/9XHhUFp07Zdk/fu9e8f/EiLF1q3qJlyADFi/93K1YM0qV79o9HREREROzn6+tLUFAQo0eP5ujRo0RERJA5c2batm1L375949zP3d2dTz75hGbNmtl1nm7duhEaGspHH31E5syZY2z39/dny5YtDBs2jE8//ZSTJ0+SKlUqXnnlFUaMGEHKlCkBmDp1Kl26dKFmzZrcv3+fcuXKsXTp0hhdrB+nbdu2rFu3juLFi3Pz5k3Wrl1LtmzZ7N4/V65c1KtXj+rVq3PlyhVq1qxp09W+TZs2/PHHH7Rs2RI3Nze6detmM/EZwJAhQ2jfvj05c+bk3r17sXZ/r1u3LmPHjmXkyJF06dKF7NmzM3XqVCpUqGB3rHH58MMP2bFjB4MHDyZFihR8+eWXhISEEB4ejsViYenSpfTr14/WrVtz6dIlAgICKFeuHOmjl1myw5UrV5g5cyZz5861KX/77bfp3r07Y8eOTVC72cti2DuYQBJdeHg4KVOm5Pr166RIkcLR4cQQERHB0qVLqV69epL88SWWO3fgjz9gxw7YudP89++/zST9UVmyxEzE/f2ffcxP6nlpk5eF2sP5qE2ci9rD+ahNnEtSt8fdu3c5fvy4XWsWi7lMWHh4OClSpMDFRR2Cn6Vs2bLRtWvXGGuJO0ObPO51ZG8+pyvd8tzz9obXXzdv0W7dgj17zAQ8+nbwoHml/NQpc6x4tBw5bBPx4sW1jJmIiIiIiCQOJd3yQkqWDMqUMW/RwsNh1y7bRPzo0f+WMvvxR7OeiwsUKQJly5r7ly1rTgQnIiIiIiKSUEq65aWRIgVUqGDeol29+l+X9B07YNs2czb03bvN2/jxZr1s2f5LwMuUgYIFzeRcRERERESezokTJxwdQpJS0i0vtVSpzMnaHp6w7cwZ2LgRfv/d/PePP+DECfMWPamhnx+UKmUm4WXLQokSZjd3EREREWejKZxEnlxivH6UdIs8IlMmaNzYvIHZLX3r1v+S8C1b4No1WLbMvAG4u5uTsj18NTxtWoc9BBERERHr5Gy3b9/GW1cHRJ7I7du3AZ5qskMl3SLxSJECKlc2bwAPHphXv6OT8N9/N9cF37LFvI0aZdbLk8dMvsuXh0qVzGReRERE5FlxdXXFz8+PixcvAuDj44PFYnFwVM4rKiqK+/fvc/fuXc1e7iQc2SaGYXD79m0uXryIn58frq6uT3wsJd0iCeTmZl7VLlYMunQBwzC7nv/++3+J+F9/waFD5m3qVHO/3LnN5LtSJXNceZo0jnwUIiIi8jIICAgAsCbeEjfDMLhz5w7e3t76ccJJOEOb+Pn5WV9HT0pJt8hTslgge3bz9vbbZtmVK7B5M2zYAGvXmpO0HT5s3iZONPcpUsRMwN98E8qVA19fxz4OERERefFYLBYCAwNJly4dERERjg7HqUVERLB+/XrKlSundeydhKPbxN3d/amucEdT0i2SBPz9oUYN8wbmGPD162H1avP211/mOuJ79pjd0d3cICjITMArVTLXHPf0dOADEBERkReKq6troiQPLzJXV1cePHiAl5eXkm4n8aK0iZJukWfAzw9q1zZvAOfPm1fAo5PwEyfMbukbN8Inn5gzoZct+9+V8NdeA31OioiIiIg8f5R0izhAQAA0bWreAI4f/y8BX7MGLl6ElSvNG5hJe4UKUL68C+7uvmjlDxERERGR54OSbhEnkD07vPuueTMMs/t5dAK+bp3ZPX3BAliwwBWoxKhRBtWqQbVqULEiJEvm2PhFRERERCR2SrpFnIzFAoUKmbcuXcwlynbtMpPwlSuj2LDB4PhxVyZMgAkTzLHf5ctjTcLz5DGPISIiIiIijqcF6EScnJsblCwJffrAihWRzJixjHnzHvDee5A1K9y7B7/+Ct26Qb58kCsXdOoES5bA7duOjl5ERERE5OWmpFvkOePtHUmtWgbffGOOBf/7bxg50px0zd0djh2Dr7+GmjXNWdSrVoWxY83lykRERERE5NlS0i3yHLNYIH9++PBDWLUK/v3XHPvdvj1kyWJeBV+xArp2Nbud58oFH3wAS5fqKriIiIiIyLOgpFvkBZI8OdSpAxMnmsuQ7dsHI0aYy465u8PRo/DVV+b64alTm2PAv/oKTp92dOQiIiIiIi8mJd0iLyiLBQoWhB49zEnYoq+Ct2sHmTPD3buwfLl55TtLFihWDIYMgb170ZJkIiIiIiKJxCmS7q+//pps2bLh5eVFUFAQ27Zte2z9n376iXz58uHl5cUrr7zC0qVLbbYbhsHHH39MYGAg3t7eBAcHc/iRAa1XrlyhefPmpEiRAj8/P9555x1u3rxp3X7w4EEqVqxI+vTp8fLyIkeOHPTv35+IiIgExSLiLKKvgn/7LZw8aV4FHz4cypY1E/Rdu2DgQChSBHLkMLukr1tnzp4uIiIiIiJPxuFJ95w5c+jevTsDBw5k165dFClShJCQEC5evBhr/U2bNtG0aVPeeecddu/eTd26dalbty779u2z1hk+fDjjxo1j4sSJbN26lWTJkhESEsLdu3etdZo3b85ff/3FypUr+eWXX1i/fj3t2rWzbnd3d6dly5b8+uuvHDx4kDFjxjB58mQGDhyYoFhEnFH0VfCePWHDBjh/Hv73P6hdG7y8zK7pY8eaa4CnTw+tWsH8+XDrlqMjFxERERF5vlgMw7EdSYOCgihRogRfffUVAFFRUWTOnJkPPviA3r17x6jfuHFjbt26xS+//GIte/311ylatCgTJ07EMAwyZMjAhx9+SI8ePQC4fv066dOnZ9q0aTRp0oT9+/dToEABtm/fTvHixQFYvnw51atX58yZM2TIkCHWWLt378727dvZsGGDXbE86t69e9y7d896Pzw8nMyZM3P58mVSpEiR0KcuyUVERLBy5UoqV66Mu7u7o8MRnk2b3LoFq1ZZWLzYhSVLLPz773+Lfnt5Gbz5pkGdOlHUqGGQLl2ShPDc0GvE+ahNnIvaw/moTZyL2sO5qD2cj7O3SXh4OGnSpOH69euPzefcnmFMMdy/f5+dO3fSp08fa5mLiwvBwcFs3rw51n02b95M9+7dbcpCQkJYsGABAMePH+f8+fMEBwdbt6dMmZKgoCA2b95MkyZN2Lx5M35+ftaEGyA4OBgXFxe2bt3KW2+9FeO8R44cYfny5dSrV8/uWB71+eefM3jw4Bjlv/76Kz4+PrHu4wxWrlzp6BDkEUndJu7uUK8e1Klj4cABf7ZuDWDr1kAuXEjG0qUWli51wWIxyJv3CkFB5ylZ8hwZM768l8H1GnE+ahPnovZwPmoT56L2cC5qD+fjrG1y287lgByadF++fJnIyEjSp09vU54+fXoOHDgQ6z7nz5+Ptf758+et26PLHlcn3SOX6Nzc3PD397fWiVa6dGl27drFvXv3aNeuHUOGDLE7lkf16dPHJkmPvtJdpUoVXekWuziiTWrVMv81DPjrrwgWLXJh8WILO3e6cOBAag4cSM306QXJl8+gVq0o6tY1KF7cwGJ5/HFfBHqNOB+1iXNRezgftYlzUXs4F7WH83H2NgkPD7ernkOT7ufBnDlzuHHjBn/88Qc9e/Zk5MiR9OrV64mO5enpiaenZ4xyd3d3p/wjiubs8b2MHNUmr75q3gYOhDNnYNEiWLgQ1qyBAwcsHDjgyogR5mzoDRpAo0ZQsiQvfAKu14jzUZs4F7WH81GbOBe1h3NRezgfZ20Te2Ny6ERqadKkwdXVlQsXLtiUX7hwgYCAgFj3CQgIeGz96H/jq/PoRG0PHjzgypUrMc6bOXNmChQoQNOmTRk2bBiDBg0iMjLSrlhEXmSZMkHHjrBiBVy+DD/8AI0bQ7JkcOoUfPklvP46ZMsGH34IW7ZoKTIRERERefk4NOn28PCgWLFirF692loWFRXF6tWrKVWqVKz7lCpVyqY+mH38o+tnz56dgIAAmzrh4eFs3brVWqdUqVJcu3aNnTt3WuusWbOGqKgogoKC4ow3KiqKiIgIoqKi7IpF5GWRMiU0aQKzZ8OlS+ZM502bgq/vfwl4qVKQNSt07w6bN8P/v4xERERERF5oDu9e3r17d1q1akXx4sUpWbIkY8aM4datW7Ru3RqAli1bkjFjRj7//HMAunTpQvny5Rk1ahQ1atRg9uzZ7Nixg0mTJgFgsVjo2rUrn376Kblz5yZ79uwMGDCADBkyULduXQDy589P1apVadu2LRMnTiQiIoJOnTrRpEkT68zlYWFhuLu788orr+Dp6cmOHTvo06cPjRs3tnYjiC8WkZeRtze89ZZ5u3PHvBL+44+weDGcPg2jR5u3TJn+64IeFAQuDl/AUEREREQk8Tk86W7cuDGXLl3i448/5vz58xQtWpTly5dbJyg7deoULg99Gy9dujSzZs2if//+9O3bl9y5c7NgwQIKFSpkrdOrVy9u3bpFu3btuHbtGmXLlmX58uV4eXlZ64SFhdGpUycqVaqEi4sL9evXZ9y4cdbtbm5ufPHFFxw6dAjDMMiaNSudOnWiW7duCYpF5GXm7Q1165q36AT8p5/MseBnzsCYMeYtOgFv2NDskq4EXEREREReFA5PugE6depEp06dYt22bt26GGUNGzakYcOGcR7PYrEwZMgQm5nGH+Xv78+sWbPi3N64cWMaN24cd9B2xiIipocT8Lt3ba+AP5yAZ8z4XwJeqpQScBERERF5vunrrIg8c15eUKcOhIXBxYuwYAE0bw7Jk8PZszB2LJQta86C3rUrbNumSdhERERE5PmkpFtEHCo6AZ8500zAFy6MmYAHBUGePOZSZYcOOTpiERERERH7KekWEafh5QW1a9sm4E2amF3TjxyBIUMgb14oXtycjO2ffxwdsYiIiIjI4ynpFhGnFJ2A//CDmYDPmAHVqoGrK+zcaS49likTBAfDd9/B9euOjlhEREREJCYl3SLi9Hx9oUULWLoUzp2Dr76C0qXNcd6rV8M770D69FC/vrlG+N27jo5YRERERMSkpFtEnitp08L778PGjXDsGAwdCgUKwL17ZsJdvz4EBJiJ+OrVEBnp6IhFRERE5GWmpFtEnlvZs0PfvrBvH+zZA716mV3Or183u5wHB0PmzGZX9J07NQO6iIiIiDx7SrpF5LlnsUCRIvDFF3DyJPz2G7RrB6lSmd3RR482J1/Ln9+cjO34cUdHLCIiIiIvCyXdIvJCcXGBcuXg22/h/HlzBvTGjc0Z0A8eNJcdy5EDKlSAqVPhxg1HRywiIiIiLzIl3SLywvLwMGdAnz0bLlyA6dPNLucWi3k1vE0bc/x3y5bm+O+oKEdHLCIiIiIvGiXdIvJSSJ7cTK5XrjS7oA8dCnnywO3b5nJkwcHmGPH+/eHwYUdHKyIiIiIvCiXdIvLSyZzZnIDtwAHYvBnat4eUKeHUqf+S8TJlYNIkuHbN0dGKiIiIyPNMSbeIvLQsFnj9dZg40Rz/PWcOVKtmjgvftMlMxgMCoEkTWL5cy4+JiIiISMIp6RYRAby8oFEjWLoUzpyBESOgYEFz/e/oZDxzZnNZsr/+cnS0IiIiIvK8UNItIvKIwEDo0QP+/BN27IBOncDf31x+bMQIKFQISpSACRNcCA93d3S4IiIiIuLElHSLiMTBYoFixWD8eDPhnj/fnA3dzc1Mxrt2daVNm6o0a+bKypWa/VxEREREYlLSLSJiBw8PeOstc93vs2dhzBgoUsTgwQMX5s51oUoVc/3vTz6B06cdHa2IiIiIOAsl3SIiCZQuHXTpAtu3P+DLL9fRoUMkKVOaS5F9/DFkywbVq5tXxiMiHB2tiIiIiDiSkm4RkaeQI8d1xo6N4tw5c73v8uXNbubLlkH9+pApkzn52sGDjo5URERERBxBSbeISCLw9oYWLWDdOjPB/ugjSJ8eLl40J1/Llw/KlYPp0+H2bUdHKyIiIiLPipJuEZFElicPDBtmju1esABq1jTX/t6wAUJDzdnRO3SAnTvBMBwdrYiIiIgkJSXdIiJJxN0d6tSBxYvh1Cn49FPInh3Cw2HiRCheHF57Db7+Gq5edXS0IiIiIpIUlHSLiDwDGTNCv35w5AisWgVNm5ozou/ZY64DniEDvP222T1dV79FREREXhxKukVEniEXF6hUCWbNgn/+gbFjoVAhuHsXZs6EihUhf34YPRquXHF0tCIiIiLytJR0i4g4SOrU0Lkz7N0LW7dC27bg62tOxNa9u3l1vFUr2LxZV79FREREnldKukVEHMxigZIlYdIk8+r3N99AkSLm1e/vv4fSpaFoUbM8PNzR0YqIiIhIQijpFhFxIsmTw3vvwe7d5hXuVq3Ay8u8Gt6xo3n1O3q7iIiIiDg/Jd0iIk7IYoHXX4dp0+DsWXOMd758cPMmfPutOet5UBBMnap1v0VEREScmZJuEREn5+8PXbvC33+bs5s3aWIuR7ZtG7RpY8583qWLuV1EREREnIuSbhGR54TFAuXLww8/wJkzMGyYue739eswbhwULPjf9nv3HB2tiIiIiICSbhGR51K6dPDRR+a638uXQ9265nJk69dDs2aQKZO5/ehRR0cqIiIi8nJT0i0i8hxzcYGQEPj5Zzh5EgYNMidbu3wZhg+HXLmgWjVYsgSiohwdrYiIiMjLR0m3iMgLIlMmGDgQTpyABQugalWzfPlyqFkTcueGUaPgyhVHRikiIiLyclHSLSLygnFzgzp1YNkyOHwYuncHPz84dgx69DCT83ffhT17HB2piIiIyItPSbeIyAssVy7z6vbZszB5MhQpAnfuwP/+B6++CmXLwuzZcP++oyMVEREReTEp6RYReQn4+JhXt3fvhg0boHFj84r4xo3QtClkzWp2Tf/nH0dHKiIiIvJiUdItIvISsVj+u7p96pQ58VpgIJw/D0OGmMl348ZmYm4Yjo5WRERE5PmnpFtE5CUVGGhe3T55EubMgTfegAcP4McfoVw5KFoUJk2CW7ccHamIiIjI80tJt4jIS87dHRo1Mtf43rMH2rYFb2/YuxfatzeXIOve3VwTXEREREQSRkm3iIhYFSliXt0+exa+/BJy5oTr12H0aHPJsWrVzFnRtea3iIiIiH2UdIuISAypUkG3bnDoECxdCjVqmOPBly+H6tUhf374+mu4edPRkYqIiIg4NyXdIiISJxcX8+r2L7+Ya3536wYpUpjJeKdO5prfPXrAiROOjlRERETEOSnpFhERu+TMaXY5P3MGxo83u5tfv26uA54zJ9SrB7/9plnPRURERB6mpFtERBIkeXLzKveBA+YV8MqVzTHeP/8MFSrAa6/BtGlw966jIxURERFxPCXdIiLyRFxczLHev/4Kf/1lznTu7W3OgN66NWTJAh9/DOfOOTpSEREREcdR0i0iIk+tQAGYONHsej5sGGTODJcuwSefQNas8PbbsGOHo6MUERERefaUdIuISKLx94ePPoJjx+DHH6FMGYiIgJkzoUQJ8/6PP8KDB46OVEREROTZUNItIiKJzs0NGjaE33+H7duhRQtwd4dNm6BxY8iRA774Aq5ccXSkIiIiIklLSbeIiCSp4sVhxgw4edIc4502LZw+Db17m0uOdegABw86OkoRERGRpKGkW0REnonAQBg8GE6dgqlToWhRuHPHHAueLx/UqgXr1mnJMREREXmxKOkWEZFnyssLQkNh1y4zya5dGywWc/mxihXNK+NhYeZYcBEREZHnnZJuERFxCIsFypeHhQvNNb87dDCXHNu1yxwDnj27Oe776lVHRyoiIiLy5JR0i4iIw+XJAxMmmF3PP/0UAgLg7Flz3HfmzNC5Mxw96ugoRURERBJOSbeIiDiNNGmgXz84ccIc9/3KK3DrFowfD7lzQ/36sHGjxn2LiIjI80NJt4iIOB1PT3Pc9x9/wMqVULWqmWjPnw9ly0KpUlrvW0RERJ4PSrpFRMRpWSwQHAzLlsG+ffDOO2ZCvnWrud53rlwwejSEhzs6UhEREZHYKekWEZHnQsGCMGWKud73wIFmV/STJ6F7d3O97w8/NMeEi4iIiDgTJd0iIvJcSZ8eBg0yE+xJk8w1vm/cgC+/hLx53Rg1qhi7dzs6ShERERGTkm4REXkueXtD27bw11+wZAlUqgSRkRY2bMhEUJA7lSrBihWadE1EREQcS0m3iIg811xcoHp1WLUKtm2LoHz507i6GqxZY07AVrQozJgBERGOjlREREReRkq6RUTkhVG0KHTrtosDBx7QtSskSwZ790LLlpAjh9kF/cYNR0cpIiIiLxMl3SIi8sLJmtWc1fz0afjsM3Mc+Jkz5mRrmTND797wzz+OjlJEREReBg5Pur/++muyZcuGl5cXQUFBbNu27bH1f/rpJ/Lly4eXlxevvPIKS5cutdluGAYff/wxgYGBeHt7ExwczOHDh23qXLlyhebNm5MiRQr8/Px45513uHnzpnX7unXrqFOnDoGBgSRLloyiRYsSFhYWI5YxY8aQN29evL29yZw5M926dePu3btP8WyIiEhiSpUK+vSBEydg8mTImxeuX4cvvoBs2aBNG/j7b0dHKSIiIi8yhybdc+bMoXv37gwcOJBdu3ZRpEgRQkJCuHjxYqz1N23aRNOmTXnnnXfYvXs3devWpW7duuzbt89aZ/jw4YwbN46JEyeydetWkiVLRkhIiE0y3Lx5c/766y9WrlzJL7/8wvr162nXrp3NeQoXLsy8efPYu3cvrVu3pmXLlvzyyy/WOrNmzaJ3794MHDiQ/fv387///Y85c+bQt2/fJHimRETkaXh5wbvvmgn2woVQtqw5xnvqVHMpslq1YP16TbomIiIiic+hSfeXX35J27Ztad26NQUKFGDixIn4+Pjw3XffxVp/7NixVK1alZ49e5I/f34++eQTXnvtNb766ivAvMo9ZswY+vfvT506dShcuDDff/89//zzDwsWLABg//79LF++nClTphAUFETZsmUZP348s2fP5p//72vYt29fPvnkE0qXLk3OnDnp0qULVatWZf78+dZYNm3aRJkyZWjWrBnZsmWjSpUqNG3aNN4r9SIi4jguLlC7NmzYAJs3Q716YLHAL79A+fLw+uswdy5ERjo6UhEREXlRuDnqxPfv32fnzp306dPHWubi4kJwcDCbN2+OdZ/NmzfTvXt3m7KQkBBrQn38+HHOnz9PcHCwdXvKlCkJCgpi8+bNNGnShM2bN+Pn50fx4sWtdYKDg3FxcWHr1q289dZbsZ77+vXr5M+f33q/dOnSzJw5k23btlGyZEmOHTvG0qVLefvtt+N8zPfu3ePevXvW++Hh4QBEREQQ4YTT6kbH5IyxvazUJs5F7eF8EtImxYrB7Nlw6BCMHevC99+7sG2bhYYNIWdOg65do2jZMgpv76SO+sWl14jzUZs4F7WHc1F7OB9nbxN743JY0n358mUiIyNJnz69TXn69Ok5cOBArPucP38+1vrnz5+3bo8ue1yddOnS2Wx3c3PD39/fWudRP/74I9u3b+fbb7+1ljVr1ozLly9TtmxZDMPgwYMHvPfee4/tXv75558zePDgGOW//vorPj4+ce7naCtXrnR0CPIItYlzUXs4n4S2SY0aUKaMB0uX5mDZsuwcPerBBx+40q/fA2rUOEa1asdJkcI5P/CfB3qNOB+1iXNRezgXtYfzcdY2uX37tl31HJZ0Py/Wrl1L69atmTx5MgULFrSWr1u3js8++4wJEyYQFBTEkSNH6NKlC5988gkDBgyI9Vh9+vSxuVIfHh5O5syZqVKlCilSpEjyx5JQERERrFy5ksqVK+Pu7u7ocAS1ibNRezifp22TZs3g1i2YNi2SsWNdOHHCkx9+yM+iRfl4990oOneOInPmJAj8BaXXiPNRmzgXtYdzUXs4H2dvk+iey/FxWNKdJk0aXF1duXDhgk35hQsXCAgIiHWfgICAx9aP/vfChQsEBgba1ClatKi1zqMTtT148IArV67EOO9vv/1GrVq1GD16NC1btrTZNmDAAN5++23effddAF555RVu3bpFu3bt6NevHy4uMYfLe3p64unpGaPc3d3dKf+Iojl7fC8jtYlzUXs4n6dpEz8/6NoVOnUyx3d/8QXs2WNh7FhXvv7alRYtoFcveGjEkcRDrxHnozZxLmoP56L2cD7O2ib2xuSwidQ8PDwoVqwYq1evtpZFRUWxevVqSpUqFes+pUqVsqkPZleD6PrZs2cnICDApk54eDhbt2611ilVqhTXrl1j586d1jpr1qwhKiqKoKAga9m6deuoUaMGX3zxhc3M5tFu374dI7F2dXUFzAndRETk+ebmBk2awK5dsHw5VKgADx7AtGlQoADUrQtbtjg4SBEREXF6Dp29vHv37kyePJnp06ezf/9+OnTowK1bt2jdujUALVu2tJlorUuXLixfvpxRo0Zx4MABBg0axI4dO+jUqRMAFouFrl278umnn7Jo0SL+/PNPWrZsSYYMGahbty4A+fPnp2rVqrRt25Zt27axceNGOnXqRJMmTciQIQNgdimvUaMGnTt3pn79+pw/f57z589z5coVayy1atXim2++Yfbs2Rw/fpyVK1cyYMAAatWqZU2+RUTk+WexQEgIrF1rJtlvvWWWLVwIpUqZyfjy5VpuTERERGLn0DHdjRs35tKlS3z88cecP3+eokWLsnz5cutEaKdOnbK5mly6dGlmzZpF//796du3L7lz52bBggUUKlTIWqdXr17Wbt7Xrl2jbNmyLF++HC8vL2udsLAwOnXqRKVKlXBxcaF+/fqMGzfOun369Oncvn2bzz//nM8//9xaXr58edatWwdA//79sVgs9O/fn7Nnz5I2bVpq1arF0KFDk+rpEhERBwsKgvnz4cABGDECZsyA334zb0WKwEcfQcOG5lVyEREREQCLob7QDhMeHk7KlCm5fv26006ktnTpUqpXr+6UYyheRmoT56L2cD7Puk3OnIHRo+Hbb80J2ACyZ4eePSE0lJd+uTG9RpyP2sS5qD2ci9rD+Th7m9ibzzm0e7mIiMjzLFMmGDUKTp2CTz6BNGng+HHo2BGyZYPPPoNr1xwdpYiIiDiSkm4REZGn5O8P/fvDyZMwfjxkzQoXL0K/fpAliznb+T//ODpKERERcQQl3SIiIonEx8dcauzwYZg5EwoVghs3zPHf2bND27bmNhEREXl5KOkWERFJZO7u0Lw57N0LS5bAG2/A/fswZQrky2cuRfbHH46OUkRERJ4FJd0iIiJJxGKB6tVh/Xr4/XeoWROiomDOHCha1Ly/aZOjoxQREZGkpKRbRETkGShTBhYvNq9wN20KLi7mVfAyZcy1vles0FrfIiIiLyIl3SIiIs9Q4cIwaxYcPGiO8XZ3N9f5rloViheHefPMq+EiIiLyYnB7kp2uXbvGtm3buHjxIlGPfDNo2bJlogQmIiLyIsuVCyZNgo8/hi+/NNf63rULGjQwx3336WNeEXfCZUlFREQkARKcdC9evJjmzZtz8+ZNUqRIgcVisW6zWCxKukVERBIgUyYz6e7bF8aNM5ccO3AAWrUyE/KePaFNG/D2dnSkIiIi8iQS3L38ww8/pE2bNty8eZNr165x9epV6+3KlStJEaOIiMgLL00aGDLEXOv7iy8gfXrz/506QbZsZll4uKOjFBERkYRKcNJ99uxZOnfujI+PT1LEIyIi8lJLkQJ69YLjx+HrryFrVrh4EXr3Nv8/YABcvuzoKEVERMReCU66Q0JC2LFjR1LEIiIiIv/P2xs6doTDh2H6dHOc97Vr8OmnZvLdrRucOePoKEVERCQ+CR7TXaNGDXr27Mnff//NK6+8gvsjM7zUrl070YITERF52bm7Q8uW0KIFLFgAQ4eaE66NGWNeCW/VyrwKnjOnoyMVERGR2CQ46W7bti0AQ4YMibHNYrEQGRn59FGJiIiIDRcXqFcP3noLVq6Ezz4zlxqbMgWmToVmzcwZz/Pnd3SkIiIi8rAEdy+PioqK86aEW0REJGlZLFClCqxbB7//DtWqQWQkzJgBBQtCo0awZ4+joxQREZFoCU66RURExDmUKQNLl8KOHVC3LhgG/PQTvPoq1K4NW7c6OkIRERF5oqT7t99+o1atWuTKlYtcuXJRu3ZtNmzYkNixiYiIiB2KFYOff4a9e6FJE7Mr+uLF8Prr5lXx9esdHaGIiMjLK8FJ98yZMwkODsbHx4fOnTvTuXNnvL29qVSpErNmzUqKGEVERMQOr7wCP/wA+/dDaCi4uprjv8uXh3Ll4NdfzavhIiIi8uwkOOkeOnQow4cPZ86cOdake86cOQwbNoxPPvkkKWIUERGRBMiTx5xc7cgReO898PCADRsgJASCgmDRIiXfIiIiz0qCk+5jx45Rq1atGOW1a9fm+PHjiRKUiIiIPL1s2eCbb+DYMeja1Vz7e/t2qFMHihaFH380J2ETERGRpJPgpDtz5sysXr06RvmqVavInDlzogQlIiIiiSdjRhg9Gk6cMNf0Tp7cHP/duLE54/n330NEhKOjFBEReTEleJ3uDz/8kM6dO7Nnzx5Kly4NwMaNG5k2bRpjx45N9ABFREQkcaRLB59/Dr16wbhxMHYsHDwIrVrBoEFmQt6qFXh6OjpSERGRF0eCr3R36NCB2bNn8+eff9K1a1e6du3Kvn37mDNnDu3bt0+KGEVERCQRpUoFAweaV76HDTOT8ePHoX17yJkTvvoK7t51dJQiIiIvhidaMuytt97i999/599//+Xff//l999/p06dOokdm4iIiCShFCngo4/MhHvsWLMb+tmz8MEHkCOH2SX99m1HRykiIvJ8e6KkW0RERF4cPj7QuTMcPWpOvJYlC5w7B927Q/bsMGIE3Lzp6ChFRESeT3Yl3f7+/ly+fBmAVKlS4e/vH+dNREREnk+enuYSY4cPw+TJZsJ98aI5BjxbNnM8eHi4o6MUERF5vtg1kdro0aNJnjy59f8WiyVJgxIRERHH8fCAd981J1WbNQs+/dRc87tvX/Oqd9eu5pVxPz9HRyoiIuL87Eq6W7VqZf1/aGhoUsUiIiIiTsTd3Uy8mzeHOXPM5PvAAXMStlGjoEsXMwFXRzcREZG4JXhMt6urKxcvXoxR/u+//+Lq6pooQYmIiIjzcHMzE+99+2D2bHNt7/Bw+OQTyJoV+vSBS5ccHaWIiIhzSnDSbRhGrOX37t3Dw8PjqQMSERER5+TqCo0bw969MHcuFCliTrA2bJg55rtnT7hwwdFRioiIOBe7upcDjBs3DgCLxcKUKVPw9fW1bouMjGT9+vXky5cv8SMUERERp+LiAvXrQ716sHgxDBkCO3fCyJHmGt/t25uTr6VN6+hIRUREHM/upHv06NGAeaV74sSJNl3JPTw8yJYtGxMnTkz8CEVERMQpWSxQuzbUqgXLlpnJ99at5prfEydCmzYuvPaal6PDFBERcSi7k+7jx48DULFiRebPn0+qVKmSLCgRERF5flgsUL06VKsGq1bB4MGwcSN8840rbm6V2b7doF8/c/1vERGRl02Cx3SvXbtWCbeIiIjEYLFA5cqwYQOsWQPly0fx4IELkya5kiuXuQb4yZOOjlJEROTZsvtKd7Q2bdo8dvt33333xMGIiIjI889igYoVoWzZSEaM2MSqVaVZu9aFb7+F776D0FBzze9s2RwdqYiISNJL8JXuq1ev2twuXrzImjVrmD9/PteuXUuCEEVEROR5VbDgv6xYEcn69VCpEkREwOTJkDs3tG0L/z96TURE5IWV4CvdP//8c4yyqKgoOnToQM6cORMlKBEREXmxvPGGOd7799/NMd+rVsGUKTBtGrRqZV75zpHD0VGKiIgkvgRf6Y71IC4udO/e3TrDuYiIiEhsypaFlSvNidaqVIEHD+B//4M8eaBNGzh61NERioiIJK5ESboBjh49yoMHDxLrcCIiIvICK10aVqyATZsgJAQiI2HqVMibF1q3hiNHHB2hiIhI4khw9/Lu3bvb3DcMg3PnzrFkyRJatWqVaIGJiIjIi69UKVi+HLZsMbudL19udjmfMQNatID+/SFXLkdHKSIi8uQSfKV79+7dNre9e/cCMGrUKMaMGZPY8YmIiMhL4PXXYdkyM/muXt288j19unnlu1UrOHzY0RGKiIg8mQRf6V67dm1SxCEiIiJCUBAsWQLbtsGQIeb/v/8eZs6EZs3MK9958zo6ShEREfs98ZjuixcvsmHDBjZs2MDFixcTMyYRERF5yZUsCb/8Atu3Q82aEBVlJt4FCsDbb8OhQ46OUERExD4JTrrDw8N5++23yZAhA+XLl6d8+fJkzJiRFi1acP369aSIUURERF5SxYvD4sWwYwfUrv1f8p0/P7RsqW7nIiLi/BKcdLdt25atW7eyZMkSrl27xrVr1/jll1/YsWMH7du3T4oYRURE5CVXrBgsXGgm37Vqmcn3jBlm8h0aqtnORUTEeSU46f7ll1/47rvvCAkJIUWKFKRIkYKQkBAmT57M4sWLkyJGEREREcBMvhct+q/befSEa/nymUuNaZ1vERFxNglOulOnTk3KlCljlKdMmZJUqVIlSlAiIiIijxPd7Xzbtv9mO582zZxkrU0bOHbM0RGKiIiYEpx09+/fn+7du3P+/Hlr2fnz5+nZsycDBgxI1OBEREREHqdECXOG8y1boFo1M/meOtVMvt99F44fd3SEIiLysrNrybBXX30Vi8VivX/48GGyZMlClixZADh16hSenp5cunRJ47pFRETkmQsKgqVLzeR78GBYvhz+9z+z63loKPTrB9myOTpKERF5GdmVdNetWzeJwxARERF5eq+/DsuWwebNMGgQ/PorTJlidj1v3dpMvrNmdXSUIiLyMrEr6R44cGBSxyEiIiKSaEqVghUrYNMmM/leuRImTzaT7zZtoG9f+P8OeyIiIkkqwWO6RURERJ4XpUubV7s3bIDgYIiIgG+/hVy5oEMHOH3a0RGKiMiLzq6k29/fn8uXLwOQKlUq/P3947yJiIiIOJuyZc2r3evXw5tvmsn3xIlm8v3++3D2rKMjFBGRF5Vd3ctHjx5N8uTJARgzZkxSxiMiIiKSZN54A1avNpPvgQNh3TqYMMGcdK19e+jdGwIDHR2liIi8SOxKulu1agXAgwcPsFgshISEkD59+iQNTERERCSplCsHa9eaSffHH5vdz8eNg0mTzG7nH30E+qojIiKJIUFjut3c3Hjvvfe4e/duUsUjIiIi8sxUqAC//QarVpnjv+/ehdGjIXt26NULLl1ydIQiIvK8S/BEaiVLlmT37t1JEYuIiIjIM2exQKVK8Pvv5vreQUFw5w6MGGEm3337wr//OjpKERF5XtnVvfxhHTt25MMPP+TMmTMUK1aMZMmS2WwvXLhwogUnIiIi8qxYLBASAlWqmGt9f/wx7NwJn38OX30FXbpA9+6QKpWjIxURkedJgpPuJk2aANC5c2drmcViwTAMLBYLkZGRiRediIiIyDNmsUD16lCtGixebE64tmcPfPopjB8P3bpB166QMqWjIxURkedBgpPu48ePJ0UcIiIiIk7FYoHataFmTVi40Ey+//wTBg2CMWOgRw/o3Bn+f4EXERGRWCV4TPfJkyfJmDEjWbNmtbllzJiRkydPJkWMIiIiIg7j4gJvvWVe7f7xRyhQAK5dg/79IVs2GDYMbt50cJAiIuK0Epx0V6xYkStXrsQov379OhUrVkyUoEREREScjYsLNGwIe/fCDz9A3rxw5Qr06WNOuDZyJNy+7egoRUTE2SQ46Y4eu/2of//9N8akaiIiIiIvGldXaNIE/voLZsyAXLng8mXo2dNMvkePNmc/FxERgQQk3fXq1aNevXpYLBZCQ0Ot9+vVq0edOnUICQmhdOnSCQ7g66+/Jlu2bHh5eREUFMS2bdseW/+nn34iX758eHl58corr7B06VKb7YZh8PHHHxMYGIi3tzfBwcEcPnzYps6VK1do3rw5KVKkwM/Pj3feeYebD/ULW7duHXXq1CEwMJBkyZJRtGhRwsLCYsRy7do13n//fQIDA/H09CRPnjwx4hEREZEXk6srtGgB+/fDtGmQIwdcvGjOcJ4rF3z9Ndy75+goRUTE0exOulOmTEnKlCkxDIPkyZNb76dMmZKAgADatWvHzJkzE3TyOXPm0L17dwYOHMiuXbsoUqQIISEhXLx4Mdb6mzZtomnTprzzzjvs3r2bunXrUrduXfbt22etM3z4cMaNG8fEiRPZunUryZIlIyQkhLt371rrNG/enL/++ouVK1fyyy+/sH79etq1a2dznsKFCzNv3jz27t1L69atadmyJb/88ou1zv3796lcuTInTpxg7ty5HDx4kMmTJ5MxY8YEPQciIiLyfHNzg1at4MABmDwZsmSBf/6BTp0gd26YNAkiIhwdpYiIOIyRQIMGDTJu3ryZ0N1iVbJkSeP999+33o+MjDQyZMhgfP7557HWb9SokVGjRg2bsqCgIKN9+/aGYRhGVFSUERAQYIwYMcK6/dq1a4anp6fxww8/GIZhGH///bcBGNu3b7fWWbZsmWGxWIyzZ8/GGWv16tWN1q1bW+9/8803Ro4cOYz79+8n4BHbun79ugEY169ff+JjJKX79+8bCxYseKrHKIlLbeJc1B7OR23iXF7W9rh3zzAmTDCMjBkNA8xb9uyGMXWqYUREODa2l7VNnJXaw7moPZyPs7eJvflcgpcMGzhwYKIk+/fv32fnzp306dPHWubi4kJwcDCbN2+OdZ/NmzfTvXt3m7KQkBAWLFgAmMuZnT9/nuDgYOv2lClTEhQUxObNm2nSpAmbN2/Gz8+P4sWLW+sEBwfj4uLC1q1beeutt2I99/Xr18mfP7/1/qJFiyhVqhTvv/8+CxcuJG3atDRr1oyPPvoIV1fXWI9x79497j3Uzyw8PByAiIgIIpzwJ/DomJwxtpeV2sS5qD2cj9rEubys7WGxwLvvml3Pp0xx4YsvXDh+3ELr1jB0qEH//pE0bmwQx9eFJPWytomzUns4F7WH83H2NrE3rgQn3RcuXKBHjx6sXr2aixcvYhiGzfbIyEi7jnP58mUiIyNJnz69TXn69Ok5cOBArPucP38+1vrnz5+3bo8ue1yddOnS2Wx3c3PD39/fWudRP/74I9u3b+fbb7+1lh07dow1a9bQvHlzli5dypEjR+jYsSMRERFx/jDx+eefM3jw4Bjlv/76Kz4+PrHu4wxWrlzp6BDkEWoT56L2cD5qE+fyMrdHjhwwbpwry5ZlY/783Bw54kloqBsDBoTTpMlBSpX6B5cET2v79F7mNnFGag/novZwPs7aJrftXLIiwUl3aGgop06dYsCAAQQGBsY6k/mLZO3atbRu3ZrJkydTsGBBa3lUVBTp0qVj0qRJuLq6UqxYMc6ePcuIESPiTLr79Oljc6U+PDyczJkzU6VKFVKkSJHkjyWhIiIiWLlyJZUrV8bd3d3R4QhqE2ej9nA+ahPnovb4z1tvwahR8PXXkYwe7cLp0ykYMaIEr7xi8PHHkdSubfAsvlKpTZyL2sO5qD2cj7O3SXTP5fgkOOn+/fff2bBhA0WLFk3orjbSpEmDq6srFy5csCm/cOECAQEBse4TEBDw2PrR/164cIHAwECbOtHxBgQExJio7cGDB1y5ciXGeX/77Tdq1arF6NGjadmypc22wMBA3N3dbbqS58+fn/Pnz3P//n08PDxixO/p6Ymnp2eMcnd3d6f8I4rm7PG9jNQmzkXt4XzUJs5F7WHy94cBA6BzZxgzBr78Ev7800LDhm4UKwZDhkC1ajyT5Ftt4lzUHs5F7eF8nLVN7I0pwR2aMmfOHKNL+ZPw8PCgWLFirF692loWFRXF6tWrKVWqVKz7lCpVyqY+mF0Noutnz56dgIAAmzrh4eFs3brVWqdUqVJcu3aNnTt3WuusWbOGqKgogoKCrGXr1q2jRo0afPHFFzYzm0crU6YMR44cISoqylp26NAhAgMDY024RURERABSpoSBA+HECejXD3x9YedOqFEDSpeGlSvN6ddEROTFkOCke8yYMfTu3ZsTJ0489cm7d+/O5MmTmT59Ovv376dDhw7cunWL1q1bA9CyZUubida6dOnC8uXLGTVqFAcOHGDQoEHs2LGDTp06AWCxWOjatSuffvopixYt4s8//6Rly5ZkyJCBunXrAubV6KpVq9K2bVu2bdvGxo0b6dSpE02aNCFDhgyA2aW8Ro0adO7cmfr163P+/HnOnz/PlStXrLF06NCBK1eu0KVLFw4dOsSSJUv47LPPeP/995/6eREREZEXX6pU8OmncPw49OwJ3t6wZQtUqQLly8Nvvzk6QhERSQwJTrobN27MunXryJkzJ8mTJ8ff39/mltBjjRw5ko8//piiRYuyZ88eli9fbp0I7dSpU5w7d85av3Tp0syaNYtJkyZRpEgR5s6dy4IFCyhUqJC1Tq9evfjggw9o164dJUqU4ObNmyxfvhwvLy9rnbCwMPLly0elSpWoXr06ZcuWZdKkSdbt06dP5/bt23z++ecEBgZab/Xq1bPWyZw5MytWrGD79u0ULlyYzp0706VLF3r37p3Qp1REREReYmnSwPDhcOwYdO0Knp6wYQNUqACVKsGmTY6OUEREnkaCx3SPGTMmUQPo1KmT9Ur1o9atWxejrGHDhjRs2DDO41ksFoYMGcKQIUPirOPv78+sWbPi3D5t2jSmTZsW5/ZopUqVYsuWLfHWExEREYlPQACMHg09esBnn8HkybBmjXmrVg0++QSKFXN0lCIiklAJTrpbtWqVFHGIiIiICJAxI3z9NXz0kZloT50Ky5aZt7p1YfBgKFzY0VGKiIi9nmhlyMjISObNm8enn37Kp59+ys8//2z3+twiIiIiEr8sWcyr3QcPQsuW4OICCxZAkSLQpAkcOODoCEVExB4JTrqPHDlC/vz5admyJfPnz2f+/Pm0aNGCggULcvTo0aSIUUREROSllTMnTJ8Of/0FjRubZXPmQMGC0KoV6OuXiIhzS3DS3blzZ3LmzMnp06fZtWsXu3bt4tSpU2TPnp3OnTsnRYwiIiIiL718+WD2bPjjD7ObeVQUfP+9Wd6uHZw65egIRUQkNglOun/77TeGDx9uM1N56tSpGTZsGL9pbQsRERGRJFW4MPz8M2zfbk6w9uCB2Q09d2744AN4aOEXERFxAglOuj09Pblx40aM8ps3b+Lh4ZEoQYmIiIjI4xUvDkuXwsaN8OabcP8+fPUV5MhhzoB+6ZKjIxQREXiCpLtmzZq0a9eOrVu3YhgGhmGwZcsW3nvvPWrXrp0UMYqIiIhIHEqXhtWrzaXFypSBu3dh1CjInh369YMrVxwdoYjIyy3BSfe4cePImTMnpUqVwsvLCy8vL8qUKUOuXLkYO3ZsUsQoIiIiIvGoWBE2bDCXFiteHG7dMtf7zp7dXGYsPNzREYqIvJwSvE63n58fCxcu5MiRI+zfvx+A/PnzkytXrkQPTkRERETsZ7FA1aoQEgKLFsHHH8PevTBoEIwbB927u5Arl6ujwxQReakkKOkODw/H19cXFxcXcuXKZU20o6KiCA8PJ0WKFEkSpIiIiIjYz2KBOnWgVi2YOxcGDjTX9e7f35WUKYM5c8aF998HLy9HRyoi8uKzu3v5zz//TPHixbl7926MbXfu3KFEiRIsXrw4UYMTERERkSfn4gKNGsG+febyYjlyGFy/7kWPHq7kygXffmtOwCYiIknH7qT7m2++oVevXvj4+MTYlixZMj766CO++uqrRA1ORERERJ6eqyu8/Tb8+ecDOnbcQ6ZMBmfPwnvvmet8T59uLj0mIiKJz+6ke9++fVSoUCHO7eXKlePPP/9MjJhEREREJAm4u0OVKif5++8HjBsH6dPD8eMQGgqFCsGcORAV5egoRUReLHYn3VevXuXBY34CjYiI4OrVq4kSlIiIiIgkHS8v+OADOHYMhg+H1Knh4EFo0gSKFoWFC8EwHB2liMiLwe6kO1u2bOzYsSPO7Tt27CBr1qyJEpSIiIiIJD0fH+jZ00y+hwyBFCngzz+hbl0oWRJWrFDyLSLytOxOuuvVq0e/fv24cOFCjG3nz5+nf//+1K9fP1GDExEREZGklyIFDBhgdjXv2xeSJYMdO8zlx8qVg99+c3SEIiLPL7uT7t69e5M8eXJy585Nx44dGTt2LGPHjqVDhw7kyZMHX19fevfunZSxioiIiEgS8veHoUPNK9/du4OnJ/z+O1SoAJUrw5Ytjo5QROT5Y3fSnTx5cjZu3EiLFi2YM2cO3bp1o1u3bsyZM4cWLVrw+++/kzx58qSMVURERESegXTpYNQoOHoUOnY0J2BbtQpKlTLX/t6929ERiog8P+xOugFSpkzJhAkTuHz5MhcuXOD8+fP8+++/TJgwgVSpUiVVjCIiIiLiABkzwtdfw6FD0Lq1ue73L7/Aa69Bw4bw99+OjlBExPklKOmOZrFYSJs2LenSpcNisSR2TCIiIiLiRLJlg+++g/37oVkzsFhg7lxzmbG33zaviIuISOyeKOkWERERkZdPnjwQFgZ798Jbb5kzm8+cCXnzQrt2cPq0oyMUEXE+SrpFREREJEEKFYL58/+b4TwyEiZPhly5oEsXOH/e0RGKiDgPJd0iIiIi8kSKFYNly2DDBihfHu7fh3HjIGdO6N0brlxxdIQiIo6XqEn32bNnE/NwIiIiIvIcKFsW1q6FlSuhZEm4fRu++AKyZ4fBgyE83NERiog4TqIk3efPn+eDDz4gd+7ciXE4EREREXnOWCwQHGyu5b1oERQubCbbgwaZyffw4XDrlqOjFBF59uxOuq9evUrTpk1JkyYNGTJkYNy4cURFRfHxxx+TI0cOtm/fztSpU5MyVhERERFxchbLf2t5z5ljTrJ25Qp89JHZ7Xz8eLh3z9FRiog8O3Yn3b1792bTpk2EhoaSOnVqunXrRs2aNdm1axdr1qxhy5YtNG7cOCljFREREZHnhIsLNGoE+/bBtGnmsmMXLkDnzpA7N0yZAhERjo5SRCTp2Z10L1u2jKlTpzJy5EgWL16MYRgULVqUX375hddffz0pYxQRERGR55SbG7RqBQcPwjffQIYM5tJibdtCgQLmEmSRkY6OUkQk6diddP/zzz/kz58fgGzZsuHl5UWLFi2SLDAREREReXF4eMB778GRI/Dll5A2rfn/Fi2gSBFzCTLDcHSUIiKJz+6k2zAM3NzcrPddXV3x9vZOkqBERERE5MXk7Q3dusGxYzB0KPj5wV9/Qf36ULy4uQSZkm8ReZG4xV/FZBgGlSpVsibed+7coVatWnh4eNjU27VrV+JGKCIiIiIvHF9f6NsXOnaEUaNgzBjYtQuqV4cyZeDTT6FCBUdHKSLy9OxOugcOHGhzv06dOokejIiIiIi8XPz84JNPzAnWvvgCvv4aNm6EihXNJcg+/RSCghwdpYjIk3vipFtEREREJLGkTQsjR5pdz4cONWc3X7XKvNWqZSbfhQs7OkoRkYSze0y3iIiIiEhSy5gRJkwwZzsPDTWXHlu82JxsrUkTs1xE5Hli95XuihUrYrFYHlvHYrGwevXqpw5KRERERF5u2bPD1Knw0Ufwf+3deVwV9f7H8ddhVxLNJRZzQcslU8hMwjIlUVQytX5ucdNcsm5pmmZaprhULpl2LculFDMpNY3MhTIDlyTcQM00TVG75fIzN3Blmd8f8+PkSXDlcA7wfj4ePOrMfM/M5/BhOvd9Z+Y70dGwcCEsWACLFpmPIBs50nz2t4iIs7vu0B0cHJzvuvT0dGJjY7l48WJB1CQiIiIiAkCdOmbYfv11GDHCPOs9Zw589pn5rO/hw81nf4uIOKvrDt1Tpky5YllWVhbTpk3jrbfeonLlyowdO7ZAixMRERERAfPy8qVL4aefzPD9/ffmZeizZ0O/fuYZ8YoVHV2liMiVbvqe7vnz51O7dm0mTJjAqFGj2LVrF127di3I2kREREREbDz4IKxaBQkJ0KQJXLhgTsAWGGhecn76tKMrFBGxdcOhOz4+nuDgYF544QWeeeYZ9u7dywsvvGB9freIiIiIiL01bw7r18Py5XDffZCRYT56LDAQxo+Hs2cdXaGIiOm6Q/fGjRsJCwujY8eOhIWFsW/fPkaMGIG3t7c96xMRERERyZPFAm3bwubN8OWXULcunDwJr70GNWrAf/5jngkXEXGk6z49/eCDD1KqVCmef/55AgMDiY2NzXPcSy+9VGDFiYiIiIhci4sLPPkkdOgAsbEwahTs3w8DB8K775r3gD/zDLi7O7ZOESmZrjt0V61aFYvFQlxcXL5jLBaLQreIiIiIOISrKzz9tPk87zlzYMwY+P136NsXJk40w3jXruY4EZHCct2h+8CBA3YsQ0RERESkYLi7m0G7e3eYPh3efht++w3+9S8YN86897tDB/PydBERe7vp2ctFRERERJyZl5d5ifn+/WbwLlcOdu6EJ56ABx6A+HgwDEdXKSLF3XWH7qSkJJYtW2az7NNPPyUwMJA77riDvn37cvHixQIvUERERETkVtx2mzm5WloavPEGeHvDli3Qpg00awZr1zq6QhEpzq47dI8ZM4adO3daX+/YsYPevXsTHh7OsGHD+Oabbxg3bpxdihQRERERuVXlypmXlqelwaBB4OkJ69aZwTsiAjZtcnSFIlIcXXfoTk1NpUWLFtbXX3zxBSEhIcyaNYtBgwYxdepUFi5caJciRUREREQKSqVK5qzm+/bB88+Dmxt89x00bgwdO8LPPzu6QhEpTq47dJ88eRJfX1/r6zVr1tCmTRvr6wceeIDff/+9YKsTEREREbGTypXho4/g11+hRw/z0WNxcdCgAURFmZOviYjcqusO3b6+vqSlpQFw6dIltm7dyoMPPmhdn56ejrsefigiIiIiRUyNGhATY57h7tTJnFwtNhbq1IFnn4VDhxxdoYgUZdcdutu2bcuwYcNYt24dr732GqVLl6Zp06bW9du3b6dmzZp2KVJERERExN7q1oWFC2HrVoiMhOxs+PhjuPtuGDAAjh51dIUiUhRdd+geO3Ysbm5uNGvWjFmzZjFr1iw8PDys62fPnk2rVq3sUqSIiIiISGG57z5Ytgx+/BHCwuDSJZg61TwjPmwYnDjh6ApFpChxu96BFStWZO3atZw+fZrbbrsNV1dXm/WLFi3itttuK/ACRUREREQcoUkT+OEHWL0ahg+H5GSYMMG8D3zwYPMZ4D4+jq5SRJzddZ/pzlW2bNkrAjdA+fLlbc58i4iIiIgUBy1aQFISLF1qTrJ25gxER5tnvidNgvPnHV2hiDizGw7dIiIiIiIljcUC7dpBSgp88QXUqgV//QVDhkDNmvDhh+Zl6CIi/6TQLSIiIiJynVxcoEsX2LkTZs+GatXg8GF48UUziM+ZA1lZjq5SRJyJQreIiIiIyA1yc4OePWHPHpg2Dfz94eBB6NUL7r0XFiyAnBxHVykizkChW0RERETkJnl4wAsvwG+/wTvvQIUK8Ouv0LUrNGwI33xjPvdbREouhW4RERERkVtUujS88grs3w+jR5uzmm/bBo8/DqGh5gzoIlIyKXSLiIiIiBQQHx8YOdIM30OHQqlS5qPGwsPh0UdhwwZHVygihU2hW0RERESkgFWoAOPHm+G7f3/zMvSEBHjoIYiMNGdBF5GSQaFbRERERMRO/Pxg6lTYuxd69wZXV1ixwrzfu2tXV37//TZHlygidqbQLSIiIiJiZ1Wrwscfw65d0K2b+dzvJUtcGDDgUXr1cmX/fkdXKCL2otAtIiIiIlJI7r4bYmPNSdbatcshJ8fCZ5+5ULs2PP88/PGHoysUkYLmFKF72rRpVK9eHS8vL0JCQti4ceNVxy9atIg6derg5eVF/fr1WbFihc16wzAYOXIk/v7+lCpVivDwcPbu3Wsz5sSJE0RFReHj40O5cuXo3bs3GRkZ1vWJiYm0b98ef39/vL29CQ4OZv78+fnW9MUXX2CxWOjQocON/wJEREREpESpXx8WL87mnXfW0LJlDllZMGMG1KwJgwbBsWOOrlBECorDQ/eCBQsYNGgQ0dHRbN26laCgICIiIjiWz39pNmzYQLdu3ejduzcpKSl06NCBDh068PPPP1vHTJw4kalTpzJ9+nSSk5Px9vYmIiKCCxcuWMdERUWxc+dOVq1axbJly1i7di19+/a12U+DBg1YvHgx27dvp2fPnnTv3p1ly5ZdUdOBAwd45ZVXaNq0aQH+ZkRERESkuLv77lMsX57NmjXw8MNw8SJMmQI1asAbb8CpU46uUERulZujC5g8eTLPPvssPXv2BGD69OksX76c2bNnM2zYsCvG/+c//6F169YMGTIEgLFjx7Jq1So++OADpk+fjmEYvPfee7zxxhu0b98egE8//RRfX1/i4uLo2rUru3btIj4+nk2bNtGoUSMA3n//fdq2bcukSZMICAjg9ddft9nvgAED+O6771iyZAmPPfaYdXl2djZRUVGMHj2adevWceoq/2W8ePEiFy9etL4+c+YMAJmZmWRmZt7Eb8++cmtyxtpKKvXEuagfzkc9cS7qh/NRT5zL5f3IfZb3d99ZiI52YetWF956C6ZNM3j55Rz698/hNs25Zlc6PpyPs/fkeuuyGIZh2LmWfF26dInSpUvz5Zdf2lyW3aNHD06dOsXXX399xXuqVq3KoEGDGDhwoHVZdHQ0cXFxbNu2jf3791OzZk1SUlIIDg62jmnWrBnBwcH85z//Yfbs2QwePJiTJ09a12dlZeHl5cWiRYvo2LFjnvU+/PDDPPjgg0yaNMlm39u3b+err77imWee4dSpU8TFxeX5/lGjRjF69OgrlsfGxlK6dOl8fksiIiIiUpIYBiQn+xMbW4dDh3wAKFv2Ik8+uYfWrQ/g4ZHj4ApFBODcuXM89dRTnD59Gh8fn3zHOfRM9/Hjx8nOzsbX19dmua+vL7t3787zPUeOHMlz/JEjR6zrc5ddbcwdd9xhs97NzY3y5ctbx/zTwoUL2bRpEzNmzLAuW79+PZ988gmpqanX+KSm1157jUGDBllfnzlzhipVqtCqVaurNslRMjMzWbVqFS1btsTd3d3R5QjqibNRP5yPeuJc1A/no544l6v1IzISoqNhwYIsxo51Zd8+T2bPrs+3397L66/n0KNHDh4eDiq8mNLx4XycvSe5Vy5fi8MvLy8KEhIS6NmzJ7NmzaJevXoApKen8/TTTzNr1iwqVqx4Xdvx9PTE09PziuXu7u5O+UeUy9nrK4nUE+eifjgf9cS5qB/ORz1xLvn1w90devSAp56CuXNhzBj4/XcLL77oyqRJrowaBVFR5rO/peDo+HA+ztqT663JoROpVaxYEVdXV44ePWqz/OjRo/j5+eX5Hj8/v6uOz/3ntcb8c6K2rKwsTpw4ccV+16xZQ7t27ZgyZQrdu3e3Lt+3bx8HDhygXbt2uLm54ebmxqeffsrSpUtxc3Nj37591/trEBERERHJl7s79OkDe/bAf/4Dvr6QlmYG8vr14csvIUdXnIs4LYeGbg8PD+6//35Wr15tXZaTk8Pq1asJDQ3N8z2hoaE24wFWrVplHR8YGIifn5/NmDNnzpCcnGwdExoayqlTp9iyZYt1zA8//EBOTg4hISHWZYmJiURGRjJhwgSbmc0B6tSpw44dO0hNTbX+PP7444SFhZGamkqVKlVu8rciIiIiInIlLy946SXYtw/Gj4fbb4ddu6BTJ2jUCJYvN+8HFxHn4vDLywcNGkSPHj1o1KgRjRs35r333uPs2bPW2cy7d+9O5cqVGTduHGDOIt6sWTPeffddIiMj+eKLL9i8eTMzZ84EwGKxMHDgQN58803uvvtuAgMDGTFiBAEBAdbJ2urWrUvr1q159tlnmT59OpmZmfTr14+uXbsSEBAAmJeUP/bYYwwYMIAnn3zSeq+3h4cH5cuXx8vLi3vvvdfms5QrVw7giuUiIiIiIgXF2xuGDoXnn4fJk82flBR47DFo0gTefBPCwhxdpYjkcvhzurt06cKkSZMYOXIkwcHBpKamEh8fb50I7dChQxw+fNg6vkmTJsTGxjJz5kyCgoL48ssviYuLswm6r776Kv3796dv37488MADZGRkEB8fj5eXl3XM/PnzqVOnDi1atKBt27Y8/PDD1uAOMHfuXM6dO8e4cePw9/e3/jzxxBOF8FsREREREbm6smVh9GjzUvNXXjHPhG/YAI8+CuHh8NNPjq5QRMAJznQD9OvXj379+uW5LjEx8YplnTp1olOnTvluz2KxMGbMGMaMGZPvmPLlyxMbG5vv+piYGGJiYvJdn997REREREQKU8WK8M47MGgQvPUWzJxpPvN79WpzFvQ334TLnqQrIoXM4We6RURERETk1vn7wwcfwN690KuXOav58uVw333QubN5/7eIFD6FbhERERGRYqRaNfjkE/jlF+jWDSwWWLQI7r3XnPF8/35HVyhSsih0i4iIiIgUQ7VqQWwsbNsGHTqYjxX79FOoXduchO2//3V0hSIlg0K3iIiIiEgxVr8+fPUVbNwIERGQlQUzZsBdd8HLL8OxY46uUKR4U+gWERERESkBHngA4uNhzRpo2hQuXoT33oMaNWD4cDh50tEVihRPCt0iIiIiIiXII4+Ywfvbb80gfvYsvP02BAaaM52npzu6QpHiRaFbRERERKSEsVigVStIToa4OPMS9NOnYcQI88z3u+/C+fOOrlKkeFDoFhEREREpoSwWaN8eUlPh88/h7rvh+HF45RWoWRM+/BAuXXJ0lSJFm0K3iIiIiEgJ5+ICXbuajxn75BOoWhUOH4YXXzRnQZ8zx5yATURunEK3iIiIiIgA4OYGvXrBnj3wwQfg5wcHD5rL7rnHPBuek+PoKkWKFoVuERERERGx4elpnuXetw8mTYKKFWHvXnjqKQgKMu8DNwxHVylSNCh0i4iIiIhInkqXhsGDYf9+c2bzsmXh55+hY0do3Nh8BJnCt8jVKXSLiIiIiMhVlSljPss7Lc38p7c3bN4Mbdr8/QgyEcmbQreIiIiIiFyX2283z3inpZlnwL28YP16aN4cWraEn35ydIUizkehW0REREREbkilSua93r/9Bi+8AO7u8P33EBoK7dqZjyATEZNCt4iIiIiI3JTKlWHaNHO28169zEePLVsG990HnTvDrl2OrlDE8RS6RURERETkllSvbj7fe9cu6NYNLBZYtAjuvRe6dzcnYhMpqRS6RURERESkQNSqBbGxsG0bdOhgPtN73jyoXRueew5+/93RFYoUPoVuEREREREpUPXrw1dfwaZN0Lo1ZGXBzJlw110wYAAcOeLoCkUKj0K3iIiIiIjYRaNGsHIlrFsHzZrBpUswdSrUqAFDh8Lx446uUMT+FLpFRERERMSuHn4YEhLMGc4ffBDOn4eJEyEwEEaOhFOnHF2hiP0odIuIiIiIiN1ZLNCiBWzY8PcM5xkZMHasGb7fftt8LVLcKHSLiIiIiEihsVggMhI2b4bFi+Gee8wz3cOHm+F78mTzTLhIcaHQLSIiIiIihc7FBZ54ArZvh/nzzUnWjh+HwYOhZk3z+d8XLzq6SpFbp9AtIiIiIiIO4+oKTz1lPuP7k0+galU4fBj69TMfQfbJJ5CZ6egqRW6eQreIiIiIiDicmxv06gV79phnuf394dAh6NMH6taFzz6D7GxHVyly4xS6RURERETEaXh6wgsvwL595v3dlSqZ//700+bzv7/8EnJyHF2lyPVT6BYREREREadTqhS8/DLs32/ObH777eYl6J06QcOG8M03YBiOrlLk2hS6RURERETEad12G7z2GqSlQXQ0lCkD27bB44+bz/z+7juFb3FuCt0iIiIiIuL0ypaFUaPM8D10qHkmfONGiIiAZs1gzRpHVyiSN4VuEREREREpMipUgPHjzcvOBwww7wFftw6aN4fwcEhKcnSFIrYUukVEREREpMjx84P33oPffoN//xvc3WH1amjSBCIjYcsWR1coYlLoFhERERGRIuvOO+HDD81HjfXqZT73e8UKaNQIOnaEHTscXaGUdArdIiIiIiJS5FWvDp98Ys5w/q9/gcUCcXEQFARdu8Lu3Y6uUEoqhW4RERERESk27r4b5s2Dn382Hy9mGLBgAdSrBz16mM/8FilMCt0iIiIiIlLs3HMPLFwIKSnm48VycuDTT6F2bXj2WTh0yNEVSkmh0C0iIiIiIsVWcDB8/bX5eLHWrSE7Gz7+2Dwj3q8f/PmnoyuU4k6hW0REREREir0HHoCVK2H9eggLg0uXYNo0qFkTBg+GY8ccXaEUVwrdIiIiIiJSYjz0EPzwg/nz0ENw4QJMngy1a7sxb15d/vrL0RVKcaPQLSIiIiIiJU5YGKxbZ579btQIzp61sHhxLWrVciM6Gk6dcnSFUlwodIuIiIiISIlksZj3eW/cCIsXZ1G9+mnS0y2MGQOBgfDmm5Ce7ugqpahT6BYRERERkRLNYoF27QwmT07k88+zuOce80z3iBFm+J44Ec6edXSVUlQpdIuIiIiIiAAuLvDkkwbbt0NsLNSqBX/9BUOHQo0aMGUKnD/v6CqlqFHoFhERERERuYyrK3TrBjt3QkyMGbiPHYNBg+Cuu8xZzy9edHSVUlQodIuIiIiIiOTBzQ169IDdu2HWLKha1Xyud79+5nO+Z86EzExHVynOTqFbRERERETkKtzdoU8f2LMHPvwQKleG33+H556D2rVhzhzIynJ0leKsFLpFRERERESug6cn/Pvf8Ntv8N574OsLaWnQqxfccw/Mnw/Z2Y6uUpyNQreIiIiIiMgN8PKCAQNg/3545x2oWBH27oV//Qvq14eFCyEnx9FVirNQ6BYREREREbkJpUvDK6+Y4futt+D222HXLujSBe67D+LiwDAcXaU4mkK3iIiIiIjILShTBl5/3bzUfNQo8PGB7duhY0do1AiWLVP4LskUukVERERERApA2bIQHQ0HDsDw4XDbbbB1K7RrByEhEB+v8F0SKXSLiIiIiIgUoNtvhzffNM98Dx1qXoa+aRO0aQMPPQTff6/wXZIodIuIiIiIiNhBxYowfrwZvgcPNidgS0qCli2heXNYs8bRFUphUOgWERERERGxozvugEmTzAnXBgwwHz22dq0ZvFu0gPXrHV2h2JNCt4iIiIiISCHw9zef771vH7z4Iri7ww8/QNOmEBEBP/3k6ArFHhS6RUREREREClHlyvDBB/Dbb/Dcc+DmBt99B6GhEBkJmzc7ukIpSArdIiIiIiIiDlC1KkyfDnv2QO/e4OoKK1bAAw9A+/aQkuLoCqUgKHSLiIiIiIg4UGAgfPwx7N4N3buDiwssXQoNG8KTT8KOHY6uUG6FQreIiIiIiIgTuOsumDsXfvkFnnoKLBZYsgQaNIAuXczlUvQodIuIiIiIiDiR2rVh/nz4+Wfo3NlctnAh3HuvGcZ373ZsfXJjFLpFRERERESc0D33wIIFsG0bPPEEGAZ8/jnUqwdPP23eCy7OT6FbRERERETEiTVoAIsXw9at8PjjkJMDn30GdetCjx7mLOjivJwidE+bNo3q1avj5eVFSEgIGzduvOr4RYsWUadOHby8vKhfvz4rVqywWW8YBiNHjsTf359SpUoRHh7O3r17bcacOHGCqKgofHx8KFeuHL179yYjI8O6PjExkfbt2+Pv74+3tzfBwcHMnz/fZhuzZs2iadOm3H777dx+++2Eh4dfs3YREREREZGbcd998PXX5iPFHnvMDN+ffgp16kCvXrB/v6MrlLw4PHQvWLCAQYMGER0dzdatWwkKCiIiIoJjx47lOX7Dhg1069aN3r17k5KSQocOHejQoQM///yzdczEiROZOnUq06dPJzk5GW9vbyIiIrhw4YJ1TFRUFDt37mTVqlUsW7aMtWvX0rdvX5v9NGjQgMWLF7N9+3Z69uxJ9+7dWbZsmXVMYmIi3bp1IyEhgaSkJKpUqUKrVq34448/7PCbEhERERERgfvvh2++geRkaNMGsrNhzhzzXvA+feDAAUdXKDYMB2vcuLHx4osvWl9nZ2cbAQEBxrhx4/Ic37lzZyMyMtJmWUhIiPHcc88ZhmEYOTk5hp+fn/HOO+9Y1586dcrw9PQ0Pv/8c8MwDOOXX34xAGPTpk3WMStXrjQsFovxxx9/5Ftr27ZtjZ49e+a7PisryyhTpowxd+7cq3ziv50+fdoAjNOnT1/X+MJ26dIlIy4uzrh06ZKjS5H/p544F/XD+agnzkX9cD7qiXNRP5xLUe5HUpJhREQYhnnXt2G4uRlG376GcfCgoyu7Nc7ek+vNc26ODPyXLl1iy5YtvPbaa9ZlLi4uhIeHk5SUlOd7kpKSGDRokM2yiIgI4uLiAEhLS+PIkSOEh4db15ctW5aQkBCSkpLo2rUrSUlJlCtXjkaNGlnHhIeH4+LiQnJyMh07dsxz36dPn6Zu3br5fp5z586RmZlJ+fLl81x/8eJFLl68aH195swZADIzM8nMzMx3u46SW5Mz1lZSqSfORf1wPuqJc1E/nI964lzUD+dSlPuRe+Y7KcnCmDEurF7twsyZMGeOQc+eOQwdmkOVKo6u8sY5e0+uty6Hhu7jx4+TnZ2Nr6+vzXJfX1925zMP/pEjR/Icf+TIEev63GVXG3PHHXfYrHdzc6N8+fLWMf+0cOFCNm3axIwZM/L9PEOHDiUgIMAm8F9u3LhxjB49+orl3333HaVLl853u462atUqR5cg/6CeOBf1w/moJ85F/XA+6olzUT+cS1HvR//+0KJFeT7/vA47dlRi5kxXZs+GVq0O8uSTe6lQ4cK1N+JknLUn586du65xDg3dRUVCQgI9e/Zk1qxZ1KtXL88x48eP54svviAxMREvL688x7z22ms2Z+nPnDljvQ/cx8fHLrXfiszMTFatWkXLli1xd3d3dDmCeuJs1A/no544F/XD+agnzkX9cC7FqR9t28Irr8DatVmMGePC2rWurFhRg9WrA+nTJ4chQ3IICHB0ldfm7D3JvXL5WhwauitWrIirqytHjx61WX706FH8/PzyfI+fn99Vx+f+8+jRo/j7+9uMCQ4Oto7550RtWVlZnDhx4or9rlmzhnbt2jFlyhS6d++eZ02TJk1i/PjxfP/99zRo0CDfz+vp6Ymnp+cVy93d3Z3yjyiXs9dXEqknzkX9cD7qiXNRP5yPeuJc1A/nUpz60aKF+ZOQACNHwvr1FqZNc+WTT1x5/nkYOhTyiV1OxVl7cr01OXT2cg8PD+6//35Wr15tXZaTk8Pq1asJDQ3N8z2hoaE248G83CB3fGBgIH5+fjZjzpw5Q3JysnVMaGgop06dYsuWLdYxP/zwAzk5OYSEhFiXJSYmEhkZyYQJE2xmNr/cxIkTGTt2LPHx8Tb3iIuIiIiIiDiDsDBYuxZWrYImTeDCBXjvPahRAwYPhn+c05QC5vBHhg0aNIhZs2Yxd+5cdu3axb///W/Onj1Lz549AejevbvNRGsDBgwgPj6ed999l927dzNq1Cg2b95Mv379ALBYLAwcOJA333yTpUuXsmPHDrp3705AQAAdOnQAoG7durRu3Zpnn32WjRs38uOPP9KvXz+6du1KwP9fZ5GQkEBkZCQvvfQSTz75JEeOHOHIkSOcOHHCWsuECRMYMWIEs2fPpnr16tYxlz/vW0RERERExNEsFggPh/XrIT4eQkLg/HmYPBkCA83L0fN5arPcIoeH7i5dujBp0iRGjhxJcHAwqampxMfHWydCO3ToEIcPH7aOb9KkCbGxscycOZOgoCC+/PJL4uLiuPfee61jXn31Vfr370/fvn154IEHyMjIID4+3uZe6/nz51OnTh1atGhB27Ztefjhh5k5c6Z1/dy5czl37hzjxo3D39/f+vPEE09Yx3z00UdcunSJ//mf/7EZM2nSJHv+ykRERERERG6KxQIREZCUBCtWQOPGZvh+910zfA8ZovBd0JxiIrV+/fpZz1T/U2Ji4hXLOnXqRKdOnfLdnsViYcyYMYwZMybfMeXLlyc2Njbf9TExMcTExOS7HuCAnjovIiIiIiJFkMUCbdpA69awciWMGgWbNsGkSfDhh/Dii2YAr1TJ0ZUWfQ4/0y0iIiIiIiKOYbGYs50nJ8Py5dCoEZw7B++8A9Wrm5Ot/e//OrrKok2hW0REREREpITLDd8bN8KyZX+H74kTzcvOhw2D48cdXWXRpNAtIiIiIiIigBm+IyPN8P3NN3D//XD2LEyYYJ75fu01he8bpdAtIiIiIiIiNiwWeOwx8z7vpUuhYUMzfI8fb575fv11+OsvR1dZNCh0i4iIiIiISJ4sFmjXDjZvhq+/hvvug4wMGDfOPPM9fLjC97UodIuIiIiIiMhVWSzw+OOwZQvExUFwsBm+337bPPP9xhtw4oSjq3ROCt0iIiIiIiJyXSwWaN8etm79O3ynp8Nbb5lnvhW+r6TQLSIiIiIiIjfk8vD91VcQFHRl+NZl5yaFbhEREREREbkpFgt06GCG7yVLrgzfuudboVtERERERERukYsLdOz495nvy+/5rl7dnO28pD5qTKFbRERERERECoSLy99nvi+fcG3cOHPCtZL4nG+FbhERERERESlQl9/zffmjxsaPN898l6TwrdAtIiIiIiIidnH5o8a+/hoaNoSzZ/8O38OGwf/+r6OrtC+FbhEREREREbGr3PC9eTMsXfp3+J4wwbzsfOjQ4hu+FbpFRERERESkUFgs0K6dGb6/+Qbuv98M3xMnmme+X30Vjh1zdJUFS6FbRERERERECpXFAo89Bps2wbJl0KgRnDsH77xjnvkuTuFboVtEREREREQcwmKByEjYuNEM3w888Hf4rlXLjZiYe8jIcHSVt0ahW0RERERERBwqN3wnJ8Py5bnh28KGDQF4ejq6ulvj5ugCRERERERERMAM323bQps2sGxZFj/9tAN39/sdXdYtUegWERERERERp2KxQOvWBjk5Rx1dyi3T5eUiIiIiIiIidqLQLSIiIiIiImInCt0iIiIiIiIidqLQLSIiIiIiImInCt0iIiIiIiIidqLQLSIiIiIiImInCt0iIiIiIiIidqLQLSIiIiIiImInCt0iIiIiIiIidqLQLSIiIiIiImInCt0iIiIiIiIidqLQLSIiIiIiImInCt0iIiIiIiIidqLQLSIiIiIiImInbo4uoCQzDAOAM2fOOLiSvGVmZnLu3DnOnDmDu7u7o8sR1BNno344H/XEuagfzkc9cS7qh3NRP5yPs/ckN8fl5rr8KHQ7UHp6OgBVqlRxcCUiIiIiIiJyM9LT0ylbtmy+6y3GtWK52E1OTg5//vknZcqUwWKxOLqcK5w5c4YqVarw+++/4+Pj4+hyBPXE2agfzkc9cS7qh/NRT5yL+uFc1A/n4+w9MQyD9PR0AgICcHHJ/85tnel2IBcXF+68805Hl3FNPj4+TvlHXpKpJ85F/XA+6olzUT+cj3riXNQP56J+OB9n7snVznDn0kRqIiIiIiIiInai0C0iIiIiIiJiJwrdki9PT0+io6Px9PR0dCny/9QT56J+OB/1xLmoH85HPXEu6odzUT+cT3HpiSZSExEREREREbETnekWERERERERsROFbhERERERERE7UegWERERERERsROFbhERERERERE7UeguobKzsxkxYgSBgYGUKlWKmjVrMnbsWK41r15iYiINGzbE09OTu+66i5iYmMIpuAS4mZ4kJiZisViu+Dly5EghVl58paenM3DgQKpVq0apUqVo0qQJmzZtuup7dIzY1432RMdIwVm7di3t2rUjICAAi8VCXFyczXrDMBg5ciT+/v6UKlWK8PBw9u7de83tTps2jerVq+Pl5UVISAgbN2600ycofuzRk1GjRl1xvNSpU8eOn6L4uFY/lixZQqtWrahQoQIWi4XU1NTr2u6iRYuoU6cOXl5e1K9fnxUrVhR88cWUPXoSExNzxTHi5eVlnw9QzFytH5mZmQwdOpT69evj7e1NQEAA3bt3588//7zmdovC94hCdwk1YcIEPvroIz744AN27drFhAkTmDhxIu+//36+70lLSyMyMpKwsDBSU1MZOHAgffr04dtvvy3Eyouvm+lJrl9//ZXDhw9bf+64445CqLj469OnD6tWrWLevHns2LGDVq1aER4ezh9//JHneB0j9nejPcmlY+TWnT17lqCgIKZNm5bn+okTJzJ16lSmT59OcnIy3t7eREREcOHChXy3uWDBAgYNGkR0dDRbt24lKCiIiIgIjh07Zq+PUazYoycA9erVszle1q9fb4/yi51r9ePs2bM8/PDDTJgw4bq3uWHDBrp160bv3r1JSUmhQ4cOdOjQgZ9//rmgyi7W7NETAB8fH5tj5ODBgwVRbrF3tX6cO3eOrVu3MmLECLZu3cqSJUv49ddfefzxx6+6zSLzPWJIiRQZGWn06tXLZtkTTzxhREVF5fueV1991ahXr57Nsi5duhgRERF2qbGkuZmeJCQkGIBx8uRJO1dX8pw7d85wdXU1li1bZrO8YcOGxvDhw/N8j44R+7qZnugYsQ/A+Oqrr6yvc3JyDD8/P+Odd96xLjt16pTh6elpfP755/lup3HjxsaLL75ofZ2dnW0EBAQY48aNs0vdxVlB9SQ6OtoICgqyY6Ulwz/7cbm0tDQDMFJSUq65nc6dOxuRkZE2y0JCQoznnnuuAKosWQqqJ3PmzDHKli1boLWVRFfrR66NGzcagHHw4MF8xxSV7xGd6S6hmjRpwurVq9mzZw8A27ZtY/369bRp0ybf9yQlJREeHm6zLCIigqSkJLvWWlLcTE9yBQcH4+/vT8uWLfnxxx/tXWqJkJWVRXZ29hWXjJUqVSrfsz46RuzrZnqSS8eIfaWlpXHkyBGbv/+yZcsSEhKS79//pUuX2LJli817XFxcCA8P1zFTAG6mJ7n27t1LQEAANWrUICoqikOHDtm7XMmHvlecU0ZGBtWqVaNKlSq0b9+enTt3OrqkYun06dNYLBbKlSuX5/qi9D2i0F1CDRs2jK5du1KnTh3c3d257777GDhwIFFRUfm+58iRI/j6+tos8/X15cyZM5w/f97eJRd7N9MTf39/pk+fzuLFi1m8eDFVqlShefPmbN26tRArL57KlClDaGgoY8eO5c8//yQ7O5vPPvuMpKQkDh8+nOd7dIzY1830RMdI4ci9Rz6vv//87p8/fvw42dnZN/QeuX430xOAkJAQYmJiiI+P56OPPiItLY2mTZuSnp5u13olb/l9r+gYcZzatWsze/Zsvv76az777DNycnJo0qQJ//3vfx1dWrFy4cIFhg4dSrdu3fDx8clzTFH6HnFzdAHiGAsXLmT+/PnExsZSr1496/2nAQEB9OjRw9HllUg305PatWtTu3Zt6+smTZqwb98+pkyZwrx58wqr9GJr3rx59OrVi8qVK+Pq6krDhg3p1q0bW7ZscXRpJdaN9kTHiMiNufzqqgYNGhASEkK1atVYuHAhvXv3dmBlIs4hNDSU0NBQ6+smTZpQt25dZsyYwdixYx1YWfGRmZlJ586dMQyDjz76yNHlFAid6S6hhgwZYj2zWr9+fZ5++mlefvllxo0bl+97/Pz8OHr0qM2yo0eP4uPjQ6lSpexdcrF3Mz3JS+PGjfntt9/sVGXJUrNmTdasWUNGRga///47GzduJDMzkxo1auQ5XseI/d1oT/KiY6Tg+fn5AeT595+77p8qVqyIq6vrDb1Hrt/N9CQv5cqVo1atWjpmHCS/7xUdI84j9+pEHSMFIzdwHzx4kFWrVuV7lhuK1veIQncJde7cOVxcbNvv6upKTk5Ovu8JDQ1l9erVNstWrVpl8//2yc27mZ7kJTU1FX9//4IsrcTz9vbG39+fkydP8u2339K+ffs8x+kYKTzX25O86BgpeIGBgfj5+dn8/Z85c4bk5OR8//49PDy4//77bd6Tk5PD6tWrdcwUgJvpSV4yMjLYt2+fjhkH0feK88vOzmbHjh06RgpAbuDeu3cv33//PRUqVLjq+CL1PeLomdzEMXr06GFUrlzZWLZsmZGWlmYsWbLEqFixovHqq69axwwbNsx4+umnra/3799vlC5d2hgyZIixa9cuY9q0aYarq6sRHx/viI9Q7NxMT6ZMmWLExcUZe/fuNXbs2GEMGDDAcHFxMb7//ntHfIRiJz4+3li5cqWxf/9+47vvvjOCgoKMkJAQ49KlS4Zh6BhxhBvtiY6RgpOenm6kpKQYKSkpBmBMnjzZSElJsc4qO378eKNcuXLG119/bWzfvt1o3769ERgYaJw/f966jUcffdR4//33ra+/+OILw9PT04iJiTF++eUXo2/fvka5cuWMI0eOFPrnK4rs0ZPBgwcbiYmJRlpamvHjjz8a4eHhRsWKFY1jx44V+ucraq7Vj7/++stISUkxli9fbgDGF198YaSkpBiHDx+2buPpp582hg0bZn39448/Gm5ubsakSZOMXbt2GdHR0Ya7u7uxY8eOQv98RZE9ejJ69Gjj22+/Nfbt22ds2bLF6Nq1q+Hl5WXs3Lmz0D9fUXO1fly6dMl4/PHHjTvvvNNITU01Dh8+bP25ePGidRtF9XtEobuEOnPmjDFgwACjatWqhpeXl1GjRg1j+PDhNn/UPXr0MJo1a2bzvoSEBCM4ONjw8PAwatSoYcyZM6dwCy/GbqYnEyZMMGrWrGl4eXkZ5cuXN5o3b2788MMPDqi+eFqwYIFRo0YNw8PDw/Dz8zNefPFF49SpU9b1OkYK3432RMdIwcl9/No/f3r06GEYhvmIqhEjRhi+vr6Gp6en0aJFC+PXX3+12Ua1atWM6Ohom2Xvv/++UbVqVcPDw8No3Lix8dNPPxXSJyr67NGTLl26GP7+/oaHh4dRuXJlo0uXLsZvv/1WiJ+q6LpWP+bMmZPn+st//82aNbOOz7Vw4UKjVq1ahoeHh1GvXj1j+fLlhfehijh79GTgwIHW/2b5+voabdu2NbZu3Vq4H6yIulo/ch/bltdPQkKCdRtF9XvEYhiGUfDnz0VERERERERE93SLiIiIiIiI2IlCt4iIiIiIiIidKHSLiIiIiIiI2IlCt4iIiIiIiIidKHSLiIiIiIiI2IlCt4iIiIiIiIidKHSLiIiIiIiI2IlCt4iIiIiIiIidKHSLiIgIAKNGjSI4ONjRZVhZLBbi4uJu+H2//vorfn5+pKenF3xRlzl+/Dh33HEH//3vf+26HxERKdoUukVERArR9OnTKVOmDFlZWdZlGRkZuLu707x5c5uxiYmJWCwW9u3bV8hVFq6CDvuvvfYa/fv3p0yZMgW2zbxUrFiR7t27Ex0dbdf9iIhI0abQLSIiUojCwsLIyMhg8+bN1mXr1q3Dz8+P5ORkLly4YF2ekJBA1apVqVmzpiNKLZIOHTrEsmXLeOaZZwplfz179mT+/PmcOHGiUPYnIiJFj0K3iIhIIapduzb+/v4kJiZalyUmJtK+fXsCAwP56aefbJaHhYUBMG/ePBo1akSZMmXw8/Pjqaee4tixYwDk5ORw55138tFHH9nsKyUlBRcXFw4ePAjAqVOn6NOnD5UqVcLHx4dHH32Ubdu2XbXejz/+mLp16+Ll5UWdOnX48MMPresOHDiAxWJhyZIlhIWFUbp0aYKCgkhKSrLZxqxZs6hSpQqlS5emY8eOTJ48mXLlygEQExPD6NGj2bZtGxaLBYvFQkxMjPW9x48fp2PHjpQuXZq7776bpUuXXrXehQsXEhQUROXKla3L8jqT/t5771G9enXr62eeeYYOHTrw9ttv4+vrS7ly5RgzZgxZWVkMGTKE8uXLc+eddzJnzhyb7dSrV4+AgAC++uqrq9YlIiIll0K3iIhIIQsLCyMhIcH6OiEhgebNm9OsWTPr8vPnz5OcnGwN3ZmZmYwdO5Zt27YRFxfHgQMHrGdzXVxc6NatG7GxsTb7mT9/Pg899BDVqlUDoFOnThw7doyVK1eyZcsWGjZsSIsWLfI9Szt//nxGjhzJW2+9xa5du3j77bcZMWIEc+fOtRk3fPhwXnnlFVJTU6lVqxbdunWzXj7/448/8vzzzzNgwABSU1Np2bIlb731lvW9Xbp0YfDgwdSrV4/Dhw9z+PBhunTpYl0/evRoOnfuzPbt22nbti1RUVFXPau8bt06GjVqdNXff35++OEH/vzzT9auXcvkyZOJjo7mscce4/bbbyc5OZnnn3+e55577op7uBs3bsy6detuap8iIlICGCIiIlKoZs2aZXh7exuZmZnGmTNnDDc3N+PYsWNGbGys8cgjjxiGYRirV682AOPgwYN5bmPTpk0GYKSnpxuGYRgpKSmGxWKxjs/OzjYqV65sfPTRR4ZhGMa6desMHx8f48KFCzbbqVmzpjFjxgzDMAwjOjraCAoKslkXGxtrM37s2LFGaGioYRiGkZaWZgDGxx9/bF2/c+dOAzB27dplGIZhdOnSxYiMjLTZRlRUlFG2bFnr63/uNxdgvPHGG9bXGRkZBmCsXLkyz9+JYRhGUFCQMWbMGJtleW1/ypQpRrVq1ayve/ToYVSrVs3Izs62Lqtdu7bRtGlT6+usrCzD29vb+Pzzz2229fLLLxvNmzfPtyYRESnZdKZbRESkkDVv3pyzZ8+yadMm1q1bR61atahUqRLNmjWz3tedmJhIjRo1qFq1KgBbtmyhXbt2VK1alTJlytCsWTPAvIcZIDg4mLp161rPdq9Zs4Zjx47RqVMnALZt20ZGRgYVKlTgtttus/6kpaXlOVHb2bNn2bdvH71797YZ/+abb14xvkGDBtZ/9/f3B7Be+v7rr7/SuHFjm/H/fH01l2/b29sbHx8f67bzcv78eby8vK57+5erV68eLi5//08jX19f6tevb33t6upKhQoVrth/qVKlOHfu3E3tU0REij83RxcgIiJS0tx1113ceeedJCQkcPLkSWuADggIoEqVKmzYsIGEhAQeffRRwAzAERERREREMH/+fCpVqsShQ4eIiIjg0qVL1u1GRUURGxvLsGHDiI2NpXXr1lSoUAEwZ0j/573kuXLvr75cRkYGYN6PHRISYrPO1dXV5rW7u7v13y0WC2DeZ14QLt927vavtu2KFSty8uTJa243Ozv7uvZ1Pfs/ceIElSpVuuY+RUSkZFLoFhERcYCwsDASExM5efIkQ4YMsS5/5JFHWLlyJRs3buTf//43ALt37+avv/5i/PjxVKlSBcBm9vNcTz31FG+88QZbtmzhyy+/ZPr06dZ1DRs25MiRI7i5udlMIJYfX19fAgIC2L9/P1FRUTf9OWvXrs2mTZtslv3ztYeHR54h+Gbcd999/PLLL1csP3r0qM3r/fv3F8j+AH7++ecrHvcmIiKSS5eXi4iIOEBYWBjr168nNTXVeqYboFmzZsyYMYNLly5ZJ1GrWrUqHh4evP/+++zfv5+lS5cyduzYK7ZZvXp1mjRpQu/evcnOzubxxx+3rgsPDyc0NJQOHTrw3XffceDAATZs2MDw4cPzDPBgTmI2btw4pk6dyp49e9ixYwdz5sxh8uTJ1/05+/fvz4oVK5g8eTJ79+5lxowZrFy50npGPLfutLQ0UlNTOX78OBcvXrzu7f9TREQESUlJV4T4I0eOMGbMGPbv38/ixYuZN28eJ0+eZPfu3Te9L4Bz586xZcsWWrVqdUvbERGR4kuhW0RExAHCwsI4f/48d911F76+vtblzZo1Iz093fpoMYBKlSoRExPDokWLuOeeexg/fjyTJk3Kc7tRUVFs27aNjh07UqpUKetyi8XCihUreOSRR+jZsye1atWia9euHDx40Gb/l+vTpw8ff/wxc+bMoX79+jRr1oyYmBgCAwOv+3M+9NBDTJ8+ncmTJxMUFER8fDwvv/yyzX3XTz75JK1btyYsLIxKlSrx+eefX/f2/6lNmza4ubnx/fff2yy/99572bNnD/Xq1WPEiBF8/PHHeHh48Morr9z0vgC+/vprqlatStOmTW9pOyIiUnxZDMMwHF2EiIiIlBzPPvssu3fvtttjtqZNm8bSpUv59ttvAfM53XFxcaSmphb4vh588EFeeuklnnrqqQLftoiIFA+6p1tERETsatKkSbRs2RJvb29WrlzJ3Llz+fDDD+22v+eee45Tp06Rnp5OmTJl7Laf48eP88QTT9CtWze77UNERIo+nekWERERu+rcuTOJiYmkp6dTo0YN+vfvz/PPP19o+7fnmW4REZFrUegWERERERERsRNNpCYiIiIiIiJiJwrdIiIiIiIiInai0C0iIiIiIiJiJwrdIiIiIiIiInai0C0iIiIiIiJiJwrdIiIiIiIiInai0C0iIiIiIiJiJwrdIiIiIiIiInbyfyqG7qqNWQU0AAAAAElFTkSuQmCC\n"
                },
                "metadata": {}
              },
              {
                "output_type": "stream",
                "name": "stdout",
                "text": [
                  "Total SNR' at Tg = 313.15 K, Tf = 433.15 K, θ = 90.0°, R = 193 km, τₐ = 0.85: 0.01\n"
                ]
              }
            ]
          }
        },
        "7685ecad64b74e709e1016c827db7e01": {
          "model_module": "@jupyter-widgets/base",
          "model_name": "LayoutModel",
          "model_module_version": "1.2.0",
          "state": {
            "_model_module": "@jupyter-widgets/base",
            "_model_module_version": "1.2.0",
            "_model_name": "LayoutModel",
            "_view_count": null,
            "_view_module": "@jupyter-widgets/base",
            "_view_module_version": "1.2.0",
            "_view_name": "LayoutView",
            "align_content": null,
            "align_items": null,
            "align_self": null,
            "border": null,
            "bottom": null,
            "display": null,
            "flex": null,
            "flex_flow": null,
            "grid_area": null,
            "grid_auto_columns": null,
            "grid_auto_flow": null,
            "grid_auto_rows": null,
            "grid_column": null,
            "grid_gap": null,
            "grid_row": null,
            "grid_template_areas": null,
            "grid_template_columns": null,
            "grid_template_rows": null,
            "height": null,
            "justify_content": null,
            "justify_items": null,
            "left": null,
            "margin": null,
            "max_height": null,
            "max_width": null,
            "min_height": null,
            "min_width": null,
            "object_fit": null,
            "object_position": null,
            "order": null,
            "overflow": null,
            "overflow_x": null,
            "overflow_y": null,
            "padding": null,
            "right": null,
            "top": null,
            "visibility": null,
            "width": null
          }
        },
        "6c7611b1928242e29b396bdcfd844beb": {
          "model_module": "@jupyter-widgets/base",
          "model_name": "LayoutModel",
          "model_module_version": "1.2.0",
          "state": {
            "_model_module": "@jupyter-widgets/base",
            "_model_module_version": "1.2.0",
            "_model_name": "LayoutModel",
            "_view_count": null,
            "_view_module": "@jupyter-widgets/base",
            "_view_module_version": "1.2.0",
            "_view_name": "LayoutView",
            "align_content": null,
            "align_items": null,
            "align_self": null,
            "border": null,
            "bottom": null,
            "display": null,
            "flex": null,
            "flex_flow": null,
            "grid_area": null,
            "grid_auto_columns": null,
            "grid_auto_flow": null,
            "grid_auto_rows": null,
            "grid_column": null,
            "grid_gap": null,
            "grid_row": null,
            "grid_template_areas": null,
            "grid_template_columns": null,
            "grid_template_rows": null,
            "height": null,
            "justify_content": null,
            "justify_items": null,
            "left": null,
            "margin": null,
            "max_height": null,
            "max_width": null,
            "min_height": null,
            "min_width": null,
            "object_fit": null,
            "object_position": null,
            "order": null,
            "overflow": null,
            "overflow_x": null,
            "overflow_y": null,
            "padding": null,
            "right": null,
            "top": null,
            "visibility": null,
            "width": null
          }
        },
        "a6aa780d788a490b831f913a334c39c6": {
          "model_module": "@jupyter-widgets/controls",
          "model_name": "SliderStyleModel",
          "model_module_version": "1.5.0",
          "state": {
            "_model_module": "@jupyter-widgets/controls",
            "_model_module_version": "1.5.0",
            "_model_name": "SliderStyleModel",
            "_view_count": null,
            "_view_module": "@jupyter-widgets/base",
            "_view_module_version": "1.2.0",
            "_view_name": "StyleView",
            "description_width": "",
            "handle_color": null
          }
        },
        "bcc9e8481f6749179790099d1064d0bd": {
          "model_module": "@jupyter-widgets/base",
          "model_name": "LayoutModel",
          "model_module_version": "1.2.0",
          "state": {
            "_model_module": "@jupyter-widgets/base",
            "_model_module_version": "1.2.0",
            "_model_name": "LayoutModel",
            "_view_count": null,
            "_view_module": "@jupyter-widgets/base",
            "_view_module_version": "1.2.0",
            "_view_name": "LayoutView",
            "align_content": null,
            "align_items": null,
            "align_self": null,
            "border": null,
            "bottom": null,
            "display": null,
            "flex": null,
            "flex_flow": null,
            "grid_area": null,
            "grid_auto_columns": null,
            "grid_auto_flow": null,
            "grid_auto_rows": null,
            "grid_column": null,
            "grid_gap": null,
            "grid_row": null,
            "grid_template_areas": null,
            "grid_template_columns": null,
            "grid_template_rows": null,
            "height": null,
            "justify_content": null,
            "justify_items": null,
            "left": null,
            "margin": null,
            "max_height": null,
            "max_width": null,
            "min_height": null,
            "min_width": null,
            "object_fit": null,
            "object_position": null,
            "order": null,
            "overflow": null,
            "overflow_x": null,
            "overflow_y": null,
            "padding": null,
            "right": null,
            "top": null,
            "visibility": null,
            "width": null
          }
        },
        "3ef3872ab8964026a284d7d6e2f29333": {
          "model_module": "@jupyter-widgets/controls",
          "model_name": "SliderStyleModel",
          "model_module_version": "1.5.0",
          "state": {
            "_model_module": "@jupyter-widgets/controls",
            "_model_module_version": "1.5.0",
            "_model_name": "SliderStyleModel",
            "_view_count": null,
            "_view_module": "@jupyter-widgets/base",
            "_view_module_version": "1.2.0",
            "_view_name": "StyleView",
            "description_width": "",
            "handle_color": null
          }
        },
        "f81d184568974a6b84f22339ce2bddeb": {
          "model_module": "@jupyter-widgets/base",
          "model_name": "LayoutModel",
          "model_module_version": "1.2.0",
          "state": {
            "_model_module": "@jupyter-widgets/base",
            "_model_module_version": "1.2.0",
            "_model_name": "LayoutModel",
            "_view_count": null,
            "_view_module": "@jupyter-widgets/base",
            "_view_module_version": "1.2.0",
            "_view_name": "LayoutView",
            "align_content": null,
            "align_items": null,
            "align_self": null,
            "border": null,
            "bottom": null,
            "display": null,
            "flex": null,
            "flex_flow": null,
            "grid_area": null,
            "grid_auto_columns": null,
            "grid_auto_flow": null,
            "grid_auto_rows": null,
            "grid_column": null,
            "grid_gap": null,
            "grid_row": null,
            "grid_template_areas": null,
            "grid_template_columns": null,
            "grid_template_rows": null,
            "height": null,
            "justify_content": null,
            "justify_items": null,
            "left": null,
            "margin": null,
            "max_height": null,
            "max_width": null,
            "min_height": null,
            "min_width": null,
            "object_fit": null,
            "object_position": null,
            "order": null,
            "overflow": null,
            "overflow_x": null,
            "overflow_y": null,
            "padding": null,
            "right": null,
            "top": null,
            "visibility": null,
            "width": null
          }
        },
        "1e7e0d3db6fc43aca9991cc53fd7a59e": {
          "model_module": "@jupyter-widgets/controls",
          "model_name": "SliderStyleModel",
          "model_module_version": "1.5.0",
          "state": {
            "_model_module": "@jupyter-widgets/controls",
            "_model_module_version": "1.5.0",
            "_model_name": "SliderStyleModel",
            "_view_count": null,
            "_view_module": "@jupyter-widgets/base",
            "_view_module_version": "1.2.0",
            "_view_name": "StyleView",
            "description_width": "",
            "handle_color": null
          }
        },
        "a038faf65694416ea47a8fa0c5b46252": {
          "model_module": "@jupyter-widgets/base",
          "model_name": "LayoutModel",
          "model_module_version": "1.2.0",
          "state": {
            "_model_module": "@jupyter-widgets/base",
            "_model_module_version": "1.2.0",
            "_model_name": "LayoutModel",
            "_view_count": null,
            "_view_module": "@jupyter-widgets/base",
            "_view_module_version": "1.2.0",
            "_view_name": "LayoutView",
            "align_content": null,
            "align_items": null,
            "align_self": null,
            "border": null,
            "bottom": null,
            "display": null,
            "flex": null,
            "flex_flow": null,
            "grid_area": null,
            "grid_auto_columns": null,
            "grid_auto_flow": null,
            "grid_auto_rows": null,
            "grid_column": null,
            "grid_gap": null,
            "grid_row": null,
            "grid_template_areas": null,
            "grid_template_columns": null,
            "grid_template_rows": null,
            "height": null,
            "justify_content": null,
            "justify_items": null,
            "left": null,
            "margin": null,
            "max_height": null,
            "max_width": null,
            "min_height": null,
            "min_width": null,
            "object_fit": null,
            "object_position": null,
            "order": null,
            "overflow": null,
            "overflow_x": null,
            "overflow_y": null,
            "padding": null,
            "right": null,
            "top": null,
            "visibility": null,
            "width": null
          }
        },
        "5c3ca71aed4b43bfa608dab7cc0958b0": {
          "model_module": "@jupyter-widgets/controls",
          "model_name": "SliderStyleModel",
          "model_module_version": "1.5.0",
          "state": {
            "_model_module": "@jupyter-widgets/controls",
            "_model_module_version": "1.5.0",
            "_model_name": "SliderStyleModel",
            "_view_count": null,
            "_view_module": "@jupyter-widgets/base",
            "_view_module_version": "1.2.0",
            "_view_name": "StyleView",
            "description_width": "",
            "handle_color": null
          }
        },
        "bd7529693b1241a1bf0b68fd6907fc3b": {
          "model_module": "@jupyter-widgets/base",
          "model_name": "LayoutModel",
          "model_module_version": "1.2.0",
          "state": {
            "_model_module": "@jupyter-widgets/base",
            "_model_module_version": "1.2.0",
            "_model_name": "LayoutModel",
            "_view_count": null,
            "_view_module": "@jupyter-widgets/base",
            "_view_module_version": "1.2.0",
            "_view_name": "LayoutView",
            "align_content": null,
            "align_items": null,
            "align_self": null,
            "border": null,
            "bottom": null,
            "display": null,
            "flex": null,
            "flex_flow": null,
            "grid_area": null,
            "grid_auto_columns": null,
            "grid_auto_flow": null,
            "grid_auto_rows": null,
            "grid_column": null,
            "grid_gap": null,
            "grid_row": null,
            "grid_template_areas": null,
            "grid_template_columns": null,
            "grid_template_rows": null,
            "height": null,
            "justify_content": null,
            "justify_items": null,
            "left": null,
            "margin": null,
            "max_height": null,
            "max_width": null,
            "min_height": null,
            "min_width": null,
            "object_fit": null,
            "object_position": null,
            "order": null,
            "overflow": null,
            "overflow_x": null,
            "overflow_y": null,
            "padding": null,
            "right": null,
            "top": null,
            "visibility": null,
            "width": null
          }
        },
        "f016b905871d42018e607efffe66910e": {
          "model_module": "@jupyter-widgets/controls",
          "model_name": "SliderStyleModel",
          "model_module_version": "1.5.0",
          "state": {
            "_model_module": "@jupyter-widgets/controls",
            "_model_module_version": "1.5.0",
            "_model_name": "SliderStyleModel",
            "_view_count": null,
            "_view_module": "@jupyter-widgets/base",
            "_view_module_version": "1.2.0",
            "_view_name": "StyleView",
            "description_width": "",
            "handle_color": null
          }
        },
        "774ed43ec241469a861780e94ab3a00e": {
          "model_module": "@jupyter-widgets/base",
          "model_name": "LayoutModel",
          "model_module_version": "1.2.0",
          "state": {
            "_model_module": "@jupyter-widgets/base",
            "_model_module_version": "1.2.0",
            "_model_name": "LayoutModel",
            "_view_count": null,
            "_view_module": "@jupyter-widgets/base",
            "_view_module_version": "1.2.0",
            "_view_name": "LayoutView",
            "align_content": null,
            "align_items": null,
            "align_self": null,
            "border": null,
            "bottom": null,
            "display": null,
            "flex": null,
            "flex_flow": null,
            "grid_area": null,
            "grid_auto_columns": null,
            "grid_auto_flow": null,
            "grid_auto_rows": null,
            "grid_column": null,
            "grid_gap": null,
            "grid_row": null,
            "grid_template_areas": null,
            "grid_template_columns": null,
            "grid_template_rows": null,
            "height": null,
            "justify_content": null,
            "justify_items": null,
            "left": null,
            "margin": null,
            "max_height": null,
            "max_width": null,
            "min_height": null,
            "min_width": null,
            "object_fit": null,
            "object_position": null,
            "order": null,
            "overflow": null,
            "overflow_x": null,
            "overflow_y": null,
            "padding": null,
            "right": null,
            "top": null,
            "visibility": null,
            "width": null
          }
        }
      }
    }
  },
  "cells": [
    {
      "cell_type": "markdown",
      "metadata": {
        "id": "view-in-github",
        "colab_type": "text"
      },
      "source": [
        "<a href=\"https://colab.research.google.com/github/FaridRash/IGNIS/blob/main/Notebooks/SNR_weighted_normalized_calculator_MODTRAN.ipynb\" target=\"_parent\"><img src=\"https://colab.research.google.com/assets/colab-badge.svg\" alt=\"Open In Colab\"/></a>"
      ]
    },
    {
      "cell_type": "code",
      "source": [
        "\"\"\"https://wp.optics.arizona.edu/alumni/wp-content/uploads/sites/113/2024/06/Jacob_Wilson_Master_s_Report_2024.pdf\n",
        "maybe when you do the calculation cite that the value is taken from this source\"\"\""
      ],
      "metadata": {
        "id": "knUCk8Ill8Mq",
        "colab": {
          "base_uri": "https://localhost:8080/",
          "height": 52
        },
        "outputId": "6b3b706b-b979-4860-95e7-62e9b9496752"
      },
      "execution_count": 11,
      "outputs": [
        {
          "output_type": "execute_result",
          "data": {
            "text/plain": [
              "'https://wp.optics.arizona.edu/alumni/wp-content/uploads/sites/113/2024/06/Jacob_Wilson_Master_s_Report_2024.pdf\\nmaybe when you do the calculation cite that the value is taken from\\xa0this\\xa0source'"
            ],
            "application/vnd.google.colaboratory.intrinsic+json": {
              "type": "string"
            }
          },
          "metadata": {},
          "execution_count": 11
        }
      ]
    },
    {
      "cell_type": "code",
      "source": [
        "\"\"\"For the campi flegrei target we are considering a 200 km^2 square area (approximately 14x14km).\n",
        "But the specific spots we want to investigate are the fumarole (whose vents can reach 10 metres and 165degree)\n",
        "Consider those would be much smaller than our gsd, so if you consider the signal from that area it would be a\n",
        "weighted sum of the signal from the fumarola (~10m, 150-160 °C) and from the sourrunding ground (GSD-10m, Ground Temperature)\n",
        "\n",
        "But this thing of the weighted sum can be implemented later,\n",
        "for now let’s see what happens with the whole campi flegrei as target,\n",
        "then let’s consider the hotspot, then let’s consider the weighted sum (if necessary)\"\"\""
      ],
      "metadata": {
        "colab": {
          "base_uri": "https://localhost:8080/",
          "height": 87
        },
        "id": "oGqA-AeqUU5L",
        "outputId": "57fcf48a-5706-4286-9465-5c0dfcf2583d"
      },
      "execution_count": 12,
      "outputs": [
        {
          "output_type": "execute_result",
          "data": {
            "text/plain": [
              "'For the campi flegrei target we are considering a 200 km^2 square area (approximately 14x14km).\\nBut the specific spots we want to investigate are the fumarole (whose vents can reach 10 metres and 165degree)\\nConsider those would be much smaller than our gsd, so if you consider the signal from that area it would be a\\nweighted sum of the signal from the fumarola (~10m, 150-160 °C) and from the sourrunding ground (GSD-10m, Ground\\xa0Temperature)\\n\\nBut this thing of the weighted sum can be implemented later,\\nfor now let’s see what happens with the whole campi flegrei as target,\\nthen let’s consider the hotspot, then let’s consider the weighted sum\\xa0(if\\xa0necessary)'"
            ],
            "application/vnd.google.colaboratory.intrinsic+json": {
              "type": "string"
            }
          },
          "metadata": {},
          "execution_count": 12
        }
      ]
    },
    {
      "cell_type": "code",
      "source": [
        "import numpy as np\n",
        "import matplotlib.pyplot as plt\n",
        "from ipywidgets import interact, FloatSlider"
      ],
      "metadata": {
        "id": "0iwD4CObnvix"
      },
      "execution_count": 13,
      "outputs": []
    },
    {
      "cell_type": "code",
      "source": [
        "c1 = 3.7418e8\n",
        "c2 = 1.4388e4\n",
        "h = 6.626e-34\n",
        "c = 3e8"
      ],
      "metadata": {
        "id": "4Ysz21QvnxB5"
      },
      "execution_count": 14,
      "outputs": []
    },
    {
      "cell_type": "code",
      "source": [
        "def compute_gsd(H, f, p):\n",
        "  return (H * p / f) **2"
      ],
      "metadata": {
        "id": "IbfEfq-cpN5B"
      },
      "execution_count": 15,
      "outputs": []
    },
    {
      "cell_type": "code",
      "source": [
        "Tf = 433.15"
      ],
      "metadata": {
        "id": "4H3PsURXO0hI"
      },
      "execution_count": 16,
      "outputs": []
    },
    {
      "cell_type": "code",
      "source": [
        "def compute_wighted_snr(Tg,Tf, theta_deg, R, tau_a):\n",
        "  # The area of the target and background\n",
        "    Af = 10*10\n",
        "    Agsd = compute_gsd(R, focal_length, pixel)\n",
        "    Ag = Agsd - Af\n",
        "\n",
        "    #Blackbody calculation\n",
        "    cos_theta = np.cos(np.deg2rad(theta_deg))\n",
        "    M_lambda_g = c1 / (lambda_range**5 * (np.exp(c2 / (lambda_range * Tg)) - 1))\n",
        "    M_lambda_f = c1 / (lambda_range**5 * (np.exp(c2 / (lambda_range * Tf)) - 1))\n",
        "\n",
        "    #Radiance calculation\n",
        "    E_lambda_g = epsilon * M_lambda_g\n",
        "    E_lambda_f = epsilon * M_lambda_f\n",
        "\n",
        "    #Signal calculation\n",
        "    S_lambda_g = ((D**2 * t * cos_theta * Ag) / (4 * R**2 * h * c)) * (lambda_range * E_lambda_g * tau_a * tau_0 * eta * delta_lambda)\n",
        "    S_lambda_f = ((D**2 * t * cos_theta * Af) / (4 * R**2 * h * c)) * (lambda_range * E_lambda_f * tau_a * tau_0 * eta * delta_lambda)\n",
        "\n",
        "\n",
        "    #Sum of S\n",
        "    S_Ag = np.sum(S_lambda_g)\n",
        "    S_Af = np.sum(S_lambda_f)\n",
        "\n",
        "    #S' calculation\n",
        "    S_prime_g = S_Ag / Ag\n",
        "    S_prime_f = S_Af / Af\n",
        "    S_prime = S_prime_f - S_prime_g\n",
        "\n",
        "    #N' calculation\n",
        "    N_prime = np.sqrt(S_prime_f + S_prime_g)\n",
        "\n",
        "    #SNR' calculation\n",
        "    SNR_prime = S_prime / N_prime\n",
        "\n",
        "    #S'_lambda calculation\n",
        "    S_prime_lambda_g = S_lambda_g / Ag\n",
        "    S_prime_lambda_f = S_lambda_f / Af\n",
        "\n",
        "    #S'_lambda calculation\n",
        "    S_prime_lambda = S_prime_lambda_f - S_prime_lambda_g\n",
        "\n",
        "    #SNR'_lambda\n",
        "    SNR_prime_lambda = S_prime_lambda / N_prime\n",
        "\n",
        "\n",
        "\n",
        "    plt.figure(figsize=(10, 5))\n",
        "    plt.plot(lambda_range, SNR_prime_lambda, label='SNR Contribution per λ', color='blue')\n",
        "    plt.xlabel('Wavelength (μm)')\n",
        "    plt.ylabel('SNR Contribution')\n",
        "    plt.title(f'Spectral SNR Contribution\\nTg = {Tg}K, Tf = {Tf}K, θ = {theta_deg}°, R = {R/1000:.0f}km, τₐ = {tau_a}, Ag = {Ag:.2f}m, Af = {Af:.0f}m' )\n",
        "    plt.grid(True)\n",
        "    plt.legend()\n",
        "    plt.tight_layout()\n",
        "    plt.show()\n",
        "\n",
        "    print(f\"Total SNR' at Tg = {Tg} K, Tf = {Tf} K, θ = {theta_deg}°, R = {R/1000:.0f} km, τₐ = {tau_a}: {SNR_prime:.2f}\")"
      ],
      "metadata": {
        "id": "aOG04wGNn3ca"
      },
      "execution_count": 17,
      "outputs": []
    },
    {
      "cell_type": "code",
      "source": [
        "epsilon = 0.95\n",
        "tau_0 = 0.89\n",
        "eta = 0.7\n",
        "t = 0.01\n",
        "focal_length = 72.8 / 1000\n",
        "pixel = 12e-6\n",
        "F_number = 1.05\n",
        "D = (focal_length / F_number)\n",
        "\n",
        "lambda_range = np.arange(8, 12.1, 0.1)\n",
        "delta_lambda = 0.1"
      ],
      "metadata": {
        "id": "MUREo2Icnz7c"
      },
      "execution_count": 18,
      "outputs": []
    },
    {
      "cell_type": "code",
      "source": [
        "interact(\n",
        "    compute_wighted_snr,\n",
        "    Tg=FloatSlider(value=313.15, min=200, max=500, step=1, description='surrounding ground Temperature (K)'),\n",
        "    Tf=FloatSlider(value=433.15, min=200, max=500, step=1, description='fumarole Temperature (K)'),\n",
        "    theta_deg=FloatSlider(value=0, min=0, max=90, step=1, description='Theta (°)'),\n",
        "    R=FloatSlider(value=460000, min=150000, max=460000, step=1000, description='Distance (m)'),\n",
        "    tau_a=FloatSlider(value=0.85, min=0.0, max=1.0, step=0.01, description='τₐ (Atmosphere)')\n",
        ")"
      ],
      "metadata": {
        "colab": {
          "base_uri": "https://localhost:8080/",
          "height": 770,
          "referenced_widgets": [
            "e1046e44b49d412b8d6dc78a19e8155e",
            "9e82e519f19b457a964098641e0579a1",
            "56eda214b5ea4fc88c91684ffba3a4fc",
            "e4b9ee1f708c471b8f1af0db05578701",
            "c18a195dc03b448da9475e4a89c1a350",
            "54a3c961c4964bf6ad2af5c74e64627a",
            "725a3375190b4364ac808ca344fa83e6",
            "7685ecad64b74e709e1016c827db7e01",
            "6c7611b1928242e29b396bdcfd844beb",
            "a6aa780d788a490b831f913a334c39c6",
            "bcc9e8481f6749179790099d1064d0bd",
            "3ef3872ab8964026a284d7d6e2f29333",
            "f81d184568974a6b84f22339ce2bddeb",
            "1e7e0d3db6fc43aca9991cc53fd7a59e",
            "a038faf65694416ea47a8fa0c5b46252",
            "5c3ca71aed4b43bfa608dab7cc0958b0",
            "bd7529693b1241a1bf0b68fd6907fc3b",
            "f016b905871d42018e607efffe66910e",
            "774ed43ec241469a861780e94ab3a00e"
          ]
        },
        "id": "ebAcdtMAn5Pu",
        "outputId": "9f989c0a-62fe-4841-e31a-fe0ff34be9fb"
      },
      "execution_count": 19,
      "outputs": [
        {
          "output_type": "display_data",
          "data": {
            "text/plain": [
              "interactive(children=(FloatSlider(value=313.15, description='surrounding ground Temperature (K)', max=500.0, m…"
            ],
            "application/vnd.jupyter.widget-view+json": {
              "version_major": 2,
              "version_minor": 0,
              "model_id": "e1046e44b49d412b8d6dc78a19e8155e"
            }
          },
          "metadata": {}
        },
        {
          "output_type": "execute_result",
          "data": {
            "text/plain": [
              "<function __main__.compute_wighted_snr(Tg, Tf, theta_deg, R, tau_a)>"
            ],
            "text/html": [
              "<div style=\"max-width:800px; border: 1px solid var(--colab-border-color);\"><style>\n",
              "      pre.function-repr-contents {\n",
              "        overflow-x: auto;\n",
              "        padding: 8px 12px;\n",
              "        max-height: 500px;\n",
              "      }\n",
              "\n",
              "      pre.function-repr-contents.function-repr-contents-collapsed {\n",
              "        cursor: pointer;\n",
              "        max-height: 100px;\n",
              "      }\n",
              "    </style>\n",
              "    <pre style=\"white-space: initial; background:\n",
              "         var(--colab-secondary-surface-color); padding: 8px 12px;\n",
              "         border-bottom: 1px solid var(--colab-border-color);\"><b>compute_wighted_snr</b><br/>def compute_wighted_snr(Tg, Tf, theta_deg, R, tau_a)</pre><pre class=\"function-repr-contents function-repr-contents-collapsed\" style=\"\"><a class=\"filepath\" style=\"display:none\" href=\"#\">/content/&lt;ipython-input-17-1efbc64d11fb&gt;</a>&lt;no docstring&gt;</pre></div>"
            ]
          },
          "metadata": {},
          "execution_count": 19
        }
      ]
    },
    {
      "cell_type": "code",
      "source": [],
      "metadata": {
        "id": "w0Md_wD7PJkG"
      },
      "execution_count": null,
      "outputs": []
    }
  ]
}