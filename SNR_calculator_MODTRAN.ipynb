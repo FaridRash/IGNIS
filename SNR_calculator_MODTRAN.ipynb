{
  "nbformat": 4,
  "nbformat_minor": 0,
  "metadata": {
    "colab": {
      "provenance": [],
      "authorship_tag": "ABX9TyMbk0ss6m6FGOMxibqI4Fp3",
      "include_colab_link": true
    },
    "kernelspec": {
      "name": "python3",
      "display_name": "Python 3"
    },
    "language_info": {
      "name": "python"
    },
    "widgets": {
      "application/vnd.jupyter.widget-state+json": {
        "f2109ea7590943b4ac2fe9aebfc78b9d": {
          "model_module": "@jupyter-widgets/controls",
          "model_name": "VBoxModel",
          "model_module_version": "1.5.0",
          "state": {
            "_dom_classes": [
              "widget-interact"
            ],
            "_model_module": "@jupyter-widgets/controls",
            "_model_module_version": "1.5.0",
            "_model_name": "VBoxModel",
            "_view_count": null,
            "_view_module": "@jupyter-widgets/controls",
            "_view_module_version": "1.5.0",
            "_view_name": "VBoxView",
            "box_style": "",
            "children": [
              "IPY_MODEL_6fa90c4467b44099b895e09a8948a6dc",
              "IPY_MODEL_ecec4242e2844ee993fe84107eeedf26",
              "IPY_MODEL_6a4ad8e5708c40a7aacf3c3bdfe0aaa9",
              "IPY_MODEL_b7bf7ae856564584b66fb27a49197649",
              "IPY_MODEL_325117288e614867a9b7f787d01cef10"
            ],
            "layout": "IPY_MODEL_b590cdeea3594298815fba05dd875b2d"
          }
        },
        "6fa90c4467b44099b895e09a8948a6dc": {
          "model_module": "@jupyter-widgets/controls",
          "model_name": "FloatSliderModel",
          "model_module_version": "1.5.0",
          "state": {
            "_dom_classes": [],
            "_model_module": "@jupyter-widgets/controls",
            "_model_module_version": "1.5.0",
            "_model_name": "FloatSliderModel",
            "_view_count": null,
            "_view_module": "@jupyter-widgets/controls",
            "_view_module_version": "1.5.0",
            "_view_name": "FloatSliderView",
            "continuous_update": true,
            "description": "Temperature (K)",
            "description_tooltip": null,
            "disabled": false,
            "layout": "IPY_MODEL_aa9f08d2f7f8422bb26b1b27ffaa1fd0",
            "max": 350,
            "min": 200,
            "orientation": "horizontal",
            "readout": true,
            "readout_format": ".2f",
            "step": 1,
            "style": "IPY_MODEL_31a568337e8247328de063f252413c02",
            "value": 278.15
          }
        },
        "ecec4242e2844ee993fe84107eeedf26": {
          "model_module": "@jupyter-widgets/controls",
          "model_name": "FloatSliderModel",
          "model_module_version": "1.5.0",
          "state": {
            "_dom_classes": [],
            "_model_module": "@jupyter-widgets/controls",
            "_model_module_version": "1.5.0",
            "_model_name": "FloatSliderModel",
            "_view_count": null,
            "_view_module": "@jupyter-widgets/controls",
            "_view_module_version": "1.5.0",
            "_view_name": "FloatSliderView",
            "continuous_update": true,
            "description": "Theta (°)",
            "description_tooltip": null,
            "disabled": false,
            "layout": "IPY_MODEL_a8fc6a2823874fcd980c90ced3535fc9",
            "max": 180,
            "min": 0,
            "orientation": "horizontal",
            "readout": true,
            "readout_format": ".2f",
            "step": 1,
            "style": "IPY_MODEL_f2b67003739a4ff99beda117ca3cac37",
            "value": 0
          }
        },
        "6a4ad8e5708c40a7aacf3c3bdfe0aaa9": {
          "model_module": "@jupyter-widgets/controls",
          "model_name": "FloatSliderModel",
          "model_module_version": "1.5.0",
          "state": {
            "_dom_classes": [],
            "_model_module": "@jupyter-widgets/controls",
            "_model_module_version": "1.5.0",
            "_model_name": "FloatSliderModel",
            "_view_count": null,
            "_view_module": "@jupyter-widgets/controls",
            "_view_module_version": "1.5.0",
            "_view_name": "FloatSliderView",
            "continuous_update": true,
            "description": "Distance (m)",
            "description_tooltip": null,
            "disabled": false,
            "layout": "IPY_MODEL_a44e90b1bf8241e1a7b8a9d07b9286bf",
            "max": 460000,
            "min": 150000,
            "orientation": "horizontal",
            "readout": true,
            "readout_format": ".2f",
            "step": 1000,
            "style": "IPY_MODEL_349f3573e3f5451bbb0cdfbfde3a914b",
            "value": 460000
          }
        },
        "b7bf7ae856564584b66fb27a49197649": {
          "model_module": "@jupyter-widgets/controls",
          "model_name": "FloatSliderModel",
          "model_module_version": "1.5.0",
          "state": {
            "_dom_classes": [],
            "_model_module": "@jupyter-widgets/controls",
            "_model_module_version": "1.5.0",
            "_model_name": "FloatSliderModel",
            "_view_count": null,
            "_view_module": "@jupyter-widgets/controls",
            "_view_module_version": "1.5.0",
            "_view_name": "FloatSliderView",
            "continuous_update": true,
            "description": "τₐ (Atmosphere)",
            "description_tooltip": null,
            "disabled": false,
            "layout": "IPY_MODEL_26b3f2e2c13c420d877270c4ef5827b7",
            "max": 1,
            "min": 0,
            "orientation": "horizontal",
            "readout": true,
            "readout_format": ".2f",
            "step": 0.01,
            "style": "IPY_MODEL_934c40c5d0f44fce88388879e8a07659",
            "value": 0.7
          }
        },
        "325117288e614867a9b7f787d01cef10": {
          "model_module": "@jupyter-widgets/output",
          "model_name": "OutputModel",
          "model_module_version": "1.0.0",
          "state": {
            "_dom_classes": [],
            "_model_module": "@jupyter-widgets/output",
            "_model_module_version": "1.0.0",
            "_model_name": "OutputModel",
            "_view_count": null,
            "_view_module": "@jupyter-widgets/output",
            "_view_module_version": "1.0.0",
            "_view_name": "OutputView",
            "layout": "IPY_MODEL_2f5d6ac39028481da1ae2cc01a55f37a",
            "msg_id": "",
            "outputs": [
              {
                "output_type": "display_data",
                "data": {
                  "text/plain": "<Figure size 1000x500 with 1 Axes>",
                  "image/png": "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\n"
                },
                "metadata": {}
              },
              {
                "output_type": "stream",
                "name": "stdout",
                "text": [
                  "Total SNR at T = 278.15 K, θ = 0.0°, R = 460 km, τₐ = 0.7: 1.40e+10\n"
                ]
              }
            ]
          }
        },
        "b590cdeea3594298815fba05dd875b2d": {
          "model_module": "@jupyter-widgets/base",
          "model_name": "LayoutModel",
          "model_module_version": "1.2.0",
          "state": {
            "_model_module": "@jupyter-widgets/base",
            "_model_module_version": "1.2.0",
            "_model_name": "LayoutModel",
            "_view_count": null,
            "_view_module": "@jupyter-widgets/base",
            "_view_module_version": "1.2.0",
            "_view_name": "LayoutView",
            "align_content": null,
            "align_items": null,
            "align_self": null,
            "border": null,
            "bottom": null,
            "display": null,
            "flex": null,
            "flex_flow": null,
            "grid_area": null,
            "grid_auto_columns": null,
            "grid_auto_flow": null,
            "grid_auto_rows": null,
            "grid_column": null,
            "grid_gap": null,
            "grid_row": null,
            "grid_template_areas": null,
            "grid_template_columns": null,
            "grid_template_rows": null,
            "height": null,
            "justify_content": null,
            "justify_items": null,
            "left": null,
            "margin": null,
            "max_height": null,
            "max_width": null,
            "min_height": null,
            "min_width": null,
            "object_fit": null,
            "object_position": null,
            "order": null,
            "overflow": null,
            "overflow_x": null,
            "overflow_y": null,
            "padding": null,
            "right": null,
            "top": null,
            "visibility": null,
            "width": null
          }
        },
        "aa9f08d2f7f8422bb26b1b27ffaa1fd0": {
          "model_module": "@jupyter-widgets/base",
          "model_name": "LayoutModel",
          "model_module_version": "1.2.0",
          "state": {
            "_model_module": "@jupyter-widgets/base",
            "_model_module_version": "1.2.0",
            "_model_name": "LayoutModel",
            "_view_count": null,
            "_view_module": "@jupyter-widgets/base",
            "_view_module_version": "1.2.0",
            "_view_name": "LayoutView",
            "align_content": null,
            "align_items": null,
            "align_self": null,
            "border": null,
            "bottom": null,
            "display": null,
            "flex": null,
            "flex_flow": null,
            "grid_area": null,
            "grid_auto_columns": null,
            "grid_auto_flow": null,
            "grid_auto_rows": null,
            "grid_column": null,
            "grid_gap": null,
            "grid_row": null,
            "grid_template_areas": null,
            "grid_template_columns": null,
            "grid_template_rows": null,
            "height": null,
            "justify_content": null,
            "justify_items": null,
            "left": null,
            "margin": null,
            "max_height": null,
            "max_width": null,
            "min_height": null,
            "min_width": null,
            "object_fit": null,
            "object_position": null,
            "order": null,
            "overflow": null,
            "overflow_x": null,
            "overflow_y": null,
            "padding": null,
            "right": null,
            "top": null,
            "visibility": null,
            "width": null
          }
        },
        "31a568337e8247328de063f252413c02": {
          "model_module": "@jupyter-widgets/controls",
          "model_name": "SliderStyleModel",
          "model_module_version": "1.5.0",
          "state": {
            "_model_module": "@jupyter-widgets/controls",
            "_model_module_version": "1.5.0",
            "_model_name": "SliderStyleModel",
            "_view_count": null,
            "_view_module": "@jupyter-widgets/base",
            "_view_module_version": "1.2.0",
            "_view_name": "StyleView",
            "description_width": "",
            "handle_color": null
          }
        },
        "a8fc6a2823874fcd980c90ced3535fc9": {
          "model_module": "@jupyter-widgets/base",
          "model_name": "LayoutModel",
          "model_module_version": "1.2.0",
          "state": {
            "_model_module": "@jupyter-widgets/base",
            "_model_module_version": "1.2.0",
            "_model_name": "LayoutModel",
            "_view_count": null,
            "_view_module": "@jupyter-widgets/base",
            "_view_module_version": "1.2.0",
            "_view_name": "LayoutView",
            "align_content": null,
            "align_items": null,
            "align_self": null,
            "border": null,
            "bottom": null,
            "display": null,
            "flex": null,
            "flex_flow": null,
            "grid_area": null,
            "grid_auto_columns": null,
            "grid_auto_flow": null,
            "grid_auto_rows": null,
            "grid_column": null,
            "grid_gap": null,
            "grid_row": null,
            "grid_template_areas": null,
            "grid_template_columns": null,
            "grid_template_rows": null,
            "height": null,
            "justify_content": null,
            "justify_items": null,
            "left": null,
            "margin": null,
            "max_height": null,
            "max_width": null,
            "min_height": null,
            "min_width": null,
            "object_fit": null,
            "object_position": null,
            "order": null,
            "overflow": null,
            "overflow_x": null,
            "overflow_y": null,
            "padding": null,
            "right": null,
            "top": null,
            "visibility": null,
            "width": null
          }
        },
        "f2b67003739a4ff99beda117ca3cac37": {
          "model_module": "@jupyter-widgets/controls",
          "model_name": "SliderStyleModel",
          "model_module_version": "1.5.0",
          "state": {
            "_model_module": "@jupyter-widgets/controls",
            "_model_module_version": "1.5.0",
            "_model_name": "SliderStyleModel",
            "_view_count": null,
            "_view_module": "@jupyter-widgets/base",
            "_view_module_version": "1.2.0",
            "_view_name": "StyleView",
            "description_width": "",
            "handle_color": null
          }
        },
        "a44e90b1bf8241e1a7b8a9d07b9286bf": {
          "model_module": "@jupyter-widgets/base",
          "model_name": "LayoutModel",
          "model_module_version": "1.2.0",
          "state": {
            "_model_module": "@jupyter-widgets/base",
            "_model_module_version": "1.2.0",
            "_model_name": "LayoutModel",
            "_view_count": null,
            "_view_module": "@jupyter-widgets/base",
            "_view_module_version": "1.2.0",
            "_view_name": "LayoutView",
            "align_content": null,
            "align_items": null,
            "align_self": null,
            "border": null,
            "bottom": null,
            "display": null,
            "flex": null,
            "flex_flow": null,
            "grid_area": null,
            "grid_auto_columns": null,
            "grid_auto_flow": null,
            "grid_auto_rows": null,
            "grid_column": null,
            "grid_gap": null,
            "grid_row": null,
            "grid_template_areas": null,
            "grid_template_columns": null,
            "grid_template_rows": null,
            "height": null,
            "justify_content": null,
            "justify_items": null,
            "left": null,
            "margin": null,
            "max_height": null,
            "max_width": null,
            "min_height": null,
            "min_width": null,
            "object_fit": null,
            "object_position": null,
            "order": null,
            "overflow": null,
            "overflow_x": null,
            "overflow_y": null,
            "padding": null,
            "right": null,
            "top": null,
            "visibility": null,
            "width": null
          }
        },
        "349f3573e3f5451bbb0cdfbfde3a914b": {
          "model_module": "@jupyter-widgets/controls",
          "model_name": "SliderStyleModel",
          "model_module_version": "1.5.0",
          "state": {
            "_model_module": "@jupyter-widgets/controls",
            "_model_module_version": "1.5.0",
            "_model_name": "SliderStyleModel",
            "_view_count": null,
            "_view_module": "@jupyter-widgets/base",
            "_view_module_version": "1.2.0",
            "_view_name": "StyleView",
            "description_width": "",
            "handle_color": null
          }
        },
        "26b3f2e2c13c420d877270c4ef5827b7": {
          "model_module": "@jupyter-widgets/base",
          "model_name": "LayoutModel",
          "model_module_version": "1.2.0",
          "state": {
            "_model_module": "@jupyter-widgets/base",
            "_model_module_version": "1.2.0",
            "_model_name": "LayoutModel",
            "_view_count": null,
            "_view_module": "@jupyter-widgets/base",
            "_view_module_version": "1.2.0",
            "_view_name": "LayoutView",
            "align_content": null,
            "align_items": null,
            "align_self": null,
            "border": null,
            "bottom": null,
            "display": null,
            "flex": null,
            "flex_flow": null,
            "grid_area": null,
            "grid_auto_columns": null,
            "grid_auto_flow": null,
            "grid_auto_rows": null,
            "grid_column": null,
            "grid_gap": null,
            "grid_row": null,
            "grid_template_areas": null,
            "grid_template_columns": null,
            "grid_template_rows": null,
            "height": null,
            "justify_content": null,
            "justify_items": null,
            "left": null,
            "margin": null,
            "max_height": null,
            "max_width": null,
            "min_height": null,
            "min_width": null,
            "object_fit": null,
            "object_position": null,
            "order": null,
            "overflow": null,
            "overflow_x": null,
            "overflow_y": null,
            "padding": null,
            "right": null,
            "top": null,
            "visibility": null,
            "width": null
          }
        },
        "934c40c5d0f44fce88388879e8a07659": {
          "model_module": "@jupyter-widgets/controls",
          "model_name": "SliderStyleModel",
          "model_module_version": "1.5.0",
          "state": {
            "_model_module": "@jupyter-widgets/controls",
            "_model_module_version": "1.5.0",
            "_model_name": "SliderStyleModel",
            "_view_count": null,
            "_view_module": "@jupyter-widgets/base",
            "_view_module_version": "1.2.0",
            "_view_name": "StyleView",
            "description_width": "",
            "handle_color": null
          }
        },
        "2f5d6ac39028481da1ae2cc01a55f37a": {
          "model_module": "@jupyter-widgets/base",
          "model_name": "LayoutModel",
          "model_module_version": "1.2.0",
          "state": {
            "_model_module": "@jupyter-widgets/base",
            "_model_module_version": "1.2.0",
            "_model_name": "LayoutModel",
            "_view_count": null,
            "_view_module": "@jupyter-widgets/base",
            "_view_module_version": "1.2.0",
            "_view_name": "LayoutView",
            "align_content": null,
            "align_items": null,
            "align_self": null,
            "border": null,
            "bottom": null,
            "display": null,
            "flex": null,
            "flex_flow": null,
            "grid_area": null,
            "grid_auto_columns": null,
            "grid_auto_flow": null,
            "grid_auto_rows": null,
            "grid_column": null,
            "grid_gap": null,
            "grid_row": null,
            "grid_template_areas": null,
            "grid_template_columns": null,
            "grid_template_rows": null,
            "height": null,
            "justify_content": null,
            "justify_items": null,
            "left": null,
            "margin": null,
            "max_height": null,
            "max_width": null,
            "min_height": null,
            "min_width": null,
            "object_fit": null,
            "object_position": null,
            "order": null,
            "overflow": null,
            "overflow_x": null,
            "overflow_y": null,
            "padding": null,
            "right": null,
            "top": null,
            "visibility": null,
            "width": null
          }
        }
      }
    }
  },
  "cells": [
    {
      "cell_type": "markdown",
      "metadata": {
        "id": "view-in-github",
        "colab_type": "text"
      },
      "source": [
        "<a href=\"https://colab.research.google.com/github/FaridRash/IGNIS/blob/main/SNR_calculator_MODTRAN.ipynb\" target=\"_parent\"><img src=\"https://colab.research.google.com/assets/colab-badge.svg\" alt=\"Open In Colab\"/></a>"
      ]
    },
    {
      "cell_type": "code",
      "source": [
        "import numpy as np\n",
        "import matplotlib.pyplot as plt\n",
        "from ipywidgets import interact, FloatSlider"
      ],
      "metadata": {
        "id": "0iwD4CObnvix"
      },
      "execution_count": 3,
      "outputs": []
    },
    {
      "cell_type": "code",
      "source": [
        "c1 = 3.7418e8\n",
        "c2 = 1.4388e4\n",
        "h = 6.626e-34\n",
        "c = 3e8"
      ],
      "metadata": {
        "id": "4Ysz21QvnxB5"
      },
      "execution_count": 4,
      "outputs": []
    },
    {
      "cell_type": "code",
      "source": [
        "epsilon = 0.95\n",
        "tau_0 = 0.89\n",
        "eta = 0.7\n",
        "t = 0.01\n",
        "A0 = 1.9434e9\n",
        "focal_length = 72.8\n",
        "F_number = 1.05\n",
        "D = (focal_length / F_number) / 1000\n",
        "\n",
        "lambda_range = np.arange(8, 12.1, 0.1)\n",
        "delta_lambda = 0.1"
      ],
      "metadata": {
        "id": "MUREo2Icnz7c"
      },
      "execution_count": 5,
      "outputs": []
    },
    {
      "cell_type": "code",
      "source": [
        "def compute_snr(T, theta_deg, R, tau_a):\n",
        "    cos_theta = np.cos(np.deg2rad(theta_deg))\n",
        "    M_lambda = c1 / (lambda_range**5 * (np.exp(c2 / (lambda_range * T)) - 1))\n",
        "    E_lambda = epsilon * M_lambda\n",
        "    S_lambda = lambda_range * E_lambda * tau_a * tau_0 * eta * delta_lambda\n",
        "    S_sum = np.sum(S_lambda)\n",
        "    S_total = (D**2 * t * cos_theta * A0) / (4 * R**2 * h * c) * S_sum\n",
        "    N_total = np.sqrt(S_total)\n",
        "    SNR_total = S_total / N_total\n",
        "    SNR_lambda = S_lambda / N_total\n",
        "\n",
        "    plt.figure(figsize=(10, 5))\n",
        "    plt.plot(lambda_range, SNR_lambda, label='SNR Contribution per λ', color='blue')\n",
        "    plt.xlabel('Wavelength (μm)')\n",
        "    plt.ylabel('SNR Contribution')\n",
        "    plt.title(f'Spectral SNR Contribution\\nT = {T} K, θ = {theta_deg}°, R = {R/1000:.0f} km, τₐ = {tau_a}')\n",
        "    plt.grid(True)\n",
        "    plt.legend()\n",
        "    plt.tight_layout()\n",
        "    plt.show()\n",
        "\n",
        "    print(f\"Total SNR at T = {T} K, θ = {theta_deg}°, R = {R/1000:.0f} km, τₐ = {tau_a}: {SNR_total:.2e}\")"
      ],
      "metadata": {
        "id": "aOG04wGNn3ca"
      },
      "execution_count": 6,
      "outputs": []
    },
    {
      "cell_type": "code",
      "source": [
        "interact(\n",
        "    compute_snr,\n",
        "    T=FloatSlider(value=278.15, min=200, max=350, step=1, description='Temperature (K)'),\n",
        "    theta_deg=FloatSlider(value=0, min=0, max=180, step=1, description='Theta (°)'),\n",
        "    R=FloatSlider(value=460000, min=150000, max=460000, step=1000, description='Distance (m)'),\n",
        "    tau_a=FloatSlider(value=0.85, min=0.0, max=1.0, step=0.01, description='τₐ (Atmosphere)')\n",
        ")"
      ],
      "metadata": {
        "colab": {
          "base_uri": "https://localhost:8080/",
          "height": 738,
          "referenced_widgets": [
            "f2109ea7590943b4ac2fe9aebfc78b9d",
            "6fa90c4467b44099b895e09a8948a6dc",
            "ecec4242e2844ee993fe84107eeedf26",
            "6a4ad8e5708c40a7aacf3c3bdfe0aaa9",
            "b7bf7ae856564584b66fb27a49197649",
            "325117288e614867a9b7f787d01cef10",
            "b590cdeea3594298815fba05dd875b2d",
            "aa9f08d2f7f8422bb26b1b27ffaa1fd0",
            "31a568337e8247328de063f252413c02",
            "a8fc6a2823874fcd980c90ced3535fc9",
            "f2b67003739a4ff99beda117ca3cac37",
            "a44e90b1bf8241e1a7b8a9d07b9286bf",
            "349f3573e3f5451bbb0cdfbfde3a914b",
            "26b3f2e2c13c420d877270c4ef5827b7",
            "934c40c5d0f44fce88388879e8a07659",
            "2f5d6ac39028481da1ae2cc01a55f37a"
          ]
        },
        "id": "ebAcdtMAn5Pu",
        "outputId": "12d7d3e3-94f3-4e4c-fa96-65c7deee4553"
      },
      "execution_count": 7,
      "outputs": [
        {
          "output_type": "display_data",
          "data": {
            "text/plain": [
              "interactive(children=(FloatSlider(value=278.15, description='Temperature (K)', max=350.0, min=200.0, step=1.0)…"
            ],
            "application/vnd.jupyter.widget-view+json": {
              "version_major": 2,
              "version_minor": 0,
              "model_id": "f2109ea7590943b4ac2fe9aebfc78b9d"
            }
          },
          "metadata": {}
        },
        {
          "output_type": "execute_result",
          "data": {
            "text/plain": [
              "<function __main__.compute_snr(T, theta_deg, R, tau_a)>"
            ],
            "text/html": [
              "<div style=\"max-width:800px; border: 1px solid var(--colab-border-color);\"><style>\n",
              "      pre.function-repr-contents {\n",
              "        overflow-x: auto;\n",
              "        padding: 8px 12px;\n",
              "        max-height: 500px;\n",
              "      }\n",
              "\n",
              "      pre.function-repr-contents.function-repr-contents-collapsed {\n",
              "        cursor: pointer;\n",
              "        max-height: 100px;\n",
              "      }\n",
              "    </style>\n",
              "    <pre style=\"white-space: initial; background:\n",
              "         var(--colab-secondary-surface-color); padding: 8px 12px;\n",
              "         border-bottom: 1px solid var(--colab-border-color);\"><b>compute_snr</b><br/>def compute_snr(T, theta_deg, R, tau_a)</pre><pre class=\"function-repr-contents function-repr-contents-collapsed\" style=\"\"><a class=\"filepath\" style=\"display:none\" href=\"#\">/content/&lt;ipython-input-6-d65290bee835&gt;</a>&lt;no docstring&gt;</pre></div>"
            ]
          },
          "metadata": {},
          "execution_count": 7
        }
      ]
    },
    {
      "cell_type": "code",
      "source": [],
      "metadata": {
        "id": "TGBtU2H-n_eF"
      },
      "execution_count": null,
      "outputs": []
    }
  ]
}