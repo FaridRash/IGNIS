{
  "nbformat": 4,
  "nbformat_minor": 0,
  "metadata": {
    "colab": {
      "provenance": [],
      "authorship_tag": "ABX9TyOh6lFmI86J75d7OwX8w8GF",
      "include_colab_link": true
    },
    "kernelspec": {
      "name": "python3",
      "display_name": "Python 3"
    },
    "language_info": {
      "name": "python"
    },
    "widgets": {
      "application/vnd.jupyter.widget-state+json": {
        "52fbe1d0655e4908abe17caa0eb5da6d": {
          "model_module": "@jupyter-widgets/controls",
          "model_name": "VBoxModel",
          "model_module_version": "1.5.0",
          "state": {
            "_dom_classes": [
              "widget-interact"
            ],
            "_model_module": "@jupyter-widgets/controls",
            "_model_module_version": "1.5.0",
            "_model_name": "VBoxModel",
            "_view_count": null,
            "_view_module": "@jupyter-widgets/controls",
            "_view_module_version": "1.5.0",
            "_view_name": "VBoxView",
            "box_style": "",
            "children": [
              "IPY_MODEL_b31a38122bc447709ffaa67468caecdc",
              "IPY_MODEL_6dcfb4a6c6d94c9583e94c7218f0ab02",
              "IPY_MODEL_c3866665f03f4e2cbc33a73ef6117456",
              "IPY_MODEL_d0d53427c6a84faf9218c820ebfc597c",
              "IPY_MODEL_0b9f5149f1184296ab3c24f8a96c879a",
              "IPY_MODEL_810a052635f14b09a1bc396c5501b172"
            ],
            "layout": "IPY_MODEL_ebf6d43c7d694d92a24de523a8211d15"
          }
        },
        "b31a38122bc447709ffaa67468caecdc": {
          "model_module": "@jupyter-widgets/controls",
          "model_name": "FloatSliderModel",
          "model_module_version": "1.5.0",
          "state": {
            "_dom_classes": [],
            "_model_module": "@jupyter-widgets/controls",
            "_model_module_version": "1.5.0",
            "_model_name": "FloatSliderModel",
            "_view_count": null,
            "_view_module": "@jupyter-widgets/controls",
            "_view_module_version": "1.5.0",
            "_view_name": "FloatSliderView",
            "continuous_update": true,
            "description": "surrounding ground Temperature (K)",
            "description_tooltip": null,
            "disabled": false,
            "layout": "IPY_MODEL_f20db4d4e6bc41dc976217cf16d4edc5",
            "max": 500,
            "min": 200,
            "orientation": "horizontal",
            "readout": true,
            "readout_format": ".2f",
            "step": 1,
            "style": "IPY_MODEL_c3d3ff92f1f54600839e2ca36bb9b314",
            "value": 313.15
          }
        },
        "6dcfb4a6c6d94c9583e94c7218f0ab02": {
          "model_module": "@jupyter-widgets/controls",
          "model_name": "FloatSliderModel",
          "model_module_version": "1.5.0",
          "state": {
            "_dom_classes": [],
            "_model_module": "@jupyter-widgets/controls",
            "_model_module_version": "1.5.0",
            "_model_name": "FloatSliderModel",
            "_view_count": null,
            "_view_module": "@jupyter-widgets/controls",
            "_view_module_version": "1.5.0",
            "_view_name": "FloatSliderView",
            "continuous_update": true,
            "description": "fumarole Temperature (K)",
            "description_tooltip": null,
            "disabled": false,
            "layout": "IPY_MODEL_cac2607ea1c5454c9e649b558181198a",
            "max": 500,
            "min": 200,
            "orientation": "horizontal",
            "readout": true,
            "readout_format": ".2f",
            "step": 1,
            "style": "IPY_MODEL_5d30f5a6b47b4f0c9cdb367825252463",
            "value": 433.15
          }
        },
        "c3866665f03f4e2cbc33a73ef6117456": {
          "model_module": "@jupyter-widgets/controls",
          "model_name": "FloatSliderModel",
          "model_module_version": "1.5.0",
          "state": {
            "_dom_classes": [],
            "_model_module": "@jupyter-widgets/controls",
            "_model_module_version": "1.5.0",
            "_model_name": "FloatSliderModel",
            "_view_count": null,
            "_view_module": "@jupyter-widgets/controls",
            "_view_module_version": "1.5.0",
            "_view_name": "FloatSliderView",
            "continuous_update": true,
            "description": "Theta (°)",
            "description_tooltip": null,
            "disabled": false,
            "layout": "IPY_MODEL_790e5d92c5ea4002802c9f2d5952878e",
            "max": 90,
            "min": 0,
            "orientation": "horizontal",
            "readout": true,
            "readout_format": ".2f",
            "step": 1,
            "style": "IPY_MODEL_4fe74e664c984544a3004a49a637a3be",
            "value": 90
          }
        },
        "d0d53427c6a84faf9218c820ebfc597c": {
          "model_module": "@jupyter-widgets/controls",
          "model_name": "FloatSliderModel",
          "model_module_version": "1.5.0",
          "state": {
            "_dom_classes": [],
            "_model_module": "@jupyter-widgets/controls",
            "_model_module_version": "1.5.0",
            "_model_name": "FloatSliderModel",
            "_view_count": null,
            "_view_module": "@jupyter-widgets/controls",
            "_view_module_version": "1.5.0",
            "_view_name": "FloatSliderView",
            "continuous_update": true,
            "description": "Distance (m)",
            "description_tooltip": null,
            "disabled": false,
            "layout": "IPY_MODEL_872ae1ede5cd42b2bd378a684263ca4b",
            "max": 460000,
            "min": 150000,
            "orientation": "horizontal",
            "readout": true,
            "readout_format": ".2f",
            "step": 1000,
            "style": "IPY_MODEL_4d70e43dc43c46d4b8cb7548720a1889",
            "value": 450000
          }
        },
        "0b9f5149f1184296ab3c24f8a96c879a": {
          "model_module": "@jupyter-widgets/controls",
          "model_name": "FloatSliderModel",
          "model_module_version": "1.5.0",
          "state": {
            "_dom_classes": [],
            "_model_module": "@jupyter-widgets/controls",
            "_model_module_version": "1.5.0",
            "_model_name": "FloatSliderModel",
            "_view_count": null,
            "_view_module": "@jupyter-widgets/controls",
            "_view_module_version": "1.5.0",
            "_view_name": "FloatSliderView",
            "continuous_update": true,
            "description": "τₐ (Atmosphere)",
            "description_tooltip": null,
            "disabled": false,
            "layout": "IPY_MODEL_25af0cd267c2469fb1aaba83eda4219c",
            "max": 1,
            "min": 0,
            "orientation": "horizontal",
            "readout": true,
            "readout_format": ".2f",
            "step": 0.01,
            "style": "IPY_MODEL_6e8f43d67c46436ebbbc387c38751225",
            "value": 0.85
          }
        },
        "810a052635f14b09a1bc396c5501b172": {
          "model_module": "@jupyter-widgets/output",
          "model_name": "OutputModel",
          "model_module_version": "1.0.0",
          "state": {
            "_dom_classes": [],
            "_model_module": "@jupyter-widgets/output",
            "_model_module_version": "1.0.0",
            "_model_name": "OutputModel",
            "_view_count": null,
            "_view_module": "@jupyter-widgets/output",
            "_view_module_version": "1.0.0",
            "_view_name": "OutputView",
            "layout": "IPY_MODEL_97b95bfaecb34d00ba15f8e525b439a5",
            "msg_id": "",
            "outputs": [
              {
                "output_type": "display_data",
                "data": {
                  "text/plain": "<Figure size 1000x500 with 1 Axes>",
                  "image/png": "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\n"
                },
                "metadata": {}
              },
              {
                "output_type": "stream",
                "name": "stdout",
                "text": [
                  "Total SNR' at Tg = 313.15 K, Tf = 433.15 K, θ = 90.0°, R = 450 km, τₐ = 0.85: 0.00\n"
                ]
              }
            ]
          }
        },
        "ebf6d43c7d694d92a24de523a8211d15": {
          "model_module": "@jupyter-widgets/base",
          "model_name": "LayoutModel",
          "model_module_version": "1.2.0",
          "state": {
            "_model_module": "@jupyter-widgets/base",
            "_model_module_version": "1.2.0",
            "_model_name": "LayoutModel",
            "_view_count": null,
            "_view_module": "@jupyter-widgets/base",
            "_view_module_version": "1.2.0",
            "_view_name": "LayoutView",
            "align_content": null,
            "align_items": null,
            "align_self": null,
            "border": null,
            "bottom": null,
            "display": null,
            "flex": null,
            "flex_flow": null,
            "grid_area": null,
            "grid_auto_columns": null,
            "grid_auto_flow": null,
            "grid_auto_rows": null,
            "grid_column": null,
            "grid_gap": null,
            "grid_row": null,
            "grid_template_areas": null,
            "grid_template_columns": null,
            "grid_template_rows": null,
            "height": null,
            "justify_content": null,
            "justify_items": null,
            "left": null,
            "margin": null,
            "max_height": null,
            "max_width": null,
            "min_height": null,
            "min_width": null,
            "object_fit": null,
            "object_position": null,
            "order": null,
            "overflow": null,
            "overflow_x": null,
            "overflow_y": null,
            "padding": null,
            "right": null,
            "top": null,
            "visibility": null,
            "width": null
          }
        },
        "f20db4d4e6bc41dc976217cf16d4edc5": {
          "model_module": "@jupyter-widgets/base",
          "model_name": "LayoutModel",
          "model_module_version": "1.2.0",
          "state": {
            "_model_module": "@jupyter-widgets/base",
            "_model_module_version": "1.2.0",
            "_model_name": "LayoutModel",
            "_view_count": null,
            "_view_module": "@jupyter-widgets/base",
            "_view_module_version": "1.2.0",
            "_view_name": "LayoutView",
            "align_content": null,
            "align_items": null,
            "align_self": null,
            "border": null,
            "bottom": null,
            "display": null,
            "flex": null,
            "flex_flow": null,
            "grid_area": null,
            "grid_auto_columns": null,
            "grid_auto_flow": null,
            "grid_auto_rows": null,
            "grid_column": null,
            "grid_gap": null,
            "grid_row": null,
            "grid_template_areas": null,
            "grid_template_columns": null,
            "grid_template_rows": null,
            "height": null,
            "justify_content": null,
            "justify_items": null,
            "left": null,
            "margin": null,
            "max_height": null,
            "max_width": null,
            "min_height": null,
            "min_width": null,
            "object_fit": null,
            "object_position": null,
            "order": null,
            "overflow": null,
            "overflow_x": null,
            "overflow_y": null,
            "padding": null,
            "right": null,
            "top": null,
            "visibility": null,
            "width": null
          }
        },
        "c3d3ff92f1f54600839e2ca36bb9b314": {
          "model_module": "@jupyter-widgets/controls",
          "model_name": "SliderStyleModel",
          "model_module_version": "1.5.0",
          "state": {
            "_model_module": "@jupyter-widgets/controls",
            "_model_module_version": "1.5.0",
            "_model_name": "SliderStyleModel",
            "_view_count": null,
            "_view_module": "@jupyter-widgets/base",
            "_view_module_version": "1.2.0",
            "_view_name": "StyleView",
            "description_width": "",
            "handle_color": null
          }
        },
        "cac2607ea1c5454c9e649b558181198a": {
          "model_module": "@jupyter-widgets/base",
          "model_name": "LayoutModel",
          "model_module_version": "1.2.0",
          "state": {
            "_model_module": "@jupyter-widgets/base",
            "_model_module_version": "1.2.0",
            "_model_name": "LayoutModel",
            "_view_count": null,
            "_view_module": "@jupyter-widgets/base",
            "_view_module_version": "1.2.0",
            "_view_name": "LayoutView",
            "align_content": null,
            "align_items": null,
            "align_self": null,
            "border": null,
            "bottom": null,
            "display": null,
            "flex": null,
            "flex_flow": null,
            "grid_area": null,
            "grid_auto_columns": null,
            "grid_auto_flow": null,
            "grid_auto_rows": null,
            "grid_column": null,
            "grid_gap": null,
            "grid_row": null,
            "grid_template_areas": null,
            "grid_template_columns": null,
            "grid_template_rows": null,
            "height": null,
            "justify_content": null,
            "justify_items": null,
            "left": null,
            "margin": null,
            "max_height": null,
            "max_width": null,
            "min_height": null,
            "min_width": null,
            "object_fit": null,
            "object_position": null,
            "order": null,
            "overflow": null,
            "overflow_x": null,
            "overflow_y": null,
            "padding": null,
            "right": null,
            "top": null,
            "visibility": null,
            "width": null
          }
        },
        "5d30f5a6b47b4f0c9cdb367825252463": {
          "model_module": "@jupyter-widgets/controls",
          "model_name": "SliderStyleModel",
          "model_module_version": "1.5.0",
          "state": {
            "_model_module": "@jupyter-widgets/controls",
            "_model_module_version": "1.5.0",
            "_model_name": "SliderStyleModel",
            "_view_count": null,
            "_view_module": "@jupyter-widgets/base",
            "_view_module_version": "1.2.0",
            "_view_name": "StyleView",
            "description_width": "",
            "handle_color": null
          }
        },
        "790e5d92c5ea4002802c9f2d5952878e": {
          "model_module": "@jupyter-widgets/base",
          "model_name": "LayoutModel",
          "model_module_version": "1.2.0",
          "state": {
            "_model_module": "@jupyter-widgets/base",
            "_model_module_version": "1.2.0",
            "_model_name": "LayoutModel",
            "_view_count": null,
            "_view_module": "@jupyter-widgets/base",
            "_view_module_version": "1.2.0",
            "_view_name": "LayoutView",
            "align_content": null,
            "align_items": null,
            "align_self": null,
            "border": null,
            "bottom": null,
            "display": null,
            "flex": null,
            "flex_flow": null,
            "grid_area": null,
            "grid_auto_columns": null,
            "grid_auto_flow": null,
            "grid_auto_rows": null,
            "grid_column": null,
            "grid_gap": null,
            "grid_row": null,
            "grid_template_areas": null,
            "grid_template_columns": null,
            "grid_template_rows": null,
            "height": null,
            "justify_content": null,
            "justify_items": null,
            "left": null,
            "margin": null,
            "max_height": null,
            "max_width": null,
            "min_height": null,
            "min_width": null,
            "object_fit": null,
            "object_position": null,
            "order": null,
            "overflow": null,
            "overflow_x": null,
            "overflow_y": null,
            "padding": null,
            "right": null,
            "top": null,
            "visibility": null,
            "width": null
          }
        },
        "4fe74e664c984544a3004a49a637a3be": {
          "model_module": "@jupyter-widgets/controls",
          "model_name": "SliderStyleModel",
          "model_module_version": "1.5.0",
          "state": {
            "_model_module": "@jupyter-widgets/controls",
            "_model_module_version": "1.5.0",
            "_model_name": "SliderStyleModel",
            "_view_count": null,
            "_view_module": "@jupyter-widgets/base",
            "_view_module_version": "1.2.0",
            "_view_name": "StyleView",
            "description_width": "",
            "handle_color": null
          }
        },
        "872ae1ede5cd42b2bd378a684263ca4b": {
          "model_module": "@jupyter-widgets/base",
          "model_name": "LayoutModel",
          "model_module_version": "1.2.0",
          "state": {
            "_model_module": "@jupyter-widgets/base",
            "_model_module_version": "1.2.0",
            "_model_name": "LayoutModel",
            "_view_count": null,
            "_view_module": "@jupyter-widgets/base",
            "_view_module_version": "1.2.0",
            "_view_name": "LayoutView",
            "align_content": null,
            "align_items": null,
            "align_self": null,
            "border": null,
            "bottom": null,
            "display": null,
            "flex": null,
            "flex_flow": null,
            "grid_area": null,
            "grid_auto_columns": null,
            "grid_auto_flow": null,
            "grid_auto_rows": null,
            "grid_column": null,
            "grid_gap": null,
            "grid_row": null,
            "grid_template_areas": null,
            "grid_template_columns": null,
            "grid_template_rows": null,
            "height": null,
            "justify_content": null,
            "justify_items": null,
            "left": null,
            "margin": null,
            "max_height": null,
            "max_width": null,
            "min_height": null,
            "min_width": null,
            "object_fit": null,
            "object_position": null,
            "order": null,
            "overflow": null,
            "overflow_x": null,
            "overflow_y": null,
            "padding": null,
            "right": null,
            "top": null,
            "visibility": null,
            "width": null
          }
        },
        "4d70e43dc43c46d4b8cb7548720a1889": {
          "model_module": "@jupyter-widgets/controls",
          "model_name": "SliderStyleModel",
          "model_module_version": "1.5.0",
          "state": {
            "_model_module": "@jupyter-widgets/controls",
            "_model_module_version": "1.5.0",
            "_model_name": "SliderStyleModel",
            "_view_count": null,
            "_view_module": "@jupyter-widgets/base",
            "_view_module_version": "1.2.0",
            "_view_name": "StyleView",
            "description_width": "",
            "handle_color": null
          }
        },
        "25af0cd267c2469fb1aaba83eda4219c": {
          "model_module": "@jupyter-widgets/base",
          "model_name": "LayoutModel",
          "model_module_version": "1.2.0",
          "state": {
            "_model_module": "@jupyter-widgets/base",
            "_model_module_version": "1.2.0",
            "_model_name": "LayoutModel",
            "_view_count": null,
            "_view_module": "@jupyter-widgets/base",
            "_view_module_version": "1.2.0",
            "_view_name": "LayoutView",
            "align_content": null,
            "align_items": null,
            "align_self": null,
            "border": null,
            "bottom": null,
            "display": null,
            "flex": null,
            "flex_flow": null,
            "grid_area": null,
            "grid_auto_columns": null,
            "grid_auto_flow": null,
            "grid_auto_rows": null,
            "grid_column": null,
            "grid_gap": null,
            "grid_row": null,
            "grid_template_areas": null,
            "grid_template_columns": null,
            "grid_template_rows": null,
            "height": null,
            "justify_content": null,
            "justify_items": null,
            "left": null,
            "margin": null,
            "max_height": null,
            "max_width": null,
            "min_height": null,
            "min_width": null,
            "object_fit": null,
            "object_position": null,
            "order": null,
            "overflow": null,
            "overflow_x": null,
            "overflow_y": null,
            "padding": null,
            "right": null,
            "top": null,
            "visibility": null,
            "width": null
          }
        },
        "6e8f43d67c46436ebbbc387c38751225": {
          "model_module": "@jupyter-widgets/controls",
          "model_name": "SliderStyleModel",
          "model_module_version": "1.5.0",
          "state": {
            "_model_module": "@jupyter-widgets/controls",
            "_model_module_version": "1.5.0",
            "_model_name": "SliderStyleModel",
            "_view_count": null,
            "_view_module": "@jupyter-widgets/base",
            "_view_module_version": "1.2.0",
            "_view_name": "StyleView",
            "description_width": "",
            "handle_color": null
          }
        },
        "97b95bfaecb34d00ba15f8e525b439a5": {
          "model_module": "@jupyter-widgets/base",
          "model_name": "LayoutModel",
          "model_module_version": "1.2.0",
          "state": {
            "_model_module": "@jupyter-widgets/base",
            "_model_module_version": "1.2.0",
            "_model_name": "LayoutModel",
            "_view_count": null,
            "_view_module": "@jupyter-widgets/base",
            "_view_module_version": "1.2.0",
            "_view_name": "LayoutView",
            "align_content": null,
            "align_items": null,
            "align_self": null,
            "border": null,
            "bottom": null,
            "display": null,
            "flex": null,
            "flex_flow": null,
            "grid_area": null,
            "grid_auto_columns": null,
            "grid_auto_flow": null,
            "grid_auto_rows": null,
            "grid_column": null,
            "grid_gap": null,
            "grid_row": null,
            "grid_template_areas": null,
            "grid_template_columns": null,
            "grid_template_rows": null,
            "height": null,
            "justify_content": null,
            "justify_items": null,
            "left": null,
            "margin": null,
            "max_height": null,
            "max_width": null,
            "min_height": null,
            "min_width": null,
            "object_fit": null,
            "object_position": null,
            "order": null,
            "overflow": null,
            "overflow_x": null,
            "overflow_y": null,
            "padding": null,
            "right": null,
            "top": null,
            "visibility": null,
            "width": null
          }
        }
      }
    }
  },
  "cells": [
    {
      "cell_type": "markdown",
      "metadata": {
        "id": "view-in-github",
        "colab_type": "text"
      },
      "source": [
        "<a href=\"https://colab.research.google.com/github/FaridRash/IGNIS/blob/main/Notebooks/SNR_weighted_normalized_calculator_MODTRAN.ipynb\" target=\"_parent\"><img src=\"https://colab.research.google.com/assets/colab-badge.svg\" alt=\"Open In Colab\"/></a>"
      ]
    },
    {
      "cell_type": "code",
      "source": [
        "\"\"\"https://wp.optics.arizona.edu/alumni/wp-content/uploads/sites/113/2024/06/Jacob_Wilson_Master_s_Report_2024.pdf\n",
        "maybe when you do the calculation cite that the value is taken from this source\"\"\""
      ],
      "metadata": {
        "id": "knUCk8Ill8Mq",
        "colab": {
          "base_uri": "https://localhost:8080/",
          "height": 52
        },
        "outputId": "f18a0882-2bff-4e78-c0af-36627d86c434"
      },
      "execution_count": 2,
      "outputs": [
        {
          "output_type": "execute_result",
          "data": {
            "text/plain": [
              "'https://wp.optics.arizona.edu/alumni/wp-content/uploads/sites/113/2024/06/Jacob_Wilson_Master_s_Report_2024.pdf\\nmaybe when you do the calculation cite that the value is taken from\\xa0this\\xa0source'"
            ],
            "application/vnd.google.colaboratory.intrinsic+json": {
              "type": "string"
            }
          },
          "metadata": {},
          "execution_count": 2
        }
      ]
    },
    {
      "cell_type": "code",
      "source": [
        "\"\"\"For the campi flegrei target we are considering a 200 km^2 square area (approximately 14x14km).\n",
        "But the specific spots we want to investigate are the fumarole (whose vents can reach 10 metres and 165degree)\n",
        "Consider those would be much smaller than our gsd, so if you consider the signal from that area it would be a\n",
        "weighted sum of the signal from the fumarola (~10m, 150-160 °C) and from the sourrunding ground (GSD-10m, Ground Temperature)\n",
        "\n",
        "But this thing of the weighted sum can be implemented later,\n",
        "for now let’s see what happens with the whole campi flegrei as target,\n",
        "then let’s consider the hotspot, then let’s consider the weighted sum (if necessary)\"\"\""
      ],
      "metadata": {
        "colab": {
          "base_uri": "https://localhost:8080/",
          "height": 87
        },
        "id": "oGqA-AeqUU5L",
        "outputId": "0bed48f0-86bf-4c74-a514-f50e9eea315a"
      },
      "execution_count": 3,
      "outputs": [
        {
          "output_type": "execute_result",
          "data": {
            "text/plain": [
              "'For the campi flegrei target we are considering a 200 km^2 square area (approximately 14x14km).\\nBut the specific spots we want to investigate are the fumarole (whose vents can reach 10 metres and 165degree)\\nConsider those would be much smaller than our gsd, so if you consider the signal from that area it would be a\\nweighted sum of the signal from the fumarola (~10m, 150-160 °C) and from the sourrunding ground (GSD-10m, Ground\\xa0Temperature)\\n\\nBut this thing of the weighted sum can be implemented later,\\nfor now let’s see what happens with the whole campi flegrei as target,\\nthen let’s consider the hotspot, then let’s consider the weighted sum\\xa0(if\\xa0necessary)'"
            ],
            "application/vnd.google.colaboratory.intrinsic+json": {
              "type": "string"
            }
          },
          "metadata": {},
          "execution_count": 3
        }
      ]
    },
    {
      "cell_type": "code",
      "source": [
        "import numpy as np\n",
        "import matplotlib.pyplot as plt\n",
        "from ipywidgets import interact, FloatSlider"
      ],
      "metadata": {
        "id": "0iwD4CObnvix"
      },
      "execution_count": 4,
      "outputs": []
    },
    {
      "cell_type": "code",
      "source": [
        "c1 = 3.7418e8\n",
        "c2 = 1.4388e4\n",
        "h = 6.626e-34\n",
        "c = 3e8"
      ],
      "metadata": {
        "id": "4Ysz21QvnxB5"
      },
      "execution_count": 5,
      "outputs": []
    },
    {
      "cell_type": "code",
      "source": [
        "def compute_gsd(H, f, p):\n",
        "  return (H * p / f) **2"
      ],
      "metadata": {
        "id": "IbfEfq-cpN5B"
      },
      "execution_count": 6,
      "outputs": []
    },
    {
      "cell_type": "code",
      "source": [
        "Tf = 433.15"
      ],
      "metadata": {
        "id": "4H3PsURXO0hI"
      },
      "execution_count": 7,
      "outputs": []
    },
    {
      "cell_type": "code",
      "source": [
        "def compute_wighted_snr(Tg,Tf, theta_deg, R, tau_a):\n",
        "  # The area of the target and background\n",
        "    Af = 10*10\n",
        "    Agsd = compute_gsd(R, focal_length, pixel)\n",
        "    Ag = Agsd - Af\n",
        "\n",
        "    #Blackbody calculation\n",
        "    cos_theta = np.cos(np.deg2rad(theta_deg))\n",
        "    M_lambda_g = c1 / (lambda_range**5 * (np.exp(c2 / (lambda_range * Tg)) - 1))\n",
        "    M_lambda_f = c1 / (lambda_range**5 * (np.exp(c2 / (lambda_range * Tf)) - 1))\n",
        "\n",
        "    #Radiance calculation\n",
        "    E_lambda_g = epsilon * M_lambda_g\n",
        "    E_lambda_f = epsilon * M_lambda_f\n",
        "\n",
        "    #Signal calculation\n",
        "    S_lambda_g = lambda_range * E_lambda_g * tau_a * tau_0 * eta * delta_lambda\n",
        "    S_lambda_f = lambda_range * E_lambda_f * tau_a * tau_0 * eta * delta_lambda\n",
        "\n",
        "    # S' calculation\n",
        "    S_prime_lambda_g = S_lambda_g\n",
        "    S_prime_lambda_f = S_lambda_f\n",
        "\n",
        "\n",
        "    #Sum of S'\n",
        "    S_sum_g = np.sum(S_prime_lambda_g)\n",
        "    S_Ag = (D**2 * t * cos_theta * Ag) / (4 * R**2 * h * c) * S_sum_g\n",
        "\n",
        "    S_sum_f = np.sum(S_prime_lambda_f)\n",
        "    S_Af = (D**2 * t * cos_theta * Af) / (4 * R**2 * h * c) * S_sum_f\n",
        "\n",
        "    #Noise calculation\n",
        "    S_total = S_Ag + S_Af\n",
        "    N_total = np.sqrt(S_total)\n",
        "\n",
        "    #SNR calculation\n",
        "    SNR_prime = (S_Af - S_Ag) / N_total\n",
        "\n",
        "    #S'_lambda calculation\n",
        "    S_lambda = S_lambda_f - S_lambda_g\n",
        "\n",
        "    #SNR'_lambda\n",
        "    SNR_prime_lambda = S_lambda / N_total\n",
        "\n",
        "\n",
        "\n",
        "    plt.figure(figsize=(10, 5))\n",
        "    plt.plot(lambda_range, SNR_prime_lambda, label='SNR Contribution per λ', color='blue')\n",
        "    plt.xlabel('Wavelength (μm)')\n",
        "    plt.ylabel('SNR Contribution')\n",
        "    plt.title(f'Spectral SNR Contribution\\nTg = {Tg}K, Tf = {Tf}K, θ = {theta_deg}°, R = {R/1000:.0f}km, τₐ = {tau_a}, Ag = {Ag:.2f}m, Af = {Af:.0f}m' )\n",
        "    plt.grid(True)\n",
        "    plt.legend()\n",
        "    plt.tight_layout()\n",
        "    plt.show()\n",
        "\n",
        "    print(f\"Total SNR' at Tg = {Tg} K, Tf = {Tf} K, θ = {theta_deg}°, R = {R/1000:.0f} km, τₐ = {tau_a}: {SNR_prime:.2f}\")"
      ],
      "metadata": {
        "id": "aOG04wGNn3ca"
      },
      "execution_count": 8,
      "outputs": []
    },
    {
      "cell_type": "code",
      "source": [
        "epsilon = 0.95\n",
        "tau_0 = 0.89\n",
        "eta = 0.7\n",
        "t = 0.01\n",
        "focal_length = 72.8 / 1000\n",
        "pixel = 12e-6\n",
        "F_number = 1.05\n",
        "D = (focal_length / F_number)\n",
        "\n",
        "lambda_range = np.arange(8, 12.1, 0.1)\n",
        "delta_lambda = 0.1"
      ],
      "metadata": {
        "id": "MUREo2Icnz7c"
      },
      "execution_count": 9,
      "outputs": []
    },
    {
      "cell_type": "code",
      "source": [
        "interact(\n",
        "    compute_wighted_snr,\n",
        "    Tg=FloatSlider(value=313.15, min=200, max=500, step=1, description='surrounding ground Temperature (K)'),\n",
        "    Tf=FloatSlider(value=433.15, min=200, max=500, step=1, description='fumarole Temperature (K)'),\n",
        "    theta_deg=FloatSlider(value=0, min=0, max=90, step=1, description='Theta (°)'),\n",
        "    R=FloatSlider(value=460000, min=150000, max=460000, step=1000, description='Distance (m)'),\n",
        "    tau_a=FloatSlider(value=0.85, min=0.0, max=1.0, step=0.01, description='τₐ (Atmosphere)')\n",
        ")"
      ],
      "metadata": {
        "colab": {
          "base_uri": "https://localhost:8080/",
          "height": 770,
          "referenced_widgets": [
            "52fbe1d0655e4908abe17caa0eb5da6d",
            "b31a38122bc447709ffaa67468caecdc",
            "6dcfb4a6c6d94c9583e94c7218f0ab02",
            "c3866665f03f4e2cbc33a73ef6117456",
            "d0d53427c6a84faf9218c820ebfc597c",
            "0b9f5149f1184296ab3c24f8a96c879a",
            "810a052635f14b09a1bc396c5501b172",
            "ebf6d43c7d694d92a24de523a8211d15",
            "f20db4d4e6bc41dc976217cf16d4edc5",
            "c3d3ff92f1f54600839e2ca36bb9b314",
            "cac2607ea1c5454c9e649b558181198a",
            "5d30f5a6b47b4f0c9cdb367825252463",
            "790e5d92c5ea4002802c9f2d5952878e",
            "4fe74e664c984544a3004a49a637a3be",
            "872ae1ede5cd42b2bd378a684263ca4b",
            "4d70e43dc43c46d4b8cb7548720a1889",
            "25af0cd267c2469fb1aaba83eda4219c",
            "6e8f43d67c46436ebbbc387c38751225",
            "97b95bfaecb34d00ba15f8e525b439a5"
          ]
        },
        "id": "ebAcdtMAn5Pu",
        "outputId": "0b063f09-2378-43bd-c5b0-4423db3be4dd"
      },
      "execution_count": 10,
      "outputs": [
        {
          "output_type": "display_data",
          "data": {
            "text/plain": [
              "interactive(children=(FloatSlider(value=313.15, description='surrounding ground Temperature (K)', max=500.0, m…"
            ],
            "application/vnd.jupyter.widget-view+json": {
              "version_major": 2,
              "version_minor": 0,
              "model_id": "52fbe1d0655e4908abe17caa0eb5da6d"
            }
          },
          "metadata": {}
        },
        {
          "output_type": "execute_result",
          "data": {
            "text/plain": [
              "<function __main__.compute_wighted_snr(Tg, Tf, theta_deg, R, tau_a)>"
            ],
            "text/html": [
              "<div style=\"max-width:800px; border: 1px solid var(--colab-border-color);\"><style>\n",
              "      pre.function-repr-contents {\n",
              "        overflow-x: auto;\n",
              "        padding: 8px 12px;\n",
              "        max-height: 500px;\n",
              "      }\n",
              "\n",
              "      pre.function-repr-contents.function-repr-contents-collapsed {\n",
              "        cursor: pointer;\n",
              "        max-height: 100px;\n",
              "      }\n",
              "    </style>\n",
              "    <pre style=\"white-space: initial; background:\n",
              "         var(--colab-secondary-surface-color); padding: 8px 12px;\n",
              "         border-bottom: 1px solid var(--colab-border-color);\"><b>compute_wighted_snr</b><br/>def compute_wighted_snr(Tg, Tf, theta_deg, R, tau_a)</pre><pre class=\"function-repr-contents function-repr-contents-collapsed\" style=\"\"><a class=\"filepath\" style=\"display:none\" href=\"#\">/content/&lt;ipython-input-8-aa7bc36f2ee8&gt;</a>&lt;no docstring&gt;</pre></div>"
            ]
          },
          "metadata": {},
          "execution_count": 10
        }
      ]
    },
    {
      "cell_type": "code",
      "source": [],
      "metadata": {
        "id": "w0Md_wD7PJkG"
      },
      "execution_count": null,
      "outputs": []
    }
  ]
}