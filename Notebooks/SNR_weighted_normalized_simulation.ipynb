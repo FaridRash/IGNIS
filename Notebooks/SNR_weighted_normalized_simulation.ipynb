{
  "nbformat": 4,
  "nbformat_minor": 0,
  "metadata": {
    "colab": {
      "provenance": [],
      "authorship_tag": "ABX9TyOQ4uuxFw7LNaSFXmVy28Z3",
      "include_colab_link": true
    },
    "kernelspec": {
      "name": "python3",
      "display_name": "Python 3"
    },
    "language_info": {
      "name": "python"
    },
    "widgets": {
      "application/vnd.jupyter.widget-state+json": {
        "6afc4188275e42c88d94e422f3533a89": {
          "model_module": "@jupyter-widgets/controls",
          "model_name": "VBoxModel",
          "model_module_version": "1.5.0",
          "state": {
            "_dom_classes": [
              "widget-interact"
            ],
            "_model_module": "@jupyter-widgets/controls",
            "_model_module_version": "1.5.0",
            "_model_name": "VBoxModel",
            "_view_count": null,
            "_view_module": "@jupyter-widgets/controls",
            "_view_module_version": "1.5.0",
            "_view_name": "VBoxView",
            "box_style": "",
            "children": [
              "IPY_MODEL_00777164b00941969fca3a2dee69c3dc",
              "IPY_MODEL_3cbc04e846c64a7daafbc0872079e5eb",
              "IPY_MODEL_ce299945c35741d781447b556e240ca2",
              "IPY_MODEL_2cc83711e92941d196effdbe63b17acf",
              "IPY_MODEL_61c73d725d79463fb47f4cf02a1f0f76",
              "IPY_MODEL_d9716a29057a4de88c8a1344c702f0c8"
            ],
            "layout": "IPY_MODEL_28ae71d186004bb4b8a45a9e838e2f19"
          }
        },
        "00777164b00941969fca3a2dee69c3dc": {
          "model_module": "@jupyter-widgets/controls",
          "model_name": "FloatSliderModel",
          "model_module_version": "1.5.0",
          "state": {
            "_dom_classes": [],
            "_model_module": "@jupyter-widgets/controls",
            "_model_module_version": "1.5.0",
            "_model_name": "FloatSliderModel",
            "_view_count": null,
            "_view_module": "@jupyter-widgets/controls",
            "_view_module_version": "1.5.0",
            "_view_name": "FloatSliderView",
            "continuous_update": true,
            "description": "surrounding ground Temperature (K)",
            "description_tooltip": null,
            "disabled": false,
            "layout": "IPY_MODEL_5c1ab942f9d743bcb3ea67fe57c8423f",
            "max": 500,
            "min": 200,
            "orientation": "horizontal",
            "readout": true,
            "readout_format": ".2f",
            "step": 1,
            "style": "IPY_MODEL_0490b913232f4380927a5c567f82d854",
            "value": 293.15
          }
        },
        "3cbc04e846c64a7daafbc0872079e5eb": {
          "model_module": "@jupyter-widgets/controls",
          "model_name": "FloatSliderModel",
          "model_module_version": "1.5.0",
          "state": {
            "_dom_classes": [],
            "_model_module": "@jupyter-widgets/controls",
            "_model_module_version": "1.5.0",
            "_model_name": "FloatSliderModel",
            "_view_count": null,
            "_view_module": "@jupyter-widgets/controls",
            "_view_module_version": "1.5.0",
            "_view_name": "FloatSliderView",
            "continuous_update": true,
            "description": "fumarole Temperature (K)",
            "description_tooltip": null,
            "disabled": false,
            "layout": "IPY_MODEL_b24cb42ac0064e588c524b409a1d9c62",
            "max": 500,
            "min": 200,
            "orientation": "horizontal",
            "readout": true,
            "readout_format": ".2f",
            "step": 1,
            "style": "IPY_MODEL_3559ac28b9b34ee9aa42d56afe49e97e",
            "value": 433.15
          }
        },
        "ce299945c35741d781447b556e240ca2": {
          "model_module": "@jupyter-widgets/controls",
          "model_name": "FloatSliderModel",
          "model_module_version": "1.5.0",
          "state": {
            "_dom_classes": [],
            "_model_module": "@jupyter-widgets/controls",
            "_model_module_version": "1.5.0",
            "_model_name": "FloatSliderModel",
            "_view_count": null,
            "_view_module": "@jupyter-widgets/controls",
            "_view_module_version": "1.5.0",
            "_view_name": "FloatSliderView",
            "continuous_update": true,
            "description": "Theta (°)",
            "description_tooltip": null,
            "disabled": false,
            "layout": "IPY_MODEL_4fc9d042e4944e58bf6d6e0aa3aa2604",
            "max": 90,
            "min": 0,
            "orientation": "horizontal",
            "readout": true,
            "readout_format": ".2f",
            "step": 1,
            "style": "IPY_MODEL_d8af99cc1fa54c358ad6dcf430d6c4ec",
            "value": 0
          }
        },
        "2cc83711e92941d196effdbe63b17acf": {
          "model_module": "@jupyter-widgets/controls",
          "model_name": "FloatSliderModel",
          "model_module_version": "1.5.0",
          "state": {
            "_dom_classes": [],
            "_model_module": "@jupyter-widgets/controls",
            "_model_module_version": "1.5.0",
            "_model_name": "FloatSliderModel",
            "_view_count": null,
            "_view_module": "@jupyter-widgets/controls",
            "_view_module_version": "1.5.0",
            "_view_name": "FloatSliderView",
            "continuous_update": true,
            "description": "Distance (m)",
            "description_tooltip": null,
            "disabled": false,
            "layout": "IPY_MODEL_c699f43f32954bbb83dcd1e29fbbedb2",
            "max": 460000,
            "min": 150000,
            "orientation": "horizontal",
            "readout": true,
            "readout_format": ".2f",
            "step": 1000,
            "style": "IPY_MODEL_5f4d4032c51a43edbbc3192c9e6c75b7",
            "value": 460000
          }
        },
        "61c73d725d79463fb47f4cf02a1f0f76": {
          "model_module": "@jupyter-widgets/controls",
          "model_name": "FloatSliderModel",
          "model_module_version": "1.5.0",
          "state": {
            "_dom_classes": [],
            "_model_module": "@jupyter-widgets/controls",
            "_model_module_version": "1.5.0",
            "_model_name": "FloatSliderModel",
            "_view_count": null,
            "_view_module": "@jupyter-widgets/controls",
            "_view_module_version": "1.5.0",
            "_view_name": "FloatSliderView",
            "continuous_update": true,
            "description": "τₐ (Atmosphere)",
            "description_tooltip": null,
            "disabled": false,
            "layout": "IPY_MODEL_55505777167c4c1dbe51f34c969b7447",
            "max": 1,
            "min": 0,
            "orientation": "horizontal",
            "readout": true,
            "readout_format": ".2f",
            "step": 0.01,
            "style": "IPY_MODEL_dd063527c07a47a7bb0260d2ab86a0ce",
            "value": 0.85
          }
        },
        "d9716a29057a4de88c8a1344c702f0c8": {
          "model_module": "@jupyter-widgets/output",
          "model_name": "OutputModel",
          "model_module_version": "1.0.0",
          "state": {
            "_dom_classes": [],
            "_model_module": "@jupyter-widgets/output",
            "_model_module_version": "1.0.0",
            "_model_name": "OutputModel",
            "_view_count": null,
            "_view_module": "@jupyter-widgets/output",
            "_view_module_version": "1.0.0",
            "_view_name": "OutputView",
            "layout": "IPY_MODEL_4f8ec79ecd01462faff268007236efac",
            "msg_id": "",
            "outputs": [
              {
                "output_type": "display_data",
                "data": {
                  "text/plain": "<Figure size 1000x500 with 1 Axes>",
                  "image/png": "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\n"
                },
                "metadata": {}
              },
              {
                "output_type": "stream",
                "name": "stdout",
                "text": [
                  "Total SNR' at Tg = 293.15 K, Tf = 433.15 K, θ = 0.0°, R = 460 km, τₐ = 0.85: 663329.41\n"
                ]
              }
            ]
          }
        },
        "28ae71d186004bb4b8a45a9e838e2f19": {
          "model_module": "@jupyter-widgets/base",
          "model_name": "LayoutModel",
          "model_module_version": "1.2.0",
          "state": {
            "_model_module": "@jupyter-widgets/base",
            "_model_module_version": "1.2.0",
            "_model_name": "LayoutModel",
            "_view_count": null,
            "_view_module": "@jupyter-widgets/base",
            "_view_module_version": "1.2.0",
            "_view_name": "LayoutView",
            "align_content": null,
            "align_items": null,
            "align_self": null,
            "border": null,
            "bottom": null,
            "display": null,
            "flex": null,
            "flex_flow": null,
            "grid_area": null,
            "grid_auto_columns": null,
            "grid_auto_flow": null,
            "grid_auto_rows": null,
            "grid_column": null,
            "grid_gap": null,
            "grid_row": null,
            "grid_template_areas": null,
            "grid_template_columns": null,
            "grid_template_rows": null,
            "height": null,
            "justify_content": null,
            "justify_items": null,
            "left": null,
            "margin": null,
            "max_height": null,
            "max_width": null,
            "min_height": null,
            "min_width": null,
            "object_fit": null,
            "object_position": null,
            "order": null,
            "overflow": null,
            "overflow_x": null,
            "overflow_y": null,
            "padding": null,
            "right": null,
            "top": null,
            "visibility": null,
            "width": null
          }
        },
        "5c1ab942f9d743bcb3ea67fe57c8423f": {
          "model_module": "@jupyter-widgets/base",
          "model_name": "LayoutModel",
          "model_module_version": "1.2.0",
          "state": {
            "_model_module": "@jupyter-widgets/base",
            "_model_module_version": "1.2.0",
            "_model_name": "LayoutModel",
            "_view_count": null,
            "_view_module": "@jupyter-widgets/base",
            "_view_module_version": "1.2.0",
            "_view_name": "LayoutView",
            "align_content": null,
            "align_items": null,
            "align_self": null,
            "border": null,
            "bottom": null,
            "display": null,
            "flex": null,
            "flex_flow": null,
            "grid_area": null,
            "grid_auto_columns": null,
            "grid_auto_flow": null,
            "grid_auto_rows": null,
            "grid_column": null,
            "grid_gap": null,
            "grid_row": null,
            "grid_template_areas": null,
            "grid_template_columns": null,
            "grid_template_rows": null,
            "height": null,
            "justify_content": null,
            "justify_items": null,
            "left": null,
            "margin": null,
            "max_height": null,
            "max_width": null,
            "min_height": null,
            "min_width": null,
            "object_fit": null,
            "object_position": null,
            "order": null,
            "overflow": null,
            "overflow_x": null,
            "overflow_y": null,
            "padding": null,
            "right": null,
            "top": null,
            "visibility": null,
            "width": null
          }
        },
        "0490b913232f4380927a5c567f82d854": {
          "model_module": "@jupyter-widgets/controls",
          "model_name": "SliderStyleModel",
          "model_module_version": "1.5.0",
          "state": {
            "_model_module": "@jupyter-widgets/controls",
            "_model_module_version": "1.5.0",
            "_model_name": "SliderStyleModel",
            "_view_count": null,
            "_view_module": "@jupyter-widgets/base",
            "_view_module_version": "1.2.0",
            "_view_name": "StyleView",
            "description_width": "",
            "handle_color": null
          }
        },
        "b24cb42ac0064e588c524b409a1d9c62": {
          "model_module": "@jupyter-widgets/base",
          "model_name": "LayoutModel",
          "model_module_version": "1.2.0",
          "state": {
            "_model_module": "@jupyter-widgets/base",
            "_model_module_version": "1.2.0",
            "_model_name": "LayoutModel",
            "_view_count": null,
            "_view_module": "@jupyter-widgets/base",
            "_view_module_version": "1.2.0",
            "_view_name": "LayoutView",
            "align_content": null,
            "align_items": null,
            "align_self": null,
            "border": null,
            "bottom": null,
            "display": null,
            "flex": null,
            "flex_flow": null,
            "grid_area": null,
            "grid_auto_columns": null,
            "grid_auto_flow": null,
            "grid_auto_rows": null,
            "grid_column": null,
            "grid_gap": null,
            "grid_row": null,
            "grid_template_areas": null,
            "grid_template_columns": null,
            "grid_template_rows": null,
            "height": null,
            "justify_content": null,
            "justify_items": null,
            "left": null,
            "margin": null,
            "max_height": null,
            "max_width": null,
            "min_height": null,
            "min_width": null,
            "object_fit": null,
            "object_position": null,
            "order": null,
            "overflow": null,
            "overflow_x": null,
            "overflow_y": null,
            "padding": null,
            "right": null,
            "top": null,
            "visibility": null,
            "width": null
          }
        },
        "3559ac28b9b34ee9aa42d56afe49e97e": {
          "model_module": "@jupyter-widgets/controls",
          "model_name": "SliderStyleModel",
          "model_module_version": "1.5.0",
          "state": {
            "_model_module": "@jupyter-widgets/controls",
            "_model_module_version": "1.5.0",
            "_model_name": "SliderStyleModel",
            "_view_count": null,
            "_view_module": "@jupyter-widgets/base",
            "_view_module_version": "1.2.0",
            "_view_name": "StyleView",
            "description_width": "",
            "handle_color": null
          }
        },
        "4fc9d042e4944e58bf6d6e0aa3aa2604": {
          "model_module": "@jupyter-widgets/base",
          "model_name": "LayoutModel",
          "model_module_version": "1.2.0",
          "state": {
            "_model_module": "@jupyter-widgets/base",
            "_model_module_version": "1.2.0",
            "_model_name": "LayoutModel",
            "_view_count": null,
            "_view_module": "@jupyter-widgets/base",
            "_view_module_version": "1.2.0",
            "_view_name": "LayoutView",
            "align_content": null,
            "align_items": null,
            "align_self": null,
            "border": null,
            "bottom": null,
            "display": null,
            "flex": null,
            "flex_flow": null,
            "grid_area": null,
            "grid_auto_columns": null,
            "grid_auto_flow": null,
            "grid_auto_rows": null,
            "grid_column": null,
            "grid_gap": null,
            "grid_row": null,
            "grid_template_areas": null,
            "grid_template_columns": null,
            "grid_template_rows": null,
            "height": null,
            "justify_content": null,
            "justify_items": null,
            "left": null,
            "margin": null,
            "max_height": null,
            "max_width": null,
            "min_height": null,
            "min_width": null,
            "object_fit": null,
            "object_position": null,
            "order": null,
            "overflow": null,
            "overflow_x": null,
            "overflow_y": null,
            "padding": null,
            "right": null,
            "top": null,
            "visibility": null,
            "width": null
          }
        },
        "d8af99cc1fa54c358ad6dcf430d6c4ec": {
          "model_module": "@jupyter-widgets/controls",
          "model_name": "SliderStyleModel",
          "model_module_version": "1.5.0",
          "state": {
            "_model_module": "@jupyter-widgets/controls",
            "_model_module_version": "1.5.0",
            "_model_name": "SliderStyleModel",
            "_view_count": null,
            "_view_module": "@jupyter-widgets/base",
            "_view_module_version": "1.2.0",
            "_view_name": "StyleView",
            "description_width": "",
            "handle_color": null
          }
        },
        "c699f43f32954bbb83dcd1e29fbbedb2": {
          "model_module": "@jupyter-widgets/base",
          "model_name": "LayoutModel",
          "model_module_version": "1.2.0",
          "state": {
            "_model_module": "@jupyter-widgets/base",
            "_model_module_version": "1.2.0",
            "_model_name": "LayoutModel",
            "_view_count": null,
            "_view_module": "@jupyter-widgets/base",
            "_view_module_version": "1.2.0",
            "_view_name": "LayoutView",
            "align_content": null,
            "align_items": null,
            "align_self": null,
            "border": null,
            "bottom": null,
            "display": null,
            "flex": null,
            "flex_flow": null,
            "grid_area": null,
            "grid_auto_columns": null,
            "grid_auto_flow": null,
            "grid_auto_rows": null,
            "grid_column": null,
            "grid_gap": null,
            "grid_row": null,
            "grid_template_areas": null,
            "grid_template_columns": null,
            "grid_template_rows": null,
            "height": null,
            "justify_content": null,
            "justify_items": null,
            "left": null,
            "margin": null,
            "max_height": null,
            "max_width": null,
            "min_height": null,
            "min_width": null,
            "object_fit": null,
            "object_position": null,
            "order": null,
            "overflow": null,
            "overflow_x": null,
            "overflow_y": null,
            "padding": null,
            "right": null,
            "top": null,
            "visibility": null,
            "width": null
          }
        },
        "5f4d4032c51a43edbbc3192c9e6c75b7": {
          "model_module": "@jupyter-widgets/controls",
          "model_name": "SliderStyleModel",
          "model_module_version": "1.5.0",
          "state": {
            "_model_module": "@jupyter-widgets/controls",
            "_model_module_version": "1.5.0",
            "_model_name": "SliderStyleModel",
            "_view_count": null,
            "_view_module": "@jupyter-widgets/base",
            "_view_module_version": "1.2.0",
            "_view_name": "StyleView",
            "description_width": "",
            "handle_color": null
          }
        },
        "55505777167c4c1dbe51f34c969b7447": {
          "model_module": "@jupyter-widgets/base",
          "model_name": "LayoutModel",
          "model_module_version": "1.2.0",
          "state": {
            "_model_module": "@jupyter-widgets/base",
            "_model_module_version": "1.2.0",
            "_model_name": "LayoutModel",
            "_view_count": null,
            "_view_module": "@jupyter-widgets/base",
            "_view_module_version": "1.2.0",
            "_view_name": "LayoutView",
            "align_content": null,
            "align_items": null,
            "align_self": null,
            "border": null,
            "bottom": null,
            "display": null,
            "flex": null,
            "flex_flow": null,
            "grid_area": null,
            "grid_auto_columns": null,
            "grid_auto_flow": null,
            "grid_auto_rows": null,
            "grid_column": null,
            "grid_gap": null,
            "grid_row": null,
            "grid_template_areas": null,
            "grid_template_columns": null,
            "grid_template_rows": null,
            "height": null,
            "justify_content": null,
            "justify_items": null,
            "left": null,
            "margin": null,
            "max_height": null,
            "max_width": null,
            "min_height": null,
            "min_width": null,
            "object_fit": null,
            "object_position": null,
            "order": null,
            "overflow": null,
            "overflow_x": null,
            "overflow_y": null,
            "padding": null,
            "right": null,
            "top": null,
            "visibility": null,
            "width": null
          }
        },
        "dd063527c07a47a7bb0260d2ab86a0ce": {
          "model_module": "@jupyter-widgets/controls",
          "model_name": "SliderStyleModel",
          "model_module_version": "1.5.0",
          "state": {
            "_model_module": "@jupyter-widgets/controls",
            "_model_module_version": "1.5.0",
            "_model_name": "SliderStyleModel",
            "_view_count": null,
            "_view_module": "@jupyter-widgets/base",
            "_view_module_version": "1.2.0",
            "_view_name": "StyleView",
            "description_width": "",
            "handle_color": null
          }
        },
        "4f8ec79ecd01462faff268007236efac": {
          "model_module": "@jupyter-widgets/base",
          "model_name": "LayoutModel",
          "model_module_version": "1.2.0",
          "state": {
            "_model_module": "@jupyter-widgets/base",
            "_model_module_version": "1.2.0",
            "_model_name": "LayoutModel",
            "_view_count": null,
            "_view_module": "@jupyter-widgets/base",
            "_view_module_version": "1.2.0",
            "_view_name": "LayoutView",
            "align_content": null,
            "align_items": null,
            "align_self": null,
            "border": null,
            "bottom": null,
            "display": null,
            "flex": null,
            "flex_flow": null,
            "grid_area": null,
            "grid_auto_columns": null,
            "grid_auto_flow": null,
            "grid_auto_rows": null,
            "grid_column": null,
            "grid_gap": null,
            "grid_row": null,
            "grid_template_areas": null,
            "grid_template_columns": null,
            "grid_template_rows": null,
            "height": null,
            "justify_content": null,
            "justify_items": null,
            "left": null,
            "margin": null,
            "max_height": null,
            "max_width": null,
            "min_height": null,
            "min_width": null,
            "object_fit": null,
            "object_position": null,
            "order": null,
            "overflow": null,
            "overflow_x": null,
            "overflow_y": null,
            "padding": null,
            "right": null,
            "top": null,
            "visibility": null,
            "width": null
          }
        }
      }
    }
  },
  "cells": [
    {
      "cell_type": "markdown",
      "metadata": {
        "id": "view-in-github",
        "colab_type": "text"
      },
      "source": [
        "<a href=\"https://colab.research.google.com/github/FaridRash/IGNIS/blob/main/Notebooks/SNR_weighted_normalized_simulation.ipynb\" target=\"_parent\"><img src=\"https://colab.research.google.com/assets/colab-badge.svg\" alt=\"Open In Colab\"/></a>"
      ]
    },
    {
      "cell_type": "code",
      "source": [
        "\"\"\"https://wp.optics.arizona.edu/alumni/wp-content/uploads/sites/113/2024/06/Jacob_Wilson_Master_s_Report_2024.pdf\n",
        "maybe when you do the calculation cite that the value is taken from this source\"\"\""
      ],
      "metadata": {
        "id": "knUCk8Ill8Mq",
        "colab": {
          "base_uri": "https://localhost:8080/",
          "height": 52
        },
        "outputId": "b000d891-08de-4149-921b-46e5e8754a9b"
      },
      "execution_count": 1,
      "outputs": [
        {
          "output_type": "execute_result",
          "data": {
            "text/plain": [
              "'https://wp.optics.arizona.edu/alumni/wp-content/uploads/sites/113/2024/06/Jacob_Wilson_Master_s_Report_2024.pdf\\nmaybe when you do the calculation cite that the value is taken from\\xa0this\\xa0source'"
            ],
            "application/vnd.google.colaboratory.intrinsic+json": {
              "type": "string"
            }
          },
          "metadata": {},
          "execution_count": 1
        }
      ]
    },
    {
      "cell_type": "code",
      "source": [
        "\"\"\"For the campi flegrei target we are considering a 200 km^2 square area (approximately 14x14km).\n",
        "But the specific spots we want to investigate are the fumarole (whose vents can reach 10 metres and 165degree)\n",
        "Consider those would be much smaller than our gsd, so if you consider the signal from that area it would be a\n",
        "weighted sum of the signal from the fumarola (~10m, 150-160 °C) and from the sourrunding ground (GSD-10m, Ground Temperature)\n",
        "\n",
        "But this thing of the weighted sum can be implemented later,\n",
        "for now let’s see what happens with the whole campi flegrei as target,\n",
        "then let’s consider the hotspot, then let’s consider the weighted sum (if necessary)\"\"\""
      ],
      "metadata": {
        "colab": {
          "base_uri": "https://localhost:8080/",
          "height": 87
        },
        "id": "oGqA-AeqUU5L",
        "outputId": "87c7be26-da6c-40fd-80f3-2f6f0af2f54f"
      },
      "execution_count": 2,
      "outputs": [
        {
          "output_type": "execute_result",
          "data": {
            "text/plain": [
              "'For the campi flegrei target we are considering a 200 km^2 square area (approximately 14x14km).\\nBut the specific spots we want to investigate are the fumarole (whose vents can reach 10 metres and 165degree)\\nConsider those would be much smaller than our gsd, so if you consider the signal from that area it would be a\\nweighted sum of the signal from the fumarola (~10m, 150-160 °C) and from the sourrunding ground (GSD-10m, Ground\\xa0Temperature)\\n\\nBut this thing of the weighted sum can be implemented later,\\nfor now let’s see what happens with the whole campi flegrei as target,\\nthen let’s consider the hotspot, then let’s consider the weighted sum\\xa0(if\\xa0necessary)'"
            ],
            "application/vnd.google.colaboratory.intrinsic+json": {
              "type": "string"
            }
          },
          "metadata": {},
          "execution_count": 2
        }
      ]
    },
    {
      "cell_type": "code",
      "source": [
        "import numpy as np\n",
        "import matplotlib.pyplot as plt\n",
        "from ipywidgets import interact, FloatSlider"
      ],
      "metadata": {
        "id": "0iwD4CObnvix"
      },
      "execution_count": 3,
      "outputs": []
    },
    {
      "cell_type": "code",
      "source": [
        "c1 = 3.7418e8\n",
        "c2 = 1.4388e4\n",
        "h = 6.626e-34\n",
        "c = 3e8"
      ],
      "metadata": {
        "id": "4Ysz21QvnxB5"
      },
      "execution_count": 4,
      "outputs": []
    },
    {
      "cell_type": "code",
      "source": [
        "def compute_gsd(H, f, p):\n",
        "  return (H * p / f) **2"
      ],
      "metadata": {
        "id": "IbfEfq-cpN5B"
      },
      "execution_count": 5,
      "outputs": []
    },
    {
      "cell_type": "code",
      "source": [
        "Tf = 433.15"
      ],
      "metadata": {
        "id": "4H3PsURXO0hI"
      },
      "execution_count": 6,
      "outputs": []
    },
    {
      "cell_type": "code",
      "source": [
        "def compute_wighted_snr(Tg,Tf, theta_deg, R, tau_a):\n",
        "  # The area of the target and background\n",
        "    Af = 10*10\n",
        "    Agsd = compute_gsd(R, focal_length, pixel)\n",
        "    Ag = Agsd - Af\n",
        "\n",
        "    #Blackbody calculation\n",
        "    cos_theta = np.cos(np.deg2rad(theta_deg))\n",
        "    M_lambda_g = c1 / (lambda_range**5 * (np.exp(c2 / (lambda_range * Tg)) - 1))\n",
        "    M_lambda_f = c1 / (lambda_range**5 * (np.exp(c2 / (lambda_range * Tf)) - 1))\n",
        "\n",
        "    #Radiance calculation\n",
        "    E_lambda_g = epsilon * M_lambda_g\n",
        "    E_lambda_f = epsilon * M_lambda_f\n",
        "\n",
        "    #Signal calculation\n",
        "    S_lambda_g = ((D**2 * t * cos_theta * Ag) / (4 * R**2 * h * c)) * (lambda_range * E_lambda_g * tau_a * tau_0 * eta * delta_lambda)\n",
        "    S_lambda_f = ((D**2 * t * cos_theta * Af) / (4 * R**2 * h * c)) * (lambda_range * E_lambda_f * tau_a * tau_0 * eta * delta_lambda)\n",
        "\n",
        "\n",
        "    #Sum of S\n",
        "    S_Ag = np.sum(S_lambda_g)\n",
        "    S_Af = np.sum(S_lambda_f)\n",
        "\n",
        "    #S' calculation\n",
        "    S_prime_g = S_Ag / Ag\n",
        "    S_prime_f = S_Af / Af\n",
        "    S_prime = S_prime_f - S_prime_g\n",
        "\n",
        "    #N' calculation\n",
        "    N_prime = np.sqrt(S_prime_f + S_prime_g)\n",
        "\n",
        "    #SNR' calculation\n",
        "    SNR_prime = S_prime / N_prime\n",
        "\n",
        "    #S'_lambda calculation\n",
        "    S_prime_lambda_g = S_lambda_g / Ag\n",
        "    S_prime_lambda_f = S_lambda_f / Af\n",
        "\n",
        "    #S'_lambda calculation\n",
        "    S_prime_lambda = S_prime_lambda_f - S_prime_lambda_g\n",
        "\n",
        "    #SNR'_lambda\n",
        "    SNR_prime_lambda = S_prime_lambda / N_prime\n",
        "\n",
        "\n",
        "\n",
        "    plt.figure(figsize=(10, 5))\n",
        "    plt.plot(lambda_range, SNR_prime_lambda, label='SNR Contribution per λ', color='blue')\n",
        "    plt.xlabel('Wavelength (μm)')\n",
        "    plt.ylabel('SNR Contribution')\n",
        "    plt.title(f'Spectral SNR Contribution\\nTg = {Tg}K, Tf = {Tf}K, θ = {theta_deg}°, R = {R/1000:.0f}km, τₐ = {tau_a}, Ag = {Ag:.2f}m, Af = {Af:.0f}m' )\n",
        "    plt.grid(True)\n",
        "    plt.legend()\n",
        "    plt.tight_layout()\n",
        "    plt.show()\n",
        "\n",
        "    print(f\"Total SNR' at Tg = {Tg} K, Tf = {Tf} K, θ = {theta_deg}°, R = {R/1000:.0f} km, τₐ = {tau_a}: {SNR_prime:.2f}\")"
      ],
      "metadata": {
        "id": "aOG04wGNn3ca"
      },
      "execution_count": 7,
      "outputs": []
    },
    {
      "cell_type": "code",
      "source": [
        "epsilon = 0.95\n",
        "tau_0 = 0.89\n",
        "eta = 0.7\n",
        "t = 0.01\n",
        "focal_length = 72.8 / 1000\n",
        "pixel = 12e-6\n",
        "F_number = 1.05\n",
        "D = (focal_length / F_number)\n",
        "\n",
        "lambda_range = np.arange(8, 12.1, 0.1)\n",
        "delta_lambda = 0.1"
      ],
      "metadata": {
        "id": "MUREo2Icnz7c"
      },
      "execution_count": 8,
      "outputs": []
    },
    {
      "cell_type": "code",
      "source": [
        "interact(\n",
        "    compute_wighted_snr,\n",
        "    Tg=FloatSlider(value=293.15, min=200, max=500, step=1, description='surrounding ground Temperature (K)'),\n",
        "    Tf=FloatSlider(value=433.15, min=200, max=500, step=1, description='fumarole Temperature (K)'),\n",
        "    theta_deg=FloatSlider(value=0, min=0, max=90, step=1, description='Theta (°)'),\n",
        "    R=FloatSlider(value=460000, min=150000, max=460000, step=1000, description='Distance (m)'),\n",
        "    tau_a=FloatSlider(value=0.85, min=0.0, max=1.0, step=0.01, description='τₐ (Atmosphere)')\n",
        ")"
      ],
      "metadata": {
        "colab": {
          "base_uri": "https://localhost:8080/",
          "height": 770,
          "referenced_widgets": [
            "6afc4188275e42c88d94e422f3533a89",
            "00777164b00941969fca3a2dee69c3dc",
            "3cbc04e846c64a7daafbc0872079e5eb",
            "ce299945c35741d781447b556e240ca2",
            "2cc83711e92941d196effdbe63b17acf",
            "61c73d725d79463fb47f4cf02a1f0f76",
            "d9716a29057a4de88c8a1344c702f0c8",
            "28ae71d186004bb4b8a45a9e838e2f19",
            "5c1ab942f9d743bcb3ea67fe57c8423f",
            "0490b913232f4380927a5c567f82d854",
            "b24cb42ac0064e588c524b409a1d9c62",
            "3559ac28b9b34ee9aa42d56afe49e97e",
            "4fc9d042e4944e58bf6d6e0aa3aa2604",
            "d8af99cc1fa54c358ad6dcf430d6c4ec",
            "c699f43f32954bbb83dcd1e29fbbedb2",
            "5f4d4032c51a43edbbc3192c9e6c75b7",
            "55505777167c4c1dbe51f34c969b7447",
            "dd063527c07a47a7bb0260d2ab86a0ce",
            "4f8ec79ecd01462faff268007236efac"
          ]
        },
        "id": "ebAcdtMAn5Pu",
        "outputId": "180c4ff8-9280-4d8b-bade-a425a1d9a5b2"
      },
      "execution_count": 9,
      "outputs": [
        {
          "output_type": "display_data",
          "data": {
            "text/plain": [
              "interactive(children=(FloatSlider(value=293.15, description='surrounding ground Temperature (K)', max=500.0, m…"
            ],
            "application/vnd.jupyter.widget-view+json": {
              "version_major": 2,
              "version_minor": 0,
              "model_id": "6afc4188275e42c88d94e422f3533a89"
            }
          },
          "metadata": {}
        },
        {
          "output_type": "execute_result",
          "data": {
            "text/plain": [
              "<function __main__.compute_wighted_snr(Tg, Tf, theta_deg, R, tau_a)>"
            ],
            "text/html": [
              "<div style=\"max-width:800px; border: 1px solid var(--colab-border-color);\"><style>\n",
              "      pre.function-repr-contents {\n",
              "        overflow-x: auto;\n",
              "        padding: 8px 12px;\n",
              "        max-height: 500px;\n",
              "      }\n",
              "\n",
              "      pre.function-repr-contents.function-repr-contents-collapsed {\n",
              "        cursor: pointer;\n",
              "        max-height: 100px;\n",
              "      }\n",
              "    </style>\n",
              "    <pre style=\"white-space: initial; background:\n",
              "         var(--colab-secondary-surface-color); padding: 8px 12px;\n",
              "         border-bottom: 1px solid var(--colab-border-color);\"><b>compute_wighted_snr</b><br/>def compute_wighted_snr(Tg, Tf, theta_deg, R, tau_a)</pre><pre class=\"function-repr-contents function-repr-contents-collapsed\" style=\"\"><a class=\"filepath\" style=\"display:none\" href=\"#\">/content/&lt;ipython-input-7-cb589288fa45&gt;</a>&lt;no docstring&gt;</pre></div>"
            ]
          },
          "metadata": {},
          "execution_count": 9
        }
      ]
    },
    {
      "cell_type": "code",
      "source": [],
      "metadata": {
        "id": "w0Md_wD7PJkG"
      },
      "execution_count": null,
      "outputs": []
    }
  ]
}