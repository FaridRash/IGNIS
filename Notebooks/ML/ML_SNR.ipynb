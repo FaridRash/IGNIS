{
  "nbformat": 4,
  "nbformat_minor": 0,
  "metadata": {
    "colab": {
      "provenance": [],
      "authorship_tag": "ABX9TyMDw0uZTIxcPjCkY/qkbSEQ",
      "include_colab_link": true
    },
    "kernelspec": {
      "name": "python3",
      "display_name": "Python 3"
    },
    "language_info": {
      "name": "python"
    }
  },
  "cells": [
    {
      "cell_type": "markdown",
      "metadata": {
        "id": "view-in-github",
        "colab_type": "text"
      },
      "source": [
        "<a href=\"https://colab.research.google.com/github/FaridRash/IGNIS/blob/main/Notebooks/ML/ML_SNR.ipynb\" target=\"_parent\"><img src=\"https://colab.research.google.com/assets/colab-badge.svg\" alt=\"Open In Colab\"/></a>"
      ]
    },
    {
      "cell_type": "code",
      "source": [
        "\"\"\"\n",
        "in this notebook i will calculate the SNR of the target and background on wavelength range 8-14\n",
        "\"\"\""
      ],
      "metadata": {
        "id": "KaClXjrl88k4"
      },
      "execution_count": null,
      "outputs": []
    },
    {
      "cell_type": "code",
      "execution_count": null,
      "metadata": {
        "id": "6MdkTrey7Flr"
      },
      "outputs": [],
      "source": [
        "c1 = 3.7418e8\n",
        "c2 = 1.4388e4\n",
        "h = 6.626e-34\n",
        "c = 3e8"
      ]
    },
    {
      "cell_type": "code",
      "source": [
        "def compute_gsd(H, f, p):\n",
        "  return (H * p / f) **2"
      ],
      "metadata": {
        "id": "Ma7H1Byx7vqs"
      },
      "execution_count": null,
      "outputs": []
    },
    {
      "cell_type": "code",
      "source": [
        "epsilon = 0.95\n",
        "tau_0 = 0.89\n",
        "eta = 0.7\n",
        "t = 0.01\n",
        "focal_length = 72.8 / 1000\n",
        "pixel = 12e-6\n",
        "F_number = 1.05\n",
        "D = (focal_length / F_number)\n",
        "\n",
        "lambda_range = np.arange(8, 14.1, 0.1)\n",
        "delta_lambda = 0.1"
      ],
      "metadata": {
        "id": "zH1mfgcO73SC"
      },
      "execution_count": null,
      "outputs": []
    },
    {
      "cell_type": "code",
      "source": [
        "def compute_wighted_snr(Tg,Tf, theta_deg, R, tau_a):\n",
        "  # The area of the target and background\n",
        "    Af = 10*10\n",
        "    Agsd = compute_gsd(R, focal_length, pixel)\n",
        "    Ag = Agsd - Af\n",
        "\n",
        "    #Blackbody calculation\n",
        "    cos_theta = np.cos(np.deg2rad(theta_deg))\n",
        "    M_lambda_g = c1 / (lambda_range**5 * (np.exp(c2 / (lambda_range * Tg)) - 1))\n",
        "    M_lambda_f = c1 / (lambda_range**5 * (np.exp(c2 / (lambda_range * Tf)) - 1))\n",
        "\n",
        "    #Radiance calculation\n",
        "    E_lambda_g = epsilon * M_lambda_g\n",
        "    E_lambda_f = epsilon * M_lambda_f\n",
        "\n",
        "    #Signal calculation\n",
        "    S_lambda_g = ((D**2 * t * cos_theta * Ag) / (4 * R**2 * h * c)) * (lambda_range * E_lambda_g * tau_a * tau_0 * eta * delta_lambda)\n",
        "    S_lambda_f = ((D**2 * t * cos_theta * Af) / (4 * R**2 * h * c)) * (lambda_range * E_lambda_f * tau_a * tau_0 * eta * delta_lambda)\n",
        "\n",
        "\n",
        "    #Sum of S\n",
        "    S_Ag = np.sum(S_lambda_g)\n",
        "    S_Af = np.sum(S_lambda_f)\n",
        "\n",
        "    #S' calculation\n",
        "    S_prime_g = S_Ag / Ag\n",
        "    S_prime_f = S_Af / Af\n",
        "    S_prime = S_prime_f - S_prime_g\n",
        "\n",
        "    #N' calculation\n",
        "    N_prime = np.sqrt(S_prime_f + S_prime_g)\n",
        "\n",
        "    #SNR' calculation\n",
        "    SNR_prime = S_prime / N_prime\n",
        "\n",
        "    #Spectral SNR Contribution per λ\n",
        "    #S'_lambda calculation\n",
        "    S_prime_lambda_g = S_lambda_g / Ag\n",
        "    S_prime_lambda_f = S_lambda_f / Af\n",
        "\n",
        "    #S'_lambda calculation\n",
        "    S_prime_lambda = S_prime_lambda_f - S_prime_lambda_g\n",
        "\n",
        "    #SNR'_lambda\n",
        "    SNR_prime_lambda = S_prime_lambda / N_prime\n",
        "\n",
        "    return SNR_prime, SNR_prime_lambda\n",
        "\n",
        "\n",
        "\n"
      ],
      "metadata": {
        "id": "dAprN_DF7xn1"
      },
      "execution_count": null,
      "outputs": []
    }
  ]
}